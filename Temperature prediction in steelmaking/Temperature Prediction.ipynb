{
 "cells": [
  {
   "cell_type": "markdown",
   "metadata": {},
   "source": [
    "## Описание проекта <a class=\"tocSkip\">\n",
    "    \n",
    "Оптимизация расходов электроэнергии путем предсказания температуры расплава. Исходные данные взяты из реального процесса выплавки стали на металлургическом комббинае и содержат информацию о температуре расплава (измеряемую в разные моменты времкени), данные о внесении примесей (тип примеси и время внесения), данные о нагрева (время начала и конца нагрева, активная и реактивная мощности)."
   ]
  },
  {
   "cell_type": "markdown",
   "metadata": {},
   "source": [
    "## План работ <a class=\"tocSkip\">\n",
    "    \n",
    "1. Исследовательский анализ данных  \n",
    "   1.1. Импорт библиотек и данных  \n",
    "   1.2. Первичный анализ датасетов   \n",
    "   1.3. Удаление пропусков и исключение избыточных данных    \n",
    "   1.4. Подготовка данных для обучения  \n",
    "2. Обучение модели  \n",
    "   2.1. Расчет метрики MAE для наивного регрессора  \n",
    "   2.2. Выбор оптимальной модели для предсказаний температуры  \n",
    "   2.3. Расчет метрики MAE и R2 для наилучшей модели на тестовой выборке   \n",
    "   2.4. Анализ результатов для наилучшей модели    \n",
    "3. Отчет (модель)    \n",
    "   3.1. Представление результатов\n",
    "   3.2. Подготовка данных к йфинальному отчету"
   ]
  },
  {
   "cell_type": "markdown",
   "metadata": {},
   "source": [
    "## Краткое содержание работ по плану <a class=\"tocSkip\">"
   ]
  },
  {
   "cell_type": "markdown",
   "metadata": {},
   "source": [
    "***1. Исследовательский анализ данных***    \n",
    "\n",
    "   *1.1. Импорт библиотек и данных*     \n",
    "   Импорт библиотек необходимых для обработки данных, построения графиков и машинного обучения. Импорт данных.  \n",
    "   \n",
    "   *1.2. Первичный анализ датасетов*     \n",
    "   Первичный анализ данных, выявление наличия пропусков в данных. \n",
    "   \n",
    "   *1.3. Удаление пропусков и исключение избыточных данных*  \n",
    "   Удаление пропусков (при необходимости), создание датасетов с которыми в дальнейшем будет идти работа (исходные датасеты останутся неизменными).    \n",
    "   \n",
    "   *1.4. Подготовка данных для обучения*  \n",
    "   Сведение признаков в один датасет. Подготовка тренировочной, валидационной и тестовой выборок. Дескриптивная статистика по всем данным.   "
   ]
  },
  {
   "cell_type": "markdown",
   "metadata": {},
   "source": [
    "***2. Обучение модели***    \n",
    "\n",
    "   *2.1. Расчет метрики MAE для наивного регрессора*  \n",
    "   Расчет метрики MAE для наивного регрессора, как референтного значения с целью последующего сравнения с данными предсказательных моделей.  \n",
    "   \n",
    "   *2.2. Выбор оптимальной модели для предсказаний температуры*  \n",
    "   Выбор модели для предсказаний: линейная регрессия, случайный лес, модели градиентного бустинга. Расчет метрик MAE и R2 на валидационной выборке.\n",
    "   \n",
    "   *2.3. Расчет метрики MAE для наилучшей модели на тестовой выборке*  \n",
    "   Расчет метрик MAE и R2 для наилучшей модели на тестовой выборке и сравнение с референтным значением\n",
    "   \n",
    "   *2.4. Анализ результатов для наилучшей модели*  \n",
    "   Анализ полученных результатов и возможные пути улучшения предсказаний  "
   ]
  },
  {
   "cell_type": "markdown",
   "metadata": {},
   "source": [
    "***3. Отчет***  \n",
    "Выводы по полученным результатам. Рекомендации для бизнеса по возможныцм способам улучшения контроля температуры и уменьшению расхода электроэнергии. Построение графиков для презентации заказчику."
   ]
  },
  {
   "cell_type": "markdown",
   "metadata": {},
   "source": [
    "## Исследовательский анализ данных"
   ]
  },
  {
   "cell_type": "markdown",
   "metadata": {},
   "source": [
    "### Импорт библиотек и данных"
   ]
  },
  {
   "cell_type": "code",
   "execution_count": 1,
   "metadata": {},
   "outputs": [],
   "source": [
    "#импорт библиотек и функций\n",
    "import pandas as pd\n",
    "import numpy as np\n",
    "import matplotlib.pyplot as plt \n",
    "import matplotlib as mpl\n",
    "import matplotlib.ticker\n",
    "import random\n",
    "import warnings\n",
    "from pandas.plotting import register_matplotlib_converters\n",
    "from scipy import stats as st"
   ]
  },
  {
   "cell_type": "code",
   "execution_count": 2,
   "metadata": {},
   "outputs": [],
   "source": [
    "#импорт функций для анализа данных\n",
    "from sklearn.ensemble import RandomForestRegressor\n",
    "from sklearn.linear_model import LinearRegression\n",
    "from sklearn.dummy import DummyRegressor\n",
    "from sklearn.preprocessing import StandardScaler\n",
    "from sklearn.metrics import mean_absolute_error\n",
    "from sklearn.metrics import r2_score\n",
    "from sklearn.model_selection import train_test_split\n",
    "from sklearn.model_selection import GridSearchCV\n",
    "import catboost as cb\n",
    "from catboost import CatBoostRegressor, Pool\n",
    "from sklearn.model_selection import KFold\n",
    "from sklearn.feature_selection import SelectKBest, f_regression"
   ]
  },
  {
   "cell_type": "code",
   "execution_count": 3,
   "metadata": {},
   "outputs": [],
   "source": [
    "#импорт данных об электродах\n",
    "data_arc = pd.read_csv('/datasets/data_arc.csv')"
   ]
  },
  {
   "cell_type": "code",
   "execution_count": 4,
   "metadata": {},
   "outputs": [],
   "source": [
    "#импорт данных о подаче сыпучих материалов (объём)\n",
    "data_bulk = pd.read_csv('/datasets/data_bulk.csv')"
   ]
  },
  {
   "cell_type": "code",
   "execution_count": 5,
   "metadata": {},
   "outputs": [],
   "source": [
    "#импорт данных о подаче сыпучих материалов (время)\n",
    "data_bulk_time = pd.read_csv('/datasets/data_bulk_time.csv')"
   ]
  },
  {
   "cell_type": "code",
   "execution_count": 6,
   "metadata": {},
   "outputs": [],
   "source": [
    "#импорт data_gas.csv — данные о продувке сплава газом\n",
    "data_gas = pd.read_csv('/datasets/final_steel/data_gas.csv')"
   ]
  },
  {
   "cell_type": "code",
   "execution_count": 7,
   "metadata": {},
   "outputs": [],
   "source": [
    "#импорт результатов измерения температуры\n",
    "data_temp = pd.read_csv('/datasets/final_steel/data_temp.csv')"
   ]
  },
  {
   "cell_type": "code",
   "execution_count": 8,
   "metadata": {},
   "outputs": [],
   "source": [
    "#импорт данных о проволочных материалах (объём)\n",
    "data_wire = pd.read_csv('/datasets/final_steel/data_wire.csv')"
   ]
  },
  {
   "cell_type": "code",
   "execution_count": 9,
   "metadata": {},
   "outputs": [],
   "source": [
    "#импорт данных о проволочных материалах (время)\n",
    "data_wire_time = pd.read_csv('/datasets/final_steel/data_wire_time.csv')"
   ]
  },
  {
   "cell_type": "markdown",
   "metadata": {},
   "source": [
    "### Первичный анализ датасетов"
   ]
  },
  {
   "cell_type": "code",
   "execution_count": 10,
   "metadata": {
    "scrolled": false
   },
   "outputs": [
    {
     "name": "stdout",
     "output_type": "stream",
     "text": [
      "<class 'pandas.core.frame.DataFrame'>\n",
      "RangeIndex: 14876 entries, 0 to 14875\n",
      "Data columns (total 5 columns):\n",
      "key                     14876 non-null int64\n",
      "Начало нагрева дугой    14876 non-null object\n",
      "Конец нагрева дугой     14876 non-null object\n",
      "Активная мощность       14876 non-null float64\n",
      "Реактивная мощность     14876 non-null float64\n",
      "dtypes: float64(2), int64(1), object(2)\n",
      "memory usage: 581.2+ KB\n"
     ]
    }
   ],
   "source": [
    "#вывод общей информации\n",
    "data_arc.info()"
   ]
  },
  {
   "cell_type": "markdown",
   "metadata": {},
   "source": [
    "Пропусков в данных нет"
   ]
  },
  {
   "cell_type": "code",
   "execution_count": 11,
   "metadata": {
    "scrolled": false
   },
   "outputs": [
    {
     "name": "stdout",
     "output_type": "stream",
     "text": [
      "<class 'pandas.core.frame.DataFrame'>\n",
      "RangeIndex: 3129 entries, 0 to 3128\n",
      "Data columns (total 16 columns):\n",
      "key        3129 non-null int64\n",
      "Bulk 1     252 non-null float64\n",
      "Bulk 2     22 non-null float64\n",
      "Bulk 3     1298 non-null float64\n",
      "Bulk 4     1014 non-null float64\n",
      "Bulk 5     77 non-null float64\n",
      "Bulk 6     576 non-null float64\n",
      "Bulk 7     25 non-null float64\n",
      "Bulk 8     1 non-null float64\n",
      "Bulk 9     19 non-null float64\n",
      "Bulk 10    176 non-null float64\n",
      "Bulk 11    177 non-null float64\n",
      "Bulk 12    2450 non-null float64\n",
      "Bulk 13    18 non-null float64\n",
      "Bulk 14    2806 non-null float64\n",
      "Bulk 15    2248 non-null float64\n",
      "dtypes: float64(15), int64(1)\n",
      "memory usage: 391.2 KB\n"
     ]
    }
   ],
   "source": [
    "#вывод общей информации\n",
    "data_bulk.info()"
   ]
  },
  {
   "cell_type": "markdown",
   "metadata": {},
   "source": [
    "В данных сдержатся пропуски, необходимо выяснить их причину: является ли это особенностью записи информации о технологическом процесса или недостаток информации "
   ]
  },
  {
   "cell_type": "code",
   "execution_count": 12,
   "metadata": {},
   "outputs": [
    {
     "name": "stdout",
     "output_type": "stream",
     "text": [
      "<class 'pandas.core.frame.DataFrame'>\n",
      "RangeIndex: 3129 entries, 0 to 3128\n",
      "Data columns (total 16 columns):\n",
      "key        3129 non-null int64\n",
      "Bulk 1     252 non-null object\n",
      "Bulk 2     22 non-null object\n",
      "Bulk 3     1298 non-null object\n",
      "Bulk 4     1014 non-null object\n",
      "Bulk 5     77 non-null object\n",
      "Bulk 6     576 non-null object\n",
      "Bulk 7     25 non-null object\n",
      "Bulk 8     1 non-null object\n",
      "Bulk 9     19 non-null object\n",
      "Bulk 10    176 non-null object\n",
      "Bulk 11    177 non-null object\n",
      "Bulk 12    2450 non-null object\n",
      "Bulk 13    18 non-null object\n",
      "Bulk 14    2806 non-null object\n",
      "Bulk 15    2248 non-null object\n",
      "dtypes: int64(1), object(15)\n",
      "memory usage: 391.2+ KB\n"
     ]
    }
   ],
   "source": [
    "#вывод общей информации\n",
    "data_bulk_time.info()"
   ]
  },
  {
   "cell_type": "markdown",
   "metadata": {},
   "source": [
    "В данных содержатся пропуски, которые соответствуют пропускам в датасете `data_bulk`"
   ]
  },
  {
   "cell_type": "markdown",
   "metadata": {},
   "source": [
    "В данных содержатся даты и времена, поэтому не будем рассчитывать для них статиститку. "
   ]
  },
  {
   "cell_type": "code",
   "execution_count": 13,
   "metadata": {},
   "outputs": [
    {
     "name": "stdout",
     "output_type": "stream",
     "text": [
      "<class 'pandas.core.frame.DataFrame'>\n",
      "RangeIndex: 3239 entries, 0 to 3238\n",
      "Data columns (total 2 columns):\n",
      "key      3239 non-null int64\n",
      "Газ 1    3239 non-null float64\n",
      "dtypes: float64(1), int64(1)\n",
      "memory usage: 50.7 KB\n"
     ]
    }
   ],
   "source": [
    "#вывод общей информации\n",
    "data_gas.info()"
   ]
  },
  {
   "cell_type": "markdown",
   "metadata": {},
   "source": [
    "В данных нет пропусков"
   ]
  },
  {
   "cell_type": "code",
   "execution_count": 14,
   "metadata": {
    "scrolled": false
   },
   "outputs": [
    {
     "name": "stdout",
     "output_type": "stream",
     "text": [
      "<class 'pandas.core.frame.DataFrame'>\n",
      "RangeIndex: 15907 entries, 0 to 15906\n",
      "Data columns (total 3 columns):\n",
      "key             15907 non-null int64\n",
      "Время замера    15907 non-null object\n",
      "Температура     13006 non-null float64\n",
      "dtypes: float64(1), int64(1), object(1)\n",
      "memory usage: 372.9+ KB\n"
     ]
    }
   ],
   "source": [
    "#вывод общей информации\n",
    "data_temp.info()"
   ]
  },
  {
   "cell_type": "markdown",
   "metadata": {},
   "source": [
    "В колонке `Температура` содержатся пропуски."
   ]
  },
  {
   "cell_type": "code",
   "execution_count": 15,
   "metadata": {
    "scrolled": true
   },
   "outputs": [
    {
     "name": "stdout",
     "output_type": "stream",
     "text": [
      "<class 'pandas.core.frame.DataFrame'>\n",
      "RangeIndex: 3081 entries, 0 to 3080\n",
      "Data columns (total 10 columns):\n",
      "key       3081 non-null int64\n",
      "Wire 1    3055 non-null float64\n",
      "Wire 2    1079 non-null float64\n",
      "Wire 3    63 non-null float64\n",
      "Wire 4    14 non-null float64\n",
      "Wire 5    1 non-null float64\n",
      "Wire 6    73 non-null float64\n",
      "Wire 7    11 non-null float64\n",
      "Wire 8    19 non-null float64\n",
      "Wire 9    29 non-null float64\n",
      "dtypes: float64(9), int64(1)\n",
      "memory usage: 240.8 KB\n"
     ]
    }
   ],
   "source": [
    "#вывод общей информации\n",
    "data_wire.info()"
   ]
  },
  {
   "cell_type": "markdown",
   "metadata": {},
   "source": [
    "В данных есть пропуски. "
   ]
  },
  {
   "cell_type": "code",
   "execution_count": 16,
   "metadata": {
    "scrolled": true
   },
   "outputs": [
    {
     "name": "stdout",
     "output_type": "stream",
     "text": [
      "<class 'pandas.core.frame.DataFrame'>\n",
      "RangeIndex: 3081 entries, 0 to 3080\n",
      "Data columns (total 10 columns):\n",
      "key       3081 non-null int64\n",
      "Wire 1    3055 non-null object\n",
      "Wire 2    1079 non-null object\n",
      "Wire 3    63 non-null object\n",
      "Wire 4    14 non-null object\n",
      "Wire 5    1 non-null object\n",
      "Wire 6    73 non-null object\n",
      "Wire 7    11 non-null object\n",
      "Wire 8    19 non-null object\n",
      "Wire 9    29 non-null object\n",
      "dtypes: int64(1), object(9)\n",
      "memory usage: 240.8+ KB\n"
     ]
    }
   ],
   "source": [
    "#вывод общей информации\n",
    "data_wire_time.info()"
   ]
  },
  {
   "cell_type": "markdown",
   "metadata": {},
   "source": [
    "Изучим датасеты, `data_bulk`, `data_bulk_time`, `data_wire`, `data_wire_temp` и `data_temp`, содержащие пропуски."
   ]
  },
  {
   "cell_type": "markdown",
   "metadata": {},
   "source": [
    "### Удаление пропусков и исключение избыточных данных"
   ]
  },
  {
   "cell_type": "code",
   "execution_count": 17,
   "metadata": {
    "scrolled": false
   },
   "outputs": [
    {
     "data": {
      "text/html": [
       "<div>\n",
       "<style scoped>\n",
       "    .dataframe tbody tr th:only-of-type {\n",
       "        vertical-align: middle;\n",
       "    }\n",
       "\n",
       "    .dataframe tbody tr th {\n",
       "        vertical-align: top;\n",
       "    }\n",
       "\n",
       "    .dataframe thead th {\n",
       "        text-align: right;\n",
       "    }\n",
       "</style>\n",
       "<table border=\"1\" class=\"dataframe\">\n",
       "  <thead>\n",
       "    <tr style=\"text-align: right;\">\n",
       "      <th></th>\n",
       "      <th>key</th>\n",
       "      <th>Bulk 1</th>\n",
       "      <th>Bulk 2</th>\n",
       "      <th>Bulk 3</th>\n",
       "      <th>Bulk 4</th>\n",
       "      <th>Bulk 5</th>\n",
       "      <th>Bulk 6</th>\n",
       "      <th>Bulk 7</th>\n",
       "      <th>Bulk 8</th>\n",
       "      <th>Bulk 9</th>\n",
       "      <th>Bulk 10</th>\n",
       "      <th>Bulk 11</th>\n",
       "      <th>Bulk 12</th>\n",
       "      <th>Bulk 13</th>\n",
       "      <th>Bulk 14</th>\n",
       "      <th>Bulk 15</th>\n",
       "    </tr>\n",
       "  </thead>\n",
       "  <tbody>\n",
       "    <tr>\n",
       "      <td>0</td>\n",
       "      <td>1</td>\n",
       "      <td>NaN</td>\n",
       "      <td>NaN</td>\n",
       "      <td>NaN</td>\n",
       "      <td>43.0</td>\n",
       "      <td>NaN</td>\n",
       "      <td>NaN</td>\n",
       "      <td>NaN</td>\n",
       "      <td>NaN</td>\n",
       "      <td>NaN</td>\n",
       "      <td>NaN</td>\n",
       "      <td>NaN</td>\n",
       "      <td>206.0</td>\n",
       "      <td>NaN</td>\n",
       "      <td>150.0</td>\n",
       "      <td>154.0</td>\n",
       "    </tr>\n",
       "    <tr>\n",
       "      <td>1</td>\n",
       "      <td>2</td>\n",
       "      <td>NaN</td>\n",
       "      <td>NaN</td>\n",
       "      <td>NaN</td>\n",
       "      <td>73.0</td>\n",
       "      <td>NaN</td>\n",
       "      <td>NaN</td>\n",
       "      <td>NaN</td>\n",
       "      <td>NaN</td>\n",
       "      <td>NaN</td>\n",
       "      <td>NaN</td>\n",
       "      <td>NaN</td>\n",
       "      <td>206.0</td>\n",
       "      <td>NaN</td>\n",
       "      <td>149.0</td>\n",
       "      <td>154.0</td>\n",
       "    </tr>\n",
       "    <tr>\n",
       "      <td>2</td>\n",
       "      <td>3</td>\n",
       "      <td>NaN</td>\n",
       "      <td>NaN</td>\n",
       "      <td>NaN</td>\n",
       "      <td>34.0</td>\n",
       "      <td>NaN</td>\n",
       "      <td>NaN</td>\n",
       "      <td>NaN</td>\n",
       "      <td>NaN</td>\n",
       "      <td>NaN</td>\n",
       "      <td>NaN</td>\n",
       "      <td>NaN</td>\n",
       "      <td>205.0</td>\n",
       "      <td>NaN</td>\n",
       "      <td>152.0</td>\n",
       "      <td>153.0</td>\n",
       "    </tr>\n",
       "    <tr>\n",
       "      <td>3</td>\n",
       "      <td>4</td>\n",
       "      <td>NaN</td>\n",
       "      <td>NaN</td>\n",
       "      <td>NaN</td>\n",
       "      <td>81.0</td>\n",
       "      <td>NaN</td>\n",
       "      <td>NaN</td>\n",
       "      <td>NaN</td>\n",
       "      <td>NaN</td>\n",
       "      <td>NaN</td>\n",
       "      <td>NaN</td>\n",
       "      <td>NaN</td>\n",
       "      <td>207.0</td>\n",
       "      <td>NaN</td>\n",
       "      <td>153.0</td>\n",
       "      <td>154.0</td>\n",
       "    </tr>\n",
       "    <tr>\n",
       "      <td>4</td>\n",
       "      <td>5</td>\n",
       "      <td>NaN</td>\n",
       "      <td>NaN</td>\n",
       "      <td>NaN</td>\n",
       "      <td>78.0</td>\n",
       "      <td>NaN</td>\n",
       "      <td>NaN</td>\n",
       "      <td>NaN</td>\n",
       "      <td>NaN</td>\n",
       "      <td>NaN</td>\n",
       "      <td>NaN</td>\n",
       "      <td>NaN</td>\n",
       "      <td>203.0</td>\n",
       "      <td>NaN</td>\n",
       "      <td>151.0</td>\n",
       "      <td>152.0</td>\n",
       "    </tr>\n",
       "    <tr>\n",
       "      <td>...</td>\n",
       "      <td>...</td>\n",
       "      <td>...</td>\n",
       "      <td>...</td>\n",
       "      <td>...</td>\n",
       "      <td>...</td>\n",
       "      <td>...</td>\n",
       "      <td>...</td>\n",
       "      <td>...</td>\n",
       "      <td>...</td>\n",
       "      <td>...</td>\n",
       "      <td>...</td>\n",
       "      <td>...</td>\n",
       "      <td>...</td>\n",
       "      <td>...</td>\n",
       "      <td>...</td>\n",
       "      <td>...</td>\n",
       "    </tr>\n",
       "    <tr>\n",
       "      <td>3124</td>\n",
       "      <td>3237</td>\n",
       "      <td>NaN</td>\n",
       "      <td>NaN</td>\n",
       "      <td>170.0</td>\n",
       "      <td>NaN</td>\n",
       "      <td>NaN</td>\n",
       "      <td>NaN</td>\n",
       "      <td>NaN</td>\n",
       "      <td>NaN</td>\n",
       "      <td>NaN</td>\n",
       "      <td>NaN</td>\n",
       "      <td>NaN</td>\n",
       "      <td>252.0</td>\n",
       "      <td>NaN</td>\n",
       "      <td>130.0</td>\n",
       "      <td>206.0</td>\n",
       "    </tr>\n",
       "    <tr>\n",
       "      <td>3125</td>\n",
       "      <td>3238</td>\n",
       "      <td>NaN</td>\n",
       "      <td>NaN</td>\n",
       "      <td>126.0</td>\n",
       "      <td>NaN</td>\n",
       "      <td>NaN</td>\n",
       "      <td>NaN</td>\n",
       "      <td>NaN</td>\n",
       "      <td>NaN</td>\n",
       "      <td>NaN</td>\n",
       "      <td>NaN</td>\n",
       "      <td>NaN</td>\n",
       "      <td>254.0</td>\n",
       "      <td>NaN</td>\n",
       "      <td>108.0</td>\n",
       "      <td>106.0</td>\n",
       "    </tr>\n",
       "    <tr>\n",
       "      <td>3126</td>\n",
       "      <td>3239</td>\n",
       "      <td>NaN</td>\n",
       "      <td>NaN</td>\n",
       "      <td>NaN</td>\n",
       "      <td>NaN</td>\n",
       "      <td>NaN</td>\n",
       "      <td>114.0</td>\n",
       "      <td>NaN</td>\n",
       "      <td>NaN</td>\n",
       "      <td>NaN</td>\n",
       "      <td>NaN</td>\n",
       "      <td>NaN</td>\n",
       "      <td>158.0</td>\n",
       "      <td>NaN</td>\n",
       "      <td>270.0</td>\n",
       "      <td>88.0</td>\n",
       "    </tr>\n",
       "    <tr>\n",
       "      <td>3127</td>\n",
       "      <td>3240</td>\n",
       "      <td>NaN</td>\n",
       "      <td>NaN</td>\n",
       "      <td>NaN</td>\n",
       "      <td>NaN</td>\n",
       "      <td>NaN</td>\n",
       "      <td>26.0</td>\n",
       "      <td>NaN</td>\n",
       "      <td>NaN</td>\n",
       "      <td>NaN</td>\n",
       "      <td>NaN</td>\n",
       "      <td>NaN</td>\n",
       "      <td>NaN</td>\n",
       "      <td>NaN</td>\n",
       "      <td>192.0</td>\n",
       "      <td>54.0</td>\n",
       "    </tr>\n",
       "    <tr>\n",
       "      <td>3128</td>\n",
       "      <td>3241</td>\n",
       "      <td>NaN</td>\n",
       "      <td>NaN</td>\n",
       "      <td>NaN</td>\n",
       "      <td>NaN</td>\n",
       "      <td>NaN</td>\n",
       "      <td>NaN</td>\n",
       "      <td>NaN</td>\n",
       "      <td>NaN</td>\n",
       "      <td>NaN</td>\n",
       "      <td>NaN</td>\n",
       "      <td>NaN</td>\n",
       "      <td>NaN</td>\n",
       "      <td>NaN</td>\n",
       "      <td>180.0</td>\n",
       "      <td>52.0</td>\n",
       "    </tr>\n",
       "  </tbody>\n",
       "</table>\n",
       "<p>3129 rows × 16 columns</p>\n",
       "</div>"
      ],
      "text/plain": [
       "       key  Bulk 1  Bulk 2  Bulk 3  Bulk 4  Bulk 5  Bulk 6  Bulk 7  Bulk 8  \\\n",
       "0        1     NaN     NaN     NaN    43.0     NaN     NaN     NaN     NaN   \n",
       "1        2     NaN     NaN     NaN    73.0     NaN     NaN     NaN     NaN   \n",
       "2        3     NaN     NaN     NaN    34.0     NaN     NaN     NaN     NaN   \n",
       "3        4     NaN     NaN     NaN    81.0     NaN     NaN     NaN     NaN   \n",
       "4        5     NaN     NaN     NaN    78.0     NaN     NaN     NaN     NaN   \n",
       "...    ...     ...     ...     ...     ...     ...     ...     ...     ...   \n",
       "3124  3237     NaN     NaN   170.0     NaN     NaN     NaN     NaN     NaN   \n",
       "3125  3238     NaN     NaN   126.0     NaN     NaN     NaN     NaN     NaN   \n",
       "3126  3239     NaN     NaN     NaN     NaN     NaN   114.0     NaN     NaN   \n",
       "3127  3240     NaN     NaN     NaN     NaN     NaN    26.0     NaN     NaN   \n",
       "3128  3241     NaN     NaN     NaN     NaN     NaN     NaN     NaN     NaN   \n",
       "\n",
       "      Bulk 9  Bulk 10  Bulk 11  Bulk 12  Bulk 13  Bulk 14  Bulk 15  \n",
       "0        NaN      NaN      NaN    206.0      NaN    150.0    154.0  \n",
       "1        NaN      NaN      NaN    206.0      NaN    149.0    154.0  \n",
       "2        NaN      NaN      NaN    205.0      NaN    152.0    153.0  \n",
       "3        NaN      NaN      NaN    207.0      NaN    153.0    154.0  \n",
       "4        NaN      NaN      NaN    203.0      NaN    151.0    152.0  \n",
       "...      ...      ...      ...      ...      ...      ...      ...  \n",
       "3124     NaN      NaN      NaN    252.0      NaN    130.0    206.0  \n",
       "3125     NaN      NaN      NaN    254.0      NaN    108.0    106.0  \n",
       "3126     NaN      NaN      NaN    158.0      NaN    270.0     88.0  \n",
       "3127     NaN      NaN      NaN      NaN      NaN    192.0     54.0  \n",
       "3128     NaN      NaN      NaN      NaN      NaN    180.0     52.0  \n",
       "\n",
       "[3129 rows x 16 columns]"
      ]
     },
     "execution_count": 17,
     "metadata": {},
     "output_type": "execute_result"
    }
   ],
   "source": [
    "#вывод данных\n",
    "data_bulk"
   ]
  },
  {
   "cell_type": "markdown",
   "metadata": {},
   "source": [
    "Как видно из данных, пропуски в `data_bulk` соответствуют отсутствию добавления сыпучих материалов. Эти пропуски можно заменить на нулевые значения.  "
   ]
  },
  {
   "cell_type": "code",
   "execution_count": 18,
   "metadata": {},
   "outputs": [
    {
     "data": {
      "text/html": [
       "<div>\n",
       "<style scoped>\n",
       "    .dataframe tbody tr th:only-of-type {\n",
       "        vertical-align: middle;\n",
       "    }\n",
       "\n",
       "    .dataframe tbody tr th {\n",
       "        vertical-align: top;\n",
       "    }\n",
       "\n",
       "    .dataframe thead th {\n",
       "        text-align: right;\n",
       "    }\n",
       "</style>\n",
       "<table border=\"1\" class=\"dataframe\">\n",
       "  <thead>\n",
       "    <tr style=\"text-align: right;\">\n",
       "      <th></th>\n",
       "      <th>key</th>\n",
       "      <th>Wire 1</th>\n",
       "      <th>Wire 2</th>\n",
       "      <th>Wire 3</th>\n",
       "      <th>Wire 4</th>\n",
       "      <th>Wire 5</th>\n",
       "      <th>Wire 6</th>\n",
       "      <th>Wire 7</th>\n",
       "      <th>Wire 8</th>\n",
       "      <th>Wire 9</th>\n",
       "    </tr>\n",
       "  </thead>\n",
       "  <tbody>\n",
       "    <tr>\n",
       "      <td>0</td>\n",
       "      <td>1</td>\n",
       "      <td>60.059998</td>\n",
       "      <td>NaN</td>\n",
       "      <td>NaN</td>\n",
       "      <td>NaN</td>\n",
       "      <td>NaN</td>\n",
       "      <td>NaN</td>\n",
       "      <td>NaN</td>\n",
       "      <td>NaN</td>\n",
       "      <td>NaN</td>\n",
       "    </tr>\n",
       "    <tr>\n",
       "      <td>1</td>\n",
       "      <td>2</td>\n",
       "      <td>96.052315</td>\n",
       "      <td>NaN</td>\n",
       "      <td>NaN</td>\n",
       "      <td>NaN</td>\n",
       "      <td>NaN</td>\n",
       "      <td>NaN</td>\n",
       "      <td>NaN</td>\n",
       "      <td>NaN</td>\n",
       "      <td>NaN</td>\n",
       "    </tr>\n",
       "    <tr>\n",
       "      <td>2</td>\n",
       "      <td>3</td>\n",
       "      <td>91.160157</td>\n",
       "      <td>NaN</td>\n",
       "      <td>NaN</td>\n",
       "      <td>NaN</td>\n",
       "      <td>NaN</td>\n",
       "      <td>NaN</td>\n",
       "      <td>NaN</td>\n",
       "      <td>NaN</td>\n",
       "      <td>NaN</td>\n",
       "    </tr>\n",
       "    <tr>\n",
       "      <td>3</td>\n",
       "      <td>4</td>\n",
       "      <td>89.063515</td>\n",
       "      <td>NaN</td>\n",
       "      <td>NaN</td>\n",
       "      <td>NaN</td>\n",
       "      <td>NaN</td>\n",
       "      <td>NaN</td>\n",
       "      <td>NaN</td>\n",
       "      <td>NaN</td>\n",
       "      <td>NaN</td>\n",
       "    </tr>\n",
       "    <tr>\n",
       "      <td>4</td>\n",
       "      <td>5</td>\n",
       "      <td>89.238236</td>\n",
       "      <td>9.11456</td>\n",
       "      <td>NaN</td>\n",
       "      <td>NaN</td>\n",
       "      <td>NaN</td>\n",
       "      <td>NaN</td>\n",
       "      <td>NaN</td>\n",
       "      <td>NaN</td>\n",
       "      <td>NaN</td>\n",
       "    </tr>\n",
       "    <tr>\n",
       "      <td>...</td>\n",
       "      <td>...</td>\n",
       "      <td>...</td>\n",
       "      <td>...</td>\n",
       "      <td>...</td>\n",
       "      <td>...</td>\n",
       "      <td>...</td>\n",
       "      <td>...</td>\n",
       "      <td>...</td>\n",
       "      <td>...</td>\n",
       "      <td>...</td>\n",
       "    </tr>\n",
       "    <tr>\n",
       "      <td>3076</td>\n",
       "      <td>3237</td>\n",
       "      <td>38.088959</td>\n",
       "      <td>NaN</td>\n",
       "      <td>NaN</td>\n",
       "      <td>NaN</td>\n",
       "      <td>NaN</td>\n",
       "      <td>NaN</td>\n",
       "      <td>NaN</td>\n",
       "      <td>NaN</td>\n",
       "      <td>NaN</td>\n",
       "    </tr>\n",
       "    <tr>\n",
       "      <td>3077</td>\n",
       "      <td>3238</td>\n",
       "      <td>56.128799</td>\n",
       "      <td>NaN</td>\n",
       "      <td>NaN</td>\n",
       "      <td>NaN</td>\n",
       "      <td>NaN</td>\n",
       "      <td>NaN</td>\n",
       "      <td>NaN</td>\n",
       "      <td>NaN</td>\n",
       "      <td>NaN</td>\n",
       "    </tr>\n",
       "    <tr>\n",
       "      <td>3078</td>\n",
       "      <td>3239</td>\n",
       "      <td>143.357761</td>\n",
       "      <td>NaN</td>\n",
       "      <td>NaN</td>\n",
       "      <td>NaN</td>\n",
       "      <td>NaN</td>\n",
       "      <td>NaN</td>\n",
       "      <td>NaN</td>\n",
       "      <td>NaN</td>\n",
       "      <td>NaN</td>\n",
       "    </tr>\n",
       "    <tr>\n",
       "      <td>3079</td>\n",
       "      <td>3240</td>\n",
       "      <td>34.070400</td>\n",
       "      <td>NaN</td>\n",
       "      <td>NaN</td>\n",
       "      <td>NaN</td>\n",
       "      <td>NaN</td>\n",
       "      <td>NaN</td>\n",
       "      <td>NaN</td>\n",
       "      <td>NaN</td>\n",
       "      <td>NaN</td>\n",
       "    </tr>\n",
       "    <tr>\n",
       "      <td>3080</td>\n",
       "      <td>3241</td>\n",
       "      <td>63.117595</td>\n",
       "      <td>NaN</td>\n",
       "      <td>NaN</td>\n",
       "      <td>NaN</td>\n",
       "      <td>NaN</td>\n",
       "      <td>NaN</td>\n",
       "      <td>NaN</td>\n",
       "      <td>NaN</td>\n",
       "      <td>NaN</td>\n",
       "    </tr>\n",
       "  </tbody>\n",
       "</table>\n",
       "<p>3081 rows × 10 columns</p>\n",
       "</div>"
      ],
      "text/plain": [
       "       key      Wire 1   Wire 2  Wire 3  Wire 4  Wire 5  Wire 6  Wire 7  \\\n",
       "0        1   60.059998      NaN     NaN     NaN     NaN     NaN     NaN   \n",
       "1        2   96.052315      NaN     NaN     NaN     NaN     NaN     NaN   \n",
       "2        3   91.160157      NaN     NaN     NaN     NaN     NaN     NaN   \n",
       "3        4   89.063515      NaN     NaN     NaN     NaN     NaN     NaN   \n",
       "4        5   89.238236  9.11456     NaN     NaN     NaN     NaN     NaN   \n",
       "...    ...         ...      ...     ...     ...     ...     ...     ...   \n",
       "3076  3237   38.088959      NaN     NaN     NaN     NaN     NaN     NaN   \n",
       "3077  3238   56.128799      NaN     NaN     NaN     NaN     NaN     NaN   \n",
       "3078  3239  143.357761      NaN     NaN     NaN     NaN     NaN     NaN   \n",
       "3079  3240   34.070400      NaN     NaN     NaN     NaN     NaN     NaN   \n",
       "3080  3241   63.117595      NaN     NaN     NaN     NaN     NaN     NaN   \n",
       "\n",
       "      Wire 8  Wire 9  \n",
       "0        NaN     NaN  \n",
       "1        NaN     NaN  \n",
       "2        NaN     NaN  \n",
       "3        NaN     NaN  \n",
       "4        NaN     NaN  \n",
       "...      ...     ...  \n",
       "3076     NaN     NaN  \n",
       "3077     NaN     NaN  \n",
       "3078     NaN     NaN  \n",
       "3079     NaN     NaN  \n",
       "3080     NaN     NaN  \n",
       "\n",
       "[3081 rows x 10 columns]"
      ]
     },
     "execution_count": 18,
     "metadata": {},
     "output_type": "execute_result"
    }
   ],
   "source": [
    "#вывод данных\n",
    "data_wire"
   ]
  },
  {
   "cell_type": "markdown",
   "metadata": {},
   "source": [
    "Как видно из данных, пропуски в `data_wire` соответствуют отсутствию добавления проволочных материалов. Эти пропуски можно заменить на нулевые значения.  "
   ]
  },
  {
   "cell_type": "markdown",
   "metadata": {},
   "source": [
    "***Замена NaN на нулевые значения для `data_bulk` и `data_wire`***"
   ]
  },
  {
   "cell_type": "code",
   "execution_count": 19,
   "metadata": {},
   "outputs": [],
   "source": [
    "#замена нулевых значений\n",
    "data_bulk2 = data_bulk.fillna(0).copy(deep = True)\n",
    "data_wire2 = data_wire.fillna(0).copy(deep = True)"
   ]
  },
  {
   "cell_type": "code",
   "execution_count": 20,
   "metadata": {},
   "outputs": [
    {
     "data": {
      "text/html": [
       "<div>\n",
       "<style scoped>\n",
       "    .dataframe tbody tr th:only-of-type {\n",
       "        vertical-align: middle;\n",
       "    }\n",
       "\n",
       "    .dataframe tbody tr th {\n",
       "        vertical-align: top;\n",
       "    }\n",
       "\n",
       "    .dataframe thead th {\n",
       "        text-align: right;\n",
       "    }\n",
       "</style>\n",
       "<table border=\"1\" class=\"dataframe\">\n",
       "  <thead>\n",
       "    <tr style=\"text-align: right;\">\n",
       "      <th></th>\n",
       "      <th>key</th>\n",
       "      <th>Bulk 1</th>\n",
       "      <th>Bulk 2</th>\n",
       "      <th>Bulk 3</th>\n",
       "      <th>Bulk 4</th>\n",
       "      <th>Bulk 5</th>\n",
       "      <th>Bulk 6</th>\n",
       "      <th>Bulk 7</th>\n",
       "      <th>Bulk 8</th>\n",
       "      <th>Bulk 9</th>\n",
       "      <th>Bulk 10</th>\n",
       "      <th>Bulk 11</th>\n",
       "      <th>Bulk 12</th>\n",
       "      <th>Bulk 13</th>\n",
       "      <th>Bulk 14</th>\n",
       "      <th>Bulk 15</th>\n",
       "    </tr>\n",
       "  </thead>\n",
       "  <tbody>\n",
       "    <tr>\n",
       "      <td>0</td>\n",
       "      <td>1</td>\n",
       "      <td>0.0</td>\n",
       "      <td>0.0</td>\n",
       "      <td>0.0</td>\n",
       "      <td>43.0</td>\n",
       "      <td>0.0</td>\n",
       "      <td>0.0</td>\n",
       "      <td>0.0</td>\n",
       "      <td>0.0</td>\n",
       "      <td>0.0</td>\n",
       "      <td>0.0</td>\n",
       "      <td>0.0</td>\n",
       "      <td>206.0</td>\n",
       "      <td>0.0</td>\n",
       "      <td>150.0</td>\n",
       "      <td>154.0</td>\n",
       "    </tr>\n",
       "    <tr>\n",
       "      <td>1</td>\n",
       "      <td>2</td>\n",
       "      <td>0.0</td>\n",
       "      <td>0.0</td>\n",
       "      <td>0.0</td>\n",
       "      <td>73.0</td>\n",
       "      <td>0.0</td>\n",
       "      <td>0.0</td>\n",
       "      <td>0.0</td>\n",
       "      <td>0.0</td>\n",
       "      <td>0.0</td>\n",
       "      <td>0.0</td>\n",
       "      <td>0.0</td>\n",
       "      <td>206.0</td>\n",
       "      <td>0.0</td>\n",
       "      <td>149.0</td>\n",
       "      <td>154.0</td>\n",
       "    </tr>\n",
       "    <tr>\n",
       "      <td>2</td>\n",
       "      <td>3</td>\n",
       "      <td>0.0</td>\n",
       "      <td>0.0</td>\n",
       "      <td>0.0</td>\n",
       "      <td>34.0</td>\n",
       "      <td>0.0</td>\n",
       "      <td>0.0</td>\n",
       "      <td>0.0</td>\n",
       "      <td>0.0</td>\n",
       "      <td>0.0</td>\n",
       "      <td>0.0</td>\n",
       "      <td>0.0</td>\n",
       "      <td>205.0</td>\n",
       "      <td>0.0</td>\n",
       "      <td>152.0</td>\n",
       "      <td>153.0</td>\n",
       "    </tr>\n",
       "    <tr>\n",
       "      <td>3</td>\n",
       "      <td>4</td>\n",
       "      <td>0.0</td>\n",
       "      <td>0.0</td>\n",
       "      <td>0.0</td>\n",
       "      <td>81.0</td>\n",
       "      <td>0.0</td>\n",
       "      <td>0.0</td>\n",
       "      <td>0.0</td>\n",
       "      <td>0.0</td>\n",
       "      <td>0.0</td>\n",
       "      <td>0.0</td>\n",
       "      <td>0.0</td>\n",
       "      <td>207.0</td>\n",
       "      <td>0.0</td>\n",
       "      <td>153.0</td>\n",
       "      <td>154.0</td>\n",
       "    </tr>\n",
       "    <tr>\n",
       "      <td>4</td>\n",
       "      <td>5</td>\n",
       "      <td>0.0</td>\n",
       "      <td>0.0</td>\n",
       "      <td>0.0</td>\n",
       "      <td>78.0</td>\n",
       "      <td>0.0</td>\n",
       "      <td>0.0</td>\n",
       "      <td>0.0</td>\n",
       "      <td>0.0</td>\n",
       "      <td>0.0</td>\n",
       "      <td>0.0</td>\n",
       "      <td>0.0</td>\n",
       "      <td>203.0</td>\n",
       "      <td>0.0</td>\n",
       "      <td>151.0</td>\n",
       "      <td>152.0</td>\n",
       "    </tr>\n",
       "    <tr>\n",
       "      <td>...</td>\n",
       "      <td>...</td>\n",
       "      <td>...</td>\n",
       "      <td>...</td>\n",
       "      <td>...</td>\n",
       "      <td>...</td>\n",
       "      <td>...</td>\n",
       "      <td>...</td>\n",
       "      <td>...</td>\n",
       "      <td>...</td>\n",
       "      <td>...</td>\n",
       "      <td>...</td>\n",
       "      <td>...</td>\n",
       "      <td>...</td>\n",
       "      <td>...</td>\n",
       "      <td>...</td>\n",
       "      <td>...</td>\n",
       "    </tr>\n",
       "    <tr>\n",
       "      <td>3124</td>\n",
       "      <td>3237</td>\n",
       "      <td>0.0</td>\n",
       "      <td>0.0</td>\n",
       "      <td>170.0</td>\n",
       "      <td>0.0</td>\n",
       "      <td>0.0</td>\n",
       "      <td>0.0</td>\n",
       "      <td>0.0</td>\n",
       "      <td>0.0</td>\n",
       "      <td>0.0</td>\n",
       "      <td>0.0</td>\n",
       "      <td>0.0</td>\n",
       "      <td>252.0</td>\n",
       "      <td>0.0</td>\n",
       "      <td>130.0</td>\n",
       "      <td>206.0</td>\n",
       "    </tr>\n",
       "    <tr>\n",
       "      <td>3125</td>\n",
       "      <td>3238</td>\n",
       "      <td>0.0</td>\n",
       "      <td>0.0</td>\n",
       "      <td>126.0</td>\n",
       "      <td>0.0</td>\n",
       "      <td>0.0</td>\n",
       "      <td>0.0</td>\n",
       "      <td>0.0</td>\n",
       "      <td>0.0</td>\n",
       "      <td>0.0</td>\n",
       "      <td>0.0</td>\n",
       "      <td>0.0</td>\n",
       "      <td>254.0</td>\n",
       "      <td>0.0</td>\n",
       "      <td>108.0</td>\n",
       "      <td>106.0</td>\n",
       "    </tr>\n",
       "    <tr>\n",
       "      <td>3126</td>\n",
       "      <td>3239</td>\n",
       "      <td>0.0</td>\n",
       "      <td>0.0</td>\n",
       "      <td>0.0</td>\n",
       "      <td>0.0</td>\n",
       "      <td>0.0</td>\n",
       "      <td>114.0</td>\n",
       "      <td>0.0</td>\n",
       "      <td>0.0</td>\n",
       "      <td>0.0</td>\n",
       "      <td>0.0</td>\n",
       "      <td>0.0</td>\n",
       "      <td>158.0</td>\n",
       "      <td>0.0</td>\n",
       "      <td>270.0</td>\n",
       "      <td>88.0</td>\n",
       "    </tr>\n",
       "    <tr>\n",
       "      <td>3127</td>\n",
       "      <td>3240</td>\n",
       "      <td>0.0</td>\n",
       "      <td>0.0</td>\n",
       "      <td>0.0</td>\n",
       "      <td>0.0</td>\n",
       "      <td>0.0</td>\n",
       "      <td>26.0</td>\n",
       "      <td>0.0</td>\n",
       "      <td>0.0</td>\n",
       "      <td>0.0</td>\n",
       "      <td>0.0</td>\n",
       "      <td>0.0</td>\n",
       "      <td>0.0</td>\n",
       "      <td>0.0</td>\n",
       "      <td>192.0</td>\n",
       "      <td>54.0</td>\n",
       "    </tr>\n",
       "    <tr>\n",
       "      <td>3128</td>\n",
       "      <td>3241</td>\n",
       "      <td>0.0</td>\n",
       "      <td>0.0</td>\n",
       "      <td>0.0</td>\n",
       "      <td>0.0</td>\n",
       "      <td>0.0</td>\n",
       "      <td>0.0</td>\n",
       "      <td>0.0</td>\n",
       "      <td>0.0</td>\n",
       "      <td>0.0</td>\n",
       "      <td>0.0</td>\n",
       "      <td>0.0</td>\n",
       "      <td>0.0</td>\n",
       "      <td>0.0</td>\n",
       "      <td>180.0</td>\n",
       "      <td>52.0</td>\n",
       "    </tr>\n",
       "  </tbody>\n",
       "</table>\n",
       "<p>3129 rows × 16 columns</p>\n",
       "</div>"
      ],
      "text/plain": [
       "       key  Bulk 1  Bulk 2  Bulk 3  Bulk 4  Bulk 5  Bulk 6  Bulk 7  Bulk 8  \\\n",
       "0        1     0.0     0.0     0.0    43.0     0.0     0.0     0.0     0.0   \n",
       "1        2     0.0     0.0     0.0    73.0     0.0     0.0     0.0     0.0   \n",
       "2        3     0.0     0.0     0.0    34.0     0.0     0.0     0.0     0.0   \n",
       "3        4     0.0     0.0     0.0    81.0     0.0     0.0     0.0     0.0   \n",
       "4        5     0.0     0.0     0.0    78.0     0.0     0.0     0.0     0.0   \n",
       "...    ...     ...     ...     ...     ...     ...     ...     ...     ...   \n",
       "3124  3237     0.0     0.0   170.0     0.0     0.0     0.0     0.0     0.0   \n",
       "3125  3238     0.0     0.0   126.0     0.0     0.0     0.0     0.0     0.0   \n",
       "3126  3239     0.0     0.0     0.0     0.0     0.0   114.0     0.0     0.0   \n",
       "3127  3240     0.0     0.0     0.0     0.0     0.0    26.0     0.0     0.0   \n",
       "3128  3241     0.0     0.0     0.0     0.0     0.0     0.0     0.0     0.0   \n",
       "\n",
       "      Bulk 9  Bulk 10  Bulk 11  Bulk 12  Bulk 13  Bulk 14  Bulk 15  \n",
       "0        0.0      0.0      0.0    206.0      0.0    150.0    154.0  \n",
       "1        0.0      0.0      0.0    206.0      0.0    149.0    154.0  \n",
       "2        0.0      0.0      0.0    205.0      0.0    152.0    153.0  \n",
       "3        0.0      0.0      0.0    207.0      0.0    153.0    154.0  \n",
       "4        0.0      0.0      0.0    203.0      0.0    151.0    152.0  \n",
       "...      ...      ...      ...      ...      ...      ...      ...  \n",
       "3124     0.0      0.0      0.0    252.0      0.0    130.0    206.0  \n",
       "3125     0.0      0.0      0.0    254.0      0.0    108.0    106.0  \n",
       "3126     0.0      0.0      0.0    158.0      0.0    270.0     88.0  \n",
       "3127     0.0      0.0      0.0      0.0      0.0    192.0     54.0  \n",
       "3128     0.0      0.0      0.0      0.0      0.0    180.0     52.0  \n",
       "\n",
       "[3129 rows x 16 columns]"
      ]
     },
     "execution_count": 20,
     "metadata": {},
     "output_type": "execute_result"
    }
   ],
   "source": [
    "#проверка замены пропусков на нулевые значения\n",
    "data_bulk2\n",
    "#data_wire2"
   ]
  },
  {
   "cell_type": "code",
   "execution_count": 21,
   "metadata": {},
   "outputs": [
    {
     "data": {
      "text/html": [
       "<div>\n",
       "<style scoped>\n",
       "    .dataframe tbody tr th:only-of-type {\n",
       "        vertical-align: middle;\n",
       "    }\n",
       "\n",
       "    .dataframe tbody tr th {\n",
       "        vertical-align: top;\n",
       "    }\n",
       "\n",
       "    .dataframe thead th {\n",
       "        text-align: right;\n",
       "    }\n",
       "</style>\n",
       "<table border=\"1\" class=\"dataframe\">\n",
       "  <thead>\n",
       "    <tr style=\"text-align: right;\">\n",
       "      <th></th>\n",
       "      <th>key</th>\n",
       "      <th>Bulk 1</th>\n",
       "      <th>Bulk 2</th>\n",
       "      <th>Bulk 3</th>\n",
       "      <th>Bulk 4</th>\n",
       "      <th>Bulk 5</th>\n",
       "      <th>Bulk 6</th>\n",
       "      <th>Bulk 7</th>\n",
       "      <th>Bulk 8</th>\n",
       "      <th>Bulk 9</th>\n",
       "      <th>Bulk 10</th>\n",
       "      <th>Bulk 11</th>\n",
       "      <th>Bulk 12</th>\n",
       "      <th>Bulk 13</th>\n",
       "      <th>Bulk 14</th>\n",
       "      <th>Bulk 15</th>\n",
       "    </tr>\n",
       "  </thead>\n",
       "  <tbody>\n",
       "    <tr>\n",
       "      <td>0</td>\n",
       "      <td>1</td>\n",
       "      <td>NaN</td>\n",
       "      <td>NaN</td>\n",
       "      <td>NaN</td>\n",
       "      <td>2019-05-03 11:21:30</td>\n",
       "      <td>NaN</td>\n",
       "      <td>NaN</td>\n",
       "      <td>NaN</td>\n",
       "      <td>NaN</td>\n",
       "      <td>NaN</td>\n",
       "      <td>NaN</td>\n",
       "      <td>NaN</td>\n",
       "      <td>2019-05-03 11:03:52</td>\n",
       "      <td>NaN</td>\n",
       "      <td>2019-05-03 11:03:52</td>\n",
       "      <td>2019-05-03 11:03:52</td>\n",
       "    </tr>\n",
       "    <tr>\n",
       "      <td>1</td>\n",
       "      <td>2</td>\n",
       "      <td>NaN</td>\n",
       "      <td>NaN</td>\n",
       "      <td>NaN</td>\n",
       "      <td>2019-05-03 11:46:38</td>\n",
       "      <td>NaN</td>\n",
       "      <td>NaN</td>\n",
       "      <td>NaN</td>\n",
       "      <td>NaN</td>\n",
       "      <td>NaN</td>\n",
       "      <td>NaN</td>\n",
       "      <td>NaN</td>\n",
       "      <td>2019-05-03 11:40:20</td>\n",
       "      <td>NaN</td>\n",
       "      <td>2019-05-03 11:40:20</td>\n",
       "      <td>2019-05-03 11:40:20</td>\n",
       "    </tr>\n",
       "    <tr>\n",
       "      <td>2</td>\n",
       "      <td>3</td>\n",
       "      <td>NaN</td>\n",
       "      <td>NaN</td>\n",
       "      <td>NaN</td>\n",
       "      <td>2019-05-03 12:31:06</td>\n",
       "      <td>NaN</td>\n",
       "      <td>NaN</td>\n",
       "      <td>NaN</td>\n",
       "      <td>NaN</td>\n",
       "      <td>NaN</td>\n",
       "      <td>NaN</td>\n",
       "      <td>NaN</td>\n",
       "      <td>2019-05-03 12:09:40</td>\n",
       "      <td>NaN</td>\n",
       "      <td>2019-05-03 12:09:40</td>\n",
       "      <td>2019-05-03 12:09:40</td>\n",
       "    </tr>\n",
       "    <tr>\n",
       "      <td>3</td>\n",
       "      <td>4</td>\n",
       "      <td>NaN</td>\n",
       "      <td>NaN</td>\n",
       "      <td>NaN</td>\n",
       "      <td>2019-05-03 12:48:43</td>\n",
       "      <td>NaN</td>\n",
       "      <td>NaN</td>\n",
       "      <td>NaN</td>\n",
       "      <td>NaN</td>\n",
       "      <td>NaN</td>\n",
       "      <td>NaN</td>\n",
       "      <td>NaN</td>\n",
       "      <td>2019-05-03 12:41:24</td>\n",
       "      <td>NaN</td>\n",
       "      <td>2019-05-03 12:41:24</td>\n",
       "      <td>2019-05-03 12:41:24</td>\n",
       "    </tr>\n",
       "    <tr>\n",
       "      <td>4</td>\n",
       "      <td>5</td>\n",
       "      <td>NaN</td>\n",
       "      <td>NaN</td>\n",
       "      <td>NaN</td>\n",
       "      <td>2019-05-03 13:18:50</td>\n",
       "      <td>NaN</td>\n",
       "      <td>NaN</td>\n",
       "      <td>NaN</td>\n",
       "      <td>NaN</td>\n",
       "      <td>NaN</td>\n",
       "      <td>NaN</td>\n",
       "      <td>NaN</td>\n",
       "      <td>2019-05-03 13:12:56</td>\n",
       "      <td>NaN</td>\n",
       "      <td>2019-05-03 13:12:56</td>\n",
       "      <td>2019-05-03 13:12:56</td>\n",
       "    </tr>\n",
       "    <tr>\n",
       "      <td>...</td>\n",
       "      <td>...</td>\n",
       "      <td>...</td>\n",
       "      <td>...</td>\n",
       "      <td>...</td>\n",
       "      <td>...</td>\n",
       "      <td>...</td>\n",
       "      <td>...</td>\n",
       "      <td>...</td>\n",
       "      <td>...</td>\n",
       "      <td>...</td>\n",
       "      <td>...</td>\n",
       "      <td>...</td>\n",
       "      <td>...</td>\n",
       "      <td>...</td>\n",
       "      <td>...</td>\n",
       "      <td>...</td>\n",
       "    </tr>\n",
       "    <tr>\n",
       "      <td>3124</td>\n",
       "      <td>3237</td>\n",
       "      <td>NaN</td>\n",
       "      <td>NaN</td>\n",
       "      <td>2019-08-31 22:51:28</td>\n",
       "      <td>NaN</td>\n",
       "      <td>NaN</td>\n",
       "      <td>NaN</td>\n",
       "      <td>NaN</td>\n",
       "      <td>NaN</td>\n",
       "      <td>NaN</td>\n",
       "      <td>NaN</td>\n",
       "      <td>NaN</td>\n",
       "      <td>2019-08-31 22:46:52</td>\n",
       "      <td>NaN</td>\n",
       "      <td>2019-08-31 22:46:52</td>\n",
       "      <td>2019-08-31 22:46:52</td>\n",
       "    </tr>\n",
       "    <tr>\n",
       "      <td>3125</td>\n",
       "      <td>3238</td>\n",
       "      <td>NaN</td>\n",
       "      <td>NaN</td>\n",
       "      <td>2019-08-31 23:39:11</td>\n",
       "      <td>NaN</td>\n",
       "      <td>NaN</td>\n",
       "      <td>NaN</td>\n",
       "      <td>NaN</td>\n",
       "      <td>NaN</td>\n",
       "      <td>NaN</td>\n",
       "      <td>NaN</td>\n",
       "      <td>NaN</td>\n",
       "      <td>2019-08-31 23:33:09</td>\n",
       "      <td>NaN</td>\n",
       "      <td>2019-08-31 23:33:09</td>\n",
       "      <td>2019-08-31 23:33:09</td>\n",
       "    </tr>\n",
       "    <tr>\n",
       "      <td>3126</td>\n",
       "      <td>3239</td>\n",
       "      <td>NaN</td>\n",
       "      <td>NaN</td>\n",
       "      <td>NaN</td>\n",
       "      <td>NaN</td>\n",
       "      <td>NaN</td>\n",
       "      <td>2019-09-01 01:51:58</td>\n",
       "      <td>NaN</td>\n",
       "      <td>NaN</td>\n",
       "      <td>NaN</td>\n",
       "      <td>NaN</td>\n",
       "      <td>NaN</td>\n",
       "      <td>2019-09-01 01:39:41</td>\n",
       "      <td>NaN</td>\n",
       "      <td>2019-09-01 01:33:25</td>\n",
       "      <td>2019-09-01 01:33:25</td>\n",
       "    </tr>\n",
       "    <tr>\n",
       "      <td>3127</td>\n",
       "      <td>3240</td>\n",
       "      <td>NaN</td>\n",
       "      <td>NaN</td>\n",
       "      <td>NaN</td>\n",
       "      <td>NaN</td>\n",
       "      <td>NaN</td>\n",
       "      <td>2019-09-01 03:12:40</td>\n",
       "      <td>NaN</td>\n",
       "      <td>NaN</td>\n",
       "      <td>NaN</td>\n",
       "      <td>NaN</td>\n",
       "      <td>NaN</td>\n",
       "      <td>NaN</td>\n",
       "      <td>NaN</td>\n",
       "      <td>2019-09-01 02:41:27</td>\n",
       "      <td>2019-09-01 02:41:27</td>\n",
       "    </tr>\n",
       "    <tr>\n",
       "      <td>3128</td>\n",
       "      <td>3241</td>\n",
       "      <td>NaN</td>\n",
       "      <td>NaN</td>\n",
       "      <td>NaN</td>\n",
       "      <td>NaN</td>\n",
       "      <td>NaN</td>\n",
       "      <td>NaN</td>\n",
       "      <td>NaN</td>\n",
       "      <td>NaN</td>\n",
       "      <td>NaN</td>\n",
       "      <td>NaN</td>\n",
       "      <td>NaN</td>\n",
       "      <td>NaN</td>\n",
       "      <td>NaN</td>\n",
       "      <td>2019-09-01 04:05:34</td>\n",
       "      <td>2019-09-01 04:05:34</td>\n",
       "    </tr>\n",
       "  </tbody>\n",
       "</table>\n",
       "<p>3129 rows × 16 columns</p>\n",
       "</div>"
      ],
      "text/plain": [
       "       key Bulk 1 Bulk 2               Bulk 3               Bulk 4 Bulk 5  \\\n",
       "0        1    NaN    NaN                  NaN  2019-05-03 11:21:30    NaN   \n",
       "1        2    NaN    NaN                  NaN  2019-05-03 11:46:38    NaN   \n",
       "2        3    NaN    NaN                  NaN  2019-05-03 12:31:06    NaN   \n",
       "3        4    NaN    NaN                  NaN  2019-05-03 12:48:43    NaN   \n",
       "4        5    NaN    NaN                  NaN  2019-05-03 13:18:50    NaN   \n",
       "...    ...    ...    ...                  ...                  ...    ...   \n",
       "3124  3237    NaN    NaN  2019-08-31 22:51:28                  NaN    NaN   \n",
       "3125  3238    NaN    NaN  2019-08-31 23:39:11                  NaN    NaN   \n",
       "3126  3239    NaN    NaN                  NaN                  NaN    NaN   \n",
       "3127  3240    NaN    NaN                  NaN                  NaN    NaN   \n",
       "3128  3241    NaN    NaN                  NaN                  NaN    NaN   \n",
       "\n",
       "                   Bulk 6 Bulk 7 Bulk 8 Bulk 9 Bulk 10 Bulk 11  \\\n",
       "0                     NaN    NaN    NaN    NaN     NaN     NaN   \n",
       "1                     NaN    NaN    NaN    NaN     NaN     NaN   \n",
       "2                     NaN    NaN    NaN    NaN     NaN     NaN   \n",
       "3                     NaN    NaN    NaN    NaN     NaN     NaN   \n",
       "4                     NaN    NaN    NaN    NaN     NaN     NaN   \n",
       "...                   ...    ...    ...    ...     ...     ...   \n",
       "3124                  NaN    NaN    NaN    NaN     NaN     NaN   \n",
       "3125                  NaN    NaN    NaN    NaN     NaN     NaN   \n",
       "3126  2019-09-01 01:51:58    NaN    NaN    NaN     NaN     NaN   \n",
       "3127  2019-09-01 03:12:40    NaN    NaN    NaN     NaN     NaN   \n",
       "3128                  NaN    NaN    NaN    NaN     NaN     NaN   \n",
       "\n",
       "                  Bulk 12 Bulk 13              Bulk 14              Bulk 15  \n",
       "0     2019-05-03 11:03:52     NaN  2019-05-03 11:03:52  2019-05-03 11:03:52  \n",
       "1     2019-05-03 11:40:20     NaN  2019-05-03 11:40:20  2019-05-03 11:40:20  \n",
       "2     2019-05-03 12:09:40     NaN  2019-05-03 12:09:40  2019-05-03 12:09:40  \n",
       "3     2019-05-03 12:41:24     NaN  2019-05-03 12:41:24  2019-05-03 12:41:24  \n",
       "4     2019-05-03 13:12:56     NaN  2019-05-03 13:12:56  2019-05-03 13:12:56  \n",
       "...                   ...     ...                  ...                  ...  \n",
       "3124  2019-08-31 22:46:52     NaN  2019-08-31 22:46:52  2019-08-31 22:46:52  \n",
       "3125  2019-08-31 23:33:09     NaN  2019-08-31 23:33:09  2019-08-31 23:33:09  \n",
       "3126  2019-09-01 01:39:41     NaN  2019-09-01 01:33:25  2019-09-01 01:33:25  \n",
       "3127                  NaN     NaN  2019-09-01 02:41:27  2019-09-01 02:41:27  \n",
       "3128                  NaN     NaN  2019-09-01 04:05:34  2019-09-01 04:05:34  \n",
       "\n",
       "[3129 rows x 16 columns]"
      ]
     },
     "execution_count": 21,
     "metadata": {},
     "output_type": "execute_result"
    }
   ],
   "source": [
    "#вывод данных\n",
    "data_bulk_time"
   ]
  },
  {
   "cell_type": "markdown",
   "metadata": {},
   "source": [
    "В данной таблице указана дата и время добавления примеси, что не влияет на температуры смеси, поэтму эти данные можно исклбючить из рассмотрения при построении предсказательной модели. "
   ]
  },
  {
   "cell_type": "code",
   "execution_count": 22,
   "metadata": {},
   "outputs": [
    {
     "data": {
      "text/html": [
       "<div>\n",
       "<style scoped>\n",
       "    .dataframe tbody tr th:only-of-type {\n",
       "        vertical-align: middle;\n",
       "    }\n",
       "\n",
       "    .dataframe tbody tr th {\n",
       "        vertical-align: top;\n",
       "    }\n",
       "\n",
       "    .dataframe thead th {\n",
       "        text-align: right;\n",
       "    }\n",
       "</style>\n",
       "<table border=\"1\" class=\"dataframe\">\n",
       "  <thead>\n",
       "    <tr style=\"text-align: right;\">\n",
       "      <th></th>\n",
       "      <th>key</th>\n",
       "      <th>Wire 1</th>\n",
       "      <th>Wire 2</th>\n",
       "      <th>Wire 3</th>\n",
       "      <th>Wire 4</th>\n",
       "      <th>Wire 5</th>\n",
       "      <th>Wire 6</th>\n",
       "      <th>Wire 7</th>\n",
       "      <th>Wire 8</th>\n",
       "      <th>Wire 9</th>\n",
       "    </tr>\n",
       "  </thead>\n",
       "  <tbody>\n",
       "    <tr>\n",
       "      <td>0</td>\n",
       "      <td>1</td>\n",
       "      <td>2019-05-03 11:11:41</td>\n",
       "      <td>NaN</td>\n",
       "      <td>NaN</td>\n",
       "      <td>NaN</td>\n",
       "      <td>NaN</td>\n",
       "      <td>NaN</td>\n",
       "      <td>NaN</td>\n",
       "      <td>NaN</td>\n",
       "      <td>NaN</td>\n",
       "    </tr>\n",
       "    <tr>\n",
       "      <td>1</td>\n",
       "      <td>2</td>\n",
       "      <td>2019-05-03 11:46:10</td>\n",
       "      <td>NaN</td>\n",
       "      <td>NaN</td>\n",
       "      <td>NaN</td>\n",
       "      <td>NaN</td>\n",
       "      <td>NaN</td>\n",
       "      <td>NaN</td>\n",
       "      <td>NaN</td>\n",
       "      <td>NaN</td>\n",
       "    </tr>\n",
       "    <tr>\n",
       "      <td>2</td>\n",
       "      <td>3</td>\n",
       "      <td>2019-05-03 12:13:47</td>\n",
       "      <td>NaN</td>\n",
       "      <td>NaN</td>\n",
       "      <td>NaN</td>\n",
       "      <td>NaN</td>\n",
       "      <td>NaN</td>\n",
       "      <td>NaN</td>\n",
       "      <td>NaN</td>\n",
       "      <td>NaN</td>\n",
       "    </tr>\n",
       "    <tr>\n",
       "      <td>3</td>\n",
       "      <td>4</td>\n",
       "      <td>2019-05-03 12:48:05</td>\n",
       "      <td>NaN</td>\n",
       "      <td>NaN</td>\n",
       "      <td>NaN</td>\n",
       "      <td>NaN</td>\n",
       "      <td>NaN</td>\n",
       "      <td>NaN</td>\n",
       "      <td>NaN</td>\n",
       "      <td>NaN</td>\n",
       "    </tr>\n",
       "    <tr>\n",
       "      <td>4</td>\n",
       "      <td>5</td>\n",
       "      <td>2019-05-03 13:18:15</td>\n",
       "      <td>2019-05-03 13:32:06</td>\n",
       "      <td>NaN</td>\n",
       "      <td>NaN</td>\n",
       "      <td>NaN</td>\n",
       "      <td>NaN</td>\n",
       "      <td>NaN</td>\n",
       "      <td>NaN</td>\n",
       "      <td>NaN</td>\n",
       "    </tr>\n",
       "    <tr>\n",
       "      <td>...</td>\n",
       "      <td>...</td>\n",
       "      <td>...</td>\n",
       "      <td>...</td>\n",
       "      <td>...</td>\n",
       "      <td>...</td>\n",
       "      <td>...</td>\n",
       "      <td>...</td>\n",
       "      <td>...</td>\n",
       "      <td>...</td>\n",
       "      <td>...</td>\n",
       "    </tr>\n",
       "    <tr>\n",
       "      <td>3076</td>\n",
       "      <td>3237</td>\n",
       "      <td>2019-08-31 22:50:20</td>\n",
       "      <td>NaN</td>\n",
       "      <td>NaN</td>\n",
       "      <td>NaN</td>\n",
       "      <td>NaN</td>\n",
       "      <td>NaN</td>\n",
       "      <td>NaN</td>\n",
       "      <td>NaN</td>\n",
       "      <td>NaN</td>\n",
       "    </tr>\n",
       "    <tr>\n",
       "      <td>3077</td>\n",
       "      <td>3238</td>\n",
       "      <td>2019-08-31 23:38:24</td>\n",
       "      <td>NaN</td>\n",
       "      <td>NaN</td>\n",
       "      <td>NaN</td>\n",
       "      <td>NaN</td>\n",
       "      <td>NaN</td>\n",
       "      <td>NaN</td>\n",
       "      <td>NaN</td>\n",
       "      <td>NaN</td>\n",
       "    </tr>\n",
       "    <tr>\n",
       "      <td>3078</td>\n",
       "      <td>3239</td>\n",
       "      <td>2019-09-01 01:50:43</td>\n",
       "      <td>NaN</td>\n",
       "      <td>NaN</td>\n",
       "      <td>NaN</td>\n",
       "      <td>NaN</td>\n",
       "      <td>NaN</td>\n",
       "      <td>NaN</td>\n",
       "      <td>NaN</td>\n",
       "      <td>NaN</td>\n",
       "    </tr>\n",
       "    <tr>\n",
       "      <td>3079</td>\n",
       "      <td>3240</td>\n",
       "      <td>2019-09-01 03:12:02</td>\n",
       "      <td>NaN</td>\n",
       "      <td>NaN</td>\n",
       "      <td>NaN</td>\n",
       "      <td>NaN</td>\n",
       "      <td>NaN</td>\n",
       "      <td>NaN</td>\n",
       "      <td>NaN</td>\n",
       "      <td>NaN</td>\n",
       "    </tr>\n",
       "    <tr>\n",
       "      <td>3080</td>\n",
       "      <td>3241</td>\n",
       "      <td>2019-09-01 04:16:01</td>\n",
       "      <td>NaN</td>\n",
       "      <td>NaN</td>\n",
       "      <td>NaN</td>\n",
       "      <td>NaN</td>\n",
       "      <td>NaN</td>\n",
       "      <td>NaN</td>\n",
       "      <td>NaN</td>\n",
       "      <td>NaN</td>\n",
       "    </tr>\n",
       "  </tbody>\n",
       "</table>\n",
       "<p>3081 rows × 10 columns</p>\n",
       "</div>"
      ],
      "text/plain": [
       "       key               Wire 1               Wire 2 Wire 3 Wire 4 Wire 5  \\\n",
       "0        1  2019-05-03 11:11:41                  NaN    NaN    NaN    NaN   \n",
       "1        2  2019-05-03 11:46:10                  NaN    NaN    NaN    NaN   \n",
       "2        3  2019-05-03 12:13:47                  NaN    NaN    NaN    NaN   \n",
       "3        4  2019-05-03 12:48:05                  NaN    NaN    NaN    NaN   \n",
       "4        5  2019-05-03 13:18:15  2019-05-03 13:32:06    NaN    NaN    NaN   \n",
       "...    ...                  ...                  ...    ...    ...    ...   \n",
       "3076  3237  2019-08-31 22:50:20                  NaN    NaN    NaN    NaN   \n",
       "3077  3238  2019-08-31 23:38:24                  NaN    NaN    NaN    NaN   \n",
       "3078  3239  2019-09-01 01:50:43                  NaN    NaN    NaN    NaN   \n",
       "3079  3240  2019-09-01 03:12:02                  NaN    NaN    NaN    NaN   \n",
       "3080  3241  2019-09-01 04:16:01                  NaN    NaN    NaN    NaN   \n",
       "\n",
       "     Wire 6 Wire 7 Wire 8 Wire 9  \n",
       "0       NaN    NaN    NaN    NaN  \n",
       "1       NaN    NaN    NaN    NaN  \n",
       "2       NaN    NaN    NaN    NaN  \n",
       "3       NaN    NaN    NaN    NaN  \n",
       "4       NaN    NaN    NaN    NaN  \n",
       "...     ...    ...    ...    ...  \n",
       "3076    NaN    NaN    NaN    NaN  \n",
       "3077    NaN    NaN    NaN    NaN  \n",
       "3078    NaN    NaN    NaN    NaN  \n",
       "3079    NaN    NaN    NaN    NaN  \n",
       "3080    NaN    NaN    NaN    NaN  \n",
       "\n",
       "[3081 rows x 10 columns]"
      ]
     },
     "execution_count": 22,
     "metadata": {},
     "output_type": "execute_result"
    }
   ],
   "source": [
    "#вывод данных\n",
    "data_wire_time"
   ]
  },
  {
   "cell_type": "markdown",
   "metadata": {},
   "source": [
    "В данной таблице указана дата и время добавления примеси, что не влияет на температуры смеси, поэтму эти данные можно исключить из рассмотрения при построении предсказательной модели. "
   ]
  },
  {
   "cell_type": "code",
   "execution_count": 23,
   "metadata": {},
   "outputs": [],
   "source": [
    "#вывод данных\n",
    "data_temp2 = data_temp.copy(deep = True)"
   ]
  },
  {
   "cell_type": "markdown",
   "metadata": {},
   "source": [
    "Как видно из данных замеры температуры проводились несколько раз в течение всего процесса выплавки. Поскольку ненобходимо предсказывать температуры, то удалим все строки с пропусками, а отрицательные значения температуры заменим на средние значения. "
   ]
  },
  {
   "cell_type": "code",
   "execution_count": 24,
   "metadata": {
    "scrolled": false
   },
   "outputs": [
    {
     "name": "stdout",
     "output_type": "stream",
     "text": [
      "Число данных с отрицательной температурой 0\n"
     ]
    },
    {
     "data": {
      "text/html": [
       "<div>\n",
       "<style scoped>\n",
       "    .dataframe tbody tr th:only-of-type {\n",
       "        vertical-align: middle;\n",
       "    }\n",
       "\n",
       "    .dataframe tbody tr th {\n",
       "        vertical-align: top;\n",
       "    }\n",
       "\n",
       "    .dataframe thead th {\n",
       "        text-align: right;\n",
       "    }\n",
       "</style>\n",
       "<table border=\"1\" class=\"dataframe\">\n",
       "  <thead>\n",
       "    <tr style=\"text-align: right;\">\n",
       "      <th></th>\n",
       "      <th>key</th>\n",
       "      <th>Время замера</th>\n",
       "      <th>Температура</th>\n",
       "    </tr>\n",
       "  </thead>\n",
       "  <tbody>\n",
       "    <tr>\n",
       "      <td>0</td>\n",
       "      <td>1</td>\n",
       "      <td>2019-05-03 11:16:18</td>\n",
       "      <td>1571.0</td>\n",
       "    </tr>\n",
       "    <tr>\n",
       "      <td>1</td>\n",
       "      <td>1</td>\n",
       "      <td>2019-05-03 11:25:53</td>\n",
       "      <td>1604.0</td>\n",
       "    </tr>\n",
       "    <tr>\n",
       "      <td>2</td>\n",
       "      <td>1</td>\n",
       "      <td>2019-05-03 11:29:11</td>\n",
       "      <td>1618.0</td>\n",
       "    </tr>\n",
       "    <tr>\n",
       "      <td>3</td>\n",
       "      <td>1</td>\n",
       "      <td>2019-05-03 11:30:01</td>\n",
       "      <td>1601.0</td>\n",
       "    </tr>\n",
       "    <tr>\n",
       "      <td>4</td>\n",
       "      <td>1</td>\n",
       "      <td>2019-05-03 11:30:39</td>\n",
       "      <td>1613.0</td>\n",
       "    </tr>\n",
       "    <tr>\n",
       "      <td>...</td>\n",
       "      <td>...</td>\n",
       "      <td>...</td>\n",
       "      <td>...</td>\n",
       "    </tr>\n",
       "    <tr>\n",
       "      <td>13001</td>\n",
       "      <td>3237</td>\n",
       "      <td>2019-08-31 22:44:04</td>\n",
       "      <td>1569.0</td>\n",
       "    </tr>\n",
       "    <tr>\n",
       "      <td>13002</td>\n",
       "      <td>3238</td>\n",
       "      <td>2019-08-31 23:30:31</td>\n",
       "      <td>1584.0</td>\n",
       "    </tr>\n",
       "    <tr>\n",
       "      <td>13003</td>\n",
       "      <td>3239</td>\n",
       "      <td>2019-09-01 01:31:47</td>\n",
       "      <td>1598.0</td>\n",
       "    </tr>\n",
       "    <tr>\n",
       "      <td>13004</td>\n",
       "      <td>3240</td>\n",
       "      <td>2019-09-01 02:39:01</td>\n",
       "      <td>1617.0</td>\n",
       "    </tr>\n",
       "    <tr>\n",
       "      <td>13005</td>\n",
       "      <td>3241</td>\n",
       "      <td>2019-09-01 04:03:30</td>\n",
       "      <td>1586.0</td>\n",
       "    </tr>\n",
       "  </tbody>\n",
       "</table>\n",
       "<p>13006 rows × 3 columns</p>\n",
       "</div>"
      ],
      "text/plain": [
       "        key         Время замера  Температура\n",
       "0         1  2019-05-03 11:16:18       1571.0\n",
       "1         1  2019-05-03 11:25:53       1604.0\n",
       "2         1  2019-05-03 11:29:11       1618.0\n",
       "3         1  2019-05-03 11:30:01       1601.0\n",
       "4         1  2019-05-03 11:30:39       1613.0\n",
       "...     ...                  ...          ...\n",
       "13001  3237  2019-08-31 22:44:04       1569.0\n",
       "13002  3238  2019-08-31 23:30:31       1584.0\n",
       "13003  3239  2019-09-01 01:31:47       1598.0\n",
       "13004  3240  2019-09-01 02:39:01       1617.0\n",
       "13005  3241  2019-09-01 04:03:30       1586.0\n",
       "\n",
       "[13006 rows x 3 columns]"
      ]
     },
     "execution_count": 24,
     "metadata": {},
     "output_type": "execute_result"
    }
   ],
   "source": [
    "#удаление пропусков \n",
    "data_temp2 = data_temp2.dropna(axis = 0).reset_index(drop = True)\n",
    "\n",
    "#поиск отрицательныцх температур\n",
    "print('Число данных с отрицательной температурой', len(data_temp2.loc[data_temp2.loc[:,'Температура'] < 0]))\n",
    "\n",
    "#вывод обновленного датасета\n",
    "data_temp2"
   ]
  },
  {
   "cell_type": "code",
   "execution_count": 25,
   "metadata": {},
   "outputs": [],
   "source": [
    "#создание коппи датасета с копией data_gas\n",
    "data_gas2 = data_gas.copy(deep = True)"
   ]
  },
  {
   "cell_type": "markdown",
   "metadata": {},
   "source": [
    "***Поиск аномальных значений параметров***"
   ]
  },
  {
   "cell_type": "markdown",
   "metadata": {},
   "source": [
    "При обработке данных необходимо учитывать, что значения данных не могут быть отрицательными. Поэтому проведем поиск отрицательных значений и удалим их. "
   ]
  },
  {
   "cell_type": "code",
   "execution_count": 26,
   "metadata": {},
   "outputs": [
    {
     "name": "stdout",
     "output_type": "stream",
     "text": [
      "<class 'pandas.core.frame.DataFrame'>\n",
      "RangeIndex: 14876 entries, 0 to 14875\n",
      "Data columns (total 5 columns):\n",
      "key                     14876 non-null int64\n",
      "Начало нагрева дугой    14876 non-null object\n",
      "Конец нагрева дугой     14876 non-null object\n",
      "Активная мощность       14876 non-null float64\n",
      "Реактивная мощность     14876 non-null float64\n",
      "dtypes: float64(2), int64(1), object(2)\n",
      "memory usage: 581.2+ KB\n"
     ]
    }
   ],
   "source": [
    "#создание копии датасета\n",
    "data_arc2 = data_arc.copy(deep = True)\n",
    "\n",
    "data_arc2.info()"
   ]
  },
  {
   "cell_type": "code",
   "execution_count": 27,
   "metadata": {},
   "outputs": [],
   "source": [
    "data_arc2 = data_arc2.loc[(data_arc2.loc[:,'Активная мощность'] > 0) &\\\n",
    "                          (data_arc2.loc[:,'Реактивная мощность'] > 0)]"
   ]
  },
  {
   "cell_type": "code",
   "execution_count": 28,
   "metadata": {},
   "outputs": [
    {
     "name": "stdout",
     "output_type": "stream",
     "text": [
      "<class 'pandas.core.frame.DataFrame'>\n",
      "Int64Index: 14875 entries, 0 to 14875\n",
      "Data columns (total 5 columns):\n",
      "key                     14875 non-null int64\n",
      "Начало нагрева дугой    14875 non-null object\n",
      "Конец нагрева дугой     14875 non-null object\n",
      "Активная мощность       14875 non-null float64\n",
      "Реактивная мощность     14875 non-null float64\n",
      "dtypes: float64(2), int64(1), object(2)\n",
      "memory usage: 697.3+ KB\n"
     ]
    }
   ],
   "source": [
    "data_arc2.info()"
   ]
  },
  {
   "cell_type": "markdown",
   "metadata": {},
   "source": [
    "В датасете было лишь одно отрицательное значение."
   ]
  },
  {
   "cell_type": "markdown",
   "metadata": {},
   "source": [
    "###  Подготовка данных для обучения"
   ]
  },
  {
   "cell_type": "markdown",
   "metadata": {},
   "source": [
    "#### Выделение признаков и целевого признака"
   ]
  },
  {
   "cell_type": "markdown",
   "metadata": {},
   "source": [
    "Для построения предсказательной модели ненобходимо отобрать признаки и целевой признак. \n",
    "Целевой признак - последний замер температуры в датасете `data_temp`. При этом количество записей температуры должно быть не меньше двух: начальная температура партии и конечная температура партии (целевой признак)."
   ]
  },
  {
   "cell_type": "markdown",
   "metadata": {},
   "source": [
    "При отборе признаков будем учитывать, что некоторые из них могут быть избыточными и будут ухудшать значения целевой метрики. Поэтому более детально проанализируем датасеты с целью создания признаков. "
   ]
  },
  {
   "cell_type": "markdown",
   "metadata": {},
   "source": [
    "При построении предсказательной модели, не будем использовать взаимосвязь между временами введения примесей, временами продувки газа и конкретными временами начала и конца нагрева. Это обусловлено тем, что в ходе выплавления стали протекают различные физико-химические процессы, имеющие сложную взаимосвязь друг с другом, и зависящие от скорости введения добавок, их объема и равномерности введения в расплав, времени нагрева и скорости нагрева, зависящей как от объема материала, так и от его физико-химических свойств. Т.е. мы отказываемся от учета кинетики процесса, и будем строить предсказательную модель опирающуюся на интегральные показатели: объемы вводимых добавок и суммарную затрачиваемую энергию. "
   ]
  },
  {
   "cell_type": "markdown",
   "metadata": {},
   "source": [
    "В свзяи с вышесказанным из показаний температуры мы оставим только начальную и конечные температуры и суммарную затрачиваемую энергию."
   ]
  },
  {
   "cell_type": "markdown",
   "metadata": {},
   "source": [
    "#### Суммарная затрачиваемая энергия"
   ]
  },
  {
   "cell_type": "markdown",
   "metadata": {},
   "source": [
    "Полная мощность $P$ рассчитывается из активной $P_{a}$ и реактивной мощностей $P_{r}$, приведенных в таблице `data_arc` как:  \n",
    "\n",
    "$$P = \\sqrt(P_{a} + P_{r})$$\n",
    "\n",
    "Суммарная затрачиваемая энергия $E$ рассчитывается из $P$ следующим образом:\n",
    "\n",
    "$$E = \\sum_{i}(E_{i}) = \\sum_{i}(Pt_{i}),$$\n",
    "\n",
    "где $E_{i}$ - энергия, затрачиваемая на один цикл нагрева, $t_{i}$ время одного цикла нагрева, $i$ - номер цикла нагрева."
   ]
  },
  {
   "cell_type": "markdown",
   "metadata": {},
   "source": [
    "Для расчета полной затрачиваемой энергии, преобразуем временной тип данных в `data_arc` и рассчитаем длительность интервалов нагрева."
   ]
  },
  {
   "cell_type": "code",
   "execution_count": 29,
   "metadata": {},
   "outputs": [
    {
     "name": "stdout",
     "output_type": "stream",
     "text": [
      "<class 'pandas.core.frame.DataFrame'>\n",
      "Int64Index: 14875 entries, 0 to 14875\n",
      "Data columns (total 5 columns):\n",
      "key                     14875 non-null int64\n",
      "Начало нагрева дугой    14875 non-null datetime64[ns]\n",
      "Конец нагрева дугой     14875 non-null datetime64[ns]\n",
      "Активная мощность       14875 non-null float64\n",
      "Реактивная мощность     14875 non-null float64\n",
      "dtypes: datetime64[ns](2), float64(2), int64(1)\n",
      "memory usage: 697.3 KB\n"
     ]
    }
   ],
   "source": [
    "#преобразование типа данных\n",
    "data_arc2['Начало нагрева дугой'] = data_arc2['Начало нагрева дугой'].astype('datetime64[ns]')\n",
    "data_arc2['Конец нагрева дугой'] = data_arc2['Конец нагрева дугой'].astype('datetime64[ns]')\n",
    "\n",
    "#проверка конвертации\n",
    "data_arc2.info()"
   ]
  },
  {
   "cell_type": "code",
   "execution_count": 30,
   "metadata": {
    "scrolled": false
   },
   "outputs": [
    {
     "data": {
      "text/html": [
       "<div>\n",
       "<style scoped>\n",
       "    .dataframe tbody tr th:only-of-type {\n",
       "        vertical-align: middle;\n",
       "    }\n",
       "\n",
       "    .dataframe tbody tr th {\n",
       "        vertical-align: top;\n",
       "    }\n",
       "\n",
       "    .dataframe thead th {\n",
       "        text-align: right;\n",
       "    }\n",
       "</style>\n",
       "<table border=\"1\" class=\"dataframe\">\n",
       "  <thead>\n",
       "    <tr style=\"text-align: right;\">\n",
       "      <th></th>\n",
       "      <th>key</th>\n",
       "      <th>Начало нагрева дугой</th>\n",
       "      <th>Конец нагрева дугой</th>\n",
       "      <th>Активная мощность</th>\n",
       "      <th>Реактивная мощность</th>\n",
       "      <th>heat_time</th>\n",
       "      <th>heat_time_sec</th>\n",
       "    </tr>\n",
       "  </thead>\n",
       "  <tbody>\n",
       "    <tr>\n",
       "      <td>0</td>\n",
       "      <td>1</td>\n",
       "      <td>2019-05-03 11:02:14</td>\n",
       "      <td>2019-05-03 11:06:02</td>\n",
       "      <td>0.976059</td>\n",
       "      <td>0.687084</td>\n",
       "      <td>00:03:48</td>\n",
       "      <td>228.0</td>\n",
       "    </tr>\n",
       "    <tr>\n",
       "      <td>1</td>\n",
       "      <td>1</td>\n",
       "      <td>2019-05-03 11:07:28</td>\n",
       "      <td>2019-05-03 11:10:33</td>\n",
       "      <td>0.805607</td>\n",
       "      <td>0.520285</td>\n",
       "      <td>00:03:05</td>\n",
       "      <td>185.0</td>\n",
       "    </tr>\n",
       "    <tr>\n",
       "      <td>2</td>\n",
       "      <td>1</td>\n",
       "      <td>2019-05-03 11:11:44</td>\n",
       "      <td>2019-05-03 11:14:36</td>\n",
       "      <td>0.744363</td>\n",
       "      <td>0.498805</td>\n",
       "      <td>00:02:52</td>\n",
       "      <td>172.0</td>\n",
       "    </tr>\n",
       "    <tr>\n",
       "      <td>3</td>\n",
       "      <td>1</td>\n",
       "      <td>2019-05-03 11:18:14</td>\n",
       "      <td>2019-05-03 11:24:19</td>\n",
       "      <td>1.659363</td>\n",
       "      <td>1.062669</td>\n",
       "      <td>00:06:05</td>\n",
       "      <td>365.0</td>\n",
       "    </tr>\n",
       "    <tr>\n",
       "      <td>4</td>\n",
       "      <td>1</td>\n",
       "      <td>2019-05-03 11:26:09</td>\n",
       "      <td>2019-05-03 11:28:37</td>\n",
       "      <td>0.692755</td>\n",
       "      <td>0.414397</td>\n",
       "      <td>00:02:28</td>\n",
       "      <td>148.0</td>\n",
       "    </tr>\n",
       "    <tr>\n",
       "      <td>...</td>\n",
       "      <td>...</td>\n",
       "      <td>...</td>\n",
       "      <td>...</td>\n",
       "      <td>...</td>\n",
       "      <td>...</td>\n",
       "      <td>...</td>\n",
       "      <td>...</td>\n",
       "    </tr>\n",
       "    <tr>\n",
       "      <td>14871</td>\n",
       "      <td>3241</td>\n",
       "      <td>2019-09-01 03:58:58</td>\n",
       "      <td>2019-09-01 04:01:35</td>\n",
       "      <td>0.533670</td>\n",
       "      <td>0.354439</td>\n",
       "      <td>00:02:37</td>\n",
       "      <td>157.0</td>\n",
       "    </tr>\n",
       "    <tr>\n",
       "      <td>14872</td>\n",
       "      <td>3241</td>\n",
       "      <td>2019-09-01 04:05:04</td>\n",
       "      <td>2019-09-01 04:08:04</td>\n",
       "      <td>0.676604</td>\n",
       "      <td>0.523631</td>\n",
       "      <td>00:03:00</td>\n",
       "      <td>180.0</td>\n",
       "    </tr>\n",
       "    <tr>\n",
       "      <td>14873</td>\n",
       "      <td>3241</td>\n",
       "      <td>2019-09-01 04:16:41</td>\n",
       "      <td>2019-09-01 04:19:45</td>\n",
       "      <td>0.733899</td>\n",
       "      <td>0.475654</td>\n",
       "      <td>00:03:04</td>\n",
       "      <td>184.0</td>\n",
       "    </tr>\n",
       "    <tr>\n",
       "      <td>14874</td>\n",
       "      <td>3241</td>\n",
       "      <td>2019-09-01 04:31:51</td>\n",
       "      <td>2019-09-01 04:32:48</td>\n",
       "      <td>0.220694</td>\n",
       "      <td>0.145768</td>\n",
       "      <td>00:00:57</td>\n",
       "      <td>57.0</td>\n",
       "    </tr>\n",
       "    <tr>\n",
       "      <td>14875</td>\n",
       "      <td>3241</td>\n",
       "      <td>2019-09-01 04:34:47</td>\n",
       "      <td>2019-09-01 04:36:08</td>\n",
       "      <td>0.306580</td>\n",
       "      <td>0.196708</td>\n",
       "      <td>00:01:21</td>\n",
       "      <td>81.0</td>\n",
       "    </tr>\n",
       "  </tbody>\n",
       "</table>\n",
       "<p>14875 rows × 7 columns</p>\n",
       "</div>"
      ],
      "text/plain": [
       "        key Начало нагрева дугой Конец нагрева дугой  Активная мощность  \\\n",
       "0         1  2019-05-03 11:02:14 2019-05-03 11:06:02           0.976059   \n",
       "1         1  2019-05-03 11:07:28 2019-05-03 11:10:33           0.805607   \n",
       "2         1  2019-05-03 11:11:44 2019-05-03 11:14:36           0.744363   \n",
       "3         1  2019-05-03 11:18:14 2019-05-03 11:24:19           1.659363   \n",
       "4         1  2019-05-03 11:26:09 2019-05-03 11:28:37           0.692755   \n",
       "...     ...                  ...                 ...                ...   \n",
       "14871  3241  2019-09-01 03:58:58 2019-09-01 04:01:35           0.533670   \n",
       "14872  3241  2019-09-01 04:05:04 2019-09-01 04:08:04           0.676604   \n",
       "14873  3241  2019-09-01 04:16:41 2019-09-01 04:19:45           0.733899   \n",
       "14874  3241  2019-09-01 04:31:51 2019-09-01 04:32:48           0.220694   \n",
       "14875  3241  2019-09-01 04:34:47 2019-09-01 04:36:08           0.306580   \n",
       "\n",
       "       Реактивная мощность heat_time  heat_time_sec  \n",
       "0                 0.687084  00:03:48          228.0  \n",
       "1                 0.520285  00:03:05          185.0  \n",
       "2                 0.498805  00:02:52          172.0  \n",
       "3                 1.062669  00:06:05          365.0  \n",
       "4                 0.414397  00:02:28          148.0  \n",
       "...                    ...       ...            ...  \n",
       "14871             0.354439  00:02:37          157.0  \n",
       "14872             0.523631  00:03:00          180.0  \n",
       "14873             0.475654  00:03:04          184.0  \n",
       "14874             0.145768  00:00:57           57.0  \n",
       "14875             0.196708  00:01:21           81.0  \n",
       "\n",
       "[14875 rows x 7 columns]"
      ]
     },
     "execution_count": 30,
     "metadata": {},
     "output_type": "execute_result"
    }
   ],
   "source": [
    "#вычисление времени нагрева и времени нагрева в секундах\n",
    "data_arc2['heat_time'] = data_arc2['Конец нагрева дугой'] - data_arc2['Начало нагрева дугой']\n",
    "data_arc2['heat_time_sec'] = (data_arc2['Конец нагрева дугой'] - data_arc2['Начало нагрева дугой']).\\\n",
    "                        dt.total_seconds()\n",
    "\n",
    "#проверка расчета\n",
    "data_arc2"
   ]
  },
  {
   "cell_type": "code",
   "execution_count": 31,
   "metadata": {},
   "outputs": [],
   "source": [
    "#расчет полной энергии затрачиваемой в одном цикле нагрева\n",
    "data_arc2['E_i'] = data_arc2['heat_time_sec'] * \\\n",
    "                  np.sqrt(data_arc['Активная мощность']**2 + data_arc['Реактивная мощность']**2)\n",
    "\n",
    "#расчет полной активной  и реактивной энергий затрачиваемой в одном цикле нагрева\n",
    "data_arc2['E_ia'] = data_arc2['heat_time_sec'] * data_arc2['Активная мощность']\n",
    "data_arc2['E_ir'] = data_arc2['heat_time_sec'] * data_arc2['Реактивная мощность']"
   ]
  },
  {
   "cell_type": "code",
   "execution_count": 32,
   "metadata": {
    "scrolled": false
   },
   "outputs": [
    {
     "data": {
      "text/html": [
       "<div>\n",
       "<style scoped>\n",
       "    .dataframe tbody tr th:only-of-type {\n",
       "        vertical-align: middle;\n",
       "    }\n",
       "\n",
       "    .dataframe tbody tr th {\n",
       "        vertical-align: top;\n",
       "    }\n",
       "\n",
       "    .dataframe thead th {\n",
       "        text-align: right;\n",
       "    }\n",
       "</style>\n",
       "<table border=\"1\" class=\"dataframe\">\n",
       "  <thead>\n",
       "    <tr style=\"text-align: right;\">\n",
       "      <th></th>\n",
       "      <th>key</th>\n",
       "      <th>Начало нагрева дугой</th>\n",
       "      <th>Конец нагрева дугой</th>\n",
       "      <th>Активная мощность</th>\n",
       "      <th>Реактивная мощность</th>\n",
       "      <th>heat_time</th>\n",
       "      <th>heat_time_sec</th>\n",
       "      <th>E_i</th>\n",
       "      <th>E_ia</th>\n",
       "      <th>E_ir</th>\n",
       "    </tr>\n",
       "  </thead>\n",
       "  <tbody>\n",
       "    <tr>\n",
       "      <td>0</td>\n",
       "      <td>1</td>\n",
       "      <td>2019-05-03 11:02:14</td>\n",
       "      <td>2019-05-03 11:06:02</td>\n",
       "      <td>0.976059</td>\n",
       "      <td>0.687084</td>\n",
       "      <td>00:03:48</td>\n",
       "      <td>228.0</td>\n",
       "      <td>272.149755</td>\n",
       "      <td>222.541395</td>\n",
       "      <td>156.655088</td>\n",
       "    </tr>\n",
       "    <tr>\n",
       "      <td>1</td>\n",
       "      <td>1</td>\n",
       "      <td>2019-05-03 11:07:28</td>\n",
       "      <td>2019-05-03 11:10:33</td>\n",
       "      <td>0.805607</td>\n",
       "      <td>0.520285</td>\n",
       "      <td>00:03:05</td>\n",
       "      <td>185.0</td>\n",
       "      <td>177.416785</td>\n",
       "      <td>149.037310</td>\n",
       "      <td>96.252771</td>\n",
       "    </tr>\n",
       "    <tr>\n",
       "      <td>2</td>\n",
       "      <td>1</td>\n",
       "      <td>2019-05-03 11:11:44</td>\n",
       "      <td>2019-05-03 11:14:36</td>\n",
       "      <td>0.744363</td>\n",
       "      <td>0.498805</td>\n",
       "      <td>00:02:52</td>\n",
       "      <td>172.0</td>\n",
       "      <td>154.118502</td>\n",
       "      <td>128.030509</td>\n",
       "      <td>85.794529</td>\n",
       "    </tr>\n",
       "    <tr>\n",
       "      <td>3</td>\n",
       "      <td>1</td>\n",
       "      <td>2019-05-03 11:18:14</td>\n",
       "      <td>2019-05-03 11:24:19</td>\n",
       "      <td>1.659363</td>\n",
       "      <td>1.062669</td>\n",
       "      <td>00:06:05</td>\n",
       "      <td>365.0</td>\n",
       "      <td>719.221394</td>\n",
       "      <td>605.667332</td>\n",
       "      <td>387.874330</td>\n",
       "    </tr>\n",
       "    <tr>\n",
       "      <td>4</td>\n",
       "      <td>1</td>\n",
       "      <td>2019-05-03 11:26:09</td>\n",
       "      <td>2019-05-03 11:28:37</td>\n",
       "      <td>0.692755</td>\n",
       "      <td>0.414397</td>\n",
       "      <td>00:02:28</td>\n",
       "      <td>148.0</td>\n",
       "      <td>119.471318</td>\n",
       "      <td>102.527702</td>\n",
       "      <td>61.330791</td>\n",
       "    </tr>\n",
       "    <tr>\n",
       "      <td>...</td>\n",
       "      <td>...</td>\n",
       "      <td>...</td>\n",
       "      <td>...</td>\n",
       "      <td>...</td>\n",
       "      <td>...</td>\n",
       "      <td>...</td>\n",
       "      <td>...</td>\n",
       "      <td>...</td>\n",
       "      <td>...</td>\n",
       "      <td>...</td>\n",
       "    </tr>\n",
       "    <tr>\n",
       "      <td>14871</td>\n",
       "      <td>3241</td>\n",
       "      <td>2019-09-01 03:58:58</td>\n",
       "      <td>2019-09-01 04:01:35</td>\n",
       "      <td>0.533670</td>\n",
       "      <td>0.354439</td>\n",
       "      <td>00:02:37</td>\n",
       "      <td>157.0</td>\n",
       "      <td>100.581755</td>\n",
       "      <td>83.786125</td>\n",
       "      <td>55.646875</td>\n",
       "    </tr>\n",
       "    <tr>\n",
       "      <td>14872</td>\n",
       "      <td>3241</td>\n",
       "      <td>2019-09-01 04:05:04</td>\n",
       "      <td>2019-09-01 04:08:04</td>\n",
       "      <td>0.676604</td>\n",
       "      <td>0.523631</td>\n",
       "      <td>00:03:00</td>\n",
       "      <td>180.0</td>\n",
       "      <td>154.000682</td>\n",
       "      <td>121.788672</td>\n",
       "      <td>94.253538</td>\n",
       "    </tr>\n",
       "    <tr>\n",
       "      <td>14873</td>\n",
       "      <td>3241</td>\n",
       "      <td>2019-09-01 04:16:41</td>\n",
       "      <td>2019-09-01 04:19:45</td>\n",
       "      <td>0.733899</td>\n",
       "      <td>0.475654</td>\n",
       "      <td>00:03:04</td>\n",
       "      <td>184.0</td>\n",
       "      <td>160.919002</td>\n",
       "      <td>135.037503</td>\n",
       "      <td>87.520271</td>\n",
       "    </tr>\n",
       "    <tr>\n",
       "      <td>14874</td>\n",
       "      <td>3241</td>\n",
       "      <td>2019-09-01 04:31:51</td>\n",
       "      <td>2019-09-01 04:32:48</td>\n",
       "      <td>0.220694</td>\n",
       "      <td>0.145768</td>\n",
       "      <td>00:00:57</td>\n",
       "      <td>57.0</td>\n",
       "      <td>15.075853</td>\n",
       "      <td>12.579555</td>\n",
       "      <td>8.308799</td>\n",
       "    </tr>\n",
       "    <tr>\n",
       "      <td>14875</td>\n",
       "      <td>3241</td>\n",
       "      <td>2019-09-01 04:34:47</td>\n",
       "      <td>2019-09-01 04:36:08</td>\n",
       "      <td>0.306580</td>\n",
       "      <td>0.196708</td>\n",
       "      <td>00:01:21</td>\n",
       "      <td>81.0</td>\n",
       "      <td>29.505051</td>\n",
       "      <td>24.832985</td>\n",
       "      <td>15.933326</td>\n",
       "    </tr>\n",
       "  </tbody>\n",
       "</table>\n",
       "<p>14875 rows × 10 columns</p>\n",
       "</div>"
      ],
      "text/plain": [
       "        key Начало нагрева дугой Конец нагрева дугой  Активная мощность  \\\n",
       "0         1  2019-05-03 11:02:14 2019-05-03 11:06:02           0.976059   \n",
       "1         1  2019-05-03 11:07:28 2019-05-03 11:10:33           0.805607   \n",
       "2         1  2019-05-03 11:11:44 2019-05-03 11:14:36           0.744363   \n",
       "3         1  2019-05-03 11:18:14 2019-05-03 11:24:19           1.659363   \n",
       "4         1  2019-05-03 11:26:09 2019-05-03 11:28:37           0.692755   \n",
       "...     ...                  ...                 ...                ...   \n",
       "14871  3241  2019-09-01 03:58:58 2019-09-01 04:01:35           0.533670   \n",
       "14872  3241  2019-09-01 04:05:04 2019-09-01 04:08:04           0.676604   \n",
       "14873  3241  2019-09-01 04:16:41 2019-09-01 04:19:45           0.733899   \n",
       "14874  3241  2019-09-01 04:31:51 2019-09-01 04:32:48           0.220694   \n",
       "14875  3241  2019-09-01 04:34:47 2019-09-01 04:36:08           0.306580   \n",
       "\n",
       "       Реактивная мощность heat_time  heat_time_sec         E_i        E_ia  \\\n",
       "0                 0.687084  00:03:48          228.0  272.149755  222.541395   \n",
       "1                 0.520285  00:03:05          185.0  177.416785  149.037310   \n",
       "2                 0.498805  00:02:52          172.0  154.118502  128.030509   \n",
       "3                 1.062669  00:06:05          365.0  719.221394  605.667332   \n",
       "4                 0.414397  00:02:28          148.0  119.471318  102.527702   \n",
       "...                    ...       ...            ...         ...         ...   \n",
       "14871             0.354439  00:02:37          157.0  100.581755   83.786125   \n",
       "14872             0.523631  00:03:00          180.0  154.000682  121.788672   \n",
       "14873             0.475654  00:03:04          184.0  160.919002  135.037503   \n",
       "14874             0.145768  00:00:57           57.0   15.075853   12.579555   \n",
       "14875             0.196708  00:01:21           81.0   29.505051   24.832985   \n",
       "\n",
       "             E_ir  \n",
       "0      156.655088  \n",
       "1       96.252771  \n",
       "2       85.794529  \n",
       "3      387.874330  \n",
       "4       61.330791  \n",
       "...           ...  \n",
       "14871   55.646875  \n",
       "14872   94.253538  \n",
       "14873   87.520271  \n",
       "14874    8.308799  \n",
       "14875   15.933326  \n",
       "\n",
       "[14875 rows x 10 columns]"
      ]
     },
     "execution_count": 32,
     "metadata": {},
     "output_type": "execute_result"
    }
   ],
   "source": [
    "data_arc2"
   ]
  },
  {
   "cell_type": "code",
   "execution_count": 33,
   "metadata": {},
   "outputs": [
    {
     "data": {
      "text/html": [
       "<div>\n",
       "<style scoped>\n",
       "    .dataframe tbody tr th:only-of-type {\n",
       "        vertical-align: middle;\n",
       "    }\n",
       "\n",
       "    .dataframe tbody tr th {\n",
       "        vertical-align: top;\n",
       "    }\n",
       "\n",
       "    .dataframe thead th {\n",
       "        text-align: right;\n",
       "    }\n",
       "</style>\n",
       "<table border=\"1\" class=\"dataframe\">\n",
       "  <thead>\n",
       "    <tr style=\"text-align: right;\">\n",
       "      <th></th>\n",
       "      <th>key</th>\n",
       "      <th>heat_time</th>\n",
       "      <th>Total_Energy</th>\n",
       "      <th>Total_ActiveEnergy</th>\n",
       "      <th>Total_ReactiveEnergy</th>\n",
       "    </tr>\n",
       "  </thead>\n",
       "  <tbody>\n",
       "    <tr>\n",
       "      <td>0</td>\n",
       "      <td>1</td>\n",
       "      <td>1442.377754</td>\n",
       "      <td>1207.804249</td>\n",
       "      <td>787.907510</td>\n",
       "      <td>1098.0</td>\n",
       "    </tr>\n",
       "    <tr>\n",
       "      <td>1</td>\n",
       "      <td>2</td>\n",
       "      <td>881.233565</td>\n",
       "      <td>733.816470</td>\n",
       "      <td>487.590677</td>\n",
       "      <td>811.0</td>\n",
       "    </tr>\n",
       "    <tr>\n",
       "      <td>2</td>\n",
       "      <td>3</td>\n",
       "      <td>525.066777</td>\n",
       "      <td>443.583327</td>\n",
       "      <td>280.936835</td>\n",
       "      <td>655.0</td>\n",
       "    </tr>\n",
       "    <tr>\n",
       "      <td>3</td>\n",
       "      <td>4</td>\n",
       "      <td>796.911309</td>\n",
       "      <td>670.663327</td>\n",
       "      <td>429.935932</td>\n",
       "      <td>741.0</td>\n",
       "    </tr>\n",
       "    <tr>\n",
       "      <td>4</td>\n",
       "      <td>5</td>\n",
       "      <td>1199.137958</td>\n",
       "      <td>997.496095</td>\n",
       "      <td>664.940090</td>\n",
       "      <td>869.0</td>\n",
       "    </tr>\n",
       "    <tr>\n",
       "      <td>...</td>\n",
       "      <td>...</td>\n",
       "      <td>...</td>\n",
       "      <td>...</td>\n",
       "      <td>...</td>\n",
       "      <td>...</td>\n",
       "    </tr>\n",
       "    <tr>\n",
       "      <td>3209</td>\n",
       "      <td>3237</td>\n",
       "      <td>958.336236</td>\n",
       "      <td>777.993447</td>\n",
       "      <td>559.334413</td>\n",
       "      <td>909.0</td>\n",
       "    </tr>\n",
       "    <tr>\n",
       "      <td>3210</td>\n",
       "      <td>3238</td>\n",
       "      <td>555.867370</td>\n",
       "      <td>432.849310</td>\n",
       "      <td>348.343323</td>\n",
       "      <td>546.0</td>\n",
       "    </tr>\n",
       "    <tr>\n",
       "      <td>3211</td>\n",
       "      <td>3239</td>\n",
       "      <td>1013.067719</td>\n",
       "      <td>844.977151</td>\n",
       "      <td>557.964769</td>\n",
       "      <td>1216.0</td>\n",
       "    </tr>\n",
       "    <tr>\n",
       "      <td>3212</td>\n",
       "      <td>3240</td>\n",
       "      <td>729.208940</td>\n",
       "      <td>554.283211</td>\n",
       "      <td>471.603883</td>\n",
       "      <td>839.0</td>\n",
       "    </tr>\n",
       "    <tr>\n",
       "      <td>3213</td>\n",
       "      <td>3241</td>\n",
       "      <td>460.082343</td>\n",
       "      <td>378.024840</td>\n",
       "      <td>261.662809</td>\n",
       "      <td>659.0</td>\n",
       "    </tr>\n",
       "  </tbody>\n",
       "</table>\n",
       "<p>3214 rows × 5 columns</p>\n",
       "</div>"
      ],
      "text/plain": [
       "       key    heat_time  Total_Energy  Total_ActiveEnergy  \\\n",
       "0        1  1442.377754   1207.804249          787.907510   \n",
       "1        2   881.233565    733.816470          487.590677   \n",
       "2        3   525.066777    443.583327          280.936835   \n",
       "3        4   796.911309    670.663327          429.935932   \n",
       "4        5  1199.137958    997.496095          664.940090   \n",
       "...    ...          ...           ...                 ...   \n",
       "3209  3237   958.336236    777.993447          559.334413   \n",
       "3210  3238   555.867370    432.849310          348.343323   \n",
       "3211  3239  1013.067719    844.977151          557.964769   \n",
       "3212  3240   729.208940    554.283211          471.603883   \n",
       "3213  3241   460.082343    378.024840          261.662809   \n",
       "\n",
       "      Total_ReactiveEnergy  \n",
       "0                   1098.0  \n",
       "1                    811.0  \n",
       "2                    655.0  \n",
       "3                    741.0  \n",
       "4                    869.0  \n",
       "...                    ...  \n",
       "3209                 909.0  \n",
       "3210                 546.0  \n",
       "3211                1216.0  \n",
       "3212                 839.0  \n",
       "3213                 659.0  \n",
       "\n",
       "[3214 rows x 5 columns]"
      ]
     },
     "execution_count": 33,
     "metadata": {},
     "output_type": "execute_result"
    }
   ],
   "source": [
    "#подсчет суммарной затраченной энергии\n",
    "data_energy = data_arc2.pivot_table(values = ['heat_time_sec', 'E_i', 'E_ia', 'E_ir'], \\\n",
    "                                    index = 'key', aggfunc = ['sum'])\n",
    "\n",
    "#сброс индексов и переимнование столбцов\n",
    "data_energy = data_energy.reset_index()\n",
    "data_energy.columns = ['key', 'heat_time', 'Total_Energy', 'Total_ActiveEnergy', 'Total_ReactiveEnergy']\n",
    "\n",
    "#вывод данных\n",
    "data_energy"
   ]
  },
  {
   "cell_type": "markdown",
   "metadata": {},
   "source": [
    "Теперь полученные значения энергий можно использовать как признак. "
   ]
  },
  {
   "cell_type": "markdown",
   "metadata": {},
   "source": [
    "#### Выделение начальной и конечной температур"
   ]
  },
  {
   "cell_type": "code",
   "execution_count": 34,
   "metadata": {},
   "outputs": [
    {
     "name": "stdout",
     "output_type": "stream",
     "text": [
      "<class 'pandas.core.frame.DataFrame'>\n",
      "RangeIndex: 13006 entries, 0 to 13005\n",
      "Data columns (total 3 columns):\n",
      "key             13006 non-null int64\n",
      "Время замера    13006 non-null datetime64[ns]\n",
      "Температура     13006 non-null float64\n",
      "dtypes: datetime64[ns](1), float64(1), int64(1)\n",
      "memory usage: 305.0 KB\n"
     ]
    }
   ],
   "source": [
    "#приведение даты к типу datetime\n",
    "data_temp2['Время замера'] = data_temp2['Время замера'].astype('datetime64[ns]')\n",
    "\n",
    "#проверка замены типа\n",
    "data_temp2.info()"
   ]
  },
  {
   "cell_type": "code",
   "execution_count": 35,
   "metadata": {},
   "outputs": [
    {
     "data": {
      "text/html": [
       "<div>\n",
       "<style scoped>\n",
       "    .dataframe tbody tr th:only-of-type {\n",
       "        vertical-align: middle;\n",
       "    }\n",
       "\n",
       "    .dataframe tbody tr th {\n",
       "        vertical-align: top;\n",
       "    }\n",
       "\n",
       "    .dataframe thead th {\n",
       "        text-align: right;\n",
       "    }\n",
       "</style>\n",
       "<table border=\"1\" class=\"dataframe\">\n",
       "  <thead>\n",
       "    <tr style=\"text-align: right;\">\n",
       "      <th></th>\n",
       "      <th>key</th>\n",
       "      <th>Время замера</th>\n",
       "      <th>Температура</th>\n",
       "    </tr>\n",
       "  </thead>\n",
       "  <tbody>\n",
       "    <tr>\n",
       "      <td>0</td>\n",
       "      <td>1</td>\n",
       "      <td>2019-05-03 11:16:18</td>\n",
       "      <td>1571.0</td>\n",
       "    </tr>\n",
       "    <tr>\n",
       "      <td>1</td>\n",
       "      <td>1</td>\n",
       "      <td>2019-05-03 11:25:53</td>\n",
       "      <td>1604.0</td>\n",
       "    </tr>\n",
       "    <tr>\n",
       "      <td>2</td>\n",
       "      <td>1</td>\n",
       "      <td>2019-05-03 11:29:11</td>\n",
       "      <td>1618.0</td>\n",
       "    </tr>\n",
       "    <tr>\n",
       "      <td>3</td>\n",
       "      <td>1</td>\n",
       "      <td>2019-05-03 11:30:01</td>\n",
       "      <td>1601.0</td>\n",
       "    </tr>\n",
       "    <tr>\n",
       "      <td>4</td>\n",
       "      <td>1</td>\n",
       "      <td>2019-05-03 11:30:39</td>\n",
       "      <td>1613.0</td>\n",
       "    </tr>\n",
       "    <tr>\n",
       "      <td>...</td>\n",
       "      <td>...</td>\n",
       "      <td>...</td>\n",
       "      <td>...</td>\n",
       "    </tr>\n",
       "    <tr>\n",
       "      <td>13001</td>\n",
       "      <td>3237</td>\n",
       "      <td>2019-08-31 22:44:04</td>\n",
       "      <td>1569.0</td>\n",
       "    </tr>\n",
       "    <tr>\n",
       "      <td>13002</td>\n",
       "      <td>3238</td>\n",
       "      <td>2019-08-31 23:30:31</td>\n",
       "      <td>1584.0</td>\n",
       "    </tr>\n",
       "    <tr>\n",
       "      <td>13003</td>\n",
       "      <td>3239</td>\n",
       "      <td>2019-09-01 01:31:47</td>\n",
       "      <td>1598.0</td>\n",
       "    </tr>\n",
       "    <tr>\n",
       "      <td>13004</td>\n",
       "      <td>3240</td>\n",
       "      <td>2019-09-01 02:39:01</td>\n",
       "      <td>1617.0</td>\n",
       "    </tr>\n",
       "    <tr>\n",
       "      <td>13005</td>\n",
       "      <td>3241</td>\n",
       "      <td>2019-09-01 04:03:30</td>\n",
       "      <td>1586.0</td>\n",
       "    </tr>\n",
       "  </tbody>\n",
       "</table>\n",
       "<p>13006 rows × 3 columns</p>\n",
       "</div>"
      ],
      "text/plain": [
       "        key        Время замера  Температура\n",
       "0         1 2019-05-03 11:16:18       1571.0\n",
       "1         1 2019-05-03 11:25:53       1604.0\n",
       "2         1 2019-05-03 11:29:11       1618.0\n",
       "3         1 2019-05-03 11:30:01       1601.0\n",
       "4         1 2019-05-03 11:30:39       1613.0\n",
       "...     ...                 ...          ...\n",
       "13001  3237 2019-08-31 22:44:04       1569.0\n",
       "13002  3238 2019-08-31 23:30:31       1584.0\n",
       "13003  3239 2019-09-01 01:31:47       1598.0\n",
       "13004  3240 2019-09-01 02:39:01       1617.0\n",
       "13005  3241 2019-09-01 04:03:30       1586.0\n",
       "\n",
       "[13006 rows x 3 columns]"
      ]
     },
     "execution_count": 35,
     "metadata": {},
     "output_type": "execute_result"
    }
   ],
   "source": [
    "data_temp2"
   ]
  },
  {
   "cell_type": "code",
   "execution_count": 36,
   "metadata": {
    "scrolled": false
   },
   "outputs": [
    {
     "data": {
      "text/html": [
       "<div>\n",
       "<style scoped>\n",
       "    .dataframe tbody tr th:only-of-type {\n",
       "        vertical-align: middle;\n",
       "    }\n",
       "\n",
       "    .dataframe tbody tr th {\n",
       "        vertical-align: top;\n",
       "    }\n",
       "\n",
       "    .dataframe thead th {\n",
       "        text-align: right;\n",
       "    }\n",
       "</style>\n",
       "<table border=\"1\" class=\"dataframe\">\n",
       "  <thead>\n",
       "    <tr style=\"text-align: right;\">\n",
       "      <th></th>\n",
       "      <th>key</th>\n",
       "      <th>Initial_T</th>\n",
       "      <th>Final_T</th>\n",
       "      <th>count</th>\n",
       "    </tr>\n",
       "  </thead>\n",
       "  <tbody>\n",
       "    <tr>\n",
       "      <td>0</td>\n",
       "      <td>1</td>\n",
       "      <td>1571.0</td>\n",
       "      <td>1613.0</td>\n",
       "      <td>5</td>\n",
       "    </tr>\n",
       "    <tr>\n",
       "      <td>1</td>\n",
       "      <td>2</td>\n",
       "      <td>1581.0</td>\n",
       "      <td>1602.0</td>\n",
       "      <td>6</td>\n",
       "    </tr>\n",
       "    <tr>\n",
       "      <td>2</td>\n",
       "      <td>3</td>\n",
       "      <td>1596.0</td>\n",
       "      <td>1599.0</td>\n",
       "      <td>5</td>\n",
       "    </tr>\n",
       "    <tr>\n",
       "      <td>3</td>\n",
       "      <td>4</td>\n",
       "      <td>1601.0</td>\n",
       "      <td>1625.0</td>\n",
       "      <td>3</td>\n",
       "    </tr>\n",
       "    <tr>\n",
       "      <td>4</td>\n",
       "      <td>5</td>\n",
       "      <td>1576.0</td>\n",
       "      <td>1602.0</td>\n",
       "      <td>2</td>\n",
       "    </tr>\n",
       "    <tr>\n",
       "      <td>...</td>\n",
       "      <td>...</td>\n",
       "      <td>...</td>\n",
       "      <td>...</td>\n",
       "      <td>...</td>\n",
       "    </tr>\n",
       "    <tr>\n",
       "      <td>3211</td>\n",
       "      <td>3237</td>\n",
       "      <td>1569.0</td>\n",
       "      <td>1569.0</td>\n",
       "      <td>1</td>\n",
       "    </tr>\n",
       "    <tr>\n",
       "      <td>3212</td>\n",
       "      <td>3238</td>\n",
       "      <td>1584.0</td>\n",
       "      <td>1584.0</td>\n",
       "      <td>1</td>\n",
       "    </tr>\n",
       "    <tr>\n",
       "      <td>3213</td>\n",
       "      <td>3239</td>\n",
       "      <td>1598.0</td>\n",
       "      <td>1598.0</td>\n",
       "      <td>1</td>\n",
       "    </tr>\n",
       "    <tr>\n",
       "      <td>3214</td>\n",
       "      <td>3240</td>\n",
       "      <td>1617.0</td>\n",
       "      <td>1617.0</td>\n",
       "      <td>1</td>\n",
       "    </tr>\n",
       "    <tr>\n",
       "      <td>3215</td>\n",
       "      <td>3241</td>\n",
       "      <td>1586.0</td>\n",
       "      <td>1586.0</td>\n",
       "      <td>1</td>\n",
       "    </tr>\n",
       "  </tbody>\n",
       "</table>\n",
       "<p>3216 rows × 4 columns</p>\n",
       "</div>"
      ],
      "text/plain": [
       "       key  Initial_T  Final_T  count\n",
       "0        1     1571.0   1613.0      5\n",
       "1        2     1581.0   1602.0      6\n",
       "2        3     1596.0   1599.0      5\n",
       "3        4     1601.0   1625.0      3\n",
       "4        5     1576.0   1602.0      2\n",
       "...    ...        ...      ...    ...\n",
       "3211  3237     1569.0   1569.0      1\n",
       "3212  3238     1584.0   1584.0      1\n",
       "3213  3239     1598.0   1598.0      1\n",
       "3214  3240     1617.0   1617.0      1\n",
       "3215  3241     1586.0   1586.0      1\n",
       "\n",
       "[3216 rows x 4 columns]"
      ]
     },
     "execution_count": 36,
     "metadata": {},
     "output_type": "execute_result"
    }
   ],
   "source": [
    "#создание сводной таблицы с аггрегацией по ключи и выбором первого и последнего значения \n",
    "#для соответствующего ключа и подсчетом полного количесива записей для каждого ключа\n",
    "data_temp_pivot = data_temp2.pivot_table(values = 'Температура', index = 'key',\\\n",
    "                                         aggfunc = ['first', 'last', 'count'])\n",
    "\n",
    "#сброс индексов и переимнование столбцов\n",
    "data_temp_pivot = data_temp_pivot.reset_index()\n",
    "data_temp_pivot.columns = ['key', 'Initial_T', 'Final_T', 'count']\n",
    "\n",
    "#вывод сводной таблицы\n",
    "data_temp_pivot"
   ]
  },
  {
   "cell_type": "markdown",
   "metadata": {},
   "source": [
    "Теперь избавимся от рядов (партий) для которых есть только одна запись температуры."
   ]
  },
  {
   "cell_type": "code",
   "execution_count": 37,
   "metadata": {
    "scrolled": false
   },
   "outputs": [
    {
     "data": {
      "text/html": [
       "<div>\n",
       "<style scoped>\n",
       "    .dataframe tbody tr th:only-of-type {\n",
       "        vertical-align: middle;\n",
       "    }\n",
       "\n",
       "    .dataframe tbody tr th {\n",
       "        vertical-align: top;\n",
       "    }\n",
       "\n",
       "    .dataframe thead th {\n",
       "        text-align: right;\n",
       "    }\n",
       "</style>\n",
       "<table border=\"1\" class=\"dataframe\">\n",
       "  <thead>\n",
       "    <tr style=\"text-align: right;\">\n",
       "      <th></th>\n",
       "      <th>key</th>\n",
       "      <th>Initial_T</th>\n",
       "      <th>Final_T</th>\n",
       "      <th>count</th>\n",
       "    </tr>\n",
       "  </thead>\n",
       "  <tbody>\n",
       "    <tr>\n",
       "      <td>0</td>\n",
       "      <td>1</td>\n",
       "      <td>1571.0</td>\n",
       "      <td>1613.0</td>\n",
       "      <td>5</td>\n",
       "    </tr>\n",
       "    <tr>\n",
       "      <td>1</td>\n",
       "      <td>2</td>\n",
       "      <td>1581.0</td>\n",
       "      <td>1602.0</td>\n",
       "      <td>6</td>\n",
       "    </tr>\n",
       "    <tr>\n",
       "      <td>2</td>\n",
       "      <td>3</td>\n",
       "      <td>1596.0</td>\n",
       "      <td>1599.0</td>\n",
       "      <td>5</td>\n",
       "    </tr>\n",
       "    <tr>\n",
       "      <td>3</td>\n",
       "      <td>4</td>\n",
       "      <td>1601.0</td>\n",
       "      <td>1625.0</td>\n",
       "      <td>3</td>\n",
       "    </tr>\n",
       "    <tr>\n",
       "      <td>4</td>\n",
       "      <td>5</td>\n",
       "      <td>1576.0</td>\n",
       "      <td>1602.0</td>\n",
       "      <td>2</td>\n",
       "    </tr>\n",
       "    <tr>\n",
       "      <td>...</td>\n",
       "      <td>...</td>\n",
       "      <td>...</td>\n",
       "      <td>...</td>\n",
       "      <td>...</td>\n",
       "    </tr>\n",
       "    <tr>\n",
       "      <td>2472</td>\n",
       "      <td>2495</td>\n",
       "      <td>1570.0</td>\n",
       "      <td>1591.0</td>\n",
       "      <td>3</td>\n",
       "    </tr>\n",
       "    <tr>\n",
       "      <td>2473</td>\n",
       "      <td>2496</td>\n",
       "      <td>1554.0</td>\n",
       "      <td>1591.0</td>\n",
       "      <td>4</td>\n",
       "    </tr>\n",
       "    <tr>\n",
       "      <td>2474</td>\n",
       "      <td>2497</td>\n",
       "      <td>1571.0</td>\n",
       "      <td>1589.0</td>\n",
       "      <td>2</td>\n",
       "    </tr>\n",
       "    <tr>\n",
       "      <td>2475</td>\n",
       "      <td>2498</td>\n",
       "      <td>1591.0</td>\n",
       "      <td>1594.0</td>\n",
       "      <td>5</td>\n",
       "    </tr>\n",
       "    <tr>\n",
       "      <td>2476</td>\n",
       "      <td>2499</td>\n",
       "      <td>1569.0</td>\n",
       "      <td>1603.0</td>\n",
       "      <td>3</td>\n",
       "    </tr>\n",
       "  </tbody>\n",
       "</table>\n",
       "<p>2475 rows × 4 columns</p>\n",
       "</div>"
      ],
      "text/plain": [
       "       key  Initial_T  Final_T  count\n",
       "0        1     1571.0   1613.0      5\n",
       "1        2     1581.0   1602.0      6\n",
       "2        3     1596.0   1599.0      5\n",
       "3        4     1601.0   1625.0      3\n",
       "4        5     1576.0   1602.0      2\n",
       "...    ...        ...      ...    ...\n",
       "2472  2495     1570.0   1591.0      3\n",
       "2473  2496     1554.0   1591.0      4\n",
       "2474  2497     1571.0   1589.0      2\n",
       "2475  2498     1591.0   1594.0      5\n",
       "2476  2499     1569.0   1603.0      3\n",
       "\n",
       "[2475 rows x 4 columns]"
      ]
     },
     "execution_count": 37,
     "metadata": {},
     "output_type": "execute_result"
    }
   ],
   "source": [
    "data_temp_pivot = data_temp_pivot.loc[data_temp_pivot.loc[:,'count'] > 1]\n",
    "\n",
    "data_temp_pivot"
   ]
  },
  {
   "cell_type": "code",
   "execution_count": 38,
   "metadata": {},
   "outputs": [
    {
     "data": {
      "image/png": "[encoded data removed]",
      "text/plain": [
       "<Figure size 432x288 with 1 Axes>"
      ]
     },
     "metadata": {
      "needs_background": "light"
     },
     "output_type": "display_data"
    }
   ],
   "source": [
    "#построим график распределения разности температур\n",
    "(data_temp_pivot['Final_T'] - data_temp_pivot['Initial_T']).hist(bins = 100, color = 'blue');\n",
    "plt.title('Распределение разности конечной и начальной температур');"
   ]
  },
  {
   "cell_type": "markdown",
   "metadata": {},
   "source": [
    "Из гистограммы видно, что есть выпадающие значения, т.е. записи для которых разностей конечной и начальной температуры выше (по абсолютному значению более, чем на 100 градусов). Удалим такие значения из рассмотрения. "
   ]
  },
  {
   "cell_type": "code",
   "execution_count": 39,
   "metadata": {
    "scrolled": true
   },
   "outputs": [
    {
     "data": {
      "image/png": "[encoded data removed]",
      "text/plain": [
       "<Figure size 432x288 with 1 Axes>"
      ]
     },
     "metadata": {
      "needs_background": "light"
     },
     "output_type": "display_data"
    }
   ],
   "source": [
    "data_temp_pivot = data_temp_pivot.loc\\\n",
    "                  [(data_temp_pivot.loc[:,'Final_T'] - data_temp_pivot.loc[:,'Initial_T'])\\\n",
    "                  < 100]\n",
    "\n",
    "#построим график распределения разности температур дял проверки\n",
    "(data_temp_pivot['Final_T'] - data_temp_pivot['Initial_T']).hist(bins = 100, color = 'blue');\n",
    "plt.title('Распределение разности конечной и начальной температур');"
   ]
  },
  {
   "cell_type": "markdown",
   "metadata": {},
   "source": [
    "После удаления выпадающих значений все разности температур лежат в диапазоне +- 100 градусов. "
   ]
  },
  {
   "cell_type": "code",
   "execution_count": 40,
   "metadata": {},
   "outputs": [
    {
     "data": {
      "text/html": [
       "<div>\n",
       "<style scoped>\n",
       "    .dataframe tbody tr th:only-of-type {\n",
       "        vertical-align: middle;\n",
       "    }\n",
       "\n",
       "    .dataframe tbody tr th {\n",
       "        vertical-align: top;\n",
       "    }\n",
       "\n",
       "    .dataframe thead th {\n",
       "        text-align: right;\n",
       "    }\n",
       "</style>\n",
       "<table border=\"1\" class=\"dataframe\">\n",
       "  <thead>\n",
       "    <tr style=\"text-align: right;\">\n",
       "      <th></th>\n",
       "      <th>key</th>\n",
       "      <th>Initial_T</th>\n",
       "      <th>Final_T</th>\n",
       "      <th>count</th>\n",
       "    </tr>\n",
       "  </thead>\n",
       "  <tbody>\n",
       "    <tr>\n",
       "      <td>0</td>\n",
       "      <td>1</td>\n",
       "      <td>1571.0</td>\n",
       "      <td>1613.0</td>\n",
       "      <td>5</td>\n",
       "    </tr>\n",
       "    <tr>\n",
       "      <td>1</td>\n",
       "      <td>2</td>\n",
       "      <td>1581.0</td>\n",
       "      <td>1602.0</td>\n",
       "      <td>6</td>\n",
       "    </tr>\n",
       "    <tr>\n",
       "      <td>2</td>\n",
       "      <td>3</td>\n",
       "      <td>1596.0</td>\n",
       "      <td>1599.0</td>\n",
       "      <td>5</td>\n",
       "    </tr>\n",
       "    <tr>\n",
       "      <td>3</td>\n",
       "      <td>4</td>\n",
       "      <td>1601.0</td>\n",
       "      <td>1625.0</td>\n",
       "      <td>3</td>\n",
       "    </tr>\n",
       "    <tr>\n",
       "      <td>4</td>\n",
       "      <td>5</td>\n",
       "      <td>1576.0</td>\n",
       "      <td>1602.0</td>\n",
       "      <td>2</td>\n",
       "    </tr>\n",
       "    <tr>\n",
       "      <td>...</td>\n",
       "      <td>...</td>\n",
       "      <td>...</td>\n",
       "      <td>...</td>\n",
       "      <td>...</td>\n",
       "    </tr>\n",
       "    <tr>\n",
       "      <td>2472</td>\n",
       "      <td>2495</td>\n",
       "      <td>1570.0</td>\n",
       "      <td>1591.0</td>\n",
       "      <td>3</td>\n",
       "    </tr>\n",
       "    <tr>\n",
       "      <td>2473</td>\n",
       "      <td>2496</td>\n",
       "      <td>1554.0</td>\n",
       "      <td>1591.0</td>\n",
       "      <td>4</td>\n",
       "    </tr>\n",
       "    <tr>\n",
       "      <td>2474</td>\n",
       "      <td>2497</td>\n",
       "      <td>1571.0</td>\n",
       "      <td>1589.0</td>\n",
       "      <td>2</td>\n",
       "    </tr>\n",
       "    <tr>\n",
       "      <td>2475</td>\n",
       "      <td>2498</td>\n",
       "      <td>1591.0</td>\n",
       "      <td>1594.0</td>\n",
       "      <td>5</td>\n",
       "    </tr>\n",
       "    <tr>\n",
       "      <td>2476</td>\n",
       "      <td>2499</td>\n",
       "      <td>1569.0</td>\n",
       "      <td>1603.0</td>\n",
       "      <td>3</td>\n",
       "    </tr>\n",
       "  </tbody>\n",
       "</table>\n",
       "<p>2470 rows × 4 columns</p>\n",
       "</div>"
      ],
      "text/plain": [
       "       key  Initial_T  Final_T  count\n",
       "0        1     1571.0   1613.0      5\n",
       "1        2     1581.0   1602.0      6\n",
       "2        3     1596.0   1599.0      5\n",
       "3        4     1601.0   1625.0      3\n",
       "4        5     1576.0   1602.0      2\n",
       "...    ...        ...      ...    ...\n",
       "2472  2495     1570.0   1591.0      3\n",
       "2473  2496     1554.0   1591.0      4\n",
       "2474  2497     1571.0   1589.0      2\n",
       "2475  2498     1591.0   1594.0      5\n",
       "2476  2499     1569.0   1603.0      3\n",
       "\n",
       "[2470 rows x 4 columns]"
      ]
     },
     "execution_count": 40,
     "metadata": {},
     "output_type": "execute_result"
    }
   ],
   "source": [
    "data_temp_pivot"
   ]
  },
  {
   "cell_type": "markdown",
   "metadata": {},
   "source": [
    "#### Выделение числа засыпей примесей"
   ]
  },
  {
   "cell_type": "code",
   "execution_count": 41,
   "metadata": {},
   "outputs": [
    {
     "data": {
      "text/plain": [
       "'key'"
      ]
     },
     "execution_count": 41,
     "metadata": {},
     "output_type": "execute_result"
    }
   ],
   "source": [
    "#создание списка колонок\n",
    "columns = data_bulk.columns.to_list()\n",
    "\n",
    "#исключие колонки 'key'\n",
    "columns.pop(0)"
   ]
  },
  {
   "cell_type": "code",
   "execution_count": 42,
   "metadata": {},
   "outputs": [],
   "source": [
    "#подсчет числа засыпей сыпучих примесей\n",
    "data_bulk2['count_bulk'] = data_bulk2[columns].gt(0).sum(axis = 1)"
   ]
  },
  {
   "cell_type": "code",
   "execution_count": 43,
   "metadata": {},
   "outputs": [
    {
     "data": {
      "text/plain": [
       "'key'"
      ]
     },
     "execution_count": 43,
     "metadata": {},
     "output_type": "execute_result"
    }
   ],
   "source": [
    "#создание списка колонок\n",
    "columns = data_wire.columns.to_list()\n",
    "\n",
    "#исключие колонки 'key'\n",
    "columns.pop(0)"
   ]
  },
  {
   "cell_type": "code",
   "execution_count": 44,
   "metadata": {
    "scrolled": false
   },
   "outputs": [],
   "source": [
    "#подсчет числа засыпей проволочных материалов\n",
    "data_wire2['count_wire'] = data_wire2[columns].gt(0).sum(axis = 1)"
   ]
  },
  {
   "cell_type": "code",
   "execution_count": 45,
   "metadata": {
    "scrolled": false
   },
   "outputs": [],
   "source": [
    "#подсчет числа циклов нагрева\n",
    "#data_arc_count = data_arc2.groupby('key').count().reset_index()\n",
    "\n",
    "#добавление числа циклов нагрева к датасету 'data_energy'\n",
    "#data_energy['count_T'] = data_arc_count['heat_time']\n",
    "\n",
    "#вывод данных\n",
    "#data_energy"
   ]
  },
  {
   "cell_type": "markdown",
   "metadata": {},
   "source": [
    "#### Объединение признаков и целевого признака в единый датасет"
   ]
  },
  {
   "cell_type": "markdown",
   "metadata": {},
   "source": [
    "Для получения датасета, содержащего признаки и целевой признак, объединим датасеты\n",
    "* `data_energy`\n",
    "* `data_temp_pivot`\n",
    "* `data_bulk2`\n",
    "* `data_wire2`\n",
    "* `data_gas2`"
   ]
  },
  {
   "cell_type": "markdown",
   "metadata": {},
   "source": [
    "Объединение датасетов будем производить по столбцу `key`. "
   ]
  },
  {
   "cell_type": "code",
   "execution_count": 46,
   "metadata": {},
   "outputs": [],
   "source": [
    "#создание списка с датафреймами\n",
    "data_list = [data_temp_pivot, data_energy, data_bulk2, data_wire2, data_gas2]"
   ]
  },
  {
   "cell_type": "code",
   "execution_count": 47,
   "metadata": {
    "scrolled": false
   },
   "outputs": [
    {
     "data": {
      "text/html": [
       "<div>\n",
       "<style scoped>\n",
       "    .dataframe tbody tr th:only-of-type {\n",
       "        vertical-align: middle;\n",
       "    }\n",
       "\n",
       "    .dataframe tbody tr th {\n",
       "        vertical-align: top;\n",
       "    }\n",
       "\n",
       "    .dataframe thead th {\n",
       "        text-align: right;\n",
       "    }\n",
       "</style>\n",
       "<table border=\"1\" class=\"dataframe\">\n",
       "  <thead>\n",
       "    <tr style=\"text-align: right;\">\n",
       "      <th></th>\n",
       "      <th>Initial_T</th>\n",
       "      <th>Final_T</th>\n",
       "      <th>count</th>\n",
       "      <th>heat_time</th>\n",
       "      <th>Total_Energy</th>\n",
       "      <th>Total_ActiveEnergy</th>\n",
       "      <th>Total_ReactiveEnergy</th>\n",
       "      <th>Bulk 1</th>\n",
       "      <th>Bulk 2</th>\n",
       "      <th>Bulk 3</th>\n",
       "      <th>...</th>\n",
       "      <th>Wire 2</th>\n",
       "      <th>Wire 3</th>\n",
       "      <th>Wire 4</th>\n",
       "      <th>Wire 5</th>\n",
       "      <th>Wire 6</th>\n",
       "      <th>Wire 7</th>\n",
       "      <th>Wire 8</th>\n",
       "      <th>Wire 9</th>\n",
       "      <th>count_wire</th>\n",
       "      <th>Газ 1</th>\n",
       "    </tr>\n",
       "    <tr>\n",
       "      <th>key</th>\n",
       "      <th></th>\n",
       "      <th></th>\n",
       "      <th></th>\n",
       "      <th></th>\n",
       "      <th></th>\n",
       "      <th></th>\n",
       "      <th></th>\n",
       "      <th></th>\n",
       "      <th></th>\n",
       "      <th></th>\n",
       "      <th></th>\n",
       "      <th></th>\n",
       "      <th></th>\n",
       "      <th></th>\n",
       "      <th></th>\n",
       "      <th></th>\n",
       "      <th></th>\n",
       "      <th></th>\n",
       "      <th></th>\n",
       "      <th></th>\n",
       "      <th></th>\n",
       "    </tr>\n",
       "  </thead>\n",
       "  <tbody>\n",
       "    <tr>\n",
       "      <td>1</td>\n",
       "      <td>1571.0</td>\n",
       "      <td>1613.0</td>\n",
       "      <td>5</td>\n",
       "      <td>1442.377754</td>\n",
       "      <td>1207.804249</td>\n",
       "      <td>787.907510</td>\n",
       "      <td>1098.0</td>\n",
       "      <td>0.0</td>\n",
       "      <td>0.0</td>\n",
       "      <td>0.0</td>\n",
       "      <td>...</td>\n",
       "      <td>0.00000</td>\n",
       "      <td>0.0</td>\n",
       "      <td>0.0</td>\n",
       "      <td>0.0</td>\n",
       "      <td>0.0</td>\n",
       "      <td>0.0</td>\n",
       "      <td>0.0</td>\n",
       "      <td>0.0</td>\n",
       "      <td>1</td>\n",
       "      <td>29.749986</td>\n",
       "    </tr>\n",
       "    <tr>\n",
       "      <td>2</td>\n",
       "      <td>1581.0</td>\n",
       "      <td>1602.0</td>\n",
       "      <td>6</td>\n",
       "      <td>881.233565</td>\n",
       "      <td>733.816470</td>\n",
       "      <td>487.590677</td>\n",
       "      <td>811.0</td>\n",
       "      <td>0.0</td>\n",
       "      <td>0.0</td>\n",
       "      <td>0.0</td>\n",
       "      <td>...</td>\n",
       "      <td>0.00000</td>\n",
       "      <td>0.0</td>\n",
       "      <td>0.0</td>\n",
       "      <td>0.0</td>\n",
       "      <td>0.0</td>\n",
       "      <td>0.0</td>\n",
       "      <td>0.0</td>\n",
       "      <td>0.0</td>\n",
       "      <td>1</td>\n",
       "      <td>12.555561</td>\n",
       "    </tr>\n",
       "    <tr>\n",
       "      <td>3</td>\n",
       "      <td>1596.0</td>\n",
       "      <td>1599.0</td>\n",
       "      <td>5</td>\n",
       "      <td>525.066777</td>\n",
       "      <td>443.583327</td>\n",
       "      <td>280.936835</td>\n",
       "      <td>655.0</td>\n",
       "      <td>0.0</td>\n",
       "      <td>0.0</td>\n",
       "      <td>0.0</td>\n",
       "      <td>...</td>\n",
       "      <td>0.00000</td>\n",
       "      <td>0.0</td>\n",
       "      <td>0.0</td>\n",
       "      <td>0.0</td>\n",
       "      <td>0.0</td>\n",
       "      <td>0.0</td>\n",
       "      <td>0.0</td>\n",
       "      <td>0.0</td>\n",
       "      <td>1</td>\n",
       "      <td>28.554793</td>\n",
       "    </tr>\n",
       "    <tr>\n",
       "      <td>4</td>\n",
       "      <td>1601.0</td>\n",
       "      <td>1625.0</td>\n",
       "      <td>3</td>\n",
       "      <td>796.911309</td>\n",
       "      <td>670.663327</td>\n",
       "      <td>429.935932</td>\n",
       "      <td>741.0</td>\n",
       "      <td>0.0</td>\n",
       "      <td>0.0</td>\n",
       "      <td>0.0</td>\n",
       "      <td>...</td>\n",
       "      <td>0.00000</td>\n",
       "      <td>0.0</td>\n",
       "      <td>0.0</td>\n",
       "      <td>0.0</td>\n",
       "      <td>0.0</td>\n",
       "      <td>0.0</td>\n",
       "      <td>0.0</td>\n",
       "      <td>0.0</td>\n",
       "      <td>1</td>\n",
       "      <td>18.841219</td>\n",
       "    </tr>\n",
       "    <tr>\n",
       "      <td>5</td>\n",
       "      <td>1576.0</td>\n",
       "      <td>1602.0</td>\n",
       "      <td>2</td>\n",
       "      <td>1199.137958</td>\n",
       "      <td>997.496095</td>\n",
       "      <td>664.940090</td>\n",
       "      <td>869.0</td>\n",
       "      <td>0.0</td>\n",
       "      <td>0.0</td>\n",
       "      <td>0.0</td>\n",
       "      <td>...</td>\n",
       "      <td>9.11456</td>\n",
       "      <td>0.0</td>\n",
       "      <td>0.0</td>\n",
       "      <td>0.0</td>\n",
       "      <td>0.0</td>\n",
       "      <td>0.0</td>\n",
       "      <td>0.0</td>\n",
       "      <td>0.0</td>\n",
       "      <td>2</td>\n",
       "      <td>5.413692</td>\n",
       "    </tr>\n",
       "    <tr>\n",
       "      <td>...</td>\n",
       "      <td>...</td>\n",
       "      <td>...</td>\n",
       "      <td>...</td>\n",
       "      <td>...</td>\n",
       "      <td>...</td>\n",
       "      <td>...</td>\n",
       "      <td>...</td>\n",
       "      <td>...</td>\n",
       "      <td>...</td>\n",
       "      <td>...</td>\n",
       "      <td>...</td>\n",
       "      <td>...</td>\n",
       "      <td>...</td>\n",
       "      <td>...</td>\n",
       "      <td>...</td>\n",
       "      <td>...</td>\n",
       "      <td>...</td>\n",
       "      <td>...</td>\n",
       "      <td>...</td>\n",
       "      <td>...</td>\n",
       "      <td>...</td>\n",
       "    </tr>\n",
       "    <tr>\n",
       "      <td>2495</td>\n",
       "      <td>1570.0</td>\n",
       "      <td>1591.0</td>\n",
       "      <td>3</td>\n",
       "      <td>778.818234</td>\n",
       "      <td>626.167357</td>\n",
       "      <td>462.572488</td>\n",
       "      <td>723.0</td>\n",
       "      <td>0.0</td>\n",
       "      <td>0.0</td>\n",
       "      <td>21.0</td>\n",
       "      <td>...</td>\n",
       "      <td>0.00000</td>\n",
       "      <td>0.0</td>\n",
       "      <td>0.0</td>\n",
       "      <td>0.0</td>\n",
       "      <td>0.0</td>\n",
       "      <td>0.0</td>\n",
       "      <td>0.0</td>\n",
       "      <td>0.0</td>\n",
       "      <td>1</td>\n",
       "      <td>7.125735</td>\n",
       "    </tr>\n",
       "    <tr>\n",
       "      <td>2496</td>\n",
       "      <td>1554.0</td>\n",
       "      <td>1591.0</td>\n",
       "      <td>4</td>\n",
       "      <td>875.261419</td>\n",
       "      <td>727.868032</td>\n",
       "      <td>485.842067</td>\n",
       "      <td>940.0</td>\n",
       "      <td>0.0</td>\n",
       "      <td>0.0</td>\n",
       "      <td>0.0</td>\n",
       "      <td>...</td>\n",
       "      <td>0.00000</td>\n",
       "      <td>0.0</td>\n",
       "      <td>0.0</td>\n",
       "      <td>0.0</td>\n",
       "      <td>0.0</td>\n",
       "      <td>0.0</td>\n",
       "      <td>0.0</td>\n",
       "      <td>0.0</td>\n",
       "      <td>1</td>\n",
       "      <td>9.412616</td>\n",
       "    </tr>\n",
       "    <tr>\n",
       "      <td>2497</td>\n",
       "      <td>1571.0</td>\n",
       "      <td>1589.0</td>\n",
       "      <td>2</td>\n",
       "      <td>556.930349</td>\n",
       "      <td>427.535518</td>\n",
       "      <td>356.837023</td>\n",
       "      <td>569.0</td>\n",
       "      <td>0.0</td>\n",
       "      <td>0.0</td>\n",
       "      <td>0.0</td>\n",
       "      <td>...</td>\n",
       "      <td>9.04800</td>\n",
       "      <td>0.0</td>\n",
       "      <td>0.0</td>\n",
       "      <td>0.0</td>\n",
       "      <td>0.0</td>\n",
       "      <td>0.0</td>\n",
       "      <td>0.0</td>\n",
       "      <td>0.0</td>\n",
       "      <td>2</td>\n",
       "      <td>6.271699</td>\n",
       "    </tr>\n",
       "    <tr>\n",
       "      <td>2498</td>\n",
       "      <td>1591.0</td>\n",
       "      <td>1594.0</td>\n",
       "      <td>5</td>\n",
       "      <td>767.817794</td>\n",
       "      <td>629.928649</td>\n",
       "      <td>438.905595</td>\n",
       "      <td>750.0</td>\n",
       "      <td>0.0</td>\n",
       "      <td>0.0</td>\n",
       "      <td>90.0</td>\n",
       "      <td>...</td>\n",
       "      <td>0.00000</td>\n",
       "      <td>0.0</td>\n",
       "      <td>0.0</td>\n",
       "      <td>0.0</td>\n",
       "      <td>0.0</td>\n",
       "      <td>0.0</td>\n",
       "      <td>0.0</td>\n",
       "      <td>0.0</td>\n",
       "      <td>1</td>\n",
       "      <td>14.953657</td>\n",
       "    </tr>\n",
       "    <tr>\n",
       "      <td>2499</td>\n",
       "      <td>1569.0</td>\n",
       "      <td>1603.0</td>\n",
       "      <td>3</td>\n",
       "      <td>1301.828445</td>\n",
       "      <td>1075.132183</td>\n",
       "      <td>733.110945</td>\n",
       "      <td>883.0</td>\n",
       "      <td>0.0</td>\n",
       "      <td>0.0</td>\n",
       "      <td>47.0</td>\n",
       "      <td>...</td>\n",
       "      <td>50.00528</td>\n",
       "      <td>0.0</td>\n",
       "      <td>0.0</td>\n",
       "      <td>0.0</td>\n",
       "      <td>0.0</td>\n",
       "      <td>0.0</td>\n",
       "      <td>0.0</td>\n",
       "      <td>0.0</td>\n",
       "      <td>2</td>\n",
       "      <td>11.336151</td>\n",
       "    </tr>\n",
       "  </tbody>\n",
       "</table>\n",
       "<p>2325 rows × 34 columns</p>\n",
       "</div>"
      ],
      "text/plain": [
       "      Initial_T  Final_T  count    heat_time  Total_Energy  \\\n",
       "key                                                          \n",
       "1        1571.0   1613.0      5  1442.377754   1207.804249   \n",
       "2        1581.0   1602.0      6   881.233565    733.816470   \n",
       "3        1596.0   1599.0      5   525.066777    443.583327   \n",
       "4        1601.0   1625.0      3   796.911309    670.663327   \n",
       "5        1576.0   1602.0      2  1199.137958    997.496095   \n",
       "...         ...      ...    ...          ...           ...   \n",
       "2495     1570.0   1591.0      3   778.818234    626.167357   \n",
       "2496     1554.0   1591.0      4   875.261419    727.868032   \n",
       "2497     1571.0   1589.0      2   556.930349    427.535518   \n",
       "2498     1591.0   1594.0      5   767.817794    629.928649   \n",
       "2499     1569.0   1603.0      3  1301.828445   1075.132183   \n",
       "\n",
       "      Total_ActiveEnergy  Total_ReactiveEnergy  Bulk 1  Bulk 2  Bulk 3  ...  \\\n",
       "key                                                                     ...   \n",
       "1             787.907510                1098.0     0.0     0.0     0.0  ...   \n",
       "2             487.590677                 811.0     0.0     0.0     0.0  ...   \n",
       "3             280.936835                 655.0     0.0     0.0     0.0  ...   \n",
       "4             429.935932                 741.0     0.0     0.0     0.0  ...   \n",
       "5             664.940090                 869.0     0.0     0.0     0.0  ...   \n",
       "...                  ...                   ...     ...     ...     ...  ...   \n",
       "2495          462.572488                 723.0     0.0     0.0    21.0  ...   \n",
       "2496          485.842067                 940.0     0.0     0.0     0.0  ...   \n",
       "2497          356.837023                 569.0     0.0     0.0     0.0  ...   \n",
       "2498          438.905595                 750.0     0.0     0.0    90.0  ...   \n",
       "2499          733.110945                 883.0     0.0     0.0    47.0  ...   \n",
       "\n",
       "        Wire 2  Wire 3  Wire 4  Wire 5  Wire 6  Wire 7  Wire 8  Wire 9  \\\n",
       "key                                                                      \n",
       "1      0.00000     0.0     0.0     0.0     0.0     0.0     0.0     0.0   \n",
       "2      0.00000     0.0     0.0     0.0     0.0     0.0     0.0     0.0   \n",
       "3      0.00000     0.0     0.0     0.0     0.0     0.0     0.0     0.0   \n",
       "4      0.00000     0.0     0.0     0.0     0.0     0.0     0.0     0.0   \n",
       "5      9.11456     0.0     0.0     0.0     0.0     0.0     0.0     0.0   \n",
       "...        ...     ...     ...     ...     ...     ...     ...     ...   \n",
       "2495   0.00000     0.0     0.0     0.0     0.0     0.0     0.0     0.0   \n",
       "2496   0.00000     0.0     0.0     0.0     0.0     0.0     0.0     0.0   \n",
       "2497   9.04800     0.0     0.0     0.0     0.0     0.0     0.0     0.0   \n",
       "2498   0.00000     0.0     0.0     0.0     0.0     0.0     0.0     0.0   \n",
       "2499  50.00528     0.0     0.0     0.0     0.0     0.0     0.0     0.0   \n",
       "\n",
       "      count_wire      Газ 1  \n",
       "key                          \n",
       "1              1  29.749986  \n",
       "2              1  12.555561  \n",
       "3              1  28.554793  \n",
       "4              1  18.841219  \n",
       "5              2   5.413692  \n",
       "...          ...        ...  \n",
       "2495           1   7.125735  \n",
       "2496           1   9.412616  \n",
       "2497           2   6.271699  \n",
       "2498           1  14.953657  \n",
       "2499           2  11.336151  \n",
       "\n",
       "[2325 rows x 34 columns]"
      ]
     },
     "execution_count": 47,
     "metadata": {},
     "output_type": "execute_result"
    }
   ],
   "source": [
    "#обединение датасетов\n",
    "data_joined = pd.concat([x.set_index('key') for x in data_list], axis=1, join='inner')\n",
    "\n",
    "data_joined"
   ]
  },
  {
   "cell_type": "code",
   "execution_count": 48,
   "metadata": {
    "scrolled": false
   },
   "outputs": [
    {
     "name": "stdout",
     "output_type": "stream",
     "text": [
      "<class 'pandas.core.frame.DataFrame'>\n",
      "Int64Index: 2325 entries, 1 to 2499\n",
      "Data columns (total 34 columns):\n",
      "Initial_T               2325 non-null float64\n",
      "Final_T                 2325 non-null float64\n",
      "count                   2325 non-null int64\n",
      "heat_time               2325 non-null float64\n",
      "Total_Energy            2325 non-null float64\n",
      "Total_ActiveEnergy      2325 non-null float64\n",
      "Total_ReactiveEnergy    2325 non-null float64\n",
      "Bulk 1                  2325 non-null float64\n",
      "Bulk 2                  2325 non-null float64\n",
      "Bulk 3                  2325 non-null float64\n",
      "Bulk 4                  2325 non-null float64\n",
      "Bulk 5                  2325 non-null float64\n",
      "Bulk 6                  2325 non-null float64\n",
      "Bulk 7                  2325 non-null float64\n",
      "Bulk 8                  2325 non-null float64\n",
      "Bulk 9                  2325 non-null float64\n",
      "Bulk 10                 2325 non-null float64\n",
      "Bulk 11                 2325 non-null float64\n",
      "Bulk 12                 2325 non-null float64\n",
      "Bulk 13                 2325 non-null float64\n",
      "Bulk 14                 2325 non-null float64\n",
      "Bulk 15                 2325 non-null float64\n",
      "count_bulk              2325 non-null int64\n",
      "Wire 1                  2325 non-null float64\n",
      "Wire 2                  2325 non-null float64\n",
      "Wire 3                  2325 non-null float64\n",
      "Wire 4                  2325 non-null float64\n",
      "Wire 5                  2325 non-null float64\n",
      "Wire 6                  2325 non-null float64\n",
      "Wire 7                  2325 non-null float64\n",
      "Wire 8                  2325 non-null float64\n",
      "Wire 9                  2325 non-null float64\n",
      "count_wire              2325 non-null int64\n",
      "Газ 1                   2325 non-null float64\n",
      "dtypes: float64(31), int64(3)\n",
      "memory usage: 635.7 KB\n"
     ]
    }
   ],
   "source": [
    "data_joined.info()"
   ]
  },
  {
   "cell_type": "markdown",
   "metadata": {},
   "source": [
    "Рассчитаем дескриптивную статистику для всего датасета. "
   ]
  },
  {
   "cell_type": "code",
   "execution_count": 49,
   "metadata": {},
   "outputs": [],
   "source": [
    "#data_joined = data_joined.loc[(data_joined.loc[:,'Final_T'] > 1560) &\\\n",
    "#                              (data_joined.loc[:,'Final_T'] < 1625)]"
   ]
  },
  {
   "cell_type": "code",
   "execution_count": 50,
   "metadata": {},
   "outputs": [],
   "source": [
    "#расчет интерквартильного размаха\n",
    "iqr = data_joined['Final_T'].describe()[6] - data_joined['Final_T'].describe()[4]\n",
    "\n",
    "#расчет нижней границы температуры\n",
    "range_low = data_joined['Final_T'].describe()[4] - 3 * iqr\n",
    "\n",
    "#расчет верхней границы температуры\n",
    "range_high = data_joined['Final_T'].describe()[6] + 3 * iqr"
   ]
  },
  {
   "cell_type": "code",
   "execution_count": 51,
   "metadata": {},
   "outputs": [
    {
     "name": "stdout",
     "output_type": "stream",
     "text": [
      "Нижний предел температуры 1554.0\n",
      "Верхний предел температуры 1631.0\n"
     ]
    }
   ],
   "source": [
    "#вывод диапазона температур\n",
    "print('Нижний предел температуры', range_low)\n",
    "print('Верхний предел температуры', range_high)"
   ]
  },
  {
   "cell_type": "markdown",
   "metadata": {},
   "source": [
    "Диапазон температур слегка изменился по сравнению с прежними оценками."
   ]
  },
  {
   "cell_type": "code",
   "execution_count": 52,
   "metadata": {},
   "outputs": [],
   "source": [
    "#исключение аномальных значений температур из рассмотрения\n",
    "data_joined = data_joined.loc[(data_joined.loc[:,'Final_T'] > range_low) &\\\n",
    "                              (data_joined.loc[:,'Final_T'] < range_high)]"
   ]
  },
  {
   "cell_type": "code",
   "execution_count": 53,
   "metadata": {
    "scrolled": true
   },
   "outputs": [
    {
     "data": {
      "image/png": "[encoded data removed]",
      "text/plain": [
       "<Figure size 432x288 with 1 Axes>"
      ]
     },
     "metadata": {
      "needs_background": "light"
     },
     "output_type": "display_data"
    }
   ],
   "source": [
    "#построим график распределения разности температур\n",
    "data_joined['Final_T'].hist(bins = 100, color = 'blue');\n",
    "plt.title('Распределение разности конечной и начальной температур');"
   ]
  },
  {
   "cell_type": "markdown",
   "metadata": {},
   "source": [
    "На гистограмме температур видны значения сильно отступающие от других значений температур. Можно полагать, что это также аномальные выбросы. Посчитаем сколько таких выбросов (записей с температурой меньше 1560 градусов) и если их мало исключим их из рассмотрения."
   ]
  },
  {
   "cell_type": "code",
   "execution_count": 54,
   "metadata": {
    "scrolled": true
   },
   "outputs": [
    {
     "data": {
      "text/html": [
       "<div>\n",
       "<style scoped>\n",
       "    .dataframe tbody tr th:only-of-type {\n",
       "        vertical-align: middle;\n",
       "    }\n",
       "\n",
       "    .dataframe tbody tr th {\n",
       "        vertical-align: top;\n",
       "    }\n",
       "\n",
       "    .dataframe thead th {\n",
       "        text-align: right;\n",
       "    }\n",
       "</style>\n",
       "<table border=\"1\" class=\"dataframe\">\n",
       "  <thead>\n",
       "    <tr style=\"text-align: right;\">\n",
       "      <th></th>\n",
       "      <th>Initial_T</th>\n",
       "      <th>Final_T</th>\n",
       "      <th>count</th>\n",
       "      <th>heat_time</th>\n",
       "      <th>Total_Energy</th>\n",
       "      <th>Total_ActiveEnergy</th>\n",
       "      <th>Total_ReactiveEnergy</th>\n",
       "      <th>Bulk 1</th>\n",
       "      <th>Bulk 2</th>\n",
       "      <th>Bulk 3</th>\n",
       "      <th>...</th>\n",
       "      <th>Wire 2</th>\n",
       "      <th>Wire 3</th>\n",
       "      <th>Wire 4</th>\n",
       "      <th>Wire 5</th>\n",
       "      <th>Wire 6</th>\n",
       "      <th>Wire 7</th>\n",
       "      <th>Wire 8</th>\n",
       "      <th>Wire 9</th>\n",
       "      <th>count_wire</th>\n",
       "      <th>Газ 1</th>\n",
       "    </tr>\n",
       "    <tr>\n",
       "      <th>key</th>\n",
       "      <th></th>\n",
       "      <th></th>\n",
       "      <th></th>\n",
       "      <th></th>\n",
       "      <th></th>\n",
       "      <th></th>\n",
       "      <th></th>\n",
       "      <th></th>\n",
       "      <th></th>\n",
       "      <th></th>\n",
       "      <th></th>\n",
       "      <th></th>\n",
       "      <th></th>\n",
       "      <th></th>\n",
       "      <th></th>\n",
       "      <th></th>\n",
       "      <th></th>\n",
       "      <th></th>\n",
       "      <th></th>\n",
       "      <th></th>\n",
       "      <th></th>\n",
       "    </tr>\n",
       "  </thead>\n",
       "  <tbody>\n",
       "    <tr>\n",
       "      <td>1362</td>\n",
       "      <td>1546.0</td>\n",
       "      <td>1556.0</td>\n",
       "      <td>7</td>\n",
       "      <td>415.908306</td>\n",
       "      <td>308.845714</td>\n",
       "      <td>278.528741</td>\n",
       "      <td>654.0</td>\n",
       "      <td>0.0</td>\n",
       "      <td>0.0</td>\n",
       "      <td>0.0</td>\n",
       "      <td>...</td>\n",
       "      <td>0.0</td>\n",
       "      <td>0.000000</td>\n",
       "      <td>0.000000</td>\n",
       "      <td>0.0</td>\n",
       "      <td>0.000000</td>\n",
       "      <td>0.0</td>\n",
       "      <td>0.0</td>\n",
       "      <td>0.0</td>\n",
       "      <td>1</td>\n",
       "      <td>6.170417</td>\n",
       "    </tr>\n",
       "    <tr>\n",
       "      <td>2109</td>\n",
       "      <td>1619.0</td>\n",
       "      <td>1556.0</td>\n",
       "      <td>9</td>\n",
       "      <td>538.786301</td>\n",
       "      <td>414.495159</td>\n",
       "      <td>343.939177</td>\n",
       "      <td>814.0</td>\n",
       "      <td>34.0</td>\n",
       "      <td>258.0</td>\n",
       "      <td>0.0</td>\n",
       "      <td>...</td>\n",
       "      <td>0.0</td>\n",
       "      <td>93.117027</td>\n",
       "      <td>43.244242</td>\n",
       "      <td>0.0</td>\n",
       "      <td>73.170247</td>\n",
       "      <td>0.0</td>\n",
       "      <td>0.0</td>\n",
       "      <td>0.0</td>\n",
       "      <td>4</td>\n",
       "      <td>17.790213</td>\n",
       "    </tr>\n",
       "  </tbody>\n",
       "</table>\n",
       "<p>2 rows × 34 columns</p>\n",
       "</div>"
      ],
      "text/plain": [
       "      Initial_T  Final_T  count   heat_time  Total_Energy  Total_ActiveEnergy  \\\n",
       "key                                                                             \n",
       "1362     1546.0   1556.0      7  415.908306    308.845714          278.528741   \n",
       "2109     1619.0   1556.0      9  538.786301    414.495159          343.939177   \n",
       "\n",
       "      Total_ReactiveEnergy  Bulk 1  Bulk 2  Bulk 3  ...  Wire 2     Wire 3  \\\n",
       "key                                                 ...                      \n",
       "1362                 654.0     0.0     0.0     0.0  ...     0.0   0.000000   \n",
       "2109                 814.0    34.0   258.0     0.0  ...     0.0  93.117027   \n",
       "\n",
       "         Wire 4  Wire 5     Wire 6  Wire 7  Wire 8  Wire 9  count_wire  \\\n",
       "key                                                                      \n",
       "1362   0.000000     0.0   0.000000     0.0     0.0     0.0           1   \n",
       "2109  43.244242     0.0  73.170247     0.0     0.0     0.0           4   \n",
       "\n",
       "          Газ 1  \n",
       "key              \n",
       "1362   6.170417  \n",
       "2109  17.790213  \n",
       "\n",
       "[2 rows x 34 columns]"
      ]
     },
     "execution_count": 54,
     "metadata": {},
     "output_type": "execute_result"
    }
   ],
   "source": [
    "#выделение температур ниже 1560\n",
    "data_q = data_joined.loc[data_joined.loc[:,'Final_T'] <= 1560]\n",
    "data_q"
   ]
  },
  {
   "cell_type": "markdown",
   "metadata": {},
   "source": [
    "Из данных видно, что таких температур всего две и они лежат близко к границам экстремальных выбросов. Исключим их из рассмотрения."
   ]
  },
  {
   "cell_type": "code",
   "execution_count": 55,
   "metadata": {},
   "outputs": [],
   "source": [
    "#исключение аномальных значений температур из рассмотрения\n",
    "data_joined = data_joined.loc[data_joined.loc[:,'Final_T'] > 1560]"
   ]
  },
  {
   "cell_type": "code",
   "execution_count": 56,
   "metadata": {
    "scrolled": false
   },
   "outputs": [
    {
     "data": {
      "text/html": [
       "<div>\n",
       "<style scoped>\n",
       "    .dataframe tbody tr th:only-of-type {\n",
       "        vertical-align: middle;\n",
       "    }\n",
       "\n",
       "    .dataframe tbody tr th {\n",
       "        vertical-align: top;\n",
       "    }\n",
       "\n",
       "    .dataframe thead th {\n",
       "        text-align: right;\n",
       "    }\n",
       "</style>\n",
       "<table border=\"1\" class=\"dataframe\">\n",
       "  <thead>\n",
       "    <tr style=\"text-align: right;\">\n",
       "      <th></th>\n",
       "      <th>Initial_T</th>\n",
       "      <th>Final_T</th>\n",
       "      <th>count</th>\n",
       "      <th>heat_time</th>\n",
       "      <th>Total_Energy</th>\n",
       "      <th>Total_ActiveEnergy</th>\n",
       "      <th>Total_ReactiveEnergy</th>\n",
       "      <th>Bulk 1</th>\n",
       "      <th>Bulk 2</th>\n",
       "      <th>Bulk 3</th>\n",
       "      <th>...</th>\n",
       "      <th>Wire 2</th>\n",
       "      <th>Wire 3</th>\n",
       "      <th>Wire 4</th>\n",
       "      <th>Wire 5</th>\n",
       "      <th>Wire 6</th>\n",
       "      <th>Wire 7</th>\n",
       "      <th>Wire 8</th>\n",
       "      <th>Wire 9</th>\n",
       "      <th>count_wire</th>\n",
       "      <th>Газ 1</th>\n",
       "    </tr>\n",
       "  </thead>\n",
       "  <tbody>\n",
       "    <tr>\n",
       "      <td>count</td>\n",
       "      <td>2311.000000</td>\n",
       "      <td>2311.000000</td>\n",
       "      <td>2311.000000</td>\n",
       "      <td>2311.000000</td>\n",
       "      <td>2311.000000</td>\n",
       "      <td>2311.000000</td>\n",
       "      <td>2311.000000</td>\n",
       "      <td>2311.00000</td>\n",
       "      <td>2311.000000</td>\n",
       "      <td>2311.000000</td>\n",
       "      <td>...</td>\n",
       "      <td>2311.000000</td>\n",
       "      <td>2311.000000</td>\n",
       "      <td>2311.000000</td>\n",
       "      <td>2311.0</td>\n",
       "      <td>2311.000000</td>\n",
       "      <td>2311.0</td>\n",
       "      <td>2311.000000</td>\n",
       "      <td>2311.000000</td>\n",
       "      <td>2311.000000</td>\n",
       "      <td>2311.000000</td>\n",
       "    </tr>\n",
       "    <tr>\n",
       "      <td>mean</td>\n",
       "      <td>1587.229338</td>\n",
       "      <td>1593.434444</td>\n",
       "      <td>4.962787</td>\n",
       "      <td>902.165275</td>\n",
       "      <td>720.382005</td>\n",
       "      <td>539.713435</td>\n",
       "      <td>806.716140</td>\n",
       "      <td>3.33016</td>\n",
       "      <td>0.671571</td>\n",
       "      <td>47.537430</td>\n",
       "      <td>...</td>\n",
       "      <td>17.712292</td>\n",
       "      <td>3.016026</td>\n",
       "      <td>0.075449</td>\n",
       "      <td>0.0</td>\n",
       "      <td>0.761604</td>\n",
       "      <td>0.0</td>\n",
       "      <td>0.313736</td>\n",
       "      <td>0.319583</td>\n",
       "      <td>1.389009</td>\n",
       "      <td>11.331806</td>\n",
       "    </tr>\n",
       "    <tr>\n",
       "      <td>std</td>\n",
       "      <td>23.420626</td>\n",
       "      <td>10.658814</td>\n",
       "      <td>1.760657</td>\n",
       "      <td>648.450203</td>\n",
       "      <td>520.229745</td>\n",
       "      <td>389.156970</td>\n",
       "      <td>338.925654</td>\n",
       "      <td>12.21930</td>\n",
       "      <td>13.257322</td>\n",
       "      <td>75.362134</td>\n",
       "      <td>...</td>\n",
       "      <td>33.716699</td>\n",
       "      <td>27.665453</td>\n",
       "      <td>1.851344</td>\n",
       "      <td>0.0</td>\n",
       "      <td>7.697636</td>\n",
       "      <td>0.0</td>\n",
       "      <td>4.419741</td>\n",
       "      <td>3.469888</td>\n",
       "      <td>0.539874</td>\n",
       "      <td>6.287686</td>\n",
       "    </tr>\n",
       "    <tr>\n",
       "      <td>min</td>\n",
       "      <td>1519.000000</td>\n",
       "      <td>1564.000000</td>\n",
       "      <td>2.000000</td>\n",
       "      <td>15.158096</td>\n",
       "      <td>10.614857</td>\n",
       "      <td>10.127814</td>\n",
       "      <td>57.000000</td>\n",
       "      <td>0.00000</td>\n",
       "      <td>0.000000</td>\n",
       "      <td>0.000000</td>\n",
       "      <td>...</td>\n",
       "      <td>0.000000</td>\n",
       "      <td>0.000000</td>\n",
       "      <td>0.000000</td>\n",
       "      <td>0.0</td>\n",
       "      <td>0.000000</td>\n",
       "      <td>0.0</td>\n",
       "      <td>0.000000</td>\n",
       "      <td>0.000000</td>\n",
       "      <td>1.000000</td>\n",
       "      <td>0.008399</td>\n",
       "    </tr>\n",
       "    <tr>\n",
       "      <td>25%</td>\n",
       "      <td>1571.000000</td>\n",
       "      <td>1587.000000</td>\n",
       "      <td>4.000000</td>\n",
       "      <td>465.266815</td>\n",
       "      <td>372.415455</td>\n",
       "      <td>276.884063</td>\n",
       "      <td>581.000000</td>\n",
       "      <td>0.00000</td>\n",
       "      <td>0.000000</td>\n",
       "      <td>0.000000</td>\n",
       "      <td>...</td>\n",
       "      <td>0.000000</td>\n",
       "      <td>0.000000</td>\n",
       "      <td>0.000000</td>\n",
       "      <td>0.0</td>\n",
       "      <td>0.000000</td>\n",
       "      <td>0.0</td>\n",
       "      <td>0.000000</td>\n",
       "      <td>0.000000</td>\n",
       "      <td>1.000000</td>\n",
       "      <td>7.274879</td>\n",
       "    </tr>\n",
       "    <tr>\n",
       "      <td>50%</td>\n",
       "      <td>1587.000000</td>\n",
       "      <td>1593.000000</td>\n",
       "      <td>5.000000</td>\n",
       "      <td>767.825640</td>\n",
       "      <td>610.123660</td>\n",
       "      <td>458.550936</td>\n",
       "      <td>777.000000</td>\n",
       "      <td>0.00000</td>\n",
       "      <td>0.000000</td>\n",
       "      <td>0.000000</td>\n",
       "      <td>...</td>\n",
       "      <td>0.000000</td>\n",
       "      <td>0.000000</td>\n",
       "      <td>0.000000</td>\n",
       "      <td>0.0</td>\n",
       "      <td>0.000000</td>\n",
       "      <td>0.0</td>\n",
       "      <td>0.000000</td>\n",
       "      <td>0.000000</td>\n",
       "      <td>1.000000</td>\n",
       "      <td>10.088416</td>\n",
       "    </tr>\n",
       "    <tr>\n",
       "      <td>75%</td>\n",
       "      <td>1603.000000</td>\n",
       "      <td>1598.000000</td>\n",
       "      <td>6.000000</td>\n",
       "      <td>1165.524923</td>\n",
       "      <td>928.087295</td>\n",
       "      <td>695.030504</td>\n",
       "      <td>992.500000</td>\n",
       "      <td>0.00000</td>\n",
       "      <td>0.000000</td>\n",
       "      <td>80.000000</td>\n",
       "      <td>...</td>\n",
       "      <td>23.156640</td>\n",
       "      <td>0.000000</td>\n",
       "      <td>0.000000</td>\n",
       "      <td>0.0</td>\n",
       "      <td>0.000000</td>\n",
       "      <td>0.0</td>\n",
       "      <td>0.000000</td>\n",
       "      <td>0.000000</td>\n",
       "      <td>2.000000</td>\n",
       "      <td>14.183340</td>\n",
       "    </tr>\n",
       "    <tr>\n",
       "      <td>max</td>\n",
       "      <td>1660.000000</td>\n",
       "      <td>1629.000000</td>\n",
       "      <td>16.000000</td>\n",
       "      <td>10630.980668</td>\n",
       "      <td>8624.443403</td>\n",
       "      <td>6210.257223</td>\n",
       "      <td>4189.000000</td>\n",
       "      <td>185.00000</td>\n",
       "      <td>325.000000</td>\n",
       "      <td>454.000000</td>\n",
       "      <td>...</td>\n",
       "      <td>282.780152</td>\n",
       "      <td>385.008668</td>\n",
       "      <td>58.046562</td>\n",
       "      <td>0.0</td>\n",
       "      <td>180.454575</td>\n",
       "      <td>0.0</td>\n",
       "      <td>102.762401</td>\n",
       "      <td>62.025600</td>\n",
       "      <td>4.000000</td>\n",
       "      <td>77.995040</td>\n",
       "    </tr>\n",
       "  </tbody>\n",
       "</table>\n",
       "<p>8 rows × 34 columns</p>\n",
       "</div>"
      ],
      "text/plain": [
       "         Initial_T      Final_T        count     heat_time  Total_Energy  \\\n",
       "count  2311.000000  2311.000000  2311.000000   2311.000000   2311.000000   \n",
       "mean   1587.229338  1593.434444     4.962787    902.165275    720.382005   \n",
       "std      23.420626    10.658814     1.760657    648.450203    520.229745   \n",
       "min    1519.000000  1564.000000     2.000000     15.158096     10.614857   \n",
       "25%    1571.000000  1587.000000     4.000000    465.266815    372.415455   \n",
       "50%    1587.000000  1593.000000     5.000000    767.825640    610.123660   \n",
       "75%    1603.000000  1598.000000     6.000000   1165.524923    928.087295   \n",
       "max    1660.000000  1629.000000    16.000000  10630.980668   8624.443403   \n",
       "\n",
       "       Total_ActiveEnergy  Total_ReactiveEnergy      Bulk 1       Bulk 2  \\\n",
       "count         2311.000000           2311.000000  2311.00000  2311.000000   \n",
       "mean           539.713435            806.716140     3.33016     0.671571   \n",
       "std            389.156970            338.925654    12.21930    13.257322   \n",
       "min             10.127814             57.000000     0.00000     0.000000   \n",
       "25%            276.884063            581.000000     0.00000     0.000000   \n",
       "50%            458.550936            777.000000     0.00000     0.000000   \n",
       "75%            695.030504            992.500000     0.00000     0.000000   \n",
       "max           6210.257223           4189.000000   185.00000   325.000000   \n",
       "\n",
       "            Bulk 3  ...       Wire 2       Wire 3       Wire 4  Wire 5  \\\n",
       "count  2311.000000  ...  2311.000000  2311.000000  2311.000000  2311.0   \n",
       "mean     47.537430  ...    17.712292     3.016026     0.075449     0.0   \n",
       "std      75.362134  ...    33.716699    27.665453     1.851344     0.0   \n",
       "min       0.000000  ...     0.000000     0.000000     0.000000     0.0   \n",
       "25%       0.000000  ...     0.000000     0.000000     0.000000     0.0   \n",
       "50%       0.000000  ...     0.000000     0.000000     0.000000     0.0   \n",
       "75%      80.000000  ...    23.156640     0.000000     0.000000     0.0   \n",
       "max     454.000000  ...   282.780152   385.008668    58.046562     0.0   \n",
       "\n",
       "            Wire 6  Wire 7       Wire 8       Wire 9   count_wire        Газ 1  \n",
       "count  2311.000000  2311.0  2311.000000  2311.000000  2311.000000  2311.000000  \n",
       "mean      0.761604     0.0     0.313736     0.319583     1.389009    11.331806  \n",
       "std       7.697636     0.0     4.419741     3.469888     0.539874     6.287686  \n",
       "min       0.000000     0.0     0.000000     0.000000     1.000000     0.008399  \n",
       "25%       0.000000     0.0     0.000000     0.000000     1.000000     7.274879  \n",
       "50%       0.000000     0.0     0.000000     0.000000     1.000000    10.088416  \n",
       "75%       0.000000     0.0     0.000000     0.000000     2.000000    14.183340  \n",
       "max     180.454575     0.0   102.762401    62.025600     4.000000    77.995040  \n",
       "\n",
       "[8 rows x 34 columns]"
      ]
     },
     "execution_count": 56,
     "metadata": {},
     "output_type": "execute_result"
    }
   ],
   "source": [
    "data_joined.describe()"
   ]
  },
  {
   "cell_type": "markdown",
   "metadata": {},
   "source": [
    "#### Исследование мультиколлинеарности"
   ]
  },
  {
   "cell_type": "markdown",
   "metadata": {},
   "source": [
    "Исследуем мультиколлинераность на датасете, содержащем только признаки."
   ]
  },
  {
   "cell_type": "code",
   "execution_count": 57,
   "metadata": {},
   "outputs": [],
   "source": [
    "#выделение признаков\n",
    "features = data_joined.drop(['Final_T'], axis = 1).copy(deep = True)\n",
    "\n",
    "#рассчитаем матрицу парных корреляций\n",
    "matrix = features.corr('pearson').to_numpy()"
   ]
  },
  {
   "cell_type": "code",
   "execution_count": 58,
   "metadata": {},
   "outputs": [],
   "source": [
    "#построение матрицы парных корреляций\n",
    "def PlotCorrelationMatrix(matrix):\n",
    "  \n",
    "    #построение матрицы парных корреляций\n",
    "    fig, axes = plt.subplots(1, 1, figsize=(12,8))\n",
    "    plt.suptitle('Матрица парных корреляций');\n",
    "    \n",
    "    image = axes.imshow(pd.DataFrame(matrix), vmin = -0.6, vmax = 1, cmap=\"Accent\")\n",
    "    \n",
    "    axes.set_xlabel('номер колонки')\n",
    "    axes.set_ylabel('номер колонки')\n",
    "    plt.colorbar(image)"
   ]
  },
  {
   "cell_type": "code",
   "execution_count": 59,
   "metadata": {
    "scrolled": false
   },
   "outputs": [
    {
     "data": {
      "image/png": "[encoded data removed]",
      "text/plain": [
       "<Figure size 864x576 with 2 Axes>"
      ]
     },
     "metadata": {
      "needs_background": "light"
     },
     "output_type": "display_data"
    }
   ],
   "source": [
    "#визуализация матрицы парных корреляций\n",
    "PlotCorrelationMatrix(matrix)"
   ]
  },
  {
   "cell_type": "markdown",
   "metadata": {},
   "source": [
    "Визуальный анализ графического представления матрицы парных корреляций показывает, что существует некоторое количество колонок, значения в которых сильно коррелированны друг с другом. При этом степень корреляция высока - почти единица. Уберем из рассмотрения все колонки, коэффициент корреляции между которыми превышает критический. В качестве порога - возбьем величину равную 0.6. "
   ]
  },
  {
   "cell_type": "markdown",
   "metadata": {},
   "source": [
    "Также на графике матрицы парных корреляций есть белые полосы. Исследуем этот вопрос подробнее."
   ]
  },
  {
   "cell_type": "code",
   "execution_count": 60,
   "metadata": {
    "scrolled": false
   },
   "outputs": [
    {
     "data": {
      "text/html": [
       "<div>\n",
       "<style scoped>\n",
       "    .dataframe tbody tr th:only-of-type {\n",
       "        vertical-align: middle;\n",
       "    }\n",
       "\n",
       "    .dataframe tbody tr th {\n",
       "        vertical-align: top;\n",
       "    }\n",
       "\n",
       "    .dataframe thead th {\n",
       "        text-align: right;\n",
       "    }\n",
       "</style>\n",
       "<table border=\"1\" class=\"dataframe\">\n",
       "  <thead>\n",
       "    <tr style=\"text-align: right;\">\n",
       "      <th></th>\n",
       "      <th>Initial_T</th>\n",
       "      <th>count</th>\n",
       "      <th>heat_time</th>\n",
       "      <th>Total_Energy</th>\n",
       "      <th>Total_ActiveEnergy</th>\n",
       "      <th>Total_ReactiveEnergy</th>\n",
       "      <th>Bulk 1</th>\n",
       "      <th>Bulk 2</th>\n",
       "      <th>Bulk 3</th>\n",
       "      <th>Bulk 4</th>\n",
       "      <th>...</th>\n",
       "      <th>Wire 2</th>\n",
       "      <th>Wire 3</th>\n",
       "      <th>Wire 4</th>\n",
       "      <th>Wire 5</th>\n",
       "      <th>Wire 6</th>\n",
       "      <th>Wire 7</th>\n",
       "      <th>Wire 8</th>\n",
       "      <th>Wire 9</th>\n",
       "      <th>count_wire</th>\n",
       "      <th>Газ 1</th>\n",
       "    </tr>\n",
       "  </thead>\n",
       "  <tbody>\n",
       "    <tr>\n",
       "      <td>Initial_T</td>\n",
       "      <td>1.000000</td>\n",
       "      <td>0.184639</td>\n",
       "      <td>-0.428644</td>\n",
       "      <td>-0.430921</td>\n",
       "      <td>-0.418545</td>\n",
       "      <td>-0.399224</td>\n",
       "      <td>0.064264</td>\n",
       "      <td>0.096832</td>\n",
       "      <td>-0.110758</td>\n",
       "      <td>0.161573</td>\n",
       "      <td>...</td>\n",
       "      <td>-0.099231</td>\n",
       "      <td>-0.019581</td>\n",
       "      <td>0.080616</td>\n",
       "      <td>NaN</td>\n",
       "      <td>-0.032500</td>\n",
       "      <td>NaN</td>\n",
       "      <td>-0.029756</td>\n",
       "      <td>0.003218</td>\n",
       "      <td>-0.088269</td>\n",
       "      <td>0.018939</td>\n",
       "    </tr>\n",
       "    <tr>\n",
       "      <td>count</td>\n",
       "      <td>0.184639</td>\n",
       "      <td>1.000000</td>\n",
       "      <td>0.261141</td>\n",
       "      <td>0.257394</td>\n",
       "      <td>0.263397</td>\n",
       "      <td>0.385130</td>\n",
       "      <td>0.089469</td>\n",
       "      <td>0.054948</td>\n",
       "      <td>0.029902</td>\n",
       "      <td>0.005054</td>\n",
       "      <td>...</td>\n",
       "      <td>0.056036</td>\n",
       "      <td>0.071690</td>\n",
       "      <td>0.031122</td>\n",
       "      <td>NaN</td>\n",
       "      <td>0.014238</td>\n",
       "      <td>NaN</td>\n",
       "      <td>-0.008935</td>\n",
       "      <td>0.001249</td>\n",
       "      <td>0.028444</td>\n",
       "      <td>0.307837</td>\n",
       "    </tr>\n",
       "    <tr>\n",
       "      <td>heat_time</td>\n",
       "      <td>-0.428644</td>\n",
       "      <td>0.261141</td>\n",
       "      <td>1.000000</td>\n",
       "      <td>0.996995</td>\n",
       "      <td>0.992711</td>\n",
       "      <td>0.899981</td>\n",
       "      <td>0.062022</td>\n",
       "      <td>0.006348</td>\n",
       "      <td>0.063230</td>\n",
       "      <td>-0.039701</td>\n",
       "      <td>...</td>\n",
       "      <td>0.017345</td>\n",
       "      <td>0.001190</td>\n",
       "      <td>0.015767</td>\n",
       "      <td>NaN</td>\n",
       "      <td>0.035244</td>\n",
       "      <td>NaN</td>\n",
       "      <td>0.001104</td>\n",
       "      <td>-0.012294</td>\n",
       "      <td>-0.010951</td>\n",
       "      <td>0.319829</td>\n",
       "    </tr>\n",
       "    <tr>\n",
       "      <td>Total_Energy</td>\n",
       "      <td>-0.430921</td>\n",
       "      <td>0.257394</td>\n",
       "      <td>0.996995</td>\n",
       "      <td>1.000000</td>\n",
       "      <td>0.980516</td>\n",
       "      <td>0.894828</td>\n",
       "      <td>0.056579</td>\n",
       "      <td>0.005320</td>\n",
       "      <td>0.073239</td>\n",
       "      <td>-0.038859</td>\n",
       "      <td>...</td>\n",
       "      <td>0.017781</td>\n",
       "      <td>0.003438</td>\n",
       "      <td>0.014920</td>\n",
       "      <td>NaN</td>\n",
       "      <td>0.037898</td>\n",
       "      <td>NaN</td>\n",
       "      <td>0.003638</td>\n",
       "      <td>-0.012750</td>\n",
       "      <td>-0.007811</td>\n",
       "      <td>0.321050</td>\n",
       "    </tr>\n",
       "    <tr>\n",
       "      <td>Total_ActiveEnergy</td>\n",
       "      <td>-0.418545</td>\n",
       "      <td>0.263397</td>\n",
       "      <td>0.992711</td>\n",
       "      <td>0.980516</td>\n",
       "      <td>1.000000</td>\n",
       "      <td>0.896928</td>\n",
       "      <td>0.071456</td>\n",
       "      <td>0.008458</td>\n",
       "      <td>0.045746</td>\n",
       "      <td>-0.040243</td>\n",
       "      <td>...</td>\n",
       "      <td>0.016047</td>\n",
       "      <td>-0.002441</td>\n",
       "      <td>0.017421</td>\n",
       "      <td>NaN</td>\n",
       "      <td>0.030378</td>\n",
       "      <td>NaN</td>\n",
       "      <td>-0.003684</td>\n",
       "      <td>-0.011373</td>\n",
       "      <td>-0.016268</td>\n",
       "      <td>0.314582</td>\n",
       "    </tr>\n",
       "    <tr>\n",
       "      <td>Total_ReactiveEnergy</td>\n",
       "      <td>-0.399224</td>\n",
       "      <td>0.385130</td>\n",
       "      <td>0.899981</td>\n",
       "      <td>0.894828</td>\n",
       "      <td>0.896928</td>\n",
       "      <td>1.000000</td>\n",
       "      <td>0.093828</td>\n",
       "      <td>0.007843</td>\n",
       "      <td>0.094345</td>\n",
       "      <td>-0.032747</td>\n",
       "      <td>...</td>\n",
       "      <td>0.057256</td>\n",
       "      <td>0.025203</td>\n",
       "      <td>0.020184</td>\n",
       "      <td>NaN</td>\n",
       "      <td>0.027570</td>\n",
       "      <td>NaN</td>\n",
       "      <td>0.018241</td>\n",
       "      <td>-0.011443</td>\n",
       "      <td>0.014437</td>\n",
       "      <td>0.396068</td>\n",
       "    </tr>\n",
       "    <tr>\n",
       "      <td>Bulk 1</td>\n",
       "      <td>0.064264</td>\n",
       "      <td>0.089469</td>\n",
       "      <td>0.062022</td>\n",
       "      <td>0.056579</td>\n",
       "      <td>0.071456</td>\n",
       "      <td>0.093828</td>\n",
       "      <td>1.000000</td>\n",
       "      <td>0.155725</td>\n",
       "      <td>-0.006192</td>\n",
       "      <td>0.036498</td>\n",
       "      <td>...</td>\n",
       "      <td>-0.004940</td>\n",
       "      <td>-0.000753</td>\n",
       "      <td>0.098682</td>\n",
       "      <td>NaN</td>\n",
       "      <td>0.084305</td>\n",
       "      <td>NaN</td>\n",
       "      <td>-0.019354</td>\n",
       "      <td>0.012020</td>\n",
       "      <td>-0.007337</td>\n",
       "      <td>0.213408</td>\n",
       "    </tr>\n",
       "    <tr>\n",
       "      <td>Bulk 2</td>\n",
       "      <td>0.096832</td>\n",
       "      <td>0.054948</td>\n",
       "      <td>0.006348</td>\n",
       "      <td>0.005320</td>\n",
       "      <td>0.008458</td>\n",
       "      <td>0.007843</td>\n",
       "      <td>0.155725</td>\n",
       "      <td>1.000000</td>\n",
       "      <td>-0.031967</td>\n",
       "      <td>0.022286</td>\n",
       "      <td>...</td>\n",
       "      <td>-0.026623</td>\n",
       "      <td>0.164586</td>\n",
       "      <td>0.760899</td>\n",
       "      <td>NaN</td>\n",
       "      <td>0.362505</td>\n",
       "      <td>NaN</td>\n",
       "      <td>-0.003597</td>\n",
       "      <td>-0.004668</td>\n",
       "      <td>0.132113</td>\n",
       "      <td>0.145281</td>\n",
       "    </tr>\n",
       "    <tr>\n",
       "      <td>Bulk 3</td>\n",
       "      <td>-0.110758</td>\n",
       "      <td>0.029902</td>\n",
       "      <td>0.063230</td>\n",
       "      <td>0.073239</td>\n",
       "      <td>0.045746</td>\n",
       "      <td>0.094345</td>\n",
       "      <td>-0.006192</td>\n",
       "      <td>-0.031967</td>\n",
       "      <td>1.000000</td>\n",
       "      <td>-0.294972</td>\n",
       "      <td>...</td>\n",
       "      <td>0.093544</td>\n",
       "      <td>0.011151</td>\n",
       "      <td>-0.025718</td>\n",
       "      <td>NaN</td>\n",
       "      <td>0.026200</td>\n",
       "      <td>NaN</td>\n",
       "      <td>0.004683</td>\n",
       "      <td>0.004404</td>\n",
       "      <td>0.068244</td>\n",
       "      <td>0.065972</td>\n",
       "    </tr>\n",
       "    <tr>\n",
       "      <td>Bulk 4</td>\n",
       "      <td>0.161573</td>\n",
       "      <td>0.005054</td>\n",
       "      <td>-0.039701</td>\n",
       "      <td>-0.038859</td>\n",
       "      <td>-0.040243</td>\n",
       "      <td>-0.032747</td>\n",
       "      <td>0.036498</td>\n",
       "      <td>0.022286</td>\n",
       "      <td>-0.294972</td>\n",
       "      <td>1.000000</td>\n",
       "      <td>...</td>\n",
       "      <td>-0.267962</td>\n",
       "      <td>-0.046284</td>\n",
       "      <td>0.020704</td>\n",
       "      <td>NaN</td>\n",
       "      <td>-0.032855</td>\n",
       "      <td>NaN</td>\n",
       "      <td>0.007957</td>\n",
       "      <td>-0.058207</td>\n",
       "      <td>-0.243313</td>\n",
       "      <td>0.010256</td>\n",
       "    </tr>\n",
       "    <tr>\n",
       "      <td>Bulk 5</td>\n",
       "      <td>0.053630</td>\n",
       "      <td>0.041239</td>\n",
       "      <td>-0.021132</td>\n",
       "      <td>-0.022504</td>\n",
       "      <td>-0.018646</td>\n",
       "      <td>0.003134</td>\n",
       "      <td>0.015727</td>\n",
       "      <td>0.248643</td>\n",
       "      <td>0.002456</td>\n",
       "      <td>0.018800</td>\n",
       "      <td>...</td>\n",
       "      <td>-0.006520</td>\n",
       "      <td>0.032030</td>\n",
       "      <td>0.216499</td>\n",
       "      <td>NaN</td>\n",
       "      <td>0.090973</td>\n",
       "      <td>NaN</td>\n",
       "      <td>-0.007624</td>\n",
       "      <td>-0.009892</td>\n",
       "      <td>0.010703</td>\n",
       "      <td>0.045950</td>\n",
       "    </tr>\n",
       "    <tr>\n",
       "      <td>Bulk 6</td>\n",
       "      <td>-0.126449</td>\n",
       "      <td>0.111743</td>\n",
       "      <td>0.129403</td>\n",
       "      <td>0.129944</td>\n",
       "      <td>0.126187</td>\n",
       "      <td>0.164327</td>\n",
       "      <td>-0.000480</td>\n",
       "      <td>-0.020467</td>\n",
       "      <td>0.064519</td>\n",
       "      <td>-0.252000</td>\n",
       "      <td>...</td>\n",
       "      <td>0.203764</td>\n",
       "      <td>-0.044000</td>\n",
       "      <td>-0.016466</td>\n",
       "      <td>NaN</td>\n",
       "      <td>-0.011541</td>\n",
       "      <td>NaN</td>\n",
       "      <td>-0.028680</td>\n",
       "      <td>-0.013632</td>\n",
       "      <td>0.103851</td>\n",
       "      <td>0.145398</td>\n",
       "    </tr>\n",
       "    <tr>\n",
       "      <td>Bulk 7</td>\n",
       "      <td>0.057312</td>\n",
       "      <td>0.052178</td>\n",
       "      <td>0.038276</td>\n",
       "      <td>0.036160</td>\n",
       "      <td>0.041635</td>\n",
       "      <td>0.068385</td>\n",
       "      <td>0.186715</td>\n",
       "      <td>0.492199</td>\n",
       "      <td>-0.012111</td>\n",
       "      <td>0.027886</td>\n",
       "      <td>...</td>\n",
       "      <td>0.028466</td>\n",
       "      <td>0.086137</td>\n",
       "      <td>0.689267</td>\n",
       "      <td>NaN</td>\n",
       "      <td>0.272588</td>\n",
       "      <td>NaN</td>\n",
       "      <td>-0.002579</td>\n",
       "      <td>-0.003347</td>\n",
       "      <td>0.104198</td>\n",
       "      <td>0.136908</td>\n",
       "    </tr>\n",
       "    <tr>\n",
       "      <td>Bulk 8</td>\n",
       "      <td>-0.011755</td>\n",
       "      <td>-0.011380</td>\n",
       "      <td>-0.008494</td>\n",
       "      <td>-0.008963</td>\n",
       "      <td>-0.007469</td>\n",
       "      <td>-0.011342</td>\n",
       "      <td>-0.005672</td>\n",
       "      <td>-0.001054</td>\n",
       "      <td>0.020838</td>\n",
       "      <td>-0.013202</td>\n",
       "      <td>...</td>\n",
       "      <td>0.018871</td>\n",
       "      <td>-0.002269</td>\n",
       "      <td>-0.000848</td>\n",
       "      <td>NaN</td>\n",
       "      <td>-0.002059</td>\n",
       "      <td>NaN</td>\n",
       "      <td>0.321035</td>\n",
       "      <td>-0.001917</td>\n",
       "      <td>0.062100</td>\n",
       "      <td>0.004358</td>\n",
       "    </tr>\n",
       "    <tr>\n",
       "      <td>Bulk 9</td>\n",
       "      <td>-0.033357</td>\n",
       "      <td>-0.015294</td>\n",
       "      <td>-0.001809</td>\n",
       "      <td>0.000699</td>\n",
       "      <td>-0.006478</td>\n",
       "      <td>0.013269</td>\n",
       "      <td>-0.019573</td>\n",
       "      <td>-0.003638</td>\n",
       "      <td>0.011193</td>\n",
       "      <td>-0.002849</td>\n",
       "      <td>...</td>\n",
       "      <td>0.066593</td>\n",
       "      <td>-0.007829</td>\n",
       "      <td>-0.002927</td>\n",
       "      <td>NaN</td>\n",
       "      <td>-0.007106</td>\n",
       "      <td>NaN</td>\n",
       "      <td>0.974968</td>\n",
       "      <td>-0.006615</td>\n",
       "      <td>0.196844</td>\n",
       "      <td>0.119475</td>\n",
       "    </tr>\n",
       "    <tr>\n",
       "      <td>Bulk 10</td>\n",
       "      <td>0.037657</td>\n",
       "      <td>-0.014968</td>\n",
       "      <td>-0.001521</td>\n",
       "      <td>-0.000099</td>\n",
       "      <td>-0.003647</td>\n",
       "      <td>-0.004414</td>\n",
       "      <td>-0.021713</td>\n",
       "      <td>-0.012292</td>\n",
       "      <td>-0.086088</td>\n",
       "      <td>-0.084710</td>\n",
       "      <td>...</td>\n",
       "      <td>-0.104638</td>\n",
       "      <td>-0.026454</td>\n",
       "      <td>-0.009889</td>\n",
       "      <td>NaN</td>\n",
       "      <td>-0.013337</td>\n",
       "      <td>NaN</td>\n",
       "      <td>-0.017225</td>\n",
       "      <td>-0.022349</td>\n",
       "      <td>-0.107281</td>\n",
       "      <td>-0.006994</td>\n",
       "    </tr>\n",
       "    <tr>\n",
       "      <td>Bulk 11</td>\n",
       "      <td>-0.113408</td>\n",
       "      <td>0.027565</td>\n",
       "      <td>0.067960</td>\n",
       "      <td>0.065950</td>\n",
       "      <td>0.069911</td>\n",
       "      <td>0.079891</td>\n",
       "      <td>-0.045051</td>\n",
       "      <td>-0.009544</td>\n",
       "      <td>-0.007148</td>\n",
       "      <td>-0.119526</td>\n",
       "      <td>...</td>\n",
       "      <td>0.062349</td>\n",
       "      <td>-0.020533</td>\n",
       "      <td>-0.007679</td>\n",
       "      <td>NaN</td>\n",
       "      <td>0.004639</td>\n",
       "      <td>NaN</td>\n",
       "      <td>-0.013375</td>\n",
       "      <td>-0.017353</td>\n",
       "      <td>0.032694</td>\n",
       "      <td>0.042067</td>\n",
       "    </tr>\n",
       "    <tr>\n",
       "      <td>Bulk 12</td>\n",
       "      <td>-0.077802</td>\n",
       "      <td>0.103858</td>\n",
       "      <td>0.483545</td>\n",
       "      <td>0.482100</td>\n",
       "      <td>0.481904</td>\n",
       "      <td>0.473481</td>\n",
       "      <td>0.346701</td>\n",
       "      <td>-0.067617</td>\n",
       "      <td>0.014965</td>\n",
       "      <td>0.106143</td>\n",
       "      <td>...</td>\n",
       "      <td>-0.100365</td>\n",
       "      <td>-0.111624</td>\n",
       "      <td>-0.054399</td>\n",
       "      <td>NaN</td>\n",
       "      <td>-0.010286</td>\n",
       "      <td>NaN</td>\n",
       "      <td>-0.056416</td>\n",
       "      <td>-0.042862</td>\n",
       "      <td>-0.142162</td>\n",
       "      <td>0.234501</td>\n",
       "    </tr>\n",
       "    <tr>\n",
       "      <td>Bulk 13</td>\n",
       "      <td>0.020922</td>\n",
       "      <td>0.111021</td>\n",
       "      <td>0.161943</td>\n",
       "      <td>0.163398</td>\n",
       "      <td>0.158547</td>\n",
       "      <td>0.130719</td>\n",
       "      <td>-0.009881</td>\n",
       "      <td>-0.003815</td>\n",
       "      <td>-0.013621</td>\n",
       "      <td>0.003326</td>\n",
       "      <td>...</td>\n",
       "      <td>-0.001621</td>\n",
       "      <td>-0.008210</td>\n",
       "      <td>-0.003069</td>\n",
       "      <td>NaN</td>\n",
       "      <td>-0.007451</td>\n",
       "      <td>NaN</td>\n",
       "      <td>-0.005346</td>\n",
       "      <td>-0.006936</td>\n",
       "      <td>0.007459</td>\n",
       "      <td>0.050590</td>\n",
       "    </tr>\n",
       "    <tr>\n",
       "      <td>Bulk 14</td>\n",
       "      <td>-0.177038</td>\n",
       "      <td>0.133921</td>\n",
       "      <td>0.446393</td>\n",
       "      <td>0.448040</td>\n",
       "      <td>0.438553</td>\n",
       "      <td>0.471047</td>\n",
       "      <td>0.230755</td>\n",
       "      <td>-0.096762</td>\n",
       "      <td>0.005715</td>\n",
       "      <td>-0.091168</td>\n",
       "      <td>...</td>\n",
       "      <td>0.033384</td>\n",
       "      <td>0.006748</td>\n",
       "      <td>-0.077846</td>\n",
       "      <td>NaN</td>\n",
       "      <td>-0.005290</td>\n",
       "      <td>NaN</td>\n",
       "      <td>0.043448</td>\n",
       "      <td>0.017943</td>\n",
       "      <td>0.009271</td>\n",
       "      <td>0.292153</td>\n",
       "    </tr>\n",
       "    <tr>\n",
       "      <td>Bulk 15</td>\n",
       "      <td>-0.057515</td>\n",
       "      <td>0.008139</td>\n",
       "      <td>0.313607</td>\n",
       "      <td>0.319373</td>\n",
       "      <td>0.302378</td>\n",
       "      <td>0.301131</td>\n",
       "      <td>0.011757</td>\n",
       "      <td>-0.072300</td>\n",
       "      <td>-0.017245</td>\n",
       "      <td>0.104335</td>\n",
       "      <td>...</td>\n",
       "      <td>-0.099755</td>\n",
       "      <td>-0.108623</td>\n",
       "      <td>-0.058166</td>\n",
       "      <td>NaN</td>\n",
       "      <td>0.003846</td>\n",
       "      <td>NaN</td>\n",
       "      <td>-0.090950</td>\n",
       "      <td>-0.037802</td>\n",
       "      <td>-0.107444</td>\n",
       "      <td>0.056318</td>\n",
       "    </tr>\n",
       "    <tr>\n",
       "      <td>count_bulk</td>\n",
       "      <td>-0.078451</td>\n",
       "      <td>0.043317</td>\n",
       "      <td>0.299145</td>\n",
       "      <td>0.302829</td>\n",
       "      <td>0.290750</td>\n",
       "      <td>0.345480</td>\n",
       "      <td>0.263761</td>\n",
       "      <td>0.016741</td>\n",
       "      <td>0.159235</td>\n",
       "      <td>0.104670</td>\n",
       "      <td>...</td>\n",
       "      <td>-0.082602</td>\n",
       "      <td>-0.100596</td>\n",
       "      <td>0.015850</td>\n",
       "      <td>NaN</td>\n",
       "      <td>0.039747</td>\n",
       "      <td>NaN</td>\n",
       "      <td>0.014923</td>\n",
       "      <td>-0.055588</td>\n",
       "      <td>-0.097931</td>\n",
       "      <td>0.218909</td>\n",
       "    </tr>\n",
       "    <tr>\n",
       "      <td>Wire 1</td>\n",
       "      <td>0.272578</td>\n",
       "      <td>0.190860</td>\n",
       "      <td>0.003985</td>\n",
       "      <td>0.010945</td>\n",
       "      <td>-0.006987</td>\n",
       "      <td>0.059219</td>\n",
       "      <td>0.035490</td>\n",
       "      <td>-0.120096</td>\n",
       "      <td>0.034256</td>\n",
       "      <td>0.301840</td>\n",
       "      <td>...</td>\n",
       "      <td>-0.073798</td>\n",
       "      <td>0.058095</td>\n",
       "      <td>-0.096338</td>\n",
       "      <td>NaN</td>\n",
       "      <td>-0.082475</td>\n",
       "      <td>NaN</td>\n",
       "      <td>0.017068</td>\n",
       "      <td>0.020841</td>\n",
       "      <td>-0.033236</td>\n",
       "      <td>0.142271</td>\n",
       "    </tr>\n",
       "    <tr>\n",
       "      <td>Wire 2</td>\n",
       "      <td>-0.099231</td>\n",
       "      <td>0.056036</td>\n",
       "      <td>0.017345</td>\n",
       "      <td>0.017781</td>\n",
       "      <td>0.016047</td>\n",
       "      <td>0.057256</td>\n",
       "      <td>-0.004940</td>\n",
       "      <td>-0.026623</td>\n",
       "      <td>0.093544</td>\n",
       "      <td>-0.267962</td>\n",
       "      <td>...</td>\n",
       "      <td>1.000000</td>\n",
       "      <td>0.099774</td>\n",
       "      <td>-0.021418</td>\n",
       "      <td>NaN</td>\n",
       "      <td>-0.051666</td>\n",
       "      <td>NaN</td>\n",
       "      <td>0.069137</td>\n",
       "      <td>0.213122</td>\n",
       "      <td>0.673103</td>\n",
       "      <td>0.110786</td>\n",
       "    </tr>\n",
       "    <tr>\n",
       "      <td>Wire 3</td>\n",
       "      <td>-0.019581</td>\n",
       "      <td>0.071690</td>\n",
       "      <td>0.001190</td>\n",
       "      <td>0.003438</td>\n",
       "      <td>-0.002441</td>\n",
       "      <td>0.025203</td>\n",
       "      <td>-0.000753</td>\n",
       "      <td>0.164586</td>\n",
       "      <td>0.011151</td>\n",
       "      <td>-0.046284</td>\n",
       "      <td>...</td>\n",
       "      <td>0.099774</td>\n",
       "      <td>1.000000</td>\n",
       "      <td>0.132584</td>\n",
       "      <td>NaN</td>\n",
       "      <td>0.128191</td>\n",
       "      <td>NaN</td>\n",
       "      <td>-0.007742</td>\n",
       "      <td>-0.010045</td>\n",
       "      <td>0.306477</td>\n",
       "      <td>0.079345</td>\n",
       "    </tr>\n",
       "    <tr>\n",
       "      <td>Wire 4</td>\n",
       "      <td>0.080616</td>\n",
       "      <td>0.031122</td>\n",
       "      <td>0.015767</td>\n",
       "      <td>0.014920</td>\n",
       "      <td>0.017421</td>\n",
       "      <td>0.020184</td>\n",
       "      <td>0.098682</td>\n",
       "      <td>0.760899</td>\n",
       "      <td>-0.025718</td>\n",
       "      <td>0.020704</td>\n",
       "      <td>...</td>\n",
       "      <td>-0.021418</td>\n",
       "      <td>0.132584</td>\n",
       "      <td>1.000000</td>\n",
       "      <td>NaN</td>\n",
       "      <td>0.365367</td>\n",
       "      <td>NaN</td>\n",
       "      <td>-0.002894</td>\n",
       "      <td>-0.003755</td>\n",
       "      <td>0.139017</td>\n",
       "      <td>0.080859</td>\n",
       "    </tr>\n",
       "    <tr>\n",
       "      <td>Wire 5</td>\n",
       "      <td>NaN</td>\n",
       "      <td>NaN</td>\n",
       "      <td>NaN</td>\n",
       "      <td>NaN</td>\n",
       "      <td>NaN</td>\n",
       "      <td>NaN</td>\n",
       "      <td>NaN</td>\n",
       "      <td>NaN</td>\n",
       "      <td>NaN</td>\n",
       "      <td>NaN</td>\n",
       "      <td>...</td>\n",
       "      <td>NaN</td>\n",
       "      <td>NaN</td>\n",
       "      <td>NaN</td>\n",
       "      <td>NaN</td>\n",
       "      <td>NaN</td>\n",
       "      <td>NaN</td>\n",
       "      <td>NaN</td>\n",
       "      <td>NaN</td>\n",
       "      <td>NaN</td>\n",
       "      <td>NaN</td>\n",
       "    </tr>\n",
       "    <tr>\n",
       "      <td>Wire 6</td>\n",
       "      <td>-0.032500</td>\n",
       "      <td>0.014238</td>\n",
       "      <td>0.035244</td>\n",
       "      <td>0.037898</td>\n",
       "      <td>0.030378</td>\n",
       "      <td>0.027570</td>\n",
       "      <td>0.084305</td>\n",
       "      <td>0.362505</td>\n",
       "      <td>0.026200</td>\n",
       "      <td>-0.032855</td>\n",
       "      <td>...</td>\n",
       "      <td>-0.051666</td>\n",
       "      <td>0.128191</td>\n",
       "      <td>0.365367</td>\n",
       "      <td>NaN</td>\n",
       "      <td>1.000000</td>\n",
       "      <td>NaN</td>\n",
       "      <td>-0.007026</td>\n",
       "      <td>-0.009116</td>\n",
       "      <td>0.161193</td>\n",
       "      <td>0.033971</td>\n",
       "    </tr>\n",
       "    <tr>\n",
       "      <td>Wire 7</td>\n",
       "      <td>NaN</td>\n",
       "      <td>NaN</td>\n",
       "      <td>NaN</td>\n",
       "      <td>NaN</td>\n",
       "      <td>NaN</td>\n",
       "      <td>NaN</td>\n",
       "      <td>NaN</td>\n",
       "      <td>NaN</td>\n",
       "      <td>NaN</td>\n",
       "      <td>NaN</td>\n",
       "      <td>...</td>\n",
       "      <td>NaN</td>\n",
       "      <td>NaN</td>\n",
       "      <td>NaN</td>\n",
       "      <td>NaN</td>\n",
       "      <td>NaN</td>\n",
       "      <td>NaN</td>\n",
       "      <td>NaN</td>\n",
       "      <td>NaN</td>\n",
       "      <td>NaN</td>\n",
       "      <td>NaN</td>\n",
       "    </tr>\n",
       "    <tr>\n",
       "      <td>Wire 8</td>\n",
       "      <td>-0.029756</td>\n",
       "      <td>-0.008935</td>\n",
       "      <td>0.001104</td>\n",
       "      <td>0.003638</td>\n",
       "      <td>-0.003684</td>\n",
       "      <td>0.018241</td>\n",
       "      <td>-0.019354</td>\n",
       "      <td>-0.003597</td>\n",
       "      <td>0.004683</td>\n",
       "      <td>0.007957</td>\n",
       "      <td>...</td>\n",
       "      <td>0.069137</td>\n",
       "      <td>-0.007742</td>\n",
       "      <td>-0.002894</td>\n",
       "      <td>NaN</td>\n",
       "      <td>-0.007026</td>\n",
       "      <td>NaN</td>\n",
       "      <td>1.000000</td>\n",
       "      <td>-0.006541</td>\n",
       "      <td>0.195355</td>\n",
       "      <td>0.120991</td>\n",
       "    </tr>\n",
       "    <tr>\n",
       "      <td>Wire 9</td>\n",
       "      <td>0.003218</td>\n",
       "      <td>0.001249</td>\n",
       "      <td>-0.012294</td>\n",
       "      <td>-0.012750</td>\n",
       "      <td>-0.011373</td>\n",
       "      <td>-0.011443</td>\n",
       "      <td>0.012020</td>\n",
       "      <td>-0.004668</td>\n",
       "      <td>0.004404</td>\n",
       "      <td>-0.058207</td>\n",
       "      <td>...</td>\n",
       "      <td>0.213122</td>\n",
       "      <td>-0.010045</td>\n",
       "      <td>-0.003755</td>\n",
       "      <td>NaN</td>\n",
       "      <td>-0.009116</td>\n",
       "      <td>NaN</td>\n",
       "      <td>-0.006541</td>\n",
       "      <td>1.000000</td>\n",
       "      <td>0.243577</td>\n",
       "      <td>0.015001</td>\n",
       "    </tr>\n",
       "    <tr>\n",
       "      <td>count_wire</td>\n",
       "      <td>-0.088269</td>\n",
       "      <td>0.028444</td>\n",
       "      <td>-0.010951</td>\n",
       "      <td>-0.007811</td>\n",
       "      <td>-0.016268</td>\n",
       "      <td>0.014437</td>\n",
       "      <td>-0.007337</td>\n",
       "      <td>0.132113</td>\n",
       "      <td>0.068244</td>\n",
       "      <td>-0.243313</td>\n",
       "      <td>...</td>\n",
       "      <td>0.673103</td>\n",
       "      <td>0.306477</td>\n",
       "      <td>0.139017</td>\n",
       "      <td>NaN</td>\n",
       "      <td>0.161193</td>\n",
       "      <td>NaN</td>\n",
       "      <td>0.195355</td>\n",
       "      <td>0.243577</td>\n",
       "      <td>1.000000</td>\n",
       "      <td>0.086053</td>\n",
       "    </tr>\n",
       "    <tr>\n",
       "      <td>Газ 1</td>\n",
       "      <td>0.018939</td>\n",
       "      <td>0.307837</td>\n",
       "      <td>0.319829</td>\n",
       "      <td>0.321050</td>\n",
       "      <td>0.314582</td>\n",
       "      <td>0.396068</td>\n",
       "      <td>0.213408</td>\n",
       "      <td>0.145281</td>\n",
       "      <td>0.065972</td>\n",
       "      <td>0.010256</td>\n",
       "      <td>...</td>\n",
       "      <td>0.110786</td>\n",
       "      <td>0.079345</td>\n",
       "      <td>0.080859</td>\n",
       "      <td>NaN</td>\n",
       "      <td>0.033971</td>\n",
       "      <td>NaN</td>\n",
       "      <td>0.120991</td>\n",
       "      <td>0.015001</td>\n",
       "      <td>0.086053</td>\n",
       "      <td>1.000000</td>\n",
       "    </tr>\n",
       "  </tbody>\n",
       "</table>\n",
       "<p>33 rows × 33 columns</p>\n",
       "</div>"
      ],
      "text/plain": [
       "                      Initial_T     count  heat_time  Total_Energy  \\\n",
       "Initial_T              1.000000  0.184639  -0.428644     -0.430921   \n",
       "count                  0.184639  1.000000   0.261141      0.257394   \n",
       "heat_time             -0.428644  0.261141   1.000000      0.996995   \n",
       "Total_Energy          -0.430921  0.257394   0.996995      1.000000   \n",
       "Total_ActiveEnergy    -0.418545  0.263397   0.992711      0.980516   \n",
       "Total_ReactiveEnergy  -0.399224  0.385130   0.899981      0.894828   \n",
       "Bulk 1                 0.064264  0.089469   0.062022      0.056579   \n",
       "Bulk 2                 0.096832  0.054948   0.006348      0.005320   \n",
       "Bulk 3                -0.110758  0.029902   0.063230      0.073239   \n",
       "Bulk 4                 0.161573  0.005054  -0.039701     -0.038859   \n",
       "Bulk 5                 0.053630  0.041239  -0.021132     -0.022504   \n",
       "Bulk 6                -0.126449  0.111743   0.129403      0.129944   \n",
       "Bulk 7                 0.057312  0.052178   0.038276      0.036160   \n",
       "Bulk 8                -0.011755 -0.011380  -0.008494     -0.008963   \n",
       "Bulk 9                -0.033357 -0.015294  -0.001809      0.000699   \n",
       "Bulk 10                0.037657 -0.014968  -0.001521     -0.000099   \n",
       "Bulk 11               -0.113408  0.027565   0.067960      0.065950   \n",
       "Bulk 12               -0.077802  0.103858   0.483545      0.482100   \n",
       "Bulk 13                0.020922  0.111021   0.161943      0.163398   \n",
       "Bulk 14               -0.177038  0.133921   0.446393      0.448040   \n",
       "Bulk 15               -0.057515  0.008139   0.313607      0.319373   \n",
       "count_bulk            -0.078451  0.043317   0.299145      0.302829   \n",
       "Wire 1                 0.272578  0.190860   0.003985      0.010945   \n",
       "Wire 2                -0.099231  0.056036   0.017345      0.017781   \n",
       "Wire 3                -0.019581  0.071690   0.001190      0.003438   \n",
       "Wire 4                 0.080616  0.031122   0.015767      0.014920   \n",
       "Wire 5                      NaN       NaN        NaN           NaN   \n",
       "Wire 6                -0.032500  0.014238   0.035244      0.037898   \n",
       "Wire 7                      NaN       NaN        NaN           NaN   \n",
       "Wire 8                -0.029756 -0.008935   0.001104      0.003638   \n",
       "Wire 9                 0.003218  0.001249  -0.012294     -0.012750   \n",
       "count_wire            -0.088269  0.028444  -0.010951     -0.007811   \n",
       "Газ 1                  0.018939  0.307837   0.319829      0.321050   \n",
       "\n",
       "                      Total_ActiveEnergy  Total_ReactiveEnergy    Bulk 1  \\\n",
       "Initial_T                      -0.418545             -0.399224  0.064264   \n",
       "count                           0.263397              0.385130  0.089469   \n",
       "heat_time                       0.992711              0.899981  0.062022   \n",
       "Total_Energy                    0.980516              0.894828  0.056579   \n",
       "Total_ActiveEnergy              1.000000              0.896928  0.071456   \n",
       "Total_ReactiveEnergy            0.896928              1.000000  0.093828   \n",
       "Bulk 1                          0.071456              0.093828  1.000000   \n",
       "Bulk 2                          0.008458              0.007843  0.155725   \n",
       "Bulk 3                          0.045746              0.094345 -0.006192   \n",
       "Bulk 4                         -0.040243             -0.032747  0.036498   \n",
       "Bulk 5                         -0.018646              0.003134  0.015727   \n",
       "Bulk 6                          0.126187              0.164327 -0.000480   \n",
       "Bulk 7                          0.041635              0.068385  0.186715   \n",
       "Bulk 8                         -0.007469             -0.011342 -0.005672   \n",
       "Bulk 9                         -0.006478              0.013269 -0.019573   \n",
       "Bulk 10                        -0.003647             -0.004414 -0.021713   \n",
       "Bulk 11                         0.069911              0.079891 -0.045051   \n",
       "Bulk 12                         0.481904              0.473481  0.346701   \n",
       "Bulk 13                         0.158547              0.130719 -0.009881   \n",
       "Bulk 14                         0.438553              0.471047  0.230755   \n",
       "Bulk 15                         0.302378              0.301131  0.011757   \n",
       "count_bulk                      0.290750              0.345480  0.263761   \n",
       "Wire 1                         -0.006987              0.059219  0.035490   \n",
       "Wire 2                          0.016047              0.057256 -0.004940   \n",
       "Wire 3                         -0.002441              0.025203 -0.000753   \n",
       "Wire 4                          0.017421              0.020184  0.098682   \n",
       "Wire 5                               NaN                   NaN       NaN   \n",
       "Wire 6                          0.030378              0.027570  0.084305   \n",
       "Wire 7                               NaN                   NaN       NaN   \n",
       "Wire 8                         -0.003684              0.018241 -0.019354   \n",
       "Wire 9                         -0.011373             -0.011443  0.012020   \n",
       "count_wire                     -0.016268              0.014437 -0.007337   \n",
       "Газ 1                           0.314582              0.396068  0.213408   \n",
       "\n",
       "                        Bulk 2    Bulk 3    Bulk 4  ...    Wire 2    Wire 3  \\\n",
       "Initial_T             0.096832 -0.110758  0.161573  ... -0.099231 -0.019581   \n",
       "count                 0.054948  0.029902  0.005054  ...  0.056036  0.071690   \n",
       "heat_time             0.006348  0.063230 -0.039701  ...  0.017345  0.001190   \n",
       "Total_Energy          0.005320  0.073239 -0.038859  ...  0.017781  0.003438   \n",
       "Total_ActiveEnergy    0.008458  0.045746 -0.040243  ...  0.016047 -0.002441   \n",
       "Total_ReactiveEnergy  0.007843  0.094345 -0.032747  ...  0.057256  0.025203   \n",
       "Bulk 1                0.155725 -0.006192  0.036498  ... -0.004940 -0.000753   \n",
       "Bulk 2                1.000000 -0.031967  0.022286  ... -0.026623  0.164586   \n",
       "Bulk 3               -0.031967  1.000000 -0.294972  ...  0.093544  0.011151   \n",
       "Bulk 4                0.022286 -0.294972  1.000000  ... -0.267962 -0.046284   \n",
       "Bulk 5                0.248643  0.002456  0.018800  ... -0.006520  0.032030   \n",
       "Bulk 6               -0.020467  0.064519 -0.252000  ...  0.203764 -0.044000   \n",
       "Bulk 7                0.492199 -0.012111  0.027886  ...  0.028466  0.086137   \n",
       "Bulk 8               -0.001054  0.020838 -0.013202  ...  0.018871 -0.002269   \n",
       "Bulk 9               -0.003638  0.011193 -0.002849  ...  0.066593 -0.007829   \n",
       "Bulk 10              -0.012292 -0.086088 -0.084710  ... -0.104638 -0.026454   \n",
       "Bulk 11              -0.009544 -0.007148 -0.119526  ...  0.062349 -0.020533   \n",
       "Bulk 12              -0.067617  0.014965  0.106143  ... -0.100365 -0.111624   \n",
       "Bulk 13              -0.003815 -0.013621  0.003326  ... -0.001621 -0.008210   \n",
       "Bulk 14              -0.096762  0.005715 -0.091168  ...  0.033384  0.006748   \n",
       "Bulk 15              -0.072300 -0.017245  0.104335  ... -0.099755 -0.108623   \n",
       "count_bulk            0.016741  0.159235  0.104670  ... -0.082602 -0.100596   \n",
       "Wire 1               -0.120096  0.034256  0.301840  ... -0.073798  0.058095   \n",
       "Wire 2               -0.026623  0.093544 -0.267962  ...  1.000000  0.099774   \n",
       "Wire 3                0.164586  0.011151 -0.046284  ...  0.099774  1.000000   \n",
       "Wire 4                0.760899 -0.025718  0.020704  ... -0.021418  0.132584   \n",
       "Wire 5                     NaN       NaN       NaN  ...       NaN       NaN   \n",
       "Wire 6                0.362505  0.026200 -0.032855  ... -0.051666  0.128191   \n",
       "Wire 7                     NaN       NaN       NaN  ...       NaN       NaN   \n",
       "Wire 8               -0.003597  0.004683  0.007957  ...  0.069137 -0.007742   \n",
       "Wire 9               -0.004668  0.004404 -0.058207  ...  0.213122 -0.010045   \n",
       "count_wire            0.132113  0.068244 -0.243313  ...  0.673103  0.306477   \n",
       "Газ 1                 0.145281  0.065972  0.010256  ...  0.110786  0.079345   \n",
       "\n",
       "                        Wire 4  Wire 5    Wire 6  Wire 7    Wire 8    Wire 9  \\\n",
       "Initial_T             0.080616     NaN -0.032500     NaN -0.029756  0.003218   \n",
       "count                 0.031122     NaN  0.014238     NaN -0.008935  0.001249   \n",
       "heat_time             0.015767     NaN  0.035244     NaN  0.001104 -0.012294   \n",
       "Total_Energy          0.014920     NaN  0.037898     NaN  0.003638 -0.012750   \n",
       "Total_ActiveEnergy    0.017421     NaN  0.030378     NaN -0.003684 -0.011373   \n",
       "Total_ReactiveEnergy  0.020184     NaN  0.027570     NaN  0.018241 -0.011443   \n",
       "Bulk 1                0.098682     NaN  0.084305     NaN -0.019354  0.012020   \n",
       "Bulk 2                0.760899     NaN  0.362505     NaN -0.003597 -0.004668   \n",
       "Bulk 3               -0.025718     NaN  0.026200     NaN  0.004683  0.004404   \n",
       "Bulk 4                0.020704     NaN -0.032855     NaN  0.007957 -0.058207   \n",
       "Bulk 5                0.216499     NaN  0.090973     NaN -0.007624 -0.009892   \n",
       "Bulk 6               -0.016466     NaN -0.011541     NaN -0.028680 -0.013632   \n",
       "Bulk 7                0.689267     NaN  0.272588     NaN -0.002579 -0.003347   \n",
       "Bulk 8               -0.000848     NaN -0.002059     NaN  0.321035 -0.001917   \n",
       "Bulk 9               -0.002927     NaN -0.007106     NaN  0.974968 -0.006615   \n",
       "Bulk 10              -0.009889     NaN -0.013337     NaN -0.017225 -0.022349   \n",
       "Bulk 11              -0.007679     NaN  0.004639     NaN -0.013375 -0.017353   \n",
       "Bulk 12              -0.054399     NaN -0.010286     NaN -0.056416 -0.042862   \n",
       "Bulk 13              -0.003069     NaN -0.007451     NaN -0.005346 -0.006936   \n",
       "Bulk 14              -0.077846     NaN -0.005290     NaN  0.043448  0.017943   \n",
       "Bulk 15              -0.058166     NaN  0.003846     NaN -0.090950 -0.037802   \n",
       "count_bulk            0.015850     NaN  0.039747     NaN  0.014923 -0.055588   \n",
       "Wire 1               -0.096338     NaN -0.082475     NaN  0.017068  0.020841   \n",
       "Wire 2               -0.021418     NaN -0.051666     NaN  0.069137  0.213122   \n",
       "Wire 3                0.132584     NaN  0.128191     NaN -0.007742 -0.010045   \n",
       "Wire 4                1.000000     NaN  0.365367     NaN -0.002894 -0.003755   \n",
       "Wire 5                     NaN     NaN       NaN     NaN       NaN       NaN   \n",
       "Wire 6                0.365367     NaN  1.000000     NaN -0.007026 -0.009116   \n",
       "Wire 7                     NaN     NaN       NaN     NaN       NaN       NaN   \n",
       "Wire 8               -0.002894     NaN -0.007026     NaN  1.000000 -0.006541   \n",
       "Wire 9               -0.003755     NaN -0.009116     NaN -0.006541  1.000000   \n",
       "count_wire            0.139017     NaN  0.161193     NaN  0.195355  0.243577   \n",
       "Газ 1                 0.080859     NaN  0.033971     NaN  0.120991  0.015001   \n",
       "\n",
       "                      count_wire     Газ 1  \n",
       "Initial_T              -0.088269  0.018939  \n",
       "count                   0.028444  0.307837  \n",
       "heat_time              -0.010951  0.319829  \n",
       "Total_Energy           -0.007811  0.321050  \n",
       "Total_ActiveEnergy     -0.016268  0.314582  \n",
       "Total_ReactiveEnergy    0.014437  0.396068  \n",
       "Bulk 1                 -0.007337  0.213408  \n",
       "Bulk 2                  0.132113  0.145281  \n",
       "Bulk 3                  0.068244  0.065972  \n",
       "Bulk 4                 -0.243313  0.010256  \n",
       "Bulk 5                  0.010703  0.045950  \n",
       "Bulk 6                  0.103851  0.145398  \n",
       "Bulk 7                  0.104198  0.136908  \n",
       "Bulk 8                  0.062100  0.004358  \n",
       "Bulk 9                  0.196844  0.119475  \n",
       "Bulk 10                -0.107281 -0.006994  \n",
       "Bulk 11                 0.032694  0.042067  \n",
       "Bulk 12                -0.142162  0.234501  \n",
       "Bulk 13                 0.007459  0.050590  \n",
       "Bulk 14                 0.009271  0.292153  \n",
       "Bulk 15                -0.107444  0.056318  \n",
       "count_bulk             -0.097931  0.218909  \n",
       "Wire 1                 -0.033236  0.142271  \n",
       "Wire 2                  0.673103  0.110786  \n",
       "Wire 3                  0.306477  0.079345  \n",
       "Wire 4                  0.139017  0.080859  \n",
       "Wire 5                       NaN       NaN  \n",
       "Wire 6                  0.161193  0.033971  \n",
       "Wire 7                       NaN       NaN  \n",
       "Wire 8                  0.195355  0.120991  \n",
       "Wire 9                  0.243577  0.015001  \n",
       "count_wire              1.000000  0.086053  \n",
       "Газ 1                   0.086053  1.000000  \n",
       "\n",
       "[33 rows x 33 columns]"
      ]
     },
     "execution_count": 60,
     "metadata": {},
     "output_type": "execute_result"
    }
   ],
   "source": [
    "#преобразуем матрицу в датафрейм для удобства анализа\n",
    "matrixdf = pd.DataFrame(matrix, index = features.columns, columns = features.columns)\n",
    "matrixdf"
   ]
  },
  {
   "cell_type": "markdown",
   "metadata": {},
   "source": [
    " Из матрицы парных корреляций становится понятно, что все значения в колонке `Wire 5` и `Wire 7`  нулевые. Это подтверждается дескритивной статистикой, рассчитанной в предыдущем разделе! Таким образом, все значения признаков `Wire 5` и `Wire 7` нулевые, а значит их необходимо удалить. "
   ]
  },
  {
   "cell_type": "code",
   "execution_count": 61,
   "metadata": {},
   "outputs": [],
   "source": [
    "#удаление колонки Wire 5\n",
    "features = features.drop(['Wire 5', 'Wire 7'], axis = 1)"
   ]
  },
  {
   "cell_type": "markdown",
   "metadata": {},
   "source": [
    "Теперь в автоматическом режиме пройдем по матрице корреляций и удалим колонки для которых значений коэффициента корреляции превышает критический."
   ]
  },
  {
   "cell_type": "code",
   "execution_count": 62,
   "metadata": {},
   "outputs": [],
   "source": [
    "#функция для выявления корреляций в строке для заданного ряда в корреляционной матрице\n",
    "def CheckCorrelation(first, line_j, del_list, columns_list, correlation_matrix, threshold):\n",
    "  \n",
    "    last = correlation_matrix.shape[0]\n",
    "    s = 0\n",
    "\n",
    "    for i in range(first, last):  #проход вдоль ряда, для поиска значений превышающих пороговое\n",
    "        \n",
    "        if line_j != i:   #исключение корреляций колонок с сами собой\n",
    "            if (abs(correlation_matrix[line_j][i]) >= threshold):  #корреляция превышает порог\n",
    "                del_list.append(i)   \n",
    "                s += 1\n",
    "                \n",
    "    return del_list    "
   ]
  },
  {
   "cell_type": "code",
   "execution_count": 63,
   "metadata": {},
   "outputs": [],
   "source": [
    "#функция для анализа корреляций по всем данным матрицы корреляций\n",
    "def CorrelatiedColumns(correlation_matrix, columns_list, threshold):\n",
    "    \n",
    "    del_list = []\n",
    "    del_columns = []\n",
    "    \n",
    "    len_list = len(columns_list)\n",
    "    i = 0\n",
    "    \n",
    "    while i < (len(columns_list) - 2):  #рекурсивное высывание функции поиска значений выше порога\n",
    "        del_list = CheckCorrelation(i, i, del_list, columns_list, correlation_matrix, threshold)\n",
    "        i += 1\n",
    "    \n",
    "    #сохранение названий колонок для дальнейшей работы\n",
    "    del_list = pd.Series(del_list).value_counts().index.tolist()\n",
    "    for i in range(len(del_list)):\n",
    "        del_columns.append(columns_list[del_list[i]])\n",
    "        \n",
    "        \n",
    "    return del_list, del_columns"
   ]
  },
  {
   "cell_type": "code",
   "execution_count": 64,
   "metadata": {
    "scrolled": false
   },
   "outputs": [],
   "source": [
    "#поиск колонок с сильной корреляцией значений\n",
    "matrix = features.corr('pearson').to_numpy()\n",
    "\n",
    "columns_corr, uncorrelated_names = CorrelatiedColumns(matrix, features.columns, 0.6)\n",
    "\n",
    "#матрица некоррелированных колонок\n",
    "uncorrelated_features = features.drop(uncorrelated_names, axis = 1).copy()\n",
    "#features_train.shape"
   ]
  },
  {
   "cell_type": "code",
   "execution_count": 65,
   "metadata": {},
   "outputs": [
    {
     "data": {
      "image/png": "[encoded data removed]",
      "text/plain": [
       "<Figure size 864x576 with 2 Axes>"
      ]
     },
     "metadata": {
      "needs_background": "light"
     },
     "output_type": "display_data"
    }
   ],
   "source": [
    "#расчет корреляционной матрицы и ее построение\n",
    "matrix = uncorrelated_features.corr('pearson').to_numpy()\n",
    "PlotCorrelationMatrix(matrix)"
   ]
  },
  {
   "cell_type": "markdown",
   "metadata": {},
   "source": [
    "Как видно из рисунка избавление от сильнокоррелированых данных прошло успешно. Удалим сильнокоррелированные колонки из объединенного датасета `data_joined`."
   ]
  },
  {
   "cell_type": "code",
   "execution_count": 66,
   "metadata": {
    "scrolled": false
   },
   "outputs": [
    {
     "name": "stdout",
     "output_type": "stream",
     "text": [
      "<class 'pandas.core.frame.DataFrame'>\n",
      "Int64Index: 2311 entries, 1 to 2499\n",
      "Data columns (total 24 columns):\n",
      "Initial_T    2311 non-null float64\n",
      "Final_T      2311 non-null float64\n",
      "count        2311 non-null int64\n",
      "heat_time    2311 non-null float64\n",
      "Bulk 1       2311 non-null float64\n",
      "Bulk 2       2311 non-null float64\n",
      "Bulk 3       2311 non-null float64\n",
      "Bulk 4       2311 non-null float64\n",
      "Bulk 5       2311 non-null float64\n",
      "Bulk 6       2311 non-null float64\n",
      "Bulk 7       2311 non-null float64\n",
      "Bulk 8       2311 non-null float64\n",
      "Bulk 9       2311 non-null float64\n",
      "Bulk 10      2311 non-null float64\n",
      "Bulk 11      2311 non-null float64\n",
      "Bulk 12      2311 non-null float64\n",
      "Bulk 13      2311 non-null float64\n",
      "Bulk 14      2311 non-null float64\n",
      "Wire 1       2311 non-null float64\n",
      "Wire 2       2311 non-null float64\n",
      "Wire 3       2311 non-null float64\n",
      "Wire 6       2311 non-null float64\n",
      "Wire 9       2311 non-null float64\n",
      "Газ 1        2311 non-null float64\n",
      "dtypes: float64(23), int64(1)\n",
      "memory usage: 451.4 KB\n"
     ]
    }
   ],
   "source": [
    "#удаление колонок с сильной корреляцией\n",
    "data_joined = data_joined.drop(uncorrelated_names, axis = 1)\n",
    "\n",
    "#удаление колонки Wire 5\n",
    "data_joined = data_joined.drop(['Wire 5', 'Wire 7'], axis = 1)\n",
    "\n",
    "#вывод информации о датасете\n",
    "data_joined.info()"
   ]
  },
  {
   "cell_type": "markdown",
   "metadata": {},
   "source": [
    "После удаления осталось только 23 колонки, а было 34."
   ]
  },
  {
   "cell_type": "markdown",
   "metadata": {},
   "source": [
    "#### Выделение обучающей, валидационной и тестовой  выборок"
   ]
  },
  {
   "cell_type": "markdown",
   "metadata": {},
   "source": [
    "При построении моделей будем использовать кросс-валидацию, поэтому выделим только обучающую и тестовую выборки, валидационные выборки будем получать уже в ходе тренировки модели. "
   ]
  },
  {
   "cell_type": "code",
   "execution_count": 67,
   "metadata": {},
   "outputs": [],
   "source": [
    "#зададим значение псевдослучайного состояния\n",
    "random = 12345"
   ]
  },
  {
   "cell_type": "code",
   "execution_count": 68,
   "metadata": {},
   "outputs": [],
   "source": [
    "#разделение выборки на обучающую и тестовую\n",
    "train, test = train_test_split(data_joined, test_size = 0.2, random_state = random)"
   ]
  },
  {
   "cell_type": "code",
   "execution_count": 69,
   "metadata": {},
   "outputs": [],
   "source": [
    "#создание датасетов для обучающей выборки\n",
    "train_features = train.drop('Final_T', axis = 1) #признаки\n",
    "train_target = train['Final_T']  #целевые признаки    "
   ]
  },
  {
   "cell_type": "code",
   "execution_count": 70,
   "metadata": {},
   "outputs": [],
   "source": [
    "#создание датасетов для тестовой выборки\n",
    "test_features = test.drop('Final_T', axis = 1) #признаки\n",
    "test_target = test['Final_T'] #целевые признаки "
   ]
  },
  {
   "cell_type": "code",
   "execution_count": 71,
   "metadata": {},
   "outputs": [],
   "source": [
    "#проверка датасета на содержание колонок только с нулевыми значениями\n",
    "def ZerosCheck(data1, data2):\n",
    "    \n",
    "    #задание списков с колонками для удаления\n",
    "    del_list = []\n",
    "    del_list2 = []\n",
    "    \n",
    "    #проверка того, что все значения в колонки равны нулю\n",
    "    for column in data1.columns:\n",
    "        zeros_num = data1[column].eq(0).sum(axis = 0)\n",
    "        zeros_num2 = data2[column].eq(0).sum(axis = 0)\n",
    "        \n",
    "        #формирование списков колонок на удаление\n",
    "        if zeros_num == len(data1[column]):\n",
    "            del_list.append(column)\n",
    "            \n",
    "        if zeros_num2 == len(data2[column]):\n",
    "            del_list2.append(column)\n",
    "            \n",
    "    #удаление колонок из обоих датасетов (выборок) для обоих списков\n",
    "    data1 = data1.drop(del_list, axis = 1)  #del_list\n",
    "    data2 = data2.drop(del_list, axis = 1)\n",
    "    \n",
    "    data1 = data1.drop(del_list2, axis = 1)  #del_list2\n",
    "    data2 = data2.drop(del_list2, axis = 1)\n",
    "    \n",
    "    return data1, data2, del_list, del_list2"
   ]
  },
  {
   "cell_type": "code",
   "execution_count": 72,
   "metadata": {},
   "outputs": [
    {
     "name": "stdout",
     "output_type": "stream",
     "text": [
      "Список колонок для удаления [] ['Bulk 8']\n"
     ]
    }
   ],
   "source": [
    "#удаление колонок только с нулевыми значениями\n",
    "train_features, test_features, list1, list2 = ZerosCheck(train_features, test_features)\n",
    "\n",
    "print('Список колонок для удаления', list1, list2)"
   ]
  },
  {
   "cell_type": "code",
   "execution_count": 73,
   "metadata": {
    "scrolled": false
   },
   "outputs": [
    {
     "name": "stdout",
     "output_type": "stream",
     "text": [
      "Число признаков 22\n",
      "Число признаков 22\n"
     ]
    }
   ],
   "source": [
    "#вывод числа признаков\n",
    "print('Число признаков',train_features.shape[1])\n",
    "print('Число признаков',test_features.shape[1])"
   ]
  },
  {
   "cell_type": "markdown",
   "metadata": {},
   "source": [
    "Проверим совпадают ли распределения температуры для выборок. "
   ]
  },
  {
   "cell_type": "markdown",
   "metadata": {},
   "source": [
    "1. Нулеваяя гипотеза, H<sub>0</sub> - распределения температур для выборок (тренировочной и валидационной; тренировочной и тестовой) статистически одинаковы.\n",
    "2. Альтернативная гипотеза, H<sub>1</sub> - распределения температур для выборок (тренировочной и валидационной; тренировочной и тестовой) статистически различны. "
   ]
  },
  {
   "cell_type": "code",
   "execution_count": 74,
   "metadata": {},
   "outputs": [],
   "source": [
    "#проверка Гипотезы для тренировочной и валидационной выборок\n",
    "def StatTest(data1, data2, alpha_level):\n",
    "    \n",
    "    results = st.ttest_ind(data1, data2, equal_var = False)\n",
    "\n",
    "    alpha = alpha_level  #задание уровня значимости\n",
    "\n",
    "    p_value = results.pvalue\n",
    "    print('p_value равна', p_value)\n",
    "\n",
    "\n",
    "    if p_value > alpha:    \n",
    "        print('Не отвергаем нулевую гипотезу, можно считать, что распределения статистически идентичны')\n",
    "    else:\n",
    "        print('Не принимаем нулевую гипотезу, можно считать, что распределения статистически различны')"
   ]
  },
  {
   "cell_type": "code",
   "execution_count": 75,
   "metadata": {},
   "outputs": [
    {
     "name": "stdout",
     "output_type": "stream",
     "text": [
      "p_value равна 0.5167418688415015\n",
      "Не отвергаем нулевую гипотезу, можно считать, что распределения статистически идентичны\n"
     ]
    }
   ],
   "source": [
    "#проверка гипотезы для тренировочной и тестовой выборок\n",
    "StatTest(train_target, test_target, 0.01)"
   ]
  },
  {
   "cell_type": "code",
   "execution_count": 76,
   "metadata": {},
   "outputs": [
    {
     "data": {
      "image/png": "[encoded data removed]",
      "text/plain": [
       "<Figure size 432x288 with 1 Axes>"
      ]
     },
     "metadata": {
      "needs_background": "light"
     },
     "output_type": "display_data"
    }
   ],
   "source": [
    "#построение гистограмм для температуры\n",
    "train_target.hist(bins = 20);\n",
    "test_target.hist(bins = 20);"
   ]
  },
  {
   "cell_type": "markdown",
   "metadata": {},
   "source": [
    "Визуальное сравнение распределение температуры также говорит об их похожести друг на друга."
   ]
  },
  {
   "cell_type": "markdown",
   "metadata": {},
   "source": [
    "## Обучение модели"
   ]
  },
  {
   "cell_type": "code",
   "execution_count": 77,
   "metadata": {},
   "outputs": [],
   "source": [
    "#игнорирование предупреждений\n",
    "warnings.filterwarnings(\"ignore\", category=DeprecationWarning) "
   ]
  },
  {
   "cell_type": "markdown",
   "metadata": {},
   "source": [
    "### Расчет метрики MAE для наивного регрессора"
   ]
  },
  {
   "cell_type": "markdown",
   "metadata": {},
   "source": [
    "Расчет метрики MAE для наивного регрессора"
   ]
  },
  {
   "cell_type": "code",
   "execution_count": 78,
   "metadata": {},
   "outputs": [],
   "source": [
    "#расчет предсказаний для среднего тестовой выборки\n",
    "dummy_regr = DummyRegressor(strategy=\"mean\")\n",
    "\n",
    "#обучение\n",
    "dummy_regr.fit(train_features, train_target)\n",
    "\n",
    "#расчет предсказаний\n",
    "predictions = dummy_regr.predict(test_features)"
   ]
  },
  {
   "cell_type": "code",
   "execution_count": 79,
   "metadata": {},
   "outputs": [
    {
     "name": "stdout",
     "output_type": "stream",
     "text": [
      "MAE =  8.369629650407193\n"
     ]
    }
   ],
   "source": [
    "#расчет метрики MAE\n",
    "MAE = mean_absolute_error(test_target, predictions)\n",
    "\n",
    "print('MAE = ', MAE)"
   ]
  },
  {
   "cell_type": "code",
   "execution_count": 80,
   "metadata": {},
   "outputs": [
    {
     "name": "stdout",
     "output_type": "stream",
     "text": [
      "R2 =  -0.00110885413724926\n"
     ]
    }
   ],
   "source": [
    "#расчет метрики R2\n",
    "R2 = r2_score(test_target, predictions)\n",
    "\n",
    "print('R2 = ', R2)"
   ]
  },
  {
   "cell_type": "markdown",
   "metadata": {},
   "source": [
    "Отрицательное значений R2 указывает на крайне плохое попадание в пики. "
   ]
  },
  {
   "cell_type": "code",
   "execution_count": 81,
   "metadata": {},
   "outputs": [],
   "source": [
    "#задание значения MAE и R2 для наивной регрессии\n",
    "dummy_MAE = MAE\n",
    "dummy_R2 = R2"
   ]
  },
  {
   "cell_type": "markdown",
   "metadata": {},
   "source": [
    "### Выбор оптимальной модели для предсказаний температуры"
   ]
  },
  {
   "cell_type": "markdown",
   "metadata": {},
   "source": [
    "Для построения предсказательной модели будем использовать линейную регрессию, случайный лес и градиентный бустинг."
   ]
  },
  {
   "cell_type": "markdown",
   "metadata": {},
   "source": [
    "#### Анализ важности признаков (функции)"
   ]
  },
  {
   "cell_type": "markdown",
   "metadata": {},
   "source": [
    "В этом разделе задаются функции для вывода на экран важности призанков и визуализации важности. "
   ]
  },
  {
   "cell_type": "code",
   "execution_count": 82,
   "metadata": {},
   "outputs": [],
   "source": [
    "#функция вывода отсортированного списка признаков по убыванию их важности\n",
    "def ImportancePrint(importances, features_columns):\n",
    "    \n",
    "    #расчет важности признаков\n",
    "    #importances = model.feature_importances_\n",
    "\n",
    "    #сортировка индексов в соответствии с важностью признаков\n",
    "    indices = np.argsort(importances)[::-1]\n",
    "\n",
    "    #преобразования названий колонок в список \n",
    "    columns_list = features_columns.to_list()\n",
    "\n",
    "    #вывод колонок по их важности\n",
    "    for i in range(train_features.shape[1]):\n",
    "        print('{}. {}, ({})'.format((i + 1), columns_list[indices[i]], importances[indices[i]]))\n",
    "        \n",
    "    return indices"
   ]
  },
  {
   "cell_type": "code",
   "execution_count": 83,
   "metadata": {},
   "outputs": [],
   "source": [
    "#функция графического отображения важности признаков\n",
    "def ImportanceGraph(features_columns, importances, indices):\n",
    "    \n",
    "    columns_order = []\n",
    "    \n",
    "    #построение графиков\n",
    "    fig, axes = plt.subplots(1, 1, figsize=(16,8))\n",
    "    plt.suptitle(\"Важность признаков\")\n",
    "    \n",
    "    #преобразования названий колонок в список \n",
    "    columns_list = features_columns.to_list()\n",
    "    \n",
    "    for i in range(len(indices)):\n",
    "        columns_order.append(columns_list[indices[i]])\n",
    "           \n",
    "    #построение столбчатой диаграммы\n",
    "    axes.bar(columns_order, importances[indices], color=\"blue\", align = \"center\", )\n",
    "    \n",
    "    axes.set_xticklabels(columns_order, rotation = 75)\n",
    "    axes.set_xlim([-1, features.shape[1]])"
   ]
  },
  {
   "cell_type": "code",
   "execution_count": 84,
   "metadata": {},
   "outputs": [],
   "source": [
    "#функция для сокращения числа признаков \n",
    "def FeaturesReduce(train, test, threshold, scores, indices):\n",
    "    \n",
    "    del_list = []\n",
    "    \n",
    "    for i in range(len(scores)):\n",
    "        score = scores[indices[i]]\n",
    "        column = train.columns.to_list()[indices[i]]\n",
    "        \n",
    "        if score < threshold:\n",
    "            del_list.append(column)\n",
    "    \n",
    "    train = train.drop(del_list, axis = 1)\n",
    "    test = test.drop(del_list, axis = 1)\n",
    "    \n",
    "    return train, test, del_list"
   ]
  },
  {
   "cell_type": "markdown",
   "metadata": {},
   "source": [
    "#### Линейная регрессия"
   ]
  },
  {
   "cell_type": "code",
   "execution_count": 85,
   "metadata": {},
   "outputs": [
    {
     "data": {
      "text/plain": [
       "LinearRegression(copy_X=True, fit_intercept=True, n_jobs=None, normalize=False)"
      ]
     },
     "execution_count": 85,
     "metadata": {},
     "output_type": "execute_result"
    }
   ],
   "source": [
    "#задание модели\n",
    "model = LinearRegression()\n",
    "    \n",
    "#обучение модели\n",
    "model.fit(train_features, train_target)"
   ]
  },
  {
   "cell_type": "code",
   "execution_count": 86,
   "metadata": {
    "scrolled": true
   },
   "outputs": [
    {
     "name": "stdout",
     "output_type": "stream",
     "text": [
      "MAE =  6.325519728953251\n"
     ]
    }
   ],
   "source": [
    "#расчет предсказаний\n",
    "predictions = model.predict(test_features)\n",
    "\n",
    "MAE = mean_absolute_error(test_target, predictions)\n",
    "print('MAE = ', MAE)"
   ]
  },
  {
   "cell_type": "markdown",
   "metadata": {},
   "source": [
    "Значение метрики MAE у неоптимизированной линейной регрессии значительно лучше, чем у наивного регрессора."
   ]
  },
  {
   "cell_type": "code",
   "execution_count": 87,
   "metadata": {},
   "outputs": [
    {
     "data": {
      "text/plain": [
       "SelectKBest(k='all', score_func=<function f_regression at 0x7f100852cef0>)"
      ]
     },
     "execution_count": 87,
     "metadata": {},
     "output_type": "execute_result"
    }
   ],
   "source": [
    "# конфигурируем выбор признаков для регрессии\n",
    "model = SelectKBest(score_func = f_regression, k = 'all')\n",
    "\n",
    "# обучение модели\n",
    "model.fit(train_features, train_target)"
   ]
  },
  {
   "cell_type": "code",
   "execution_count": 88,
   "metadata": {},
   "outputs": [
    {
     "name": "stdout",
     "output_type": "stream",
     "text": [
      "1. Initial_T, (210.5797233559207)\n",
      "2. Wire 1, (190.45715328485477)\n",
      "3. heat_time, (151.44133058521868)\n",
      "4. Bulk 12, (129.3624217257145)\n",
      "5. Wire 2, (87.72783173080657)\n",
      "6. Bulk 4, (87.62678264047854)\n",
      "7. Bulk 6, (61.2765578345282)\n",
      "8. count, (48.73221216974099)\n",
      "9. Bulk 11, (26.219927042099023)\n",
      "10. Bulk 14, (19.50218897705434)\n",
      "11. Газ 1, (18.903037603770926)\n",
      "12. Bulk 7, (4.480799214818884)\n",
      "13. Bulk 3, (3.734831652111443)\n",
      "14. Bulk 10, (2.9368492052814243)\n",
      "15. Bulk 1, (2.8537388520910345)\n",
      "16. Wire 9, (2.2342735905599467)\n",
      "17. Wire 6, (1.9135776673625544)\n",
      "18. Wire 3, (1.7046818854771326)\n",
      "19. Bulk 9, (1.2661755151257037)\n",
      "20. Bulk 2, (0.8003341426471814)\n",
      "21. Bulk 13, (0.4520142460430437)\n",
      "22. Bulk 5, (0.11898804760410572)\n"
     ]
    }
   ],
   "source": [
    "#сортировка индексов в соответствии с важностью признаков\n",
    "importances = model.scores_\n",
    "\n",
    "indices = ImportancePrint(importances, train_features.columns)"
   ]
  },
  {
   "cell_type": "code",
   "execution_count": 89,
   "metadata": {
    "scrolled": false
   },
   "outputs": [
    {
     "data": {
      "image/png": "[encoded data removed]",
      "text/plain": [
       "<Figure size 1152x576 with 1 Axes>"
      ]
     },
     "metadata": {
      "needs_background": "light"
     },
     "output_type": "display_data"
    }
   ],
   "source": [
    "#построение столбчатой диаграммы\n",
    "ImportanceGraph(train_features.columns, importances, indices)"
   ]
  },
  {
   "cell_type": "markdown",
   "metadata": {},
   "source": [
    "Как видно из столбчатой диаграммы, самыми важными признаками являются: начальная температура (`Initial_T`) и объем добавок проволочных материалов (`Wire 1`). Третьим по важности параметров является длительность нагрева. И только четвертым идет добавление сыпучих примесей. "
   ]
  },
  {
   "cell_type": "code",
   "execution_count": 90,
   "metadata": {},
   "outputs": [],
   "source": [
    "#обновление набора признаков для обеих выборок\n",
    "train_featuresLR, test_featuresLR, del_list = FeaturesReduce(train_features, test_features, \\\n",
    "                                                             5, importances, indices)"
   ]
  },
  {
   "cell_type": "code",
   "execution_count": 91,
   "metadata": {
    "scrolled": true
   },
   "outputs": [
    {
     "name": "stdout",
     "output_type": "stream",
     "text": [
      "Число признаков 11\n",
      "Число признаков 11\n"
     ]
    }
   ],
   "source": [
    "#вывод числа признаков\n",
    "print('Число признаков',train_featuresLR.shape[1])\n",
    "print('Число признаков',test_featuresLR.shape[1])"
   ]
  },
  {
   "cell_type": "markdown",
   "metadata": {},
   "source": [
    "***Оптмизация модели на кросс-валидации***"
   ]
  },
  {
   "cell_type": "code",
   "execution_count": 92,
   "metadata": {},
   "outputs": [],
   "source": [
    "linear_grid = {\n",
    "    'normalize' : [True,False]\n",
    "}"
   ]
  },
  {
   "cell_type": "code",
   "execution_count": 93,
   "metadata": {},
   "outputs": [],
   "source": [
    "#задание модели пешающего дерева\n",
    "model = LinearRegression()\n",
    "\n",
    "#задание поиска оптимальных гиперпараметров\n",
    "modelCV = GridSearchCV(estimator = model, scoring = 'neg_mean_absolute_error', \n",
    "                       param_grid = linear_grid, \\\n",
    "                       cv = 20, n_jobs = -1, verbose = 1)"
   ]
  },
  {
   "cell_type": "code",
   "execution_count": 94,
   "metadata": {
    "scrolled": false
   },
   "outputs": [
    {
     "name": "stdout",
     "output_type": "stream",
     "text": [
      "Fitting 20 folds for each of 2 candidates, totalling 40 fits\n"
     ]
    },
    {
     "name": "stderr",
     "output_type": "stream",
     "text": [
      "[Parallel(n_jobs=-1)]: Using backend SequentialBackend with 1 concurrent workers.\n",
      "[Parallel(n_jobs=-1)]: Done  40 out of  40 | elapsed:    1.0s finished\n"
     ]
    },
    {
     "data": {
      "text/plain": [
       "GridSearchCV(cv=20, error_score='raise-deprecating',\n",
       "             estimator=LinearRegression(copy_X=True, fit_intercept=True,\n",
       "                                        n_jobs=None, normalize=False),\n",
       "             iid='warn', n_jobs=-1, param_grid={'normalize': [True, False]},\n",
       "             pre_dispatch='2*n_jobs', refit=True, return_train_score=False,\n",
       "             scoring='neg_mean_absolute_error', verbose=1)"
      ]
     },
     "execution_count": 94,
     "metadata": {},
     "output_type": "execute_result"
    }
   ],
   "source": [
    "#обучение модели\n",
    "modelCV.fit(train_featuresLR, train_target)"
   ]
  },
  {
   "cell_type": "code",
   "execution_count": 95,
   "metadata": {},
   "outputs": [
    {
     "name": "stdout",
     "output_type": "stream",
     "text": [
      "Параметры модели\n",
      "{'normalize': True}\n"
     ]
    }
   ],
   "source": [
    "#сохранение наилучших гиперпараметров и параметров\n",
    "best_params = modelCV.best_params_\n",
    "#вывод значений гиперпараметров\n",
    "print('Параметры модели')\n",
    "print(best_params)"
   ]
  },
  {
   "cell_type": "code",
   "execution_count": 96,
   "metadata": {
    "scrolled": true
   },
   "outputs": [
    {
     "name": "stdout",
     "output_type": "stream",
     "text": [
      "MAE =  6.220612598819046\n"
     ]
    }
   ],
   "source": [
    "#вывод наилучшего значения метрики\n",
    "score = modelCV.cv_results_['mean_test_score'][modelCV.best_index_]\n",
    "print('MAE = ', (-1 * score))"
   ]
  },
  {
   "cell_type": "markdown",
   "metadata": {},
   "source": [
    "Значение метрики MAE на кросс-валидации лучше, чем неоптимизированной линейной регресии."
   ]
  },
  {
   "cell_type": "markdown",
   "metadata": {},
   "source": [
    "#### Случайный лес"
   ]
  },
  {
   "cell_type": "code",
   "execution_count": 97,
   "metadata": {},
   "outputs": [
    {
     "data": {
      "text/plain": [
       "RandomForestRegressor(bootstrap=True, criterion='mse', max_depth=10,\n",
       "                      max_features='auto', max_leaf_nodes=None,\n",
       "                      min_impurity_decrease=0.0, min_impurity_split=None,\n",
       "                      min_samples_leaf=1, min_samples_split=2,\n",
       "                      min_weight_fraction_leaf=0.0, n_estimators=1000,\n",
       "                      n_jobs=None, oob_score=False, random_state=None,\n",
       "                      verbose=0, warm_start=False)"
      ]
     },
     "execution_count": 97,
     "metadata": {},
     "output_type": "execute_result"
    }
   ],
   "source": [
    "#задание модели\n",
    "model = RandomForestRegressor(n_estimators = 1000, max_depth = 10)\n",
    "\n",
    "#обучение модели\n",
    "model.fit(train_features, train_target)"
   ]
  },
  {
   "cell_type": "code",
   "execution_count": 98,
   "metadata": {},
   "outputs": [
    {
     "name": "stdout",
     "output_type": "stream",
     "text": [
      "MAE =  3.4931207162523115\n",
      "R2 =  0.8209278819370115\n"
     ]
    }
   ],
   "source": [
    "#расчет предсказаний\n",
    "predictions = model.predict(train_features)\n",
    "\n",
    "#расчет значений метрик\n",
    "MAE = mean_absolute_error(train_target, predictions)\n",
    "R2 = r2_score(train_target, predictions)\n",
    "\n",
    "#вывод результатов\n",
    "print('MAE = ', MAE)\n",
    "print('R2 = ', R2)"
   ]
  },
  {
   "cell_type": "markdown",
   "metadata": {},
   "source": [
    "Случайный лес даже без оптимизации показал значительное улучшение метрики MAE. Крайне низкие значения MAE указывают на переобучение. Необходимо обучение модели на кросс-валидации."
   ]
  },
  {
   "cell_type": "code",
   "execution_count": 99,
   "metadata": {
    "scrolled": false
   },
   "outputs": [
    {
     "name": "stdout",
     "output_type": "stream",
     "text": [
      "1. heat_time, (0.2657542501477229)\n",
      "2. Initial_T, (0.23962186489888274)\n",
      "3. Wire 1, (0.10456753855263339)\n",
      "4. Bulk 6, (0.08339284775415033)\n",
      "5. Газ 1, (0.06229277280681912)\n",
      "6. Bulk 12, (0.050411858585663494)\n",
      "7. Wire 2, (0.047527327639284855)\n",
      "8. Bulk 14, (0.04417593193046673)\n",
      "9. count, (0.025296712825137964)\n",
      "10. Bulk 3, (0.022212896007248822)\n",
      "11. Bulk 4, (0.02141591197305401)\n",
      "12. Bulk 1, (0.01444557454338277)\n",
      "13. Bulk 11, (0.006510823253355043)\n",
      "14. Bulk 10, (0.005404374906228743)\n",
      "15. Wire 3, (0.002003625573530776)\n",
      "16. Wire 6, (0.0019406604955591541)\n",
      "17. Bulk 13, (0.0011895500084896998)\n",
      "18. Bulk 5, (0.0010603981193713905)\n",
      "19. Wire 9, (0.0004753844679667286)\n",
      "20. Bulk 9, (0.000231289176094355)\n",
      "21. Bulk 7, (4.2076973548084774e-05)\n",
      "22. Bulk 2, (2.6329361409029038e-05)\n"
     ]
    }
   ],
   "source": [
    "#расчет важности признаков\n",
    "importances = model.feature_importances_\n",
    "\n",
    "#вывод важности признаков отсортированных в порядке убывания важности\n",
    "indices = ImportancePrint(importances, test_features.columns)"
   ]
  },
  {
   "cell_type": "code",
   "execution_count": 100,
   "metadata": {},
   "outputs": [
    {
     "data": {
      "image/png": "[encoded data removed]",
      "text/plain": [
       "<Figure size 1152x576 with 1 Axes>"
      ]
     },
     "metadata": {
      "needs_background": "light"
     },
     "output_type": "display_data"
    }
   ],
   "source": [
    "#графическое представление важности признаков\n",
    "ImportanceGraph(test_features.columns, importances, indices)"
   ]
  },
  {
   "cell_type": "markdown",
   "metadata": {},
   "source": [
    "Как видно из столбчатой диаграммы, самыми важными признаками являются: длительность нагрева, `heat_time` и начальная температура, `Initial_T`. При этом добавление примесей идет с большим отставанием по важности."
   ]
  },
  {
   "cell_type": "code",
   "execution_count": 101,
   "metadata": {},
   "outputs": [],
   "source": [
    "#обновление набора признаков для обеих выборок\n",
    "train_featuresRF, test_featuresRF, del_list = FeaturesReduce(train_features, test_features, \\\n",
    "                                                             0.04, importances, indices)"
   ]
  },
  {
   "cell_type": "code",
   "execution_count": 102,
   "metadata": {
    "scrolled": true
   },
   "outputs": [
    {
     "name": "stdout",
     "output_type": "stream",
     "text": [
      "Число признаков 8\n",
      "Число признаков 8\n"
     ]
    }
   ],
   "source": [
    "#вывод числа признаков\n",
    "print('Число признаков',train_featuresRF.shape[1])\n",
    "print('Число признаков',test_featuresRF.shape[1])"
   ]
  },
  {
   "cell_type": "markdown",
   "metadata": {},
   "source": [
    "***Оптмизация модели на кросс-валидации***"
   ]
  },
  {
   "cell_type": "code",
   "execution_count": 103,
   "metadata": {},
   "outputs": [],
   "source": [
    "forest_grid = { \n",
    "              'n_estimators' : [200, 400, 1000],  \n",
    "              'max_depth': [8, 10, 20],\n",
    "              'min_samples_leaf' : [1, 2, 4],  \n",
    "              'random_state' : [random]  \n",
    "            }"
   ]
  },
  {
   "cell_type": "code",
   "execution_count": 104,
   "metadata": {},
   "outputs": [],
   "source": [
    "#задание модели пешающего дерева\n",
    "model = RandomForestRegressor()\n",
    "\n",
    "#задание поиска оптимальных гиперпараметров\n",
    "modelCV = GridSearchCV(estimator = model, param_grid = forest_grid, \\\n",
    "                          scoring = 'neg_mean_absolute_error', \\\n",
    "                          cv = 3, n_jobs = -1, verbose = 1)"
   ]
  },
  {
   "cell_type": "code",
   "execution_count": 105,
   "metadata": {
    "scrolled": false
   },
   "outputs": [
    {
     "name": "stdout",
     "output_type": "stream",
     "text": [
      "Fitting 3 folds for each of 27 candidates, totalling 81 fits\n"
     ]
    },
    {
     "name": "stderr",
     "output_type": "stream",
     "text": [
      "[Parallel(n_jobs=-1)]: Using backend SequentialBackend with 1 concurrent workers.\n",
      "[Parallel(n_jobs=-1)]: Done  81 out of  81 | elapsed:  4.7min finished\n"
     ]
    },
    {
     "data": {
      "text/plain": [
       "GridSearchCV(cv=3, error_score='raise-deprecating',\n",
       "             estimator=RandomForestRegressor(bootstrap=True, criterion='mse',\n",
       "                                             max_depth=None,\n",
       "                                             max_features='auto',\n",
       "                                             max_leaf_nodes=None,\n",
       "                                             min_impurity_decrease=0.0,\n",
       "                                             min_impurity_split=None,\n",
       "                                             min_samples_leaf=1,\n",
       "                                             min_samples_split=2,\n",
       "                                             min_weight_fraction_leaf=0.0,\n",
       "                                             n_estimators='warn', n_jobs=None,\n",
       "                                             oob_score=False, random_state=None,\n",
       "                                             verbose=0, warm_start=False),\n",
       "             iid='warn', n_jobs=-1,\n",
       "             param_grid={'max_depth': [8, 10, 20],\n",
       "                         'min_samples_leaf': [1, 2, 4],\n",
       "                         'n_estimators': [200, 400, 1000],\n",
       "                         'random_state': [12345]},\n",
       "             pre_dispatch='2*n_jobs', refit=True, return_train_score=False,\n",
       "             scoring='neg_mean_absolute_error', verbose=1)"
      ]
     },
     "execution_count": 105,
     "metadata": {},
     "output_type": "execute_result"
    }
   ],
   "source": [
    "#обучение модели\n",
    "modelCV.fit(train_featuresRF, train_target)"
   ]
  },
  {
   "cell_type": "code",
   "execution_count": 106,
   "metadata": {},
   "outputs": [
    {
     "name": "stdout",
     "output_type": "stream",
     "text": [
      "Параметры модели\n",
      "{'max_depth': 20, 'min_samples_leaf': 1, 'n_estimators': 1000, 'random_state': 12345}\n"
     ]
    }
   ],
   "source": [
    "#сохранение наилучших гиперпараметров и параметров\n",
    "best_params = modelCV.best_params_\n",
    "best_model = modelCV.best_estimator_\n",
    "best_score = modelCV.best_score_\n",
    "\n",
    "#вывод значений гиперпараметров\n",
    "print('Параметры модели')\n",
    "print(best_params)"
   ]
  },
  {
   "cell_type": "code",
   "execution_count": 107,
   "metadata": {
    "scrolled": true
   },
   "outputs": [
    {
     "name": "stdout",
     "output_type": "stream",
     "text": [
      "MAE =  5.92056231577709\n"
     ]
    }
   ],
   "source": [
    "#вывод наилучшего значения метрики\n",
    "score = modelCV.cv_results_['mean_test_score'][modelCV.best_index_]\n",
    "print('MAE = ', (-1 * score))"
   ]
  },
  {
   "cell_type": "code",
   "execution_count": 108,
   "metadata": {},
   "outputs": [
    {
     "name": "stdout",
     "output_type": "stream",
     "text": [
      "R2 =  0.9217511808176455\n"
     ]
    }
   ],
   "source": [
    "#расчет предсказаний\n",
    "predictions = modelCV.predict(train_featuresRF)\n",
    "\n",
    "#расчет метрики R2\n",
    "R2 = r2_score(train_target, predictions)\n",
    "\n",
    "#вывод значения метрики\n",
    "print('R2 = ', R2)"
   ]
  },
  {
   "cell_type": "markdown",
   "metadata": {},
   "source": [
    "Случайный лес показал значительное улучшение значения MAE на кросс-валидации и высокое значение R2 на тренировочной выборке. Однако надо учитывать, что на тренировочной выборке значение R2 упадет."
   ]
  },
  {
   "cell_type": "markdown",
   "metadata": {},
   "source": [
    "Сравним качество предсказаний с градиентным бустингом."
   ]
  },
  {
   "cell_type": "markdown",
   "metadata": {},
   "source": [
    "#### CatBoost"
   ]
  },
  {
   "cell_type": "code",
   "execution_count": 109,
   "metadata": {},
   "outputs": [],
   "source": [
    "#создание тренировочного датасета\n",
    "train_dataset = Pool(train_features, train_target)"
   ]
  },
  {
   "cell_type": "code",
   "execution_count": 110,
   "metadata": {},
   "outputs": [],
   "source": [
    "catboost_params = {\n",
    "    'iterations' : 400,\n",
    "    'learning_rate' : 0.1,\n",
    "    'depth' : 4,\n",
    "    'random_seed' : random,\n",
    "    'loss_function' : 'MAE',\n",
    "    'boosting_type': 'Plain',\n",
    "    'verbose' : 1000\n",
    "}"
   ]
  },
  {
   "cell_type": "code",
   "execution_count": 111,
   "metadata": {},
   "outputs": [
    {
     "name": "stdout",
     "output_type": "stream",
     "text": [
      "0:\tlearn: 7.5685055\ttotal: 51.5ms\tremaining: 20.6s\n",
      "399:\tlearn: 4.2010531\ttotal: 4.58s\tremaining: 0us\n"
     ]
    },
    {
     "data": {
      "text/plain": [
       "<catboost.core.CatBoostRegressor at 0x7f0ffd256650>"
      ]
     },
     "execution_count": 111,
     "metadata": {},
     "output_type": "execute_result"
    }
   ],
   "source": [
    "#задание модели\n",
    "model = cb.CatBoostRegressor(**catboost_params)\n",
    "\n",
    "#обучение модели\n",
    "model.fit(train_dataset)"
   ]
  },
  {
   "cell_type": "code",
   "execution_count": 112,
   "metadata": {},
   "outputs": [
    {
     "name": "stdout",
     "output_type": "stream",
     "text": [
      "MAE =  4.201054056082311\n",
      "R2 =  0.6545980590590593\n"
     ]
    }
   ],
   "source": [
    "#расчет предсказаний\n",
    "predictions = model.predict(train_features)\n",
    "\n",
    "#расчет значений метрик\n",
    "MAE = mean_absolute_error(train_target, predictions)\n",
    "R2 = r2_score(train_target, predictions)\n",
    "\n",
    "#вывод результатов\n",
    "print('MAE = ', MAE)\n",
    "print('R2 = ', R2)"
   ]
  },
  {
   "cell_type": "markdown",
   "metadata": {},
   "source": [
    "Крайне низкие значения MAE указывают на переобучение. Необходимо обучение модели на кросс-валидации."
   ]
  },
  {
   "cell_type": "code",
   "execution_count": 113,
   "metadata": {
    "scrolled": false
   },
   "outputs": [
    {
     "name": "stdout",
     "output_type": "stream",
     "text": [
      "Used MAE metric for fstr calculation\n",
      "Selected 1848 documents from 1848 for LossFunctionChange calculation.\n",
      "\n",
      "Iteration with suspicious time 0.0684 sec ignored in overall statistics.\n",
      "Started LossFunctionChange calculation\n",
      "1848/1848 Process documents\tpassed time: 105ms\tremaining time: 0us\n"
     ]
    }
   ],
   "source": [
    "#расчет важности признаков\n",
    "importance_data = model.get_feature_importance(data = train_dataset, type = 'LossFunctionChange', \n",
    "                       prettified = True, thread_count = -1, verbose = 1000)"
   ]
  },
  {
   "cell_type": "code",
   "execution_count": 114,
   "metadata": {
    "scrolled": false
   },
   "outputs": [
    {
     "data": {
      "text/html": [
       "<div>\n",
       "<style scoped>\n",
       "    .dataframe tbody tr th:only-of-type {\n",
       "        vertical-align: middle;\n",
       "    }\n",
       "\n",
       "    .dataframe tbody tr th {\n",
       "        vertical-align: top;\n",
       "    }\n",
       "\n",
       "    .dataframe thead th {\n",
       "        text-align: right;\n",
       "    }\n",
       "</style>\n",
       "<table border=\"1\" class=\"dataframe\">\n",
       "  <thead>\n",
       "    <tr style=\"text-align: right;\">\n",
       "      <th></th>\n",
       "      <th>Feature Id</th>\n",
       "      <th>Importances</th>\n",
       "    </tr>\n",
       "  </thead>\n",
       "  <tbody>\n",
       "    <tr>\n",
       "      <td>0</td>\n",
       "      <td>heat_time</td>\n",
       "      <td>2.111777</td>\n",
       "    </tr>\n",
       "    <tr>\n",
       "      <td>1</td>\n",
       "      <td>Initial_T</td>\n",
       "      <td>1.861081</td>\n",
       "    </tr>\n",
       "    <tr>\n",
       "      <td>2</td>\n",
       "      <td>Wire 2</td>\n",
       "      <td>0.305754</td>\n",
       "    </tr>\n",
       "    <tr>\n",
       "      <td>3</td>\n",
       "      <td>Wire 1</td>\n",
       "      <td>0.302570</td>\n",
       "    </tr>\n",
       "    <tr>\n",
       "      <td>4</td>\n",
       "      <td>Bulk 6</td>\n",
       "      <td>0.289879</td>\n",
       "    </tr>\n",
       "    <tr>\n",
       "      <td>5</td>\n",
       "      <td>Bulk 14</td>\n",
       "      <td>0.208704</td>\n",
       "    </tr>\n",
       "    <tr>\n",
       "      <td>6</td>\n",
       "      <td>Bulk 12</td>\n",
       "      <td>0.202748</td>\n",
       "    </tr>\n",
       "    <tr>\n",
       "      <td>7</td>\n",
       "      <td>Газ 1</td>\n",
       "      <td>0.167697</td>\n",
       "    </tr>\n",
       "    <tr>\n",
       "      <td>8</td>\n",
       "      <td>Bulk 1</td>\n",
       "      <td>0.143964</td>\n",
       "    </tr>\n",
       "    <tr>\n",
       "      <td>9</td>\n",
       "      <td>Bulk 3</td>\n",
       "      <td>0.076308</td>\n",
       "    </tr>\n",
       "    <tr>\n",
       "      <td>10</td>\n",
       "      <td>count</td>\n",
       "      <td>0.076081</td>\n",
       "    </tr>\n",
       "    <tr>\n",
       "      <td>11</td>\n",
       "      <td>Bulk 4</td>\n",
       "      <td>0.070876</td>\n",
       "    </tr>\n",
       "    <tr>\n",
       "      <td>12</td>\n",
       "      <td>Bulk 11</td>\n",
       "      <td>0.050084</td>\n",
       "    </tr>\n",
       "    <tr>\n",
       "      <td>13</td>\n",
       "      <td>Bulk 10</td>\n",
       "      <td>0.035185</td>\n",
       "    </tr>\n",
       "    <tr>\n",
       "      <td>14</td>\n",
       "      <td>Wire 3</td>\n",
       "      <td>0.011822</td>\n",
       "    </tr>\n",
       "    <tr>\n",
       "      <td>15</td>\n",
       "      <td>Wire 6</td>\n",
       "      <td>0.010640</td>\n",
       "    </tr>\n",
       "    <tr>\n",
       "      <td>16</td>\n",
       "      <td>Bulk 13</td>\n",
       "      <td>0.009874</td>\n",
       "    </tr>\n",
       "    <tr>\n",
       "      <td>17</td>\n",
       "      <td>Bulk 5</td>\n",
       "      <td>0.005456</td>\n",
       "    </tr>\n",
       "    <tr>\n",
       "      <td>18</td>\n",
       "      <td>Bulk 9</td>\n",
       "      <td>0.002756</td>\n",
       "    </tr>\n",
       "    <tr>\n",
       "      <td>19</td>\n",
       "      <td>Wire 9</td>\n",
       "      <td>0.002145</td>\n",
       "    </tr>\n",
       "    <tr>\n",
       "      <td>20</td>\n",
       "      <td>Bulk 2</td>\n",
       "      <td>0.000000</td>\n",
       "    </tr>\n",
       "    <tr>\n",
       "      <td>21</td>\n",
       "      <td>Bulk 7</td>\n",
       "      <td>0.000000</td>\n",
       "    </tr>\n",
       "  </tbody>\n",
       "</table>\n",
       "</div>"
      ],
      "text/plain": [
       "   Feature Id  Importances\n",
       "0   heat_time     2.111777\n",
       "1   Initial_T     1.861081\n",
       "2      Wire 2     0.305754\n",
       "3      Wire 1     0.302570\n",
       "4      Bulk 6     0.289879\n",
       "5     Bulk 14     0.208704\n",
       "6     Bulk 12     0.202748\n",
       "7       Газ 1     0.167697\n",
       "8      Bulk 1     0.143964\n",
       "9      Bulk 3     0.076308\n",
       "10      count     0.076081\n",
       "11     Bulk 4     0.070876\n",
       "12    Bulk 11     0.050084\n",
       "13    Bulk 10     0.035185\n",
       "14     Wire 3     0.011822\n",
       "15     Wire 6     0.010640\n",
       "16    Bulk 13     0.009874\n",
       "17     Bulk 5     0.005456\n",
       "18     Bulk 9     0.002756\n",
       "19     Wire 9     0.002145\n",
       "20     Bulk 2     0.000000\n",
       "21     Bulk 7     0.000000"
      ]
     },
     "execution_count": 114,
     "metadata": {},
     "output_type": "execute_result"
    }
   ],
   "source": [
    "#вывод важности признаков\n",
    "importance_data"
   ]
  },
  {
   "cell_type": "code",
   "execution_count": 115,
   "metadata": {
    "scrolled": false
   },
   "outputs": [
    {
     "data": {
      "image/png": "[encoded data removed]",
      "text/plain": [
       "<Figure size 1080x576 with 1 Axes>"
      ]
     },
     "metadata": {
      "needs_background": "light"
     },
     "output_type": "display_data"
    }
   ],
   "source": [
    "#построение столбчатой диаграммы\n",
    "fig, axes = plt.subplots(1, 1, figsize=(15,8))\n",
    "plt.suptitle(\"Важность признаков\")\n",
    "    \n",
    "#построение столбчатой диаграммы\n",
    "axes.bar(importance_data['Feature Id'], importance_data['Importances'], color=\"blue\", align = \"center\", );\n",
    "    \n",
    "axes.set_xticklabels(importance_data['Feature Id'], rotation = 75);"
   ]
  },
  {
   "cell_type": "markdown",
   "metadata": {},
   "source": [
    "Как видно из столбчатой диаграммы, для Catboost, как и для случайного леса наиболее важными параметрами являются начальная температура и время нагрева. "
   ]
  },
  {
   "cell_type": "code",
   "execution_count": 116,
   "metadata": {},
   "outputs": [],
   "source": [
    "#задание порога важности\n",
    "threshold = 0.2"
   ]
  },
  {
   "cell_type": "code",
   "execution_count": 117,
   "metadata": {},
   "outputs": [],
   "source": [
    "#обновление набора признаков для обеих выборок\n",
    "del_list = []\n",
    "    \n",
    "#определение превышает ли критерий важности пороговое значение\n",
    "for i in range(len(importance_data['Importances'])):\n",
    "    score = importance_data.loc[i,'Importances']\n",
    "    column = importance_data.loc[i,'Feature Id']\n",
    "        \n",
    "    #занесение в список колонок для удаления\n",
    "    if score < threshold:\n",
    "        del_list.append(column)\n",
    "\n",
    "#сокращение числа признаков\n",
    "train_featuresCB = train_features.drop(del_list, axis = 1)\n",
    "test_featuresCB = test_features.drop(del_list, axis = 1)"
   ]
  },
  {
   "cell_type": "code",
   "execution_count": 118,
   "metadata": {},
   "outputs": [
    {
     "data": {
      "text/plain": [
       "['Газ 1',\n",
       " 'Bulk 1',\n",
       " 'Bulk 3',\n",
       " 'count',\n",
       " 'Bulk 4',\n",
       " 'Bulk 11',\n",
       " 'Bulk 10',\n",
       " 'Wire 3',\n",
       " 'Wire 6',\n",
       " 'Bulk 13',\n",
       " 'Bulk 5',\n",
       " 'Bulk 9',\n",
       " 'Wire 9',\n",
       " 'Bulk 2',\n",
       " 'Bulk 7']"
      ]
     },
     "execution_count": 118,
     "metadata": {},
     "output_type": "execute_result"
    }
   ],
   "source": [
    "#вывод списка колонок для исключения из числа признаков\n",
    "del_list"
   ]
  },
  {
   "cell_type": "code",
   "execution_count": 119,
   "metadata": {
    "scrolled": true
   },
   "outputs": [
    {
     "name": "stdout",
     "output_type": "stream",
     "text": [
      "Число признаков 7\n",
      "Число признаков 7\n"
     ]
    }
   ],
   "source": [
    "#вывод числа признаков\n",
    "print('Число признаков',train_featuresCB.shape[1])\n",
    "print('Число признаков',test_featuresCB.shape[1])"
   ]
  },
  {
   "cell_type": "code",
   "execution_count": 120,
   "metadata": {},
   "outputs": [],
   "source": [
    "#создание тренировочного датасета с сокращенным числом признаков\n",
    "train_datasetCB = Pool(train_featuresCB, train_target)"
   ]
  },
  {
   "cell_type": "markdown",
   "metadata": {},
   "source": [
    "***Тюнинг CatBoost***"
   ]
  },
  {
   "cell_type": "code",
   "execution_count": 121,
   "metadata": {},
   "outputs": [],
   "source": [
    "#задание неизменяемых параметров при кросс-валидации\n",
    "catboost_params = {\n",
    "    'random_seed' : random,\n",
    "    'loss_function' : 'MAE',\n",
    "    'boosting_type': 'Plain', \n",
    "}"
   ]
  },
  {
   "cell_type": "code",
   "execution_count": 122,
   "metadata": {},
   "outputs": [],
   "source": [
    "grid_params = {\n",
    "    'depth': [2, 4, 6, 8],\n",
    "    'iterations' : [100, 200, 400],\n",
    "    'learning_rate': [0.1, 0.25, 0.5]\n",
    "}"
   ]
  },
  {
   "cell_type": "code",
   "execution_count": 123,
   "metadata": {},
   "outputs": [],
   "source": [
    "#задание модели \n",
    "model = cb.CatBoostRegressor(**catboost_params, logging_level='Silent')\n",
    "\n",
    "#задание поиска оптимальных гиперпараметров\n",
    "modelCV = GridSearchCV(estimator = model, param_grid = grid_params, \\\n",
    "                        scoring = 'neg_mean_absolute_error', \\\n",
    "                        cv = 3, n_jobs = -1, verbose = 1)"
   ]
  },
  {
   "cell_type": "code",
   "execution_count": 124,
   "metadata": {
    "scrolled": false
   },
   "outputs": [
    {
     "name": "stdout",
     "output_type": "stream",
     "text": [
      "Fitting 3 folds for each of 36 candidates, totalling 108 fits\n"
     ]
    },
    {
     "name": "stderr",
     "output_type": "stream",
     "text": [
      "[Parallel(n_jobs=-1)]: Using backend SequentialBackend with 1 concurrent workers.\n",
      "[Parallel(n_jobs=-1)]: Done 108 out of 108 | elapsed:  9.6min finished\n"
     ]
    },
    {
     "data": {
      "text/plain": [
       "GridSearchCV(cv=3, error_score='raise-deprecating',\n",
       "             estimator=<catboost.core.CatBoostRegressor object at 0x7f1007fef990>,\n",
       "             iid='warn', n_jobs=-1,\n",
       "             param_grid={'depth': [2, 4, 6, 8], 'iterations': [100, 200, 400],\n",
       "                         'learning_rate': [0.1, 0.25, 0.5]},\n",
       "             pre_dispatch='2*n_jobs', refit=True, return_train_score=False,\n",
       "             scoring='neg_mean_absolute_error', verbose=1)"
      ]
     },
     "execution_count": 124,
     "metadata": {},
     "output_type": "execute_result"
    }
   ],
   "source": [
    "#обучение модели\n",
    "modelCV.fit(train_featuresCB, train_target)"
   ]
  },
  {
   "cell_type": "code",
   "execution_count": 125,
   "metadata": {},
   "outputs": [
    {
     "name": "stdout",
     "output_type": "stream",
     "text": [
      "Параметры модели\n",
      "{'depth': 2, 'iterations': 200, 'learning_rate': 0.1}\n"
     ]
    }
   ],
   "source": [
    "#сохранение наилучших гиперпараметров и параметров\n",
    "best_params = modelCV.best_params_\n",
    "best_model = modelCV.best_estimator_\n",
    "best_score = modelCV.best_score_\n",
    "\n",
    "#вывод значений гиперпараметров\n",
    "print('Параметры модели')\n",
    "print(best_params)"
   ]
  },
  {
   "cell_type": "code",
   "execution_count": 126,
   "metadata": {},
   "outputs": [
    {
     "name": "stdout",
     "output_type": "stream",
     "text": [
      "MAE =  5.920691831389531\n"
     ]
    }
   ],
   "source": [
    "#вывод наилучшего значения метрики\n",
    "score = modelCV.cv_results_['mean_test_score'][modelCV.best_index_]\n",
    "print('MAE = ', (-1 * score))"
   ]
  },
  {
   "cell_type": "markdown",
   "metadata": {},
   "source": [
    "CatBoost позволил добиться меньшего значения MAE, чем RandomForest."
   ]
  },
  {
   "cell_type": "code",
   "execution_count": 127,
   "metadata": {},
   "outputs": [
    {
     "name": "stdout",
     "output_type": "stream",
     "text": [
      "R2 =  0.49139168578520187\n"
     ]
    }
   ],
   "source": [
    "#расчет предсказаний\n",
    "predictions = modelCV.predict(train_featuresCB)\n",
    "\n",
    "#расчет метрики R2\n",
    "R2 = r2_score(train_target, predictions)\n",
    "\n",
    "#вывод значения метрики\n",
    "print('R2 = ', R2)"
   ]
  },
  {
   "cell_type": "markdown",
   "metadata": {},
   "source": [
    "Значение R2 на тренировочной выборке весьма высокое."
   ]
  },
  {
   "cell_type": "markdown",
   "metadata": {},
   "source": [
    "### Расчет метрики MAE и R2 для наилучшей модели на тестовой выборке"
   ]
  },
  {
   "cell_type": "markdown",
   "metadata": {},
   "source": [
    "Сравним значения метрик MAE и R2 на тестовой выборке для моделей случайного леса и CatBoost."
   ]
  },
  {
   "cell_type": "code",
   "execution_count": 128,
   "metadata": {},
   "outputs": [],
   "source": [
    "#линейнай регрессия\n",
    "linear_reg = {\n",
    "    'normalize' : [False]\n",
    "}\n",
    "\n",
    "#случайный лес\n",
    "random_forest = {\n",
    "    'n_estimators' : [1000],  \n",
    "    'max_depth': [10],\n",
    "    'min_samples_leaf' : [4],\n",
    "    'random_state' : [random]  \n",
    "}\n",
    "\n",
    "catboost = {\n",
    "    'boosting_type': 'Plain',\n",
    "    'loss_function' : 'MAE',\n",
    "    'verbose' : 1000,\n",
    "    'random_seed' : random\n",
    "}\n",
    "\n",
    "grid_paramsCV = {\n",
    "    'depth': [4],\n",
    "    'iterations' : [400],\n",
    "    'learning_rate': [0.1]\n",
    "}"
   ]
  },
  {
   "cell_type": "code",
   "execution_count": 129,
   "metadata": {},
   "outputs": [
    {
     "data": {
      "text/html": [
       "<div>\n",
       "<style scoped>\n",
       "    .dataframe tbody tr th:only-of-type {\n",
       "        vertical-align: middle;\n",
       "    }\n",
       "\n",
       "    .dataframe tbody tr th {\n",
       "        vertical-align: top;\n",
       "    }\n",
       "\n",
       "    .dataframe thead th {\n",
       "        text-align: right;\n",
       "    }\n",
       "</style>\n",
       "<table border=\"1\" class=\"dataframe\">\n",
       "  <thead>\n",
       "    <tr style=\"text-align: right;\">\n",
       "      <th></th>\n",
       "      <th>fit_time</th>\n",
       "      <th>MAE</th>\n",
       "      <th>R2</th>\n",
       "    </tr>\n",
       "  </thead>\n",
       "  <tbody>\n",
       "    <tr>\n",
       "      <td>LinearReg</td>\n",
       "      <td>0.0</td>\n",
       "      <td>0.0</td>\n",
       "      <td>0.0</td>\n",
       "    </tr>\n",
       "    <tr>\n",
       "      <td>RandForest</td>\n",
       "      <td>0.0</td>\n",
       "      <td>0.0</td>\n",
       "      <td>0.0</td>\n",
       "    </tr>\n",
       "    <tr>\n",
       "      <td>CatBoost</td>\n",
       "      <td>0.0</td>\n",
       "      <td>0.0</td>\n",
       "      <td>0.0</td>\n",
       "    </tr>\n",
       "  </tbody>\n",
       "</table>\n",
       "</div>"
      ],
      "text/plain": [
       "            fit_time  MAE   R2\n",
       "LinearReg        0.0  0.0  0.0\n",
       "RandForest       0.0  0.0  0.0\n",
       "CatBoost         0.0  0.0  0.0"
      ]
     },
     "execution_count": 129,
     "metadata": {},
     "output_type": "execute_result"
    }
   ],
   "source": [
    "#задание индексов - названий моделей\n",
    "pivot_data_index = ['LinearReg', 'RandForest', 'CatBoost']\n",
    "\n",
    "#задание колонок\n",
    "pivot_data_columns = ['fit_time', 'MAE', 'R2']\n",
    "\n",
    "#задание сводной таблицы\n",
    "pivot_data = pd.DataFrame(np.zeros((3, 3)), \\\n",
    "                          index = pivot_data_index, \\\n",
    "                          columns = pivot_data_columns)\n",
    "\n",
    "pivot_data"
   ]
  },
  {
   "cell_type": "code",
   "execution_count": 130,
   "metadata": {},
   "outputs": [],
   "source": [
    "#задание моделей\n",
    "modelLR = LinearRegression()                     #линейная регрессия\n",
    "\n",
    "modelRF = RandomForestRegressor()                #случайный лес\n",
    "\n",
    "modelCB = cb.CatBoostRegressor(**catboost)       #CatBoost"
   ]
  },
  {
   "cell_type": "markdown",
   "metadata": {},
   "source": [
    "#### Линейная регрессия"
   ]
  },
  {
   "cell_type": "code",
   "execution_count": 131,
   "metadata": {},
   "outputs": [],
   "source": [
    "#задание модели на кросс-валидации\n",
    "modelLRCV = GridSearchCV(estimator = modelLR, scoring = 'neg_mean_squared_error', \n",
    "                       param_grid = linear_reg, \\\n",
    "                       cv = 3, n_jobs = -1, verbose = 1)"
   ]
  },
  {
   "cell_type": "code",
   "execution_count": 132,
   "metadata": {},
   "outputs": [
    {
     "name": "stdout",
     "output_type": "stream",
     "text": [
      "Fitting 3 folds for each of 1 candidates, totalling 3 fits\n",
      "71.1 ms ± 0 ns per loop (mean ± std. dev. of 1 run, 1 loop each)\n"
     ]
    },
    {
     "name": "stderr",
     "output_type": "stream",
     "text": [
      "[Parallel(n_jobs=-1)]: Using backend SequentialBackend with 1 concurrent workers.\n",
      "[Parallel(n_jobs=-1)]: Done   3 out of   3 | elapsed:    0.0s finished\n"
     ]
    }
   ],
   "source": [
    "#обучение модели\n",
    "result = %timeit -n1 -r1 -o modelLRCV.fit(train_featuresLR, train_target)"
   ]
  },
  {
   "cell_type": "code",
   "execution_count": 133,
   "metadata": {},
   "outputs": [],
   "source": [
    "#расчет предсказаний\n",
    "predictionsLR = modelLRCV.predict(test_featuresLR)\n",
    "\n",
    "#расчет метрик\n",
    "LR_MAE = mean_absolute_error(test_target, predictionsLR)\n",
    "LR_R2 = r2_score(test_target, predictionsLR)"
   ]
  },
  {
   "cell_type": "code",
   "execution_count": 134,
   "metadata": {},
   "outputs": [],
   "source": [
    "#занесение данных в таблицу\n",
    "pivot_data.loc['LinearReg', 'fit_time'] = round(result.all_runs[0],3)\n",
    "pivot_data.loc['LinearReg', 'MAE'] = round(LR_MAE,3)\n",
    "pivot_data.loc['LinearReg', 'R2'] = round(LR_R2,3)"
   ]
  },
  {
   "cell_type": "markdown",
   "metadata": {},
   "source": [
    "#### Случайный лес"
   ]
  },
  {
   "cell_type": "code",
   "execution_count": 135,
   "metadata": {},
   "outputs": [],
   "source": [
    "#задание модели Случайного Леса на кросс-валидации\n",
    "modelRFCV = GridSearchCV(estimator = modelRF, scoring = 'neg_mean_absolute_error', \n",
    "                       param_grid = random_forest, \\\n",
    "                       cv = 3, n_jobs = -1, verbose = 1)"
   ]
  },
  {
   "cell_type": "code",
   "execution_count": 136,
   "metadata": {
    "scrolled": false
   },
   "outputs": [
    {
     "name": "stdout",
     "output_type": "stream",
     "text": [
      "Fitting 3 folds for each of 1 candidates, totalling 3 fits\n"
     ]
    },
    {
     "name": "stderr",
     "output_type": "stream",
     "text": [
      "[Parallel(n_jobs=-1)]: Using backend SequentialBackend with 1 concurrent workers.\n",
      "[Parallel(n_jobs=-1)]: Done   3 out of   3 | elapsed:   14.6s finished\n"
     ]
    },
    {
     "name": "stdout",
     "output_type": "stream",
     "text": [
      "21.4 s ± 0 ns per loop (mean ± std. dev. of 1 run, 1 loop each)\n"
     ]
    }
   ],
   "source": [
    "#обучение модели\n",
    "result = %timeit -n1 -r1 -o modelRFCV.fit(train_featuresRF, train_target)"
   ]
  },
  {
   "cell_type": "code",
   "execution_count": 137,
   "metadata": {},
   "outputs": [],
   "source": [
    "#расчет предсказаний\n",
    "predictionsRF = modelRFCV.predict(test_featuresRF)\n",
    "\n",
    "#расчет метрик\n",
    "RF_MAE = mean_absolute_error(test_target, predictionsRF)\n",
    "RF_R2 = r2_score(test_target, predictionsRF)"
   ]
  },
  {
   "cell_type": "code",
   "execution_count": 138,
   "metadata": {},
   "outputs": [],
   "source": [
    "#занесение данных в таблицу\n",
    "pivot_data.loc['RandForest', 'fit_time'] = round(result.all_runs[0],3)\n",
    "pivot_data.loc['RandForest', 'MAE'] = round(RF_MAE,3)\n",
    "pivot_data.loc['RandForest', 'R2'] = round(RF_R2,3)"
   ]
  },
  {
   "cell_type": "markdown",
   "metadata": {},
   "source": [
    "#### CatBoost"
   ]
  },
  {
   "cell_type": "code",
   "execution_count": 139,
   "metadata": {},
   "outputs": [],
   "source": [
    "#задание модели Случайного Леса на кросс-валидации\n",
    "modelCBCV = GridSearchCV(estimator = modelCB, scoring = 'neg_mean_absolute_error', \n",
    "                       param_grid = grid_paramsCV, \\\n",
    "                       cv = 3, n_jobs = -1, verbose = 1)"
   ]
  },
  {
   "cell_type": "code",
   "execution_count": 140,
   "metadata": {
    "scrolled": false
   },
   "outputs": [
    {
     "name": "stdout",
     "output_type": "stream",
     "text": [
      "Fitting 3 folds for each of 1 candidates, totalling 3 fits\n"
     ]
    },
    {
     "name": "stderr",
     "output_type": "stream",
     "text": [
      "[Parallel(n_jobs=-1)]: Using backend SequentialBackend with 1 concurrent workers.\n"
     ]
    },
    {
     "name": "stdout",
     "output_type": "stream",
     "text": [
      "0:\tlearn: 7.3759730\ttotal: 2.9ms\tremaining: 1.16s\n",
      "399:\tlearn: 4.0512976\ttotal: 4.44s\tremaining: 0us\n",
      "0:\tlearn: 7.6863626\ttotal: 3.63ms\tremaining: 1.45s\n",
      "399:\tlearn: 4.0896087\ttotal: 4.52s\tremaining: 0us\n",
      "0:\tlearn: 7.7288139\ttotal: 1.14ms\tremaining: 457ms\n",
      "399:\tlearn: 4.2958221\ttotal: 4.49s\tremaining: 0us\n"
     ]
    },
    {
     "name": "stderr",
     "output_type": "stream",
     "text": [
      "[Parallel(n_jobs=-1)]: Done   3 out of   3 | elapsed:   19.2s finished\n"
     ]
    },
    {
     "name": "stdout",
     "output_type": "stream",
     "text": [
      "0:\tlearn: 7.5975098\ttotal: 1.59ms\tremaining: 635ms\n",
      "399:\tlearn: 4.4700494\ttotal: 4.44s\tremaining: 0us\n",
      "25.5 s ± 0 ns per loop (mean ± std. dev. of 1 run, 1 loop each)\n"
     ]
    }
   ],
   "source": [
    "#обучение модели\n",
    "result = %timeit -n1 -r1 -o modelCBCV.fit(train_featuresCB, train_target)"
   ]
  },
  {
   "cell_type": "code",
   "execution_count": 141,
   "metadata": {},
   "outputs": [],
   "source": [
    "#расчет предсказаний\n",
    "predictionsCB = modelCBCV.predict(test_featuresCB)\n",
    "\n",
    "#расчет метрик\n",
    "CB_MAE = mean_absolute_error(test_target, predictionsCB)\n",
    "CB_R2 = r2_score(test_target, predictionsCB)"
   ]
  },
  {
   "cell_type": "code",
   "execution_count": 142,
   "metadata": {},
   "outputs": [],
   "source": [
    "#занесение данных в таблицу\n",
    "pivot_data.loc['CatBoost', 'fit_time'] = round(result.all_runs[0],3)\n",
    "pivot_data.loc['CatBoost', 'MAE'] = round(CB_MAE,3)\n",
    "pivot_data.loc['CatBoost', 'R2'] = round(CB_R2,3)"
   ]
  },
  {
   "cell_type": "markdown",
   "metadata": {},
   "source": [
    "### Анализ результатов для наилучшей модели"
   ]
  },
  {
   "cell_type": "markdown",
   "metadata": {},
   "source": [
    "#### Анализ результатов"
   ]
  },
  {
   "cell_type": "code",
   "execution_count": 143,
   "metadata": {
    "scrolled": false
   },
   "outputs": [
    {
     "data": {
      "text/html": [
       "<div>\n",
       "<style scoped>\n",
       "    .dataframe tbody tr th:only-of-type {\n",
       "        vertical-align: middle;\n",
       "    }\n",
       "\n",
       "    .dataframe tbody tr th {\n",
       "        vertical-align: top;\n",
       "    }\n",
       "\n",
       "    .dataframe thead th {\n",
       "        text-align: right;\n",
       "    }\n",
       "</style>\n",
       "<table border=\"1\" class=\"dataframe\">\n",
       "  <thead>\n",
       "    <tr style=\"text-align: right;\">\n",
       "      <th></th>\n",
       "      <th>fit_time</th>\n",
       "      <th>MAE</th>\n",
       "      <th>R2</th>\n",
       "    </tr>\n",
       "  </thead>\n",
       "  <tbody>\n",
       "    <tr>\n",
       "      <td>LinearReg</td>\n",
       "      <td>0.071</td>\n",
       "      <td>6.248</td>\n",
       "      <td>0.442</td>\n",
       "    </tr>\n",
       "    <tr>\n",
       "      <td>RandForest</td>\n",
       "      <td>21.449</td>\n",
       "      <td>5.922</td>\n",
       "      <td>0.503</td>\n",
       "    </tr>\n",
       "    <tr>\n",
       "      <td>CatBoost</td>\n",
       "      <td>25.496</td>\n",
       "      <td>5.802</td>\n",
       "      <td>0.511</td>\n",
       "    </tr>\n",
       "  </tbody>\n",
       "</table>\n",
       "</div>"
      ],
      "text/plain": [
       "            fit_time    MAE     R2\n",
       "LinearReg      0.071  6.248  0.442\n",
       "RandForest    21.449  5.922  0.503\n",
       "CatBoost      25.496  5.802  0.511"
      ]
     },
     "execution_count": 143,
     "metadata": {},
     "output_type": "execute_result"
    }
   ],
   "source": [
    "#вывод сводной таблицы\n",
    "pivot_data"
   ]
  },
  {
   "cell_type": "markdown",
   "metadata": {},
   "source": [
    "Как видно из сводной таблицы наилучшее (наименьшее) значение метрик MAE = 5.802 и R2 = 0.511 достигаются с помощью модели CatBoost. Отметим, что все три использованные модели имеют достаточно близкие значения MAE, т.е нет модели, которая была бы существенно хуже, чем остальные. В итоге, остановимся на модели CatBoost, поскольку она дает наименьшее значение MAE."
   ]
  },
  {
   "cell_type": "markdown",
   "metadata": {},
   "source": [
    "#### Подготовка данных для отчета заказчику"
   ]
  },
  {
   "cell_type": "markdown",
   "metadata": {},
   "source": [
    "Рассчитаем ошибку предсказания по отношению к разности конечной и начальной температур."
   ]
  },
  {
   "cell_type": "code",
   "execution_count": 144,
   "metadata": {},
   "outputs": [],
   "source": [
    "comparison_data = pd.DataFrame(index = test_target.index, \\\n",
    "                               columns = ['predictions', 'target', 'initial'])\n",
    "\n",
    "#задание предсказаний и тестовых значений\n",
    "comparison_data['predictions'] = predictionsCB\n",
    "comparison_data['target'] = test_target\n",
    "\n",
    "#задание начальной температуры\n",
    "comparison_data['initial'] = test_features['Initial_T']"
   ]
  },
  {
   "cell_type": "code",
   "execution_count": 145,
   "metadata": {
    "scrolled": false
   },
   "outputs": [
    {
     "data": {
      "text/html": [
       "<div>\n",
       "<style scoped>\n",
       "    .dataframe tbody tr th:only-of-type {\n",
       "        vertical-align: middle;\n",
       "    }\n",
       "\n",
       "    .dataframe tbody tr th {\n",
       "        vertical-align: top;\n",
       "    }\n",
       "\n",
       "    .dataframe thead th {\n",
       "        text-align: right;\n",
       "    }\n",
       "</style>\n",
       "<table border=\"1\" class=\"dataframe\">\n",
       "  <thead>\n",
       "    <tr style=\"text-align: right;\">\n",
       "      <th></th>\n",
       "      <th>key</th>\n",
       "      <th>max</th>\n",
       "      <th>min</th>\n",
       "      <th>T_difference</th>\n",
       "    </tr>\n",
       "  </thead>\n",
       "  <tbody>\n",
       "    <tr>\n",
       "      <td>0</td>\n",
       "      <td>1</td>\n",
       "      <td>1618.0</td>\n",
       "      <td>1571.0</td>\n",
       "      <td>47.0</td>\n",
       "    </tr>\n",
       "    <tr>\n",
       "      <td>1</td>\n",
       "      <td>2</td>\n",
       "      <td>1608.0</td>\n",
       "      <td>1577.0</td>\n",
       "      <td>31.0</td>\n",
       "    </tr>\n",
       "    <tr>\n",
       "      <td>2</td>\n",
       "      <td>3</td>\n",
       "      <td>1599.0</td>\n",
       "      <td>1596.0</td>\n",
       "      <td>3.0</td>\n",
       "    </tr>\n",
       "    <tr>\n",
       "      <td>3</td>\n",
       "      <td>4</td>\n",
       "      <td>1625.0</td>\n",
       "      <td>1601.0</td>\n",
       "      <td>24.0</td>\n",
       "    </tr>\n",
       "    <tr>\n",
       "      <td>4</td>\n",
       "      <td>5</td>\n",
       "      <td>1602.0</td>\n",
       "      <td>1576.0</td>\n",
       "      <td>26.0</td>\n",
       "    </tr>\n",
       "    <tr>\n",
       "      <td>...</td>\n",
       "      <td>...</td>\n",
       "      <td>...</td>\n",
       "      <td>...</td>\n",
       "      <td>...</td>\n",
       "    </tr>\n",
       "    <tr>\n",
       "      <td>3211</td>\n",
       "      <td>3237</td>\n",
       "      <td>1569.0</td>\n",
       "      <td>1569.0</td>\n",
       "      <td>0.0</td>\n",
       "    </tr>\n",
       "    <tr>\n",
       "      <td>3212</td>\n",
       "      <td>3238</td>\n",
       "      <td>1584.0</td>\n",
       "      <td>1584.0</td>\n",
       "      <td>0.0</td>\n",
       "    </tr>\n",
       "    <tr>\n",
       "      <td>3213</td>\n",
       "      <td>3239</td>\n",
       "      <td>1598.0</td>\n",
       "      <td>1598.0</td>\n",
       "      <td>0.0</td>\n",
       "    </tr>\n",
       "    <tr>\n",
       "      <td>3214</td>\n",
       "      <td>3240</td>\n",
       "      <td>1617.0</td>\n",
       "      <td>1617.0</td>\n",
       "      <td>0.0</td>\n",
       "    </tr>\n",
       "    <tr>\n",
       "      <td>3215</td>\n",
       "      <td>3241</td>\n",
       "      <td>1586.0</td>\n",
       "      <td>1586.0</td>\n",
       "      <td>0.0</td>\n",
       "    </tr>\n",
       "  </tbody>\n",
       "</table>\n",
       "<p>3216 rows × 4 columns</p>\n",
       "</div>"
      ],
      "text/plain": [
       "       key     max     min  T_difference\n",
       "0        1  1618.0  1571.0          47.0\n",
       "1        2  1608.0  1577.0          31.0\n",
       "2        3  1599.0  1596.0           3.0\n",
       "3        4  1625.0  1601.0          24.0\n",
       "4        5  1602.0  1576.0          26.0\n",
       "...    ...     ...     ...           ...\n",
       "3211  3237  1569.0  1569.0           0.0\n",
       "3212  3238  1584.0  1584.0           0.0\n",
       "3213  3239  1598.0  1598.0           0.0\n",
       "3214  3240  1617.0  1617.0           0.0\n",
       "3215  3241  1586.0  1586.0           0.0\n",
       "\n",
       "[3216 rows x 4 columns]"
      ]
     },
     "execution_count": 145,
     "metadata": {},
     "output_type": "execute_result"
    }
   ],
   "source": [
    "#создание сводной таблицы для подсчета амплитуды изменения температуры\n",
    "data_temp3 = data_temp2.pivot_table(values = 'Температура', index = 'key', \\\n",
    "                                    aggfunc = ['max', 'min'])\n",
    "\n",
    "#переименование колонок\n",
    "data_temp3.columns = ['max', 'min']\n",
    "data_temp3 = data_temp3.reset_index()\n",
    "\n",
    "data_temp3['T_difference'] = data_temp3['max'] - data_temp3['min']\n",
    "data_temp3"
   ]
  },
  {
   "cell_type": "code",
   "execution_count": 146,
   "metadata": {},
   "outputs": [],
   "source": [
    "comparison_data = comparison_data.merge(data_temp3, on = 'key', how ='inner')\n",
    "\n",
    "comparison_data = comparison_data.set_index('key').sort_index(axis = 0)"
   ]
  },
  {
   "cell_type": "code",
   "execution_count": 147,
   "metadata": {},
   "outputs": [],
   "source": [
    "#подсет ошибки предсказания отнесенной к разности конечной и начальной температур\n",
    "comparison_data['relative_error_range'] = 100 * \\\n",
    "                                    (comparison_data['predictions'] - comparison_data['target'])/\\\n",
    "                                    comparison_data['T_difference']"
   ]
  },
  {
   "cell_type": "code",
   "execution_count": 148,
   "metadata": {},
   "outputs": [],
   "source": [
    "#расчет относительной ошибки предсказания \n",
    "comparison_data['relative_error'] = 100 * \\\n",
    "                                    (comparison_data['predictions'] - comparison_data['target'])/\\\n",
    "                                    comparison_data['target']"
   ]
  },
  {
   "cell_type": "code",
   "execution_count": 149,
   "metadata": {},
   "outputs": [],
   "source": [
    "#расчет R2 для каждого измерения\n",
    "comparison_data['r2_key'] = 1 - \\\n",
    "                            (comparison_data['predictions'] - comparison_data['target'])**2/\\\n",
    "                            (comparison_data['target'] - comparison_data['target'].mean())**2                "
   ]
  },
  {
   "cell_type": "code",
   "execution_count": 150,
   "metadata": {
    "scrolled": false
   },
   "outputs": [
    {
     "data": {
      "text/html": [
       "<div>\n",
       "<style scoped>\n",
       "    .dataframe tbody tr th:only-of-type {\n",
       "        vertical-align: middle;\n",
       "    }\n",
       "\n",
       "    .dataframe tbody tr th {\n",
       "        vertical-align: top;\n",
       "    }\n",
       "\n",
       "    .dataframe thead th {\n",
       "        text-align: right;\n",
       "    }\n",
       "</style>\n",
       "<table border=\"1\" class=\"dataframe\">\n",
       "  <thead>\n",
       "    <tr style=\"text-align: right;\">\n",
       "      <th></th>\n",
       "      <th>predictions</th>\n",
       "      <th>target</th>\n",
       "      <th>initial</th>\n",
       "      <th>max</th>\n",
       "      <th>min</th>\n",
       "      <th>T_difference</th>\n",
       "      <th>relative_error_range</th>\n",
       "      <th>relative_error</th>\n",
       "      <th>r2_key</th>\n",
       "    </tr>\n",
       "    <tr>\n",
       "      <th>key</th>\n",
       "      <th></th>\n",
       "      <th></th>\n",
       "      <th></th>\n",
       "      <th></th>\n",
       "      <th></th>\n",
       "      <th></th>\n",
       "      <th></th>\n",
       "      <th></th>\n",
       "      <th></th>\n",
       "    </tr>\n",
       "  </thead>\n",
       "  <tbody>\n",
       "    <tr>\n",
       "      <td>1</td>\n",
       "      <td>1597.841984</td>\n",
       "      <td>1613.0</td>\n",
       "      <td>1571.0</td>\n",
       "      <td>1618.0</td>\n",
       "      <td>1571.0</td>\n",
       "      <td>47.0</td>\n",
       "      <td>-32.251098</td>\n",
       "      <td>-0.939741</td>\n",
       "      <td>0.380962</td>\n",
       "    </tr>\n",
       "    <tr>\n",
       "      <td>2</td>\n",
       "      <td>1595.671894</td>\n",
       "      <td>1602.0</td>\n",
       "      <td>1581.0</td>\n",
       "      <td>1608.0</td>\n",
       "      <td>1577.0</td>\n",
       "      <td>31.0</td>\n",
       "      <td>-20.413247</td>\n",
       "      <td>-0.395013</td>\n",
       "      <td>0.413872</td>\n",
       "    </tr>\n",
       "    <tr>\n",
       "      <td>4</td>\n",
       "      <td>1597.241756</td>\n",
       "      <td>1625.0</td>\n",
       "      <td>1601.0</td>\n",
       "      <td>1625.0</td>\n",
       "      <td>1601.0</td>\n",
       "      <td>24.0</td>\n",
       "      <td>-115.659352</td>\n",
       "      <td>-1.708200</td>\n",
       "      <td>0.211778</td>\n",
       "    </tr>\n",
       "    <tr>\n",
       "      <td>9</td>\n",
       "      <td>1591.451281</td>\n",
       "      <td>1592.0</td>\n",
       "      <td>1587.0</td>\n",
       "      <td>1597.0</td>\n",
       "      <td>1587.0</td>\n",
       "      <td>10.0</td>\n",
       "      <td>-5.487194</td>\n",
       "      <td>-0.034467</td>\n",
       "      <td>0.899901</td>\n",
       "    </tr>\n",
       "    <tr>\n",
       "      <td>10</td>\n",
       "      <td>1590.230911</td>\n",
       "      <td>1593.0</td>\n",
       "      <td>1574.0</td>\n",
       "      <td>1593.0</td>\n",
       "      <td>1574.0</td>\n",
       "      <td>19.0</td>\n",
       "      <td>-14.574151</td>\n",
       "      <td>-0.173829</td>\n",
       "      <td>-13.219289</td>\n",
       "    </tr>\n",
       "    <tr>\n",
       "      <td>...</td>\n",
       "      <td>...</td>\n",
       "      <td>...</td>\n",
       "      <td>...</td>\n",
       "      <td>...</td>\n",
       "      <td>...</td>\n",
       "      <td>...</td>\n",
       "      <td>...</td>\n",
       "      <td>...</td>\n",
       "      <td>...</td>\n",
       "    </tr>\n",
       "    <tr>\n",
       "      <td>2488</td>\n",
       "      <td>1590.280195</td>\n",
       "      <td>1577.0</td>\n",
       "      <td>1602.0</td>\n",
       "      <td>1602.0</td>\n",
       "      <td>1573.0</td>\n",
       "      <td>29.0</td>\n",
       "      <td>45.793777</td>\n",
       "      <td>0.842118</td>\n",
       "      <td>0.370216</td>\n",
       "    </tr>\n",
       "    <tr>\n",
       "      <td>2489</td>\n",
       "      <td>1584.096133</td>\n",
       "      <td>1579.0</td>\n",
       "      <td>1613.0</td>\n",
       "      <td>1613.0</td>\n",
       "      <td>1574.0</td>\n",
       "      <td>39.0</td>\n",
       "      <td>13.067009</td>\n",
       "      <td>0.322744</td>\n",
       "      <td>0.880375</td>\n",
       "    </tr>\n",
       "    <tr>\n",
       "      <td>2490</td>\n",
       "      <td>1607.422024</td>\n",
       "      <td>1619.0</td>\n",
       "      <td>1602.0</td>\n",
       "      <td>1630.0</td>\n",
       "      <td>1599.0</td>\n",
       "      <td>31.0</td>\n",
       "      <td>-37.348311</td>\n",
       "      <td>-0.715131</td>\n",
       "      <td>0.790007</td>\n",
       "    </tr>\n",
       "    <tr>\n",
       "      <td>2495</td>\n",
       "      <td>1593.011394</td>\n",
       "      <td>1591.0</td>\n",
       "      <td>1570.0</td>\n",
       "      <td>1591.0</td>\n",
       "      <td>1570.0</td>\n",
       "      <td>21.0</td>\n",
       "      <td>9.578066</td>\n",
       "      <td>0.126423</td>\n",
       "      <td>0.458886</td>\n",
       "    </tr>\n",
       "    <tr>\n",
       "      <td>2497</td>\n",
       "      <td>1591.051378</td>\n",
       "      <td>1589.0</td>\n",
       "      <td>1571.0</td>\n",
       "      <td>1589.0</td>\n",
       "      <td>1571.0</td>\n",
       "      <td>18.0</td>\n",
       "      <td>11.396542</td>\n",
       "      <td>0.129099</td>\n",
       "      <td>0.812253</td>\n",
       "    </tr>\n",
       "  </tbody>\n",
       "</table>\n",
       "<p>463 rows × 9 columns</p>\n",
       "</div>"
      ],
      "text/plain": [
       "      predictions  target  initial     max     min  T_difference  \\\n",
       "key                                                                \n",
       "1     1597.841984  1613.0   1571.0  1618.0  1571.0          47.0   \n",
       "2     1595.671894  1602.0   1581.0  1608.0  1577.0          31.0   \n",
       "4     1597.241756  1625.0   1601.0  1625.0  1601.0          24.0   \n",
       "9     1591.451281  1592.0   1587.0  1597.0  1587.0          10.0   \n",
       "10    1590.230911  1593.0   1574.0  1593.0  1574.0          19.0   \n",
       "...           ...     ...      ...     ...     ...           ...   \n",
       "2488  1590.280195  1577.0   1602.0  1602.0  1573.0          29.0   \n",
       "2489  1584.096133  1579.0   1613.0  1613.0  1574.0          39.0   \n",
       "2490  1607.422024  1619.0   1602.0  1630.0  1599.0          31.0   \n",
       "2495  1593.011394  1591.0   1570.0  1591.0  1570.0          21.0   \n",
       "2497  1591.051378  1589.0   1571.0  1589.0  1571.0          18.0   \n",
       "\n",
       "      relative_error_range  relative_error     r2_key  \n",
       "key                                                    \n",
       "1               -32.251098       -0.939741   0.380962  \n",
       "2               -20.413247       -0.395013   0.413872  \n",
       "4              -115.659352       -1.708200   0.211778  \n",
       "9                -5.487194       -0.034467   0.899901  \n",
       "10              -14.574151       -0.173829 -13.219289  \n",
       "...                    ...             ...        ...  \n",
       "2488             45.793777        0.842118   0.370216  \n",
       "2489             13.067009        0.322744   0.880375  \n",
       "2490            -37.348311       -0.715131   0.790007  \n",
       "2495              9.578066        0.126423   0.458886  \n",
       "2497             11.396542        0.129099   0.812253  \n",
       "\n",
       "[463 rows x 9 columns]"
      ]
     },
     "execution_count": 150,
     "metadata": {},
     "output_type": "execute_result"
    }
   ],
   "source": [
    "#вывод данных\n",
    "comparison_data"
   ]
  },
  {
   "cell_type": "code",
   "execution_count": 151,
   "metadata": {},
   "outputs": [],
   "source": [
    "#построение датасетов с ращличным числом признаков\n",
    "def FeaturesSelect(train, test, threshold):\n",
    "    \n",
    "    #обновление набора признаков для обеих выборок\n",
    "    del_list = []\n",
    "    \n",
    "    #определение превышает ли критерий важности пороговое значение\n",
    "    for i in range(len(importance_data['Importances'])):\n",
    "        score = importance_data.loc[i,'Importances']\n",
    "        column = importance_data.loc[i,'Feature Id']\n",
    "        \n",
    "        #занесение в список колонок для удаления\n",
    "        if score < threshold:\n",
    "            del_list.append(column)\n",
    "\n",
    "    #сокращение числа признаков\n",
    "    train = train_features.drop(del_list, axis = 1)\n",
    "    test = test_features.drop(del_list, axis = 1)\n",
    "    \n",
    "    #селекция признаков\n",
    "    listSelect = train.columns.to_list()\n",
    "    data = importance_data[importance_data['Feature Id'].isin(listSelect)]\n",
    "           \n",
    "    return train, test, data"
   ]
  },
  {
   "cell_type": "code",
   "execution_count": 152,
   "metadata": {},
   "outputs": [],
   "source": [
    "def CalcFMetrics(train, train_target, test, test_target):\n",
    "   \n",
    "    #задание модели Случайного Леса на кросс-валидации\n",
    "    modelCBCV = GridSearchCV(estimator = modelCB, scoring = 'neg_mean_absolute_error', \n",
    "                       param_grid = grid_paramsCV, \\\n",
    "                       cv = 3, n_jobs = -1, verbose = 1)\n",
    "    \n",
    "    #обучение модели\n",
    "    modelCBCV.fit(train, train_target)\n",
    "\n",
    "    #расчет предсказаний\n",
    "    predictionsCB = modelCBCV.predict(test)\n",
    "\n",
    "    #расчет метрик\n",
    "    MAE = mean_absolute_error(test_target, predictionsCB)\n",
    "    R2 = r2_score(test_target, predictionsCB)\n",
    "    \n",
    "    columns_list = train.columns.to_list()\n",
    "    \n",
    "    return MAE, R2, columns_list"
   ]
  },
  {
   "cell_type": "code",
   "execution_count": 153,
   "metadata": {},
   "outputs": [],
   "source": [
    "#создание списка датасетов с тремя наборами признаков\n",
    "train1, test1, data1 = FeaturesSelect(train_features, test_features, 0.2)\n",
    "train2, test2, data2 = FeaturesSelect(train_features, test_features, 0.25)\n",
    "train3, test3, data3 = FeaturesSelect(train_features, test_features, 1.0)"
   ]
  },
  {
   "cell_type": "code",
   "execution_count": 154,
   "metadata": {},
   "outputs": [
    {
     "name": "stdout",
     "output_type": "stream",
     "text": [
      "Fitting 3 folds for each of 1 candidates, totalling 3 fits\n"
     ]
    },
    {
     "name": "stderr",
     "output_type": "stream",
     "text": [
      "[Parallel(n_jobs=-1)]: Using backend SequentialBackend with 1 concurrent workers.\n"
     ]
    },
    {
     "name": "stdout",
     "output_type": "stream",
     "text": [
      "0:\tlearn: 7.3759730\ttotal: 1.15ms\tremaining: 457ms\n",
      "399:\tlearn: 4.0512976\ttotal: 4.57s\tremaining: 0us\n",
      "0:\tlearn: 7.6863626\ttotal: 1.82ms\tremaining: 726ms\n",
      "399:\tlearn: 4.0896087\ttotal: 4.77s\tremaining: 0us\n",
      "0:\tlearn: 7.7288139\ttotal: 1.87ms\tremaining: 746ms\n",
      "399:\tlearn: 4.2958221\ttotal: 4.92s\tremaining: 0us\n"
     ]
    },
    {
     "name": "stderr",
     "output_type": "stream",
     "text": [
      "[Parallel(n_jobs=-1)]: Done   3 out of   3 | elapsed:   20.0s finished\n"
     ]
    },
    {
     "name": "stdout",
     "output_type": "stream",
     "text": [
      "0:\tlearn: 7.5975098\ttotal: 1.42ms\tremaining: 567ms\n",
      "399:\tlearn: 4.4700494\ttotal: 5.4s\tremaining: 0us\n",
      "Fitting 3 folds for each of 1 candidates, totalling 3 fits\n"
     ]
    },
    {
     "name": "stderr",
     "output_type": "stream",
     "text": [
      "[Parallel(n_jobs=-1)]: Using backend SequentialBackend with 1 concurrent workers.\n"
     ]
    },
    {
     "name": "stdout",
     "output_type": "stream",
     "text": [
      "0:\tlearn: 7.3198042\ttotal: 8.84ms\tremaining: 3.53s\n",
      "399:\tlearn: 4.3647445\ttotal: 4.3s\tremaining: 0us\n",
      "0:\tlearn: 7.6288139\ttotal: 2.49ms\tremaining: 993ms\n",
      "399:\tlearn: 4.4098671\ttotal: 3.86s\tremaining: 0us\n",
      "0:\tlearn: 7.7288951\ttotal: 1.24ms\tremaining: 496ms\n",
      "399:\tlearn: 4.4759419\ttotal: 4.47s\tremaining: 0us\n"
     ]
    },
    {
     "name": "stderr",
     "output_type": "stream",
     "text": [
      "[Parallel(n_jobs=-1)]: Done   3 out of   3 | elapsed:   18.6s finished\n"
     ]
    },
    {
     "name": "stdout",
     "output_type": "stream",
     "text": [
      "0:\tlearn: 7.5490250\ttotal: 1.47ms\tremaining: 587ms\n",
      "399:\tlearn: 4.7499938\ttotal: 4.89s\tremaining: 0us\n",
      "Fitting 3 folds for each of 1 candidates, totalling 3 fits\n"
     ]
    },
    {
     "name": "stderr",
     "output_type": "stream",
     "text": [
      "[Parallel(n_jobs=-1)]: Using backend SequentialBackend with 1 concurrent workers.\n"
     ]
    },
    {
     "name": "stdout",
     "output_type": "stream",
     "text": [
      "0:\tlearn: 7.3219957\ttotal: 1.52ms\tremaining: 609ms\n",
      "399:\tlearn: 5.1651198\ttotal: 4.08s\tremaining: 0us\n",
      "0:\tlearn: 7.6381484\ttotal: 3.03ms\tremaining: 1.21s\n",
      "399:\tlearn: 5.4715457\ttotal: 4.02s\tremaining: 0us\n",
      "0:\tlearn: 7.7314113\ttotal: 1.16ms\tremaining: 464ms\n",
      "399:\tlearn: 5.6168920\ttotal: 3.95s\tremaining: 0us\n"
     ]
    },
    {
     "name": "stderr",
     "output_type": "stream",
     "text": [
      "[Parallel(n_jobs=-1)]: Done   3 out of   3 | elapsed:   17.7s finished\n"
     ]
    },
    {
     "name": "stdout",
     "output_type": "stream",
     "text": [
      "0:\tlearn: 7.5516224\ttotal: 2.16ms\tremaining: 862ms\n",
      "399:\tlearn: 5.6431483\ttotal: 4.39s\tremaining: 0us\n"
     ]
    }
   ],
   "source": [
    "#обучение модели на трех датасетах с разным числом признаков\n",
    "MAE1, R21, list1 =  CalcFMetrics(train1, train_target, test1, test_target)\n",
    "MAE2, R22, list2 =  CalcFMetrics(train2, train_target, test2, test_target)\n",
    "MAE3, R23, list3 =  CalcFMetrics(train3, train_target, test3, test_target)"
   ]
  },
  {
   "cell_type": "markdown",
   "metadata": {},
   "source": [
    "## Отчет (модель)"
   ]
  },
  {
   "cell_type": "markdown",
   "metadata": {},
   "source": [
    "### Представление результатов"
   ]
  },
  {
   "cell_type": "markdown",
   "metadata": {},
   "source": [
    "*Финальные параметры предсказательной модели*  \n",
    "Модель предсказания **CatBoost**  \n",
    "*MAE* = 5.802   \n",
    "*R2* = 0.511  \n",
    "\n",
    "`boosting_type`: *Plain*,  \n",
    "`depth`: 4,  \n",
    "`iterations` : 400,  \n",
    "`learning_rate`: 0.1  \n",
    "\n",
    "Число признаков: 7"
   ]
  },
  {
   "cell_type": "code",
   "execution_count": 155,
   "metadata": {
    "scrolled": false
   },
   "outputs": [
    {
     "data": {
      "image/png": "[encoded data removed]",
      "text/plain": [
       "<Figure size 1152x360 with 3 Axes>"
      ]
     },
     "metadata": {
      "needs_background": "light"
     },
     "output_type": "display_data"
    }
   ],
   "source": [
    "#построение графиков\n",
    "fig, axes = plt.subplots(1,3, figsize = (16,5))\n",
    "\n",
    "comparison_data['relative_error'].plot(color = 'green', ax = axes[0]);\n",
    "comparison_data['relative_error_range'].plot(color = 'blue', ax = axes[1]);\n",
    "comparison_data['r2_key'].plot(color = 'orange', ax = axes[2]);\n",
    "\n",
    "\n",
    "#задание осей и подписей к рисункам\n",
    "axes[0].set_ylabel('%');\n",
    "axes[0].set_title('Относительная ошибка');\n",
    "\n",
    "axes[1].set_ylabel('%');\n",
    "axes[1].set_title('Ошибка к разбросу температур');\n",
    "\n",
    "#axes[1].set_ylabel('%');\n",
    "axes[2].set_title('R2 для партии');"
   ]
  },
  {
   "cell_type": "markdown",
   "metadata": {},
   "source": [
    "Из графиков видно, что относительная ошибка предсказания температуры практически всегда меньше двух процентов. Ошибка предсказания отнесенная к разбросу температур в ходе процесса выплавки указывает насколько точно мы попадаем в диапазон изменения температуры в ходе выплавки, т.е. выходит или нет ошибка предсказания за диапазон изменения температуры в ходе роста. Если значение этой ошибки более 100 процентов, то это означает, что предсказательная модель не позволяет контролировать температуру, даже, если относительная ошибка предсказания для заданной температуры очень мала. "
   ]
  },
  {
   "cell_type": "code",
   "execution_count": 156,
   "metadata": {},
   "outputs": [
    {
     "name": "stdout",
     "output_type": "stream",
     "text": [
      "Процент предсказаний отличающихся от истинной температуры менее чем на два процента:\n",
      "99.8%\n"
     ]
    }
   ],
   "source": [
    "#расчет числа предсказаний лежащих вблизи истинного значения\n",
    "len_2 = comparison_data.loc[abs(comparison_data.loc[:,'relative_error']) < 2]\n",
    "\n",
    "print('Процент предсказаний отличающихся от истинной температуры менее чем на два процента:')\n",
    "print('{:.1%}'.format(len(len_2) / len(comparison_data)))"
   ]
  },
  {
   "cell_type": "code",
   "execution_count": 157,
   "metadata": {
    "scrolled": false
   },
   "outputs": [
    {
     "name": "stdout",
     "output_type": "stream",
     "text": [
      "Процент предсказаний в диапазон изменения температуры:\n",
      "94.8%\n",
      "Процент предсказаний в полу-диапазон изменения температуры:\n",
      "82.9%\n"
     ]
    }
   ],
   "source": [
    "#расчет числа предсказаний лежащих в диапазоне изменения температур\n",
    "len_range = comparison_data.loc[abs(comparison_data.loc[:,'relative_error_range']) < 100]\n",
    "len_range_50 = comparison_data.loc[abs(comparison_data.loc[:,'relative_error_range']) < 50]\n",
    "\n",
    "print('Процент предсказаний в диапазон изменения температуры:')\n",
    "print('{:.1%}'.format(len(len_range) / len(comparison_data)))\n",
    "\n",
    "print('Процент предсказаний в полу-диапазон изменения температуры:')\n",
    "print('{:.1%}'.format(len(len_range_50) / len(comparison_data)))"
   ]
  },
  {
   "cell_type": "code",
   "execution_count": 158,
   "metadata": {},
   "outputs": [
    {
     "name": "stdout",
     "output_type": "stream",
     "text": [
      "Процент предсказаний c r2 в диапазоне от 0.25 до 1:\n",
      "54.6%\n",
      "Процент предсказаний c r2 в диапазоне от 0.5 до 1:\n",
      "45.6%\n"
     ]
    }
   ],
   "source": [
    "#расчет числа предсказаний с R2 от 0.25 до 1\n",
    "len_r2_025 = comparison_data.loc[(comparison_data.loc[:,'r2_key'] <= 1.0) &\\\n",
    "                             (comparison_data.loc[:,'r2_key'] >= 0.25)]\n",
    "len_r2_05 = comparison_data.loc[(comparison_data.loc[:,'r2_key'] <= 1.0) &\\\n",
    "                             (comparison_data.loc[:,'r2_key'] >= 0.5)]\n",
    "\n",
    "\n",
    "print('Процент предсказаний c r2 в диапазоне от 0.25 до 1:')\n",
    "print('{:.1%}'.format(len(len_r2_025) / len(comparison_data)))\n",
    "\n",
    "print('Процент предсказаний c r2 в диапазоне от 0.5 до 1:')\n",
    "print('{:.1%}'.format(len(len_r2_05) / len(comparison_data)))"
   ]
  },
  {
   "cell_type": "markdown",
   "metadata": {},
   "source": [
    "Полученные значения числа отклонений предсказаний указывает на хорошую предсказательную силу модели, однако, существуют ряд значению имеющих аномально большие отклонения предсказаний и истинных значений. Эти аномалии могут быть устранены путем более детального сбора статистики. "
   ]
  },
  {
   "cell_type": "markdown",
   "metadata": {},
   "source": [
    "Не все признаки имеют равную важность при предсказании температуры, однако исключение каких-то признаков может привести к ухудшению предсказательной мощности модели. "
   ]
  },
  {
   "cell_type": "code",
   "execution_count": 159,
   "metadata": {
    "scrolled": false
   },
   "outputs": [
    {
     "data": {
      "image/png": "[encoded data removed]",
      "text/plain": [
       "<Figure size 1296x432 with 3 Axes>"
      ]
     },
     "metadata": {
      "needs_background": "light"
     },
     "output_type": "display_data"
    }
   ],
   "source": [
    "#построение графиков\n",
    "fig, axes = plt.subplots(1,3, figsize = (18,6))\n",
    "\n",
    "fig.suptitle(\"Важность признаков\")\n",
    "    \n",
    "#построение столбчатой диаграммы\n",
    "axes[0].bar(data1['Feature Id'], data1['Importances'], color=\"blue\", align = \"center\");\n",
    "axes[1].bar(data2['Feature Id'], data2['Importances'], color=\"blue\", align = \"center\");\n",
    "axes[2].bar(data3['Feature Id'], data3['Importances'], color=\"blue\", align = \"center\");\n",
    "\n",
    "#поворот подписей\n",
    "axes[0].set_xticklabels(data1['Feature Id'], rotation = 70);\n",
    "axes[1].set_xticklabels(data2['Feature Id'], rotation = 70);\n",
    "axes[2].set_xticklabels(data3['Feature Id'], rotation = 70);\n",
    "\n",
    "#задание осей и подписей к рисункам\n",
    "axes[0].set_ylabel('Величина важности');\n",
    "axes[1].set_ylabel('Величина важности');\n",
    "axes[2].set_ylabel('Величина важности');\n",
    "\n",
    "axes[0].set_title('Порог важности 0.1');\n",
    "axes[1].set_title('Порог важности 0.2');\n",
    "axes[2].set_title('Порог важности 1.0');\n",
    "\n",
    "#вывод значений метрик\n",
    "axes[0].text(0.65, 0.95, 'MAE = {:.3}'.format(MAE1), ha='left', va='center', size = 15, \\\n",
    "            transform = axes[0].transAxes);\n",
    "axes[0].text(0.65, 0.87, 'R2 = {:.3}'.format(R21), ha='left', va='center', size = 15, \\\n",
    "            transform = axes[0].transAxes);\n",
    "axes[1].text(0.65, 0.95, 'MAE = {:.3}'.format(MAE2), ha='left', va='center', size = 15, \\\n",
    "            transform = axes[1].transAxes);\n",
    "axes[1].text(0.65, 0.87, 'R2 = {:.3}'.format(R22), ha='left', va='center', size = 15, \\\n",
    "            transform = axes[1].transAxes);\n",
    "axes[2].text(0.65, 0.95, 'MAE = {:.3}'.format(MAE3), ha='left', va='center', size = 15, \\\n",
    "            transform = axes[2].transAxes);\n",
    "axes[2].text(0.65, 0.87, 'R2 = {:.3}'.format(R23), ha='left', va='center', size = 15, \\\n",
    "            transform = axes[2].transAxes);"
   ]
  },
  {
   "cell_type": "markdown",
   "metadata": {},
   "source": [
    "Из представленных столбчатых диаграмм видно, какие признаки важны и как меняются величины метрик при выборе различного числа признаков. Видно, что ключевыми признаками являются время нагрева и начальная температура. Именно эти параметры необходимо отслеживать в ходе процесса выплавки в первую очередь. Однако пренебрежение объемом примесей, добавляемых к расплаву, может привести к ухудшению предсказаний, т.е. к перерасходу энергии на нагрев расплава, а значит и к финансовым затратам."
   ]
  },
  {
   "cell_type": "markdown",
   "metadata": {},
   "source": [
    "Подводя итоги можно заключить, что: \n",
    "* построена модель, достаточно хорошо предсказывающая температуру расплава в конце процесса;\n",
    "* установлены ключевые характеристики, которые необходимо отслеживать в процессе выплавки: время нагрева и начальную температуры;\n",
    "* для хорошего предсказания конечной температуры недостаточно только величин начальной температуры и времени нагрева;\n",
    "* для улучшения предсказаний температуры необходимо собрать дополнительную статистику."
   ]
  },
  {
   "cell_type": "markdown",
   "metadata": {},
   "source": [
    "### Подготовка данных к финальному отчету"
   ]
  },
  {
   "cell_type": "code",
   "execution_count": 160,
   "metadata": {},
   "outputs": [],
   "source": [
    "#вывод данных об ошибках предсказаний\n",
    "def ReportErrors():\n",
    "    \n",
    "    #построение графиков\n",
    "    fig, axes = plt.subplots(1,3, figsize = (16,5))\n",
    "\n",
    "    comparison_data['relative_error'].plot(color = 'green', ax = axes[0]);\n",
    "    comparison_data['relative_error_range'].plot(color = 'blue', ax = axes[1]);\n",
    "    comparison_data['r2_key'].plot(color = 'orange', ax = axes[2]);\n",
    "\n",
    "\n",
    "    #задание осей и подписей к рисункам\n",
    "    axes[0].set_ylabel('%');\n",
    "    axes[0].set_title('Относительная ошибка');\n",
    "\n",
    "    axes[1].set_ylabel('%');\n",
    "    axes[1].set_title('Ошибка к разбросу температур');\n",
    "\n",
    "    axes[2].set_title('R2 для партии');"
   ]
  },
  {
   "cell_type": "code",
   "execution_count": 161,
   "metadata": {},
   "outputs": [],
   "source": [
    "#вывод данных о важности признаков\n",
    "def ReportImportances():\n",
    "\n",
    "    #построение графиков\n",
    "    fig, axes = plt.subplots(1,3, figsize = (18,6))\n",
    "\n",
    "    fig.suptitle(\"Важность признаков\")\n",
    "    \n",
    "    #построение столбчатой диаграммы\n",
    "    axes[0].bar(data1['Feature Id'], data1['Importances'], color=\"blue\", align = \"center\");\n",
    "    axes[1].bar(data2['Feature Id'], data2['Importances'], color=\"blue\", align = \"center\");\n",
    "    axes[2].bar(data3['Feature Id'], data3['Importances'], color=\"blue\", align = \"center\");\n",
    "\n",
    "    #поворот подписей\n",
    "    axes[0].set_xticklabels(data1['Feature Id'], rotation = 70);\n",
    "    axes[1].set_xticklabels(data2['Feature Id'], rotation = 70);\n",
    "    axes[2].set_xticklabels(data3['Feature Id'], rotation = 70);\n",
    "\n",
    "    #задание осей и подписей к рисункам\n",
    "    axes[0].set_ylabel('Величина важности');\n",
    "    axes[1].set_ylabel('Величина важности');\n",
    "    axes[2].set_ylabel('Величина важности');\n",
    "\n",
    "    axes[0].set_title('Порог важности 0.1');\n",
    "    axes[1].set_title('Порог важности 0.2');\n",
    "    axes[2].set_title('Порог важности 1.0');\n",
    "\n",
    "    #вывод значений метрик\n",
    "    axes[0].text(0.65, 0.95, 'MAE = {:.3}'.format(MAE1), ha='left', va='center', size = 15, \\\n",
    "                transform = axes[0].transAxes);\n",
    "    axes[0].text(0.65, 0.87, 'R2 = {:.3}'.format(R21), ha='left', va='center', size = 15, \\\n",
    "                transform = axes[0].transAxes);\n",
    "    axes[1].text(0.65, 0.95, 'MAE = {:.3}'.format(MAE2), ha='left', va='center', size = 15, \\\n",
    "                transform = axes[1].transAxes);\n",
    "    axes[1].text(0.65, 0.87, 'R2 = {:.3}'.format(R22), ha='left', va='center', size = 15, \\\n",
    "                transform = axes[1].transAxes);\n",
    "    axes[2].text(0.65, 0.95, 'MAE = {:.3}'.format(MAE3), ha='left', va='center', size = 15, \\\n",
    "                transform = axes[2].transAxes);\n",
    "    axes[2].text(0.65, 0.87, 'R2 = {:.3}'.format(R23), ha='left', va='center', size = 15, \\\n",
    "                transform = axes[2].transAxes);"
   ]
  },
  {
   "cell_type": "code",
   "execution_count": 163,
   "metadata": {},
   "outputs": [],
   "source": [
    "def ReportDistributionsT():\n",
    "    #построение гистограмм для температуры\n",
    "    train_target.hist(bins = 20);\n",
    "    test_target.hist(bins = 20);"
   ]
  },
  {
   "cell_type": "markdown",
   "metadata": {},
   "source": []
  },
  {
   "cell_type": "markdown",
   "metadata": {},
   "source": []
  },
  {
   "cell_type": "markdown",
   "metadata": {},
   "source": [
    "# Отчет по проекту <a class=\"tocSkip\">"
   ]
  },
  {
   "cell_type": "markdown",
   "metadata": {},
   "source": [
    "Основные этапы работы по проекту включали в себя:\n",
    "* импорт данных;\n",
    "* подготовка данных для модели;\n",
    "* апробирование различных моделей и выбор наилучшей;\n",
    "* применение модели для предсказания температуры для тестовой выборки;\n",
    "* расчет метрик для характеризации качества модели на тестовой выборке;\n",
    "* анализ полученных результатов."
   ]
  },
  {
   "cell_type": "markdown",
   "metadata": {},
   "source": [
    "## Подготовка данных <a class=\"tocSkip\">"
   ]
  },
  {
   "cell_type": "markdown",
   "metadata": {},
   "source": [
    "Перед обучением предсказательной модели была проведена обработка данных. Она включала в себя следующие этапы."
   ]
  },
  {
   "cell_type": "markdown",
   "metadata": {},
   "source": [
    "*Обработка пропусков*  \n",
    "* замена пропусков на нулевые значения в данных об объеме сыпучих и проволочных материалов\n",
    "`data_bulk`, `data_wire`;\n",
    "* удаление пропусков в данных о температуре `data_temp`\n"
   ]
  },
  {
   "cell_type": "markdown",
   "metadata": {},
   "source": [
    "*Отбрасывание излишних данных*\n",
    "* исключение данных, содержащих информацию о дате и времени ввода сыпучих и проволочных материалов, `data_bulk_time`, `data_wire_time`"
   ]
  },
  {
   "cell_type": "markdown",
   "metadata": {},
   "source": [
    "*Генерирование новых признаков*\n",
    "* суммарное время нагрева (в сек.);\n",
    "* полная затраченная энергия, рассчитываемая из полной мощности и суммарного времени нагрева;\n",
    "* активная энергия (получаемая из активной мощности и времени нагрева);\n",
    "* реактивная энергия (получаемая из реактивной мощности и времени нагрева);\n",
    "* начальная температура расплава;\n",
    "* количество засыпей сыпучих материалов;\n",
    "* количество засыпей проволочных материалов"
   ]
  },
  {
   "cell_type": "markdown",
   "metadata": {},
   "source": [
    "*Генерирование целевого признака*\n",
    "* конечной температуры"
   ]
  },
  {
   "cell_type": "markdown",
   "metadata": {},
   "source": [
    "*Анализ выбросов в данных по температуре*\n",
    "* удаление экстремальных выборосов температуры (данные за пределамми $Q_{1}$ - $3\\cdot IQR$ и $Q_{3}$ + $3\\cdot IQR$);\n",
    "* удаление экстремальных разностей конечной и начальной температур (если разность больше 400С)"
   ]
  },
  {
   "cell_type": "markdown",
   "metadata": {},
   "source": [
    "*Объединение данных*\n",
    "* объединение данных в единый датасет по номеру партии `key`"
   ]
  },
  {
   "cell_type": "markdown",
   "metadata": {},
   "source": [
    "*Исследование мультиколлинеарности признаков*\n",
    "* проверка корреляций между признаками;\n",
    "* удаление сильнокоррелированных признаков (для которых коэффициент парной корреляции больше 0.6)"
   ]
  },
  {
   "cell_type": "markdown",
   "metadata": {},
   "source": [
    "*Разделение данных на выборки*\n",
    "* выделение тренировочной и обучающей выборок в пропорции 80:20;\n",
    "* проверка наличия в полученных выборках признаков содержащих только нулевые значения и удаление таких признаков;\n",
    "* проверка являются ли распределения финальной температуры в обучающей и тестовой выборках статистически одинаковыми"
   ]
  },
  {
   "cell_type": "markdown",
   "metadata": {},
   "source": [
    "## Обучение модели <a class=\"tocSkip\">"
   ]
  },
  {
   "cell_type": "markdown",
   "metadata": {},
   "source": [
    "В проекте тестировались три модели: линейная регрессия, случайный лес и CatBoost. "
   ]
  },
  {
   "cell_type": "markdown",
   "metadata": {},
   "source": [
    "Качество модели оценивалось по метрике MAE, дополнительно вычислялась метрика R2. В качестве референсного значения служили значения метрик для наивного регрессора со стратегией предсказания средним значением. "
   ]
  },
  {
   "cell_type": "markdown",
   "metadata": {},
   "source": [
    "Исследование каждой из моделей состояло из следующих этапов. "
   ]
  },
  {
   "cell_type": "markdown",
   "metadata": {},
   "source": [
    "*Первичный анализ* \n",
    "* обучение модели с некоторыми начальными параметрами;\n",
    "* расчетом метрик и сравнение с референсными значениями;\n",
    "* ручное варьирование параметров для улучшения значений метрик (при необходимости)"
   ]
  },
  {
   "cell_type": "markdown",
   "metadata": {},
   "source": [
    "*Анализ важности признаков*\n",
    "* расчет важности признаков для модели обученной на этапе первичного анализа;\n",
    "* отбрасывание маловажных признаков;\n",
    "* генерирование нового набора данных для обучения, включающего только важные параметры"
   ]
  },
  {
   "cell_type": "markdown",
   "metadata": {},
   "source": [
    "*Тюнинг модели на кросс-валидации*\n",
    "* варьирование гиперпараметров модели на кросс-валидации (CV = 3)\n",
    "* расчет метрик качества"
   ]
  },
  {
   "cell_type": "markdown",
   "metadata": {},
   "source": [
    "*Расчет значений метрик на тестовой выборке*\n",
    "* расчет метрик на тестовой выборке на кросс-валидации\n",
    "* сравнение значений метрик моделей"
   ]
  },
  {
   "cell_type": "markdown",
   "metadata": {},
   "source": [
    "## Отчет (модель) <a class=\"tocSkip\">"
   ]
  },
  {
   "cell_type": "markdown",
   "metadata": {},
   "source": [
    "На этом этапе: \n",
    "* в явном виде записаны параметры модели;\n",
    "* произведена визуализация ошибок предсказаний\n",
    "* графически представлена важность различных признаков."
   ]
  },
  {
   "cell_type": "markdown",
   "metadata": {},
   "source": [
    "## Финальные данные <a class=\"tocSkip\">"
   ]
  },
  {
   "cell_type": "markdown",
   "metadata": {},
   "source": [
    "### Набор данных <a class=\"tocSkip\">"
   ]
  },
  {
   "cell_type": "code",
   "execution_count": 164,
   "metadata": {},
   "outputs": [
    {
     "data": {
      "text/html": [
       "<div>\n",
       "<style scoped>\n",
       "    .dataframe tbody tr th:only-of-type {\n",
       "        vertical-align: middle;\n",
       "    }\n",
       "\n",
       "    .dataframe tbody tr th {\n",
       "        vertical-align: top;\n",
       "    }\n",
       "\n",
       "    .dataframe thead th {\n",
       "        text-align: right;\n",
       "    }\n",
       "</style>\n",
       "<table border=\"1\" class=\"dataframe\">\n",
       "  <thead>\n",
       "    <tr style=\"text-align: right;\">\n",
       "      <th></th>\n",
       "      <th>Initial_T</th>\n",
       "      <th>heat_time</th>\n",
       "      <th>Bulk 6</th>\n",
       "      <th>Bulk 12</th>\n",
       "      <th>Bulk 14</th>\n",
       "      <th>Wire 1</th>\n",
       "      <th>Wire 2</th>\n",
       "    </tr>\n",
       "    <tr>\n",
       "      <th>key</th>\n",
       "      <th></th>\n",
       "      <th></th>\n",
       "      <th></th>\n",
       "      <th></th>\n",
       "      <th></th>\n",
       "      <th></th>\n",
       "      <th></th>\n",
       "    </tr>\n",
       "  </thead>\n",
       "  <tbody>\n",
       "    <tr>\n",
       "      <td>1089</td>\n",
       "      <td>1569.0</td>\n",
       "      <td>1080.716125</td>\n",
       "      <td>0.0</td>\n",
       "      <td>0.0</td>\n",
       "      <td>0.0</td>\n",
       "      <td>90.089996</td>\n",
       "      <td>0.000000</td>\n",
       "    </tr>\n",
       "    <tr>\n",
       "      <td>536</td>\n",
       "      <td>1629.0</td>\n",
       "      <td>106.821686</td>\n",
       "      <td>0.0</td>\n",
       "      <td>0.0</td>\n",
       "      <td>147.0</td>\n",
       "      <td>97.203606</td>\n",
       "      <td>14.145040</td>\n",
       "    </tr>\n",
       "    <tr>\n",
       "      <td>2380</td>\n",
       "      <td>1573.0</td>\n",
       "      <td>718.503162</td>\n",
       "      <td>107.0</td>\n",
       "      <td>136.0</td>\n",
       "      <td>148.0</td>\n",
       "      <td>90.155517</td>\n",
       "      <td>0.000000</td>\n",
       "    </tr>\n",
       "    <tr>\n",
       "      <td>1729</td>\n",
       "      <td>1635.0</td>\n",
       "      <td>149.641521</td>\n",
       "      <td>0.0</td>\n",
       "      <td>186.0</td>\n",
       "      <td>139.0</td>\n",
       "      <td>103.053604</td>\n",
       "      <td>0.000000</td>\n",
       "    </tr>\n",
       "    <tr>\n",
       "      <td>2004</td>\n",
       "      <td>1579.0</td>\n",
       "      <td>642.118334</td>\n",
       "      <td>0.0</td>\n",
       "      <td>222.0</td>\n",
       "      <td>120.0</td>\n",
       "      <td>118.110718</td>\n",
       "      <td>0.000000</td>\n",
       "    </tr>\n",
       "    <tr>\n",
       "      <td>...</td>\n",
       "      <td>...</td>\n",
       "      <td>...</td>\n",
       "      <td>...</td>\n",
       "      <td>...</td>\n",
       "      <td>...</td>\n",
       "      <td>...</td>\n",
       "      <td>...</td>\n",
       "    </tr>\n",
       "    <tr>\n",
       "      <td>2321</td>\n",
       "      <td>1565.0</td>\n",
       "      <td>2391.377253</td>\n",
       "      <td>0.0</td>\n",
       "      <td>402.0</td>\n",
       "      <td>115.0</td>\n",
       "      <td>99.197273</td>\n",
       "      <td>0.000000</td>\n",
       "    </tr>\n",
       "    <tr>\n",
       "      <td>595</td>\n",
       "      <td>1614.0</td>\n",
       "      <td>771.213721</td>\n",
       "      <td>0.0</td>\n",
       "      <td>397.0</td>\n",
       "      <td>225.0</td>\n",
       "      <td>140.166001</td>\n",
       "      <td>0.000000</td>\n",
       "    </tr>\n",
       "    <tr>\n",
       "      <td>428</td>\n",
       "      <td>1578.0</td>\n",
       "      <td>664.968766</td>\n",
       "      <td>0.0</td>\n",
       "      <td>264.0</td>\n",
       "      <td>137.0</td>\n",
       "      <td>140.680799</td>\n",
       "      <td>0.000000</td>\n",
       "    </tr>\n",
       "    <tr>\n",
       "      <td>2345</td>\n",
       "      <td>1633.0</td>\n",
       "      <td>456.056874</td>\n",
       "      <td>0.0</td>\n",
       "      <td>156.0</td>\n",
       "      <td>140.0</td>\n",
       "      <td>80.371200</td>\n",
       "      <td>0.000000</td>\n",
       "    </tr>\n",
       "    <tr>\n",
       "      <td>530</td>\n",
       "      <td>1596.0</td>\n",
       "      <td>268.175367</td>\n",
       "      <td>0.0</td>\n",
       "      <td>106.0</td>\n",
       "      <td>255.0</td>\n",
       "      <td>0.000000</td>\n",
       "      <td>22.107281</td>\n",
       "    </tr>\n",
       "  </tbody>\n",
       "</table>\n",
       "<p>1848 rows × 7 columns</p>\n",
       "</div>"
      ],
      "text/plain": [
       "      Initial_T    heat_time  Bulk 6  Bulk 12  Bulk 14      Wire 1     Wire 2\n",
       "key                                                                          \n",
       "1089     1569.0  1080.716125     0.0      0.0      0.0   90.089996   0.000000\n",
       "536      1629.0   106.821686     0.0      0.0    147.0   97.203606  14.145040\n",
       "2380     1573.0   718.503162   107.0    136.0    148.0   90.155517   0.000000\n",
       "1729     1635.0   149.641521     0.0    186.0    139.0  103.053604   0.000000\n",
       "2004     1579.0   642.118334     0.0    222.0    120.0  118.110718   0.000000\n",
       "...         ...          ...     ...      ...      ...         ...        ...\n",
       "2321     1565.0  2391.377253     0.0    402.0    115.0   99.197273   0.000000\n",
       "595      1614.0   771.213721     0.0    397.0    225.0  140.166001   0.000000\n",
       "428      1578.0   664.968766     0.0    264.0    137.0  140.680799   0.000000\n",
       "2345     1633.0   456.056874     0.0    156.0    140.0   80.371200   0.000000\n",
       "530      1596.0   268.175367     0.0    106.0    255.0    0.000000  22.107281\n",
       "\n",
       "[1848 rows x 7 columns]"
      ]
     },
     "execution_count": 164,
     "metadata": {},
     "output_type": "execute_result"
    }
   ],
   "source": [
    "#вывод финального набора данных (обучающая выборка)\n",
    "train_featuresCB"
   ]
  },
  {
   "cell_type": "code",
   "execution_count": 165,
   "metadata": {},
   "outputs": [
    {
     "data": {
      "text/html": [
       "<div>\n",
       "<style scoped>\n",
       "    .dataframe tbody tr th:only-of-type {\n",
       "        vertical-align: middle;\n",
       "    }\n",
       "\n",
       "    .dataframe tbody tr th {\n",
       "        vertical-align: top;\n",
       "    }\n",
       "\n",
       "    .dataframe thead th {\n",
       "        text-align: right;\n",
       "    }\n",
       "</style>\n",
       "<table border=\"1\" class=\"dataframe\">\n",
       "  <thead>\n",
       "    <tr style=\"text-align: right;\">\n",
       "      <th></th>\n",
       "      <th>Initial_T</th>\n",
       "      <th>heat_time</th>\n",
       "      <th>Bulk 6</th>\n",
       "      <th>Bulk 12</th>\n",
       "      <th>Bulk 14</th>\n",
       "      <th>Wire 1</th>\n",
       "      <th>Wire 2</th>\n",
       "    </tr>\n",
       "    <tr>\n",
       "      <th>key</th>\n",
       "      <th></th>\n",
       "      <th></th>\n",
       "      <th></th>\n",
       "      <th></th>\n",
       "      <th></th>\n",
       "      <th></th>\n",
       "      <th></th>\n",
       "    </tr>\n",
       "  </thead>\n",
       "  <tbody>\n",
       "    <tr>\n",
       "      <td>2146</td>\n",
       "      <td>1592.0</td>\n",
       "      <td>857.272184</td>\n",
       "      <td>62.0</td>\n",
       "      <td>205.0</td>\n",
       "      <td>176.0</td>\n",
       "      <td>84.127678</td>\n",
       "      <td>0.000000</td>\n",
       "    </tr>\n",
       "    <tr>\n",
       "      <td>618</td>\n",
       "      <td>1557.0</td>\n",
       "      <td>877.768045</td>\n",
       "      <td>0.0</td>\n",
       "      <td>0.0</td>\n",
       "      <td>0.0</td>\n",
       "      <td>70.199997</td>\n",
       "      <td>0.000000</td>\n",
       "    </tr>\n",
       "    <tr>\n",
       "      <td>1406</td>\n",
       "      <td>1606.0</td>\n",
       "      <td>509.393254</td>\n",
       "      <td>0.0</td>\n",
       "      <td>205.0</td>\n",
       "      <td>133.0</td>\n",
       "      <td>49.139999</td>\n",
       "      <td>0.000000</td>\n",
       "    </tr>\n",
       "    <tr>\n",
       "      <td>1693</td>\n",
       "      <td>1590.0</td>\n",
       "      <td>272.350219</td>\n",
       "      <td>193.0</td>\n",
       "      <td>187.0</td>\n",
       "      <td>128.0</td>\n",
       "      <td>135.673203</td>\n",
       "      <td>60.289841</td>\n",
       "    </tr>\n",
       "    <tr>\n",
       "      <td>608</td>\n",
       "      <td>1597.0</td>\n",
       "      <td>785.801220</td>\n",
       "      <td>0.0</td>\n",
       "      <td>104.0</td>\n",
       "      <td>154.0</td>\n",
       "      <td>60.091198</td>\n",
       "      <td>0.000000</td>\n",
       "    </tr>\n",
       "    <tr>\n",
       "      <td>...</td>\n",
       "      <td>...</td>\n",
       "      <td>...</td>\n",
       "      <td>...</td>\n",
       "      <td>...</td>\n",
       "      <td>...</td>\n",
       "      <td>...</td>\n",
       "      <td>...</td>\n",
       "    </tr>\n",
       "    <tr>\n",
       "      <td>2488</td>\n",
       "      <td>1602.0</td>\n",
       "      <td>388.744561</td>\n",
       "      <td>0.0</td>\n",
       "      <td>157.0</td>\n",
       "      <td>140.0</td>\n",
       "      <td>13.104000</td>\n",
       "      <td>37.066639</td>\n",
       "    </tr>\n",
       "    <tr>\n",
       "      <td>1101</td>\n",
       "      <td>1590.0</td>\n",
       "      <td>751.800651</td>\n",
       "      <td>115.0</td>\n",
       "      <td>206.0</td>\n",
       "      <td>141.0</td>\n",
       "      <td>116.110802</td>\n",
       "      <td>19.151600</td>\n",
       "    </tr>\n",
       "    <tr>\n",
       "      <td>2396</td>\n",
       "      <td>1618.0</td>\n",
       "      <td>698.453579</td>\n",
       "      <td>0.0</td>\n",
       "      <td>103.0</td>\n",
       "      <td>91.0</td>\n",
       "      <td>120.076317</td>\n",
       "      <td>32.361679</td>\n",
       "    </tr>\n",
       "    <tr>\n",
       "      <td>416</td>\n",
       "      <td>1569.0</td>\n",
       "      <td>3559.472061</td>\n",
       "      <td>0.0</td>\n",
       "      <td>360.0</td>\n",
       "      <td>327.0</td>\n",
       "      <td>112.132797</td>\n",
       "      <td>21.112000</td>\n",
       "    </tr>\n",
       "    <tr>\n",
       "      <td>1494</td>\n",
       "      <td>1573.0</td>\n",
       "      <td>767.189895</td>\n",
       "      <td>0.0</td>\n",
       "      <td>0.0</td>\n",
       "      <td>150.0</td>\n",
       "      <td>115.081200</td>\n",
       "      <td>0.000000</td>\n",
       "    </tr>\n",
       "  </tbody>\n",
       "</table>\n",
       "<p>463 rows × 7 columns</p>\n",
       "</div>"
      ],
      "text/plain": [
       "      Initial_T    heat_time  Bulk 6  Bulk 12  Bulk 14      Wire 1     Wire 2\n",
       "key                                                                          \n",
       "2146     1592.0   857.272184    62.0    205.0    176.0   84.127678   0.000000\n",
       "618      1557.0   877.768045     0.0      0.0      0.0   70.199997   0.000000\n",
       "1406     1606.0   509.393254     0.0    205.0    133.0   49.139999   0.000000\n",
       "1693     1590.0   272.350219   193.0    187.0    128.0  135.673203  60.289841\n",
       "608      1597.0   785.801220     0.0    104.0    154.0   60.091198   0.000000\n",
       "...         ...          ...     ...      ...      ...         ...        ...\n",
       "2488     1602.0   388.744561     0.0    157.0    140.0   13.104000  37.066639\n",
       "1101     1590.0   751.800651   115.0    206.0    141.0  116.110802  19.151600\n",
       "2396     1618.0   698.453579     0.0    103.0     91.0  120.076317  32.361679\n",
       "416      1569.0  3559.472061     0.0    360.0    327.0  112.132797  21.112000\n",
       "1494     1573.0   767.189895     0.0      0.0    150.0  115.081200   0.000000\n",
       "\n",
       "[463 rows x 7 columns]"
      ]
     },
     "execution_count": 165,
     "metadata": {},
     "output_type": "execute_result"
    }
   ],
   "source": [
    "#вывод финального набора данных (тренировочная выборка)\n",
    "test_featuresCB"
   ]
  },
  {
   "cell_type": "code",
   "execution_count": 166,
   "metadata": {},
   "outputs": [
    {
     "data": {
      "image/png": "[encoded data removed]",
      "text/plain": [
       "<Figure size 432x288 with 1 Axes>"
      ]
     },
     "metadata": {
      "needs_background": "light"
     },
     "output_type": "display_data"
    }
   ],
   "source": [
    "#распределения температур\n",
    "ReportDistributionsT()"
   ]
  },
  {
   "cell_type": "markdown",
   "metadata": {},
   "source": [
    "### Предсказательная модель <a class=\"tocSkip\">"
   ]
  },
  {
   "cell_type": "markdown",
   "metadata": {},
   "source": [
    "***CatBoost***"
   ]
  },
  {
   "cell_type": "markdown",
   "metadata": {},
   "source": [
    "*Параметры модели*  \n",
    "\n",
    "`boosting_type` : Plain  \n",
    "`depth`         : 4  \n",
    "`iterations`    : 400  \n",
    "`learning_rate` : 0.1  \n",
    "`loss_function` : MAE  "
   ]
  },
  {
   "cell_type": "markdown",
   "metadata": {},
   "source": [
    "*Значения метрик*  \n",
    "\n",
    "`MAE`: 5.802   \n",
    "`R2`: 0.511  "
   ]
  },
  {
   "cell_type": "markdown",
   "metadata": {},
   "source": [
    "*Сравнение метрик для разных моделей*"
   ]
  },
  {
   "cell_type": "code",
   "execution_count": 167,
   "metadata": {},
   "outputs": [
    {
     "data": {
      "text/html": [
       "<div>\n",
       "<style scoped>\n",
       "    .dataframe tbody tr th:only-of-type {\n",
       "        vertical-align: middle;\n",
       "    }\n",
       "\n",
       "    .dataframe tbody tr th {\n",
       "        vertical-align: top;\n",
       "    }\n",
       "\n",
       "    .dataframe thead th {\n",
       "        text-align: right;\n",
       "    }\n",
       "</style>\n",
       "<table border=\"1\" class=\"dataframe\">\n",
       "  <thead>\n",
       "    <tr style=\"text-align: right;\">\n",
       "      <th></th>\n",
       "      <th>fit_time</th>\n",
       "      <th>MAE</th>\n",
       "      <th>R2</th>\n",
       "    </tr>\n",
       "  </thead>\n",
       "  <tbody>\n",
       "    <tr>\n",
       "      <td>LinearReg</td>\n",
       "      <td>0.071</td>\n",
       "      <td>6.248</td>\n",
       "      <td>0.442</td>\n",
       "    </tr>\n",
       "    <tr>\n",
       "      <td>RandForest</td>\n",
       "      <td>21.449</td>\n",
       "      <td>5.922</td>\n",
       "      <td>0.503</td>\n",
       "    </tr>\n",
       "    <tr>\n",
       "      <td>CatBoost</td>\n",
       "      <td>25.496</td>\n",
       "      <td>5.802</td>\n",
       "      <td>0.511</td>\n",
       "    </tr>\n",
       "  </tbody>\n",
       "</table>\n",
       "</div>"
      ],
      "text/plain": [
       "            fit_time    MAE     R2\n",
       "LinearReg      0.071  6.248  0.442\n",
       "RandForest    21.449  5.922  0.503\n",
       "CatBoost      25.496  5.802  0.511"
      ]
     },
     "execution_count": 167,
     "metadata": {},
     "output_type": "execute_result"
    }
   ],
   "source": [
    "#вывод сводной таблицы\n",
    "pivot_data"
   ]
  },
  {
   "cell_type": "markdown",
   "metadata": {},
   "source": [
    "### Анализ ошибок предсказаний <a class=\"tocSkip\">"
   ]
  },
  {
   "cell_type": "code",
   "execution_count": 168,
   "metadata": {},
   "outputs": [
    {
     "data": {
      "image/png": "[encoded data removed]",
      "text/plain": [
       "<Figure size 1152x360 with 3 Axes>"
      ]
     },
     "metadata": {
      "needs_background": "light"
     },
     "output_type": "display_data"
    }
   ],
   "source": [
    "#вывод графиков\n",
    "ReportErrors()"
   ]
  },
  {
   "cell_type": "markdown",
   "metadata": {},
   "source": [
    "*Относительная ошибка*\n",
    "\n",
    "Процент предсказаний отличающихся от истинной температуры менее чем на два процента: 99.8%"
   ]
  },
  {
   "cell_type": "markdown",
   "metadata": {},
   "source": [
    "*Ошибка к разбросу температуры*\n",
    "\n",
    "Процент предсказаний в диапазоне изменения температуры: 94.8%\n",
    "Процент предсказаний в полу-диапазоне изменения температуры: 82.9%"
   ]
  },
  {
   "cell_type": "markdown",
   "metadata": {},
   "source": [
    "*R2 для партии*\n",
    "\n",
    "Процент предсказаний c R2 в диапазоне от 0.25 до 1: 54.6%\n",
    "Процент предсказаний c R2 в диапазоне от 0.5 до 1: 45.6%"
   ]
  },
  {
   "cell_type": "markdown",
   "metadata": {},
   "source": [
    "### Важность признаков <a class=\"tocSkip\">"
   ]
  },
  {
   "cell_type": "code",
   "execution_count": 169,
   "metadata": {},
   "outputs": [
    {
     "data": {
      "image/png": "[encoded data removed]",
      "text/plain": [
       "<Figure size 1296x432 with 3 Axes>"
      ]
     },
     "metadata": {
      "needs_background": "light"
     },
     "output_type": "display_data"
    }
   ],
   "source": [
    "#вывод графиков\n",
    "ReportImportances()"
   ]
  },
  {
   "cell_type": "markdown",
   "metadata": {},
   "source": [
    "Ключевые параметры (признаки): \n",
    "\n",
    "* время нагрева (`heat_time`);\n",
    "* начальная температура (`Initial_T`)"
   ]
  },
  {
   "cell_type": "markdown",
   "metadata": {},
   "source": [
    "Необходимо учитывать:\n",
    "* объем добавляемых проволочных материалов (`Wire 2`, `Wire 1`);\n",
    "* объем добавляемых сыпучих материалов (`Bulk 6`, `Bulk 14`, `Bulk 12`)"
   ]
  }
 ],
 "metadata": {
  "kernelspec": {
   "display_name": "Python 3",
   "language": "python",
   "name": "python3"
  },
  "language_info": {
   "codemirror_mode": {
    "name": "ipython",
    "version": 3
   },
   "file_extension": ".py",
   "mimetype": "text/x-python",
   "name": "python",
   "nbconvert_exporter": "python",
   "pygments_lexer": "ipython3",
   "version": "3.7.8"
  },
  "toc": {
   "base_numbering": 1,
   "nav_menu": {},
   "number_sections": true,
   "sideBar": true,
   "skip_h1_title": true,
   "title_cell": "Table of Contents",
   "title_sidebar": "Contents",
   "toc_cell": false,
   "toc_position": {
    "height": "calc(100% - 180px)",
    "left": "10px",
    "top": "150px",
    "width": "266.956px"
   },
   "toc_section_display": true,
   "toc_window_display": true
  }
 },
 "nbformat": 4,
 "nbformat_minor": 2
}
