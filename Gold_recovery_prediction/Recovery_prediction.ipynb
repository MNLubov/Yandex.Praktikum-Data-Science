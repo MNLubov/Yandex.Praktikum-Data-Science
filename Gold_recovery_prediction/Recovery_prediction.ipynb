{
 "cells": [
  {
   "cell_type": "markdown",
   "metadata": {},
   "source": [
    "# Описание проекта\n",
    "\n",
    "Подготовка прототипа модели машинного обучения для индустриальной кампании. Компания разрабатывает решения для эффективной работы промышленных предприятий.\n",
    "\n",
    "Модель должна предсказать коэффициент восстановления золота из золотосодержащей руды. Исходные данные содержат параметры добычи и очистки руды. Модель должна помогать оптимизировать производство, чтобы не запускать предприятие с убыточными характеристиками."
   ]
  },
  {
   "cell_type": "markdown",
   "metadata": {},
   "source": [
    "### План работ <a class=\"tocSkip\">"
   ]
  },
  {
   "cell_type": "markdown",
   "metadata": {},
   "source": [
    "1. Подготовка данных   \n",
    "1.1. Импорт данных и их общий анализ  \n",
    "1.2. Проверка расчета эффективности обогащения  \n",
    "1.3. Анализ признаков, недоступных в тестовой выборке  \n",
    "1.4. Предобработка данных   \n",
    "1.5. Выводы  \n",
    "2. Анализ данных  \n",
    "2.1. Изучение изменений концентраций металлов (Au, Ag, Pb) на различных этапах очистки  \n",
    "2.2. Сравнение распределения размеров гранул сырья на обучающей и тестовой выборках  \n",
    "2.3. Исследование суммарной концентрацию всех веществ на разных стадиях очистки  \n",
    "2.4. Выводы  \n",
    "3. Построение модели  \n",
    "3.1. Написание функции для вычисления итоговой метрики (sMAPE)   \n",
    "3.2. Обучение моделей, анализ их качества, выбор лучшей  \n",
    "3.3. Проверка выбранной модели на тестовой выборке  \n",
    "3.4. Выводы  "
   ]
  },
  {
   "cell_type": "markdown",
   "metadata": {},
   "source": [
    "### Описание технологии очитски золотоносной руды <a class=\"tocSkip\">"
   ]
  },
  {
   "cell_type": "markdown",
   "metadata": {},
   "source": [
    "Очистка золотоносной руды состоит из нескольких этапов, выполняемых последовательно один за другим.\n",
    "1. Флотация. На этом этапе происходит обогащение золотоносной руды. На вход подается золотоносная руда на выходе получается черновой концентрат и \"отвальные хвосты\" (остатки продукта с низкой концентрацией золота).\n",
    "2. Очистка. Она состоит из двух этапов - первого и второго. На вход подается черновой концентрат, на выходе получаетя финальный концентрат. На каждом этапе очистки также образуются отвальные хвосты. "
   ]
  },
  {
   "cell_type": "markdown",
   "metadata": {},
   "source": [
    "### Описание данных <a class=\"tocSkip\">"
   ]
  },
  {
   "cell_type": "markdown",
   "metadata": {},
   "source": [
    "***Технологический процесс***  \n",
    "Rougher feed — исходное сырье  \n",
    "Rougher additions (или reagent additions) — флотационные реагенты: Xanthate, Sulphate, Depressant  \n",
    "&nbsp;&nbsp;&nbsp;Xanthate — ксантогенат (промотер, или активатор флотации);  \n",
    "&nbsp;&nbsp;&nbsp;Sulphate — сульфат (на данном производстве сульфид натрия);  \n",
    "&nbsp;&nbsp;&nbsp;Depressant — депрессант (силикат натрия)  \n",
    "Rougher process (англ. «грубый процесс») — флотация  \n",
    "Rougher tails — отвальные хвосты  \n",
    "Float banks — флотационная установка  \n",
    "Cleaner process — очистка  \n",
    "Rougher Au — черновой концентрат золота  \n",
    "Final Au — финальный концентрат золота  "
   ]
  },
  {
   "cell_type": "markdown",
   "metadata": {},
   "source": [
    "***Параметры этапов***  \n",
    "air amount — объём воздуха  \n",
    "fluid levels — уровень жидкости  \n",
    "feed size — размер гранул сырья  \n",
    "feed rate — скорость подачи  "
   ]
  },
  {
   "cell_type": "markdown",
   "metadata": {},
   "source": [
    "***Наименование признаков***  \n",
    "*Наименование признаков должно быть такое:*  \n",
    "[этап].[тип_параметра].[название_параметра]  \n",
    "Пример: rougher.input.feed_ag   \n",
    "\n",
    "*Возможные значения для блока [этап]:*  \n",
    "rougher — флотация  \n",
    "primary_cleaner — первичная очистка  \n",
    "secondary_cleaner — вторичная очистка  \n",
    "final — финальные характеристики \n",
    "\n",
    "*Возможные значения для блока [тип_параметра]:*  \n",
    "input — параметры сырья  \n",
    "output — параметры продукта  \n",
    "state — параметры, характеризующие текущее состояние этапа  \n",
    "calculation — расчётные характеристики  "
   ]
  },
  {
   "cell_type": "markdown",
   "metadata": {},
   "source": [
    "### Расчет эффективности обогащения <a class=\"tocSkip\">"
   ]
  },
  {
   "cell_type": "markdown",
   "metadata": {},
   "source": [
    "Расчет эффективности обогащения *Recovery* производится по формуле:  \n",
    "&nbsp;&nbsp;&nbsp;&nbsp;&nbsp;&nbsp;*Recovery* = 100% * {*C* * (*F* - *T*)} / {*F* * (*C* - *T*)},  \n",
    "*C* — доля золота в концентрате после флотации/очистки;  \n",
    "*F* — доля золота в сырье/концентрате до флотации/очистки;   \n",
    "*T* — доля золота в отвальных хвостах после флотации/очистки.  \n",
    "Для прогноза коэффициента нужно найти долю золота в концентратах и хвостах. Причём важен не только финальный продукт, но и черновой концентрат."
   ]
  },
  {
   "cell_type": "markdown",
   "metadata": {},
   "source": [
    "### Метрика качества <a class=\"tocSkip\">"
   ]
  },
  {
   "cell_type": "markdown",
   "metadata": {},
   "source": [
    "Оценки качества модели будет производиться метрикой — sMAPE (англ. Symmetric Mean Absolute Percentage Error, «симметричное среднее абсолютное процентное отклонение»). Итоговая метрика рассчитывается как:  \n",
    "&nbsp;&nbsp;&nbsp;&nbsp;&nbsp;&nbsp;*sMAPE(итоговая)* = 25% * sMAPE(флотация) + 75% * sMAPE(очистка)  "
   ]
  },
  {
   "cell_type": "markdown",
   "metadata": {},
   "source": [
    "## Подготовка данных"
   ]
  },
  {
   "cell_type": "markdown",
   "metadata": {},
   "source": [
    "### Импорт данных и их общий анализ"
   ]
  },
  {
   "cell_type": "code",
   "execution_count": 1,
   "metadata": {},
   "outputs": [],
   "source": [
    "#импорт библиотек и функций\n",
    "import pandas as pd\n",
    "import numpy as np\n",
    "import matplotlib.pyplot as plt \n",
    "import matplotlib as mpl\n",
    "import matplotlib.ticker\n",
    "import random"
   ]
  },
  {
   "cell_type": "code",
   "execution_count": 2,
   "metadata": {},
   "outputs": [],
   "source": [
    "#импорт функций для задачи  регрессии\n",
    "from sklearn.tree import DecisionTreeRegressor\n",
    "from sklearn.ensemble import RandomForestRegressor\n",
    "from sklearn.linear_model import LinearRegression\n",
    "from sklearn.model_selection import train_test_split\n",
    "from sklearn.metrics import mean_absolute_error\n",
    "from sklearn.preprocessing import StandardScaler\n",
    "from sklearn.model_selection import GridSearchCV\n",
    "from sklearn.utils import shuffle\n",
    "from sklearn.datasets import make_regression\n",
    "from sklearn.model_selection import cross_val_score\n",
    "from sklearn.model_selection import RepeatedKFold\n",
    "from sklearn.feature_selection import RFE\n",
    "from sklearn.dummy import DummyRegressor\n",
    "from sklearn.metrics import mean_squared_error\n",
    "from sklearn.model_selection import cross_val_score\n",
    "from sklearn.model_selection import KFold\n",
    "from scipy.stats import variation\n",
    "import warnings"
   ]
  },
  {
   "cell_type": "code",
   "execution_count": 3,
   "metadata": {},
   "outputs": [],
   "source": [
    "#импорт данных\n",
    "train_set = pd.read_csv('/datasets/gold_recovery_train.csv')   #тренировочная выборка\n",
    "test_set = pd.read_csv('/datasets/gold_recovery_test.csv')     #тестовая выборка\n",
    "full_set = pd.read_csv('/datasets/gold_recovery_full.csv')     #исходные данные"
   ]
  },
  {
   "cell_type": "code",
   "execution_count": 4,
   "metadata": {},
   "outputs": [
    {
     "name": "stdout",
     "output_type": "stream",
     "text": [
      "<class 'pandas.core.frame.DataFrame'>\n",
      "RangeIndex: 16860 entries, 0 to 16859\n",
      "Data columns (total 87 columns):\n",
      "date                                                  16860 non-null object\n",
      "final.output.concentrate_ag                           16788 non-null float64\n",
      "final.output.concentrate_pb                           16788 non-null float64\n",
      "final.output.concentrate_sol                          16490 non-null float64\n",
      "final.output.concentrate_au                           16789 non-null float64\n",
      "final.output.recovery                                 15339 non-null float64\n",
      "final.output.tail_ag                                  16794 non-null float64\n",
      "final.output.tail_pb                                  16677 non-null float64\n",
      "final.output.tail_sol                                 16715 non-null float64\n",
      "final.output.tail_au                                  16794 non-null float64\n",
      "primary_cleaner.input.sulfate                         15553 non-null float64\n",
      "primary_cleaner.input.depressant                      15598 non-null float64\n",
      "primary_cleaner.input.feed_size                       16860 non-null float64\n",
      "primary_cleaner.input.xanthate                        15875 non-null float64\n",
      "primary_cleaner.output.concentrate_ag                 16778 non-null float64\n",
      "primary_cleaner.output.concentrate_pb                 16502 non-null float64\n",
      "primary_cleaner.output.concentrate_sol                16224 non-null float64\n",
      "primary_cleaner.output.concentrate_au                 16778 non-null float64\n",
      "primary_cleaner.output.tail_ag                        16777 non-null float64\n",
      "primary_cleaner.output.tail_pb                        16761 non-null float64\n",
      "primary_cleaner.output.tail_sol                       16579 non-null float64\n",
      "primary_cleaner.output.tail_au                        16777 non-null float64\n",
      "primary_cleaner.state.floatbank8_a_air                16820 non-null float64\n",
      "primary_cleaner.state.floatbank8_a_level              16827 non-null float64\n",
      "primary_cleaner.state.floatbank8_b_air                16820 non-null float64\n",
      "primary_cleaner.state.floatbank8_b_level              16833 non-null float64\n",
      "primary_cleaner.state.floatbank8_c_air                16822 non-null float64\n",
      "primary_cleaner.state.floatbank8_c_level              16833 non-null float64\n",
      "primary_cleaner.state.floatbank8_d_air                16821 non-null float64\n",
      "primary_cleaner.state.floatbank8_d_level              16833 non-null float64\n",
      "rougher.calculation.sulfate_to_au_concentrate         16833 non-null float64\n",
      "rougher.calculation.floatbank10_sulfate_to_au_feed    16833 non-null float64\n",
      "rougher.calculation.floatbank11_sulfate_to_au_feed    16833 non-null float64\n",
      "rougher.calculation.au_pb_ratio                       15618 non-null float64\n",
      "rougher.input.feed_ag                                 16778 non-null float64\n",
      "rougher.input.feed_pb                                 16632 non-null float64\n",
      "rougher.input.feed_rate                               16347 non-null float64\n",
      "rougher.input.feed_size                               16443 non-null float64\n",
      "rougher.input.feed_sol                                16568 non-null float64\n",
      "rougher.input.feed_au                                 16777 non-null float64\n",
      "rougher.input.floatbank10_sulfate                     15816 non-null float64\n",
      "rougher.input.floatbank10_xanthate                    16514 non-null float64\n",
      "rougher.input.floatbank11_sulfate                     16237 non-null float64\n",
      "rougher.input.floatbank11_xanthate                    14956 non-null float64\n",
      "rougher.output.concentrate_ag                         16778 non-null float64\n",
      "rougher.output.concentrate_pb                         16778 non-null float64\n",
      "rougher.output.concentrate_sol                        16698 non-null float64\n",
      "rougher.output.concentrate_au                         16778 non-null float64\n",
      "rougher.output.recovery                               14287 non-null float64\n",
      "rougher.output.tail_ag                                14610 non-null float64\n",
      "rougher.output.tail_pb                                16778 non-null float64\n",
      "rougher.output.tail_sol                               14611 non-null float64\n",
      "rougher.output.tail_au                                14611 non-null float64\n",
      "rougher.state.floatbank10_a_air                       16807 non-null float64\n",
      "rougher.state.floatbank10_a_level                     16807 non-null float64\n",
      "rougher.state.floatbank10_b_air                       16807 non-null float64\n",
      "rougher.state.floatbank10_b_level                     16807 non-null float64\n",
      "rougher.state.floatbank10_c_air                       16807 non-null float64\n",
      "rougher.state.floatbank10_c_level                     16814 non-null float64\n",
      "rougher.state.floatbank10_d_air                       16802 non-null float64\n",
      "rougher.state.floatbank10_d_level                     16809 non-null float64\n",
      "rougher.state.floatbank10_e_air                       16257 non-null float64\n",
      "rougher.state.floatbank10_e_level                     16809 non-null float64\n",
      "rougher.state.floatbank10_f_air                       16802 non-null float64\n",
      "rougher.state.floatbank10_f_level                     16802 non-null float64\n",
      "secondary_cleaner.output.tail_ag                      16776 non-null float64\n",
      "secondary_cleaner.output.tail_pb                      16764 non-null float64\n",
      "secondary_cleaner.output.tail_sol                     14874 non-null float64\n",
      "secondary_cleaner.output.tail_au                      16778 non-null float64\n",
      "secondary_cleaner.state.floatbank2_a_air              16497 non-null float64\n",
      "secondary_cleaner.state.floatbank2_a_level            16751 non-null float64\n",
      "secondary_cleaner.state.floatbank2_b_air              16705 non-null float64\n",
      "secondary_cleaner.state.floatbank2_b_level            16748 non-null float64\n",
      "secondary_cleaner.state.floatbank3_a_air              16763 non-null float64\n",
      "secondary_cleaner.state.floatbank3_a_level            16747 non-null float64\n",
      "secondary_cleaner.state.floatbank3_b_air              16752 non-null float64\n",
      "secondary_cleaner.state.floatbank3_b_level            16750 non-null float64\n",
      "secondary_cleaner.state.floatbank4_a_air              16731 non-null float64\n",
      "secondary_cleaner.state.floatbank4_a_level            16747 non-null float64\n",
      "secondary_cleaner.state.floatbank4_b_air              16768 non-null float64\n",
      "secondary_cleaner.state.floatbank4_b_level            16767 non-null float64\n",
      "secondary_cleaner.state.floatbank5_a_air              16775 non-null float64\n",
      "secondary_cleaner.state.floatbank5_a_level            16775 non-null float64\n",
      "secondary_cleaner.state.floatbank5_b_air              16775 non-null float64\n",
      "secondary_cleaner.state.floatbank5_b_level            16776 non-null float64\n",
      "secondary_cleaner.state.floatbank6_a_air              16757 non-null float64\n",
      "secondary_cleaner.state.floatbank6_a_level            16775 non-null float64\n",
      "dtypes: float64(86), object(1)\n",
      "memory usage: 11.2+ MB\n"
     ]
    }
   ],
   "source": [
    "#вывод общей информации о датасетах\n",
    "train_set.info()\n",
    "#test_set.info\n",
    "#full_set.info()"
   ]
  },
  {
   "cell_type": "code",
   "execution_count": 5,
   "metadata": {},
   "outputs": [],
   "source": [
    "#вывод датасетов\n",
    "#train_set\n",
    "#test_set\n",
    "#full_set"
   ]
  },
  {
   "cell_type": "markdown",
   "metadata": {},
   "source": [
    "Первичный анализ данных показывает, что в данных содержатся пропуски, даты не приведены к типу datatime. Необходима подготовка данных для дальнейшего анализа."
   ]
  },
  {
   "cell_type": "markdown",
   "metadata": {},
   "source": [
    "### Проверка расчета эффективности обогащения"
   ]
  },
  {
   "cell_type": "markdown",
   "metadata": {},
   "source": [
    "Напишем функцию для расчета эффективности обогощения"
   ]
  },
  {
   "cell_type": "code",
   "execution_count": 6,
   "metadata": {},
   "outputs": [],
   "source": [
    "#Фнуция расчета эффективности обогощениря руды\n",
    "#входные параметры\n",
    "#input_fraction — доля золота в сырье/концентрате до проведения заданного этапа очистки\n",
    "#output_fraction — доля золота в концентрате после проведения заданного этапа очистки\n",
    "#tails_fraction — доля золота в отвальных хвостах после проведения этапа очистки\n",
    "def Recovery(input_fraction, output_fraction, tails_fraction):\n",
    "    \n",
    "    #сведение данных в таблицу и удаление пропусков в ней\n",
    "    \n",
    "    #вычисления по формуле, см. раздел Описание проекта/Расчет эффективности обогащения\n",
    "    recovery = (100 * output_fraction * (input_fraction - tails_fraction)) / \\\n",
    "                     ( input_fraction * (output_fraction - tails_fraction))\n",
    "    \n",
    "    return recovery"
   ]
  },
  {
   "cell_type": "markdown",
   "metadata": {},
   "source": [
    "Проверим, что эффективность обогащения рассчитана правильно. Для этого вычислим её на обучающей выборке для признака rougher.output.recovery, т.е. эффективность обогащения после флотации. \n",
    "Эта величина рассчитывается исходя из:   \n",
    "&nbsp;&nbsp;&nbsp;&nbsp; доли золота в концентрате после флотации - rougher.output.concentrate_au   \n",
    "&nbsp;&nbsp;&nbsp;&nbsp; доли доля золота в сырье до флотации - rougher.input.feed_au     \n",
    "&nbsp;&nbsp;&nbsp;&nbsp; доли золота в отвальных хвостах после флотации - rougher.output.tail_au  "
   ]
  },
  {
   "cell_type": "code",
   "execution_count": 7,
   "metadata": {},
   "outputs": [
    {
     "data": {
      "text/plain": [
       "0        87.107763\n",
       "1        86.843261\n",
       "2        86.842308\n",
       "3        87.226430\n",
       "4        86.688794\n",
       "           ...    \n",
       "16855    89.574376\n",
       "16856    87.724007\n",
       "16857    88.890579\n",
       "16858    89.858126\n",
       "16859    89.514960\n",
       "Name: rougher.output.recovery, Length: 16860, dtype: float64"
      ]
     },
     "execution_count": 7,
     "metadata": {},
     "output_type": "execute_result"
    }
   ],
   "source": [
    "#задание входных параметров для функции Recovery\n",
    "input_fraction = train_set['rougher.input.feed_au']\n",
    "output_fraction = train_set['rougher.output.concentrate_au']\n",
    "tails_fraction = train_set['rougher.output.tail_au']\n",
    "recovery_check = train_set['rougher.output.recovery']\n",
    "recovery_check"
   ]
  },
  {
   "cell_type": "code",
   "execution_count": 8,
   "metadata": {},
   "outputs": [],
   "source": [
    "#поскольку колонки содержат пропуски, скопируем необходимые данные в отдельный датафрейм\n",
    "recovery_check = pd.concat([input_fraction, output_fraction, tails_fraction, recovery_check], \\\n",
    "                           axis=1, join='inner').copy()\n",
    "\n",
    "recovery_check.columns = ['input_', 'output_', 'tails', 'recovery']\n",
    "\n",
    "#удаление пропусков\n",
    "recovery_check = recovery_check.dropna()\n",
    "\n",
    "#recovery_check"
   ]
  },
  {
   "cell_type": "code",
   "execution_count": 9,
   "metadata": {},
   "outputs": [
    {
     "name": "stdout",
     "output_type": "stream",
     "text": [
      "Оценка ошибки расчета эффективности обогащения, MAE = 1.1290254018238898e-14\n"
     ]
    }
   ],
   "source": [
    "#расчет эффективности обогащения и оценка ошибки по MAE\n",
    "recovery = Recovery(recovery_check['input_'], recovery_check['output_'], recovery_check['tails'])\n",
    "mae = mean_absolute_error(recovery_check['recovery'], recovery)\n",
    "print('Оценка ошибки расчета эффективности обогащения, MAE =', mae)"
   ]
  },
  {
   "cell_type": "markdown",
   "metadata": {},
   "source": [
    "Ощибка крайне мала, практически равна нулю! Это значит, что ошибок в данных нет и эффективность обогащения рассчитана правильно."
   ]
  },
  {
   "cell_type": "markdown",
   "metadata": {},
   "source": [
    "### Анализ признаков, недоступных в тестовой выборке"
   ]
  },
  {
   "cell_type": "code",
   "execution_count": 10,
   "metadata": {
    "scrolled": false
   },
   "outputs": [
    {
     "name": "stdout",
     "output_type": "stream",
     "text": [
      "Число отсутстсвующих признаков в тестовой выборке 34\n",
      "Отсутствующие признаки\n",
      "Index(['final.output.concentrate_ag', 'final.output.concentrate_au',\n",
      "       'final.output.concentrate_pb', 'final.output.concentrate_sol',\n",
      "       'final.output.recovery', 'final.output.tail_ag', 'final.output.tail_au',\n",
      "       'final.output.tail_pb', 'final.output.tail_sol',\n",
      "       'primary_cleaner.output.concentrate_ag',\n",
      "       'primary_cleaner.output.concentrate_au',\n",
      "       'primary_cleaner.output.concentrate_pb',\n",
      "       'primary_cleaner.output.concentrate_sol',\n",
      "       'primary_cleaner.output.tail_ag', 'primary_cleaner.output.tail_au',\n",
      "       'primary_cleaner.output.tail_pb', 'primary_cleaner.output.tail_sol',\n",
      "       'rougher.calculation.au_pb_ratio',\n",
      "       'rougher.calculation.floatbank10_sulfate_to_au_feed',\n",
      "       'rougher.calculation.floatbank11_sulfate_to_au_feed',\n",
      "       'rougher.calculation.sulfate_to_au_concentrate',\n",
      "       'rougher.output.concentrate_ag', 'rougher.output.concentrate_au',\n",
      "       'rougher.output.concentrate_pb', 'rougher.output.concentrate_sol',\n",
      "       'rougher.output.recovery', 'rougher.output.tail_ag',\n",
      "       'rougher.output.tail_au', 'rougher.output.tail_pb',\n",
      "       'rougher.output.tail_sol', 'secondary_cleaner.output.tail_ag',\n",
      "       'secondary_cleaner.output.tail_au', 'secondary_cleaner.output.tail_pb',\n",
      "       'secondary_cleaner.output.tail_sol'],\n",
      "      dtype='object')\n"
     ]
    }
   ],
   "source": [
    "#список колонок с именами признаков, которых нет в тестовой выборке\n",
    "difference = full_set.columns.difference(test_set.columns)\n",
    "print('Число отсутстсвующих признаков в тестовой выборке', len(difference))\n",
    "print('Отсутствующие признаки')\n",
    "print(difference)"
   ]
  },
  {
   "cell_type": "markdown",
   "metadata": {},
   "source": [
    "Из списка признаков видно, что в тестовой выборке отсутствуют целевые признаки - доли реагентов в концентратах и хвостах, а также признаки в которых содержатся расчетные данные, получаемые вычислением из других признаков. Расчетные данные имеют тип параметра 'calculation'."
   ]
  },
  {
   "cell_type": "markdown",
   "metadata": {},
   "source": [
    "### Предобработка данных"
   ]
  },
  {
   "cell_type": "markdown",
   "metadata": {},
   "source": [
    "***Преобразование типа колонки 'date' к типу datetime***"
   ]
  },
  {
   "cell_type": "code",
   "execution_count": 11,
   "metadata": {},
   "outputs": [
    {
     "data": {
      "text/plain": [
       "0       2016-01-15 00:00:00\n",
       "1       2016-01-15 01:00:00\n",
       "2       2016-01-15 02:00:00\n",
       "3       2016-01-15 03:00:00\n",
       "4       2016-01-15 04:00:00\n",
       "                ...        \n",
       "22711   2018-08-18 06:59:59\n",
       "22712   2018-08-18 07:59:59\n",
       "22713   2018-08-18 08:59:59\n",
       "22714   2018-08-18 09:59:59\n",
       "22715   2018-08-18 10:59:59\n",
       "Name: date, Length: 22716, dtype: datetime64[ns]"
      ]
     },
     "execution_count": 11,
     "metadata": {},
     "output_type": "execute_result"
    }
   ],
   "source": [
    "#приведение к дате времени\n",
    "train_set['date'] = pd.to_datetime(train_set['date'], format='%Y-%m-%dT%H:%M:%S')\n",
    "test_set['date'] = pd.to_datetime(test_set['date'], format='%Y-%m-%dT%H:%M:%S')\n",
    "full_set['date'] = pd.to_datetime(full_set['date'], format='%Y-%m-%dT%H:%M:%S')\n",
    "full_set['date']"
   ]
  },
  {
   "cell_type": "code",
   "execution_count": 12,
   "metadata": {},
   "outputs": [],
   "source": [
    "full_set_copy = full_set.dropna().copy()\n",
    "#print(len(full_set_copy))\n",
    "#print(len(full_set))"
   ]
  },
  {
   "cell_type": "markdown",
   "metadata": {},
   "source": [
    "***Дополнение тестовой выборки данными из исходного набора***"
   ]
  },
  {
   "cell_type": "markdown",
   "metadata": {},
   "source": [
    "Дополнение будем производить по дате и времени записи данных."
   ]
  },
  {
   "cell_type": "code",
   "execution_count": 13,
   "metadata": {},
   "outputs": [],
   "source": [
    "#выделение колонок содержащих индексы полного датасета\n",
    "train_set['full_index'] = 0\n",
    "test_set['full_index'] = 0\n",
    "\n",
    "#выделние индексов из полного датасета для признаков из обучающей и тестовой выборок\n",
    "test_index_list = full_set.loc[full_set['date'].isin(test_set['date'])].index.tolist()\n",
    "train_index_list = full_set.loc[full_set['date'].isin(train_set['date'])].index.tolist()\n",
    "\n",
    "train_set['full_index'] = train_index_list\n",
    "test_set['full_index'] = test_index_list"
   ]
  },
  {
   "cell_type": "code",
   "execution_count": 14,
   "metadata": {},
   "outputs": [
    {
     "name": "stdout",
     "output_type": "stream",
     "text": [
      "True\n",
      "True\n"
     ]
    }
   ],
   "source": [
    "#проверка правильности выделения индексов для обучающей выборки\n",
    "tr1 = train_set['date']\n",
    "tr2 = full_set['date'][full_set['date'].index.isin(train_set['full_index'])].reset_index(drop = True) \n",
    "\n",
    "#сравнение данных по дате для обучающей выборки\n",
    "compare1 = tr1.equals(tr2)\n",
    "print(compare1)\n",
    "\n",
    "#проверка правильности выделения индексов для тестовой выборки\n",
    "tst1 = test_set['date']\n",
    "tst2 = full_set['date'][full_set['date'].index.isin(test_set['full_index'])].reset_index(drop = True)\n",
    "\n",
    "#сравнение данных по дате для тестовой выборки\n",
    "compare2 = tr1.equals(tr2)\n",
    "print(compare2)"
   ]
  },
  {
   "cell_type": "code",
   "execution_count": 15,
   "metadata": {},
   "outputs": [],
   "source": [
    "#замена индкусов в датасетах, содержащих обучающую и тестовую выборки\n",
    "train_set = train_set.set_index(pd.Series(train_index_list))\n",
    "test_set = test_set.set_index(pd.Series(test_index_list))\n",
    "#test_set"
   ]
  },
  {
   "cell_type": "code",
   "execution_count": 16,
   "metadata": {},
   "outputs": [
    {
     "name": "stdout",
     "output_type": "stream",
     "text": [
      "Число отсутстсвующих признаков в тестовой выборке 0\n"
     ]
    }
   ],
   "source": [
    "#добавление к тестовой выборке данных из датафрейма с полным набором данных\n",
    "full_set_test = full_set[difference][full_set[difference].index.isin(test_set['full_index'])]\n",
    "#print(full_set_test)\n",
    "\n",
    "#дополнение тестовой выборки необходимыми данными\n",
    "test_set = pd.concat([test_set, full_set_test], axis = 1)\n",
    "difference_concat = full_set.columns.difference(test_set.columns)\n",
    "print('Число отсутстсвующих признаков в тестовой выборке', len(difference_concat))"
   ]
  },
  {
   "cell_type": "markdown",
   "metadata": {},
   "source": [
    "***Удаление полных дубликатов***"
   ]
  },
  {
   "cell_type": "code",
   "execution_count": 17,
   "metadata": {},
   "outputs": [
    {
     "name": "stdout",
     "output_type": "stream",
     "text": [
      "Количество полных дубликатов в тренировочной выборке равно 0\n",
      "Количество полных дубликатов в обучающей выборке равно 0\n"
     ]
    }
   ],
   "source": [
    "print('Количество полных дубликатов в тренировочной выборке равно', train_set.duplicated().sum())\n",
    "print('Количество полных дубликатов в обучающей выборке равно', test_set.duplicated().sum())\n",
    "train_set = train_set.drop_duplicates().reset_index(drop = True)\n",
    "test_set = test_set.drop_duplicates().reset_index(drop = True)"
   ]
  },
  {
   "cell_type": "markdown",
   "metadata": {},
   "source": [
    "***Вспомогательные функции и списки названий параметров***"
   ]
  },
  {
   "cell_type": "markdown",
   "metadata": {},
   "source": [
    "В дальнейшем нам понадобятся функции для более удобной работы с названиеями колонок. Создадим функции для анализа названий по стадии, параметрц и типу параметра, которые составляют название колонок."
   ]
  },
  {
   "cell_type": "code",
   "execution_count": 18,
   "metadata": {},
   "outputs": [],
   "source": [
    "#функция декомпозиции имени колонки \n",
    "def FeaturesDecomposition(columns_names, splitter):\n",
    "    \n",
    "    column_name_split_list = []\n",
    "    for column in columns_names:\n",
    "        column_name = column.split(splitter)\n",
    "        column_name_split_list.append(column_name)\n",
    "        \n",
    "    column_name_split_list = pd.Series(column_name_split_list)\n",
    "    \n",
    "    return column_name_split_list"
   ]
  },
  {
   "cell_type": "code",
   "execution_count": 19,
   "metadata": {},
   "outputs": [],
   "source": [
    "#композиция колонок для заданного этапа\n",
    "def FeatureComposition(columns_names, splitter, stage_name_list, drop_list):\n",
    "    \n",
    "    #список колонок содержащих в названии указанный технологический этап\n",
    "    stage_columns = []\n",
    "    final_stage_list = []\n",
    "    columns_drop_list = []\n",
    "    \n",
    "    columns_stage_list = FeaturesDecomposition(columns_names, splitter)\n",
    "        \n",
    "    #декомпозиция названия колоноки - выбор этапа и композиция имен, содержащих навзание этапа\n",
    "    for i in range(len(columns_stage_list)):\n",
    "        for j in range(len(stage_name_list)):\n",
    "            if stage_name_list[j] in columns_stage_list[i]:\n",
    "                stage_columns.append(columns_stage_list[i])\n",
    "    \n",
    "    #исключение не нужных колонок\n",
    "    for i in range(len(stage_columns)):\n",
    "        exist = False\n",
    "        for j in range(len(drop_list)):\n",
    "            if drop_list[j] in stage_columns[i]:\n",
    "                exist = True\n",
    "                column = '.'.join(stage_columns[i])\n",
    "                columns_drop_list.append(column)  #запись списка с исключенными колонками \n",
    "                \n",
    "        if exist == False:\n",
    "            column = '.'.join(stage_columns[i])\n",
    "            final_stage_list.append(column)       #запись списка с включенными колонками \n",
    "    \n",
    "    return final_stage_list, columns_drop_list"
   ]
  },
  {
   "cell_type": "code",
   "execution_count": 20,
   "metadata": {},
   "outputs": [],
   "source": [
    "#анализ названий параметров в наименованиях колонок\n",
    "def ParameterType(columns_names, product_type, select_metall, drop, splitter_levels, stage):\n",
    "    \n",
    "    #список колонок содержащих в названии указанное название параметра\n",
    "    columns_selected = []\n",
    "    columns_dropped = []\n",
    "    \n",
    "    columns_lists = FeaturesDecomposition(columns_names, splitter_levels['primal'])\n",
    "    \n",
    "    \n",
    "    #анализ названия параметра\n",
    "    for i in range(len(columns_lists)):\n",
    "        \n",
    "        split_type = FeaturesDecomposition(columns_lists[i], splitter_levels['secondary'])\n",
    "        \n",
    "        for j in range(len(product_type)):\n",
    "            #print(split_type[0])\n",
    "            \n",
    "            #выявление требуемых типов продукта\n",
    "            if stage == 'whole':\n",
    "                if (product_type[j] in split_type[2]) & (select_metall in split_type[2]) &\\\n",
    "                   (drop != split_type[1]):\n",
    "                    column = '.'.join(columns_lists[i])\n",
    "                    columns_selected.append(column)\n",
    "            if (stage != 'whole') & (stage in split_type[0]):\n",
    "                if (product_type[j] in split_type[2]) & (select_metall in split_type[2]) &\\\n",
    "                    (drop != split_type[1]):\n",
    "                    column = '.'.join(columns_lists[i])\n",
    "                    columns_selected.append(column)\n",
    "         \n",
    "    return columns_selected    "
   ]
  },
  {
   "cell_type": "code",
   "execution_count": 21,
   "metadata": {},
   "outputs": [],
   "source": [
    "#композиция имени колоноки по её признакам (стадия, параметрв и тип параметра)\n",
    "def OneColumnSelection(stage, state, parameter_1, parameter_2):\n",
    "    \n",
    "    column_name = stage + '.' + state + '.' + parameter_1 + '_' + parameter_2\n",
    "             \n",
    "    return column_name"
   ]
  },
  {
   "cell_type": "code",
   "execution_count": 22,
   "metadata": {},
   "outputs": [],
   "source": [
    "#выбор названий по признакам в имени колонки (стадия, параметрв и тип параметра)\n",
    "def ColumnsSelection(stages_names, states_names, parameters_1, parameters_2):\n",
    "    \n",
    "    columns_names_list = []\n",
    "    \n",
    "    #последовательный проход по всем признакам названия колонки\n",
    "    for stage_name in stages_names:\n",
    "        for state_name in states_names:\n",
    "            for parameter_1_name in parameters_1:\n",
    "                for parameter_2_name in parameters_2:\n",
    "                    column_name = OneColumnSelection(stage_name, state_name, \\\n",
    "                                                     parameter_1_name, parameter_2_name)\n",
    "                    columns_names_list.append(column_name)\n",
    "                \n",
    "    return columns_names_list              "
   ]
  },
  {
   "cell_type": "markdown",
   "metadata": {},
   "source": [
    "Создадим списки параметров для дальнейшего разбиения данных"
   ]
  },
  {
   "cell_type": "code",
   "execution_count": 23,
   "metadata": {},
   "outputs": [],
   "source": [
    "#список названий этапов\n",
    "stage_rougher = ['rougher']\n",
    "stage_whole = ['rougher', 'primary_cleaner', 'secondary_cleaner', 'final']\n",
    "stage_tags = ['rougher', 'primary', 'secondary', 'final']\n",
    "\n",
    "#список типов выходных параметров продукта необходимы для расчета эффективности обогащения и метрик\n",
    "output_type = ['output']\n",
    "\n",
    "#список типов входных параметров сырья необходимы для расчета эффективности обогащения\n",
    "input_type = ['input']\n",
    "\n",
    "#список параметров состояния и расчетов \n",
    "current_state_names = ['state', 'calculation']\n",
    "\n",
    "#списки типов промежуточных целевых признаков металлов \n",
    "drop_metalls = ['concentrate_ag', 'concentrate_pb', 'concentrate_sol', 'concentrate_au']\n",
    "drop_tails = ['tail_ag', 'tail_pb', 'tail_sol', 'tail_au']\n",
    "drop_calculation = ['calculation']\n",
    "drop_feed = ['feed_ag', 'feed_pb', 'feed_sol', 'feed_au']\n",
    "drop_sol = ['feed_sol', 'concentrate_sol', 'tail_sol']\n",
    "\n",
    "#список типов продукта\n",
    "product_type = ['feed', 'concentrate', 'tail']\n",
    "product_tail = ['tail']\n",
    "product_metall = ['feed', 'concentrate']\n",
    "metalls = ['ag', 'pb', 'au']\n",
    "reagents = ['ag', 'pb', 'au', 'sol']\n",
    "\n",
    "#эффективность \n",
    "recovery_name = ['recovery']\n",
    "\n",
    "#список структурных параметров руды\n",
    "feed_list = ['feed_size', 'feed_rate']"
   ]
  },
  {
   "cell_type": "code",
   "execution_count": 24,
   "metadata": {},
   "outputs": [],
   "source": [
    "#входные и выходные параметры необходимые для расчета эффективности обогащения\n",
    "rougher_input = ['feed']\n",
    "rougher_output = ['concentrate', 'tail']\n",
    "cleaner_input = ['concentrate']\n",
    "cleaner_output = ['tail','concentrate']"
   ]
  },
  {
   "cell_type": "code",
   "execution_count": 25,
   "metadata": {},
   "outputs": [],
   "source": [
    "splitters = {\n",
    "    'primal' : '.',\n",
    "    'secondary': '_'\n",
    "}"
   ]
  },
  {
   "cell_type": "markdown",
   "metadata": {},
   "source": [
    "***Анализ пропусков***"
   ]
  },
  {
   "cell_type": "markdown",
   "metadata": {},
   "source": [
    "Удалим пропуски в данных, поскольку неправильная замена пропусков может привести к существенному искажению данных. Количество признаков велико и они имеют сложную взаимосвязь, поэтому неправильно заполнение пропусков в одной колонке может привести к искажению между признаками и целевыми признаками. Заполним пропуски перед выделением признаков и целевых признаков. "
   ]
  },
  {
   "cell_type": "code",
   "execution_count": 26,
   "metadata": {},
   "outputs": [],
   "source": [
    "#удаление пропусков\n",
    "train_set = train_set.dropna()\n",
    "test_set = test_set.dropna()"
   ]
  },
  {
   "cell_type": "code",
   "execution_count": 27,
   "metadata": {},
   "outputs": [],
   "source": [
    "#удаление не нужных колонок из списка всех колонок\n",
    "#создание списка колонок\n",
    "total_features_train = pd.Series(train_set.columns)\n",
    "total_features_test = pd.Series(test_set.columns)\n",
    "\n",
    "#определение номеров колонок содержащих recovery\n",
    "exclude_list_train = FeaturesDecomposition(total_features_train, '.')\n",
    "exclude_list_test = FeaturesDecomposition(total_features_test, '.')\n",
    "#len(exclude_list_test) - len(exclude_list_train)"
   ]
  },
  {
   "cell_type": "code",
   "execution_count": 28,
   "metadata": {},
   "outputs": [
    {
     "name": "stdout",
     "output_type": "stream",
     "text": [
      "Обучающая выборка [5, 48]\n",
      "Тестовая выборка [58, 79]\n"
     ]
    }
   ],
   "source": [
    "recovery_columns_train = []\n",
    "recovery_columns_test = []\n",
    "\n",
    "#поиск колонок содержащих recovery\n",
    "for i in range(len(exclude_list_train)):\n",
    "    if 'recovery' in exclude_list_train[i]:  #исключение из списка для обучающей выборки\n",
    "        recovery_columns_train.append(i)\n",
    "        \n",
    "    if 'recovery' in exclude_list_test[i]:    #исключение из списка для тестовой выборки\n",
    "        recovery_columns_test.append(i)\n",
    "        \n",
    "\n",
    "print('Обучающая выборка', recovery_columns_train)\n",
    "print('Тестовая выборка', recovery_columns_test)"
   ]
  },
  {
   "cell_type": "markdown",
   "metadata": {},
   "source": [
    "Поскольку из данных о финальных значениях золота (на каждом этапе) рассчитывается эффективность обогащения,которая является целевым признаком, то исключим данные о долях металлов в концентрате и хвостах из тренировочной выборки. Удаление пропусков будем проводить уже после выделения признаков и целевых признаков."
   ]
  },
  {
   "cell_type": "code",
   "execution_count": 29,
   "metadata": {},
   "outputs": [],
   "source": [
    "#функция выделения из данных датафреймов для этапов флотации и всего процесса\n",
    "def FeaturesSelection(data, target, stage, drop_list, splitter):\n",
    "    \n",
    "    #if stage[0] == 'rougher':\n",
    "    drop_list_add = ['none']\n",
    "\n",
    "    #список колонок для всего этапа \n",
    "    selected_columns, drop = FeatureComposition(data.columns, splitter, stage, drop_list_add)\n",
    "    \n",
    "    #список колонок с признаками без промежуточных целевых признаков\n",
    "    features_columns, drop = FeatureComposition(selected_columns, splitter, stage, drop_list)\n",
    "    \n",
    "    #создание датафреймов с данными для анализа флотации или всего процесса очистки\n",
    "    features_data_full = pd.DataFrame(np.zeros((len(data), len(features_columns))), \\\n",
    "                                index = data.index, columns = features_columns)\n",
    "    \n",
    "    #выделение и целевых и обычных признаков\n",
    "    features_data_full = data[features_columns].copy()\n",
    "    \n",
    "    #удаление пропусков\n",
    "    features_data_full = features_data_full.dropna()\n",
    "    features_data_full = features_data_full[~features_data_full.isin([np.nan, np.inf, -np.inf]).any(1)]\n",
    "    features_data_full = features_data_full.reset_index(drop = True)\n",
    "    \n",
    "    #выделение признаков\n",
    "    features_data = features_data_full.drop(target, axis = 1)\n",
    "    target_data = features_data_full[target]\n",
    "    \n",
    "    return features_data, target_data, \n",
    "    #return selected_columns, features_columns"
   ]
  },
  {
   "cell_type": "markdown",
   "metadata": {},
   "source": [
    "### Выводы"
   ]
  },
  {
   "cell_type": "markdown",
   "metadata": {},
   "source": [
    "* Проверена правильность расчета Recovery\n",
    "* Тестовая выборка дополнена данными из исходной выборки\n",
    "* Проведена предподготовка данных, выделены признаки и целевые признаки для тренировочной и тестовой выборок. "
   ]
  },
  {
   "cell_type": "markdown",
   "metadata": {},
   "source": [
    "## Анализ данных"
   ]
  },
  {
   "cell_type": "markdown",
   "metadata": {},
   "source": [
    "### Изучение изменений концентраций металлов (Au, Ag, Pb) на различных этапах очистки"
   ]
  },
  {
   "cell_type": "markdown",
   "metadata": {},
   "source": [
    "Выделим концентрации металлов в руде, концентратах и хвостах и проанализируем их."
   ]
  },
  {
   "cell_type": "code",
   "execution_count": 30,
   "metadata": {},
   "outputs": [],
   "source": [
    "#анализ концентраций метллов по полной выборке\n",
    "columns_full = full_set.drop(['date'], axis = 1).columns\n",
    "metall_name = {\n",
    "    'ag' : 'серебро',\n",
    "    'au' : 'золото',\n",
    "    'pb' : 'свинец',\n",
    "    'sol' : 'реагенты'\n",
    "}"
   ]
  },
  {
   "cell_type": "code",
   "execution_count": 31,
   "metadata": {},
   "outputs": [],
   "source": [
    "#выделение концентраций металлов на различных стадиях\n",
    "def SelectMetall(columns_list, metall, stage):\n",
    "    \n",
    "    mean_c = []\n",
    "    \n",
    "    drop = ['calculation']\n",
    "    #выделение долей металлав руде и концентрате\n",
    "    selected_c = ParameterType(columns_list, product_metall, metall, drop, splitters, stage)\n",
    "    #выделение долей металлав в хвостах\n",
    "    selected_t = ParameterType(columns_list, product_tail, metall, drop, splitters, stage)\n",
    "    \n",
    "    metall_c = full_set[selected_c].dropna()\n",
    "    metall_t = full_set[selected_t].dropna()\n",
    "    \n",
    "    metall_c.columns = ['final', 'primary', 'initial', 'rougher']\n",
    "    metall_c = metall_c[['initial', 'rougher', 'primary', 'final']]\n",
    "    \n",
    "    metall_t.columns = ['final', 'primary', 'rougher', 'secondary']\n",
    "    metall_t = metall_t[['rougher', 'primary', 'secondary', 'final']] \n",
    "    \n",
    "    for column in metall_c:\n",
    "        mean_c_stage = metall_c[column].mean()\n",
    "        mean_c.append(mean_c_stage)\n",
    "    \n",
    "    return metall_c, metall_t, mean_c"
   ]
  },
  {
   "cell_type": "code",
   "execution_count": 32,
   "metadata": {},
   "outputs": [],
   "source": [
    "#построение графиков распределений конентраций металла\n",
    "def MetallDistribution(m_c, m_t, metall):\n",
    "    \n",
    "    xlim_c = []\n",
    "    xlim_t = []\n",
    "    ylim_c = []\n",
    "    ylim_t = []\n",
    "    \n",
    "    title = 'Распределений концентраций:' + ' ' + metall_name[metall]\n",
    "\n",
    "    legend_c = ['начальная', 'после флотации', 'после первой очистки', 'финальная']\n",
    "    legend_t = ['после флотации', 'после первой очистки', 'после второй очистки', 'финальная']\n",
    "    \n",
    "    for name in m_c:\n",
    "        xlim_c.append(m_c[name].max())\n",
    "    for name in m_t:\n",
    "        xlim_t.append(m_t[name].max())\n",
    "    \n",
    "    xlim_c_right = pd.Series(xlim_c).max()  \n",
    "    xlim_t_right = pd.Series(xlim_t).max() \n",
    "                      \n",
    "    ylim_c_right = pd.Series(ylim_c).max()  \n",
    "    ylim_t_right = pd.Series(ylim_t).max() \n",
    "                      \n",
    "    \n",
    "    fig, axes = plt.subplots(1,2, figsize = (12,6)) \n",
    "    plt.suptitle(title);\n",
    "\n",
    "    #построение гистограмм\n",
    "    for j in range(len(m_c.columns)):\n",
    "        axes[0]= m_c.iloc[:, j].hist(bins = 100, ax = axes[0]);\n",
    "        axes[1] = m_t.iloc[:, j].hist(bins = 100, ax = axes[1]);\n",
    "        \n",
    "    #print(axes[0])\n",
    "\n",
    "    axes[0].set_xlabel('концентрация');\n",
    "    axes[0].set_ylabel('частота');\n",
    "    axes[0].legend(legend_c);\n",
    "    axes[0].set_xlim(1,xlim_c_right)\n",
    "    axes[0].set_ylim(0,2500)\n",
    "    \n",
    "    axes[1].set_xlabel('концентрация');\n",
    "    axes[1].set_ylabel('частота');\n",
    "    axes[1].legend(legend_t);\n",
    "    axes[1].set_xlim(1,xlim_t_right)\n",
    "    axes[1].set_ylim(0,1600)\n",
    "    "
   ]
  },
  {
   "cell_type": "code",
   "execution_count": 33,
   "metadata": {},
   "outputs": [],
   "source": [
    "#создание датафрейма для записи средних значений концентраций\n",
    "df_mean_stage = pd.DataFrame() "
   ]
  },
  {
   "cell_type": "code",
   "execution_count": 34,
   "metadata": {},
   "outputs": [
    {
     "data": {
      "image/png": "[encoded data removed]",
      "text/plain": [
       "<Figure size 864x432 with 2 Axes>"
      ]
     },
     "metadata": {
      "needs_background": "light"
     },
     "output_type": "display_data"
    },
    {
     "data": {
      "image/png": "[encoded data removed]",
      "text/plain": [
       "<Figure size 864x432 with 2 Axes>"
      ]
     },
     "metadata": {
      "needs_background": "light"
     },
     "output_type": "display_data"
    },
    {
     "data": {
      "image/png": "[encoded data removed]",
      "text/plain": [
       "<Figure size 864x432 with 2 Axes>"
      ]
     },
     "metadata": {
      "needs_background": "light"
     },
     "output_type": "display_data"
    }
   ],
   "source": [
    "data_mean_c = []\n",
    "data_metall_c = []\n",
    "\n",
    "#построение гистограмм распредлелений металлов\n",
    "for metall in metalls:\n",
    "    m_c, m_t, mean_c = SelectMetall(columns_full, metall, 'whole')\n",
    "\n",
    "    df_mean_stage[metall] = pd.Series(mean_c)\n",
    "    MetallDistribution(m_c, m_t, metall)   "
   ]
  },
  {
   "cell_type": "markdown",
   "metadata": {},
   "source": [
    "Из гистогармм видно, что концентрация золота растет после каждого этапа очистки. При этом концентраци золота в хвостах мала на протяжении всех этапов. Концентрации свинца слабо растет по ходу процесса обогащения. Концентрация же серебра падает, при этом концетрация серебра в хвостах выше чем концентрация серебра в концентрате. "
   ]
  },
  {
   "cell_type": "code",
   "execution_count": 35,
   "metadata": {},
   "outputs": [
    {
     "data": {
      "text/html": [
       "<div>\n",
       "<style scoped>\n",
       "    .dataframe tbody tr th:only-of-type {\n",
       "        vertical-align: middle;\n",
       "    }\n",
       "\n",
       "    .dataframe tbody tr th {\n",
       "        vertical-align: top;\n",
       "    }\n",
       "\n",
       "    .dataframe thead th {\n",
       "        text-align: right;\n",
       "    }\n",
       "</style>\n",
       "<table border=\"1\" class=\"dataframe\">\n",
       "  <thead>\n",
       "    <tr style=\"text-align: right;\">\n",
       "      <th></th>\n",
       "      <th>initial</th>\n",
       "      <th>rougher</th>\n",
       "      <th>primary</th>\n",
       "      <th>final</th>\n",
       "    </tr>\n",
       "  </thead>\n",
       "  <tbody>\n",
       "    <tr>\n",
       "      <td>ag</td>\n",
       "      <td>8.069611</td>\n",
       "      <td>10.879444</td>\n",
       "      <td>7.695721</td>\n",
       "      <td>4.785180</td>\n",
       "    </tr>\n",
       "    <tr>\n",
       "      <td>pb</td>\n",
       "      <td>3.321244</td>\n",
       "      <td>6.932543</td>\n",
       "      <td>8.963695</td>\n",
       "      <td>9.178636</td>\n",
       "    </tr>\n",
       "    <tr>\n",
       "      <td>au</td>\n",
       "      <td>7.569196</td>\n",
       "      <td>17.888219</td>\n",
       "      <td>29.226573</td>\n",
       "      <td>40.028011</td>\n",
       "    </tr>\n",
       "  </tbody>\n",
       "</table>\n",
       "</div>"
      ],
      "text/plain": [
       "     initial    rougher    primary      final\n",
       "ag  8.069611  10.879444   7.695721   4.785180\n",
       "pb  3.321244   6.932543   8.963695   9.178636\n",
       "au  7.569196  17.888219  29.226573  40.028011"
      ]
     },
     "execution_count": 35,
     "metadata": {},
     "output_type": "execute_result"
    }
   ],
   "source": [
    "mean_stage = df_mean_stage.T\n",
    "mean_stage.columns = ['initial', 'rougher', 'primary', 'final']\n",
    "mean_stage"
   ]
  },
  {
   "cell_type": "markdown",
   "metadata": {},
   "source": [
    "Из таблицы видно, что в ходе процесса обогащения, концентрация золота увеличивается болле, чем в 5 раз, концентрация свинца увеличивается примерно в три раза, а концентрация серебра падает примерно в полтора раза. "
   ]
  },
  {
   "cell_type": "markdown",
   "metadata": {},
   "source": [
    "### Сравнение распределения размеров гранул сырья на обучающей и тестовой выборках "
   ]
  },
  {
   "cell_type": "markdown",
   "metadata": {},
   "source": [
    "Перед анализом распределений размеров гранул исключим из рассмотрения случаи когда их размер равен нулю. Такое возможно, либо при заполнении пропусков, либо из-за ошибок внесения записей в исходные данные."
   ]
  },
  {
   "cell_type": "code",
   "execution_count": 36,
   "metadata": {},
   "outputs": [],
   "source": [
    "#тренировочная выборка\n",
    "train_set = train_set.loc[train_set.loc[:,'rougher.input.feed_size'] > 0]\n",
    "train_set = train_set.loc[train_set.loc[:,'primary_cleaner.input.feed_size'] > 0]\n",
    "\n",
    "#тестовая выборка\n",
    "test_set = test_set.loc[test_set.loc[:,'rougher.input.feed_size'] > 0]\n",
    "test_set = test_set.loc[test_set.loc[:,'primary_cleaner.input.feed_size'] > 0]"
   ]
  },
  {
   "cell_type": "code",
   "execution_count": 37,
   "metadata": {},
   "outputs": [],
   "source": [
    "#выделение размеров частиц для тренировочной и тестовой выборок\n",
    "feed_size_train = train_set[['rougher.input.feed_size', 'primary_cleaner.input.feed_size']]\n",
    "feed_size_test = test_set[['rougher.input.feed_size', 'primary_cleaner.input.feed_size']]\n",
    "#feed_size_train.shape"
   ]
  },
  {
   "cell_type": "code",
   "execution_count": 38,
   "metadata": {},
   "outputs": [],
   "source": [
    "#переименование колонок\n",
    "feed_size_train.columns = ['rougher', 'primary_cleaner']\n",
    "feed_size_test.columns = ['rougher', 'primary_cleaner']"
   ]
  },
  {
   "cell_type": "markdown",
   "metadata": {},
   "source": [
    "Построим распределения размеров и сравним средние значения"
   ]
  },
  {
   "cell_type": "code",
   "execution_count": 39,
   "metadata": {},
   "outputs": [
    {
     "data": {
      "image/png": "[encoded data removed]",
      "text/plain": [
       "<Figure size 864x432 with 2 Axes>"
      ]
     },
     "metadata": {
      "needs_background": "light"
     },
     "output_type": "display_data"
    }
   ],
   "source": [
    "fig, axes = plt.subplots(1,2, figsize = (12,6))\n",
    "plt.suptitle('Распределения размеров гранул сырья');\n",
    "\n",
    "#построения гистограмм\n",
    "#флотация\n",
    "axes[0] = feed_size_train['rougher'].hist(bins = 50, ax = axes[0]);\n",
    "axes[0] = feed_size_test['rougher'].hist(bins = 50, ax = axes[0]);\n",
    "\n",
    "#первичная оценка\n",
    "axes[1] = feed_size_train['primary_cleaner'].hist(bins = 50, ax = axes[1]);\n",
    "axes[1] = feed_size_test['primary_cleaner'].hist(bins = 50, ax = axes[1]);\n",
    "\n",
    "axes[0].set_xlabel('концентрация');\n",
    "axes[0].set_ylabel('частота');\n",
    "axes[0].legend(['тренировочная выборка', 'тестовая выборка']);\n",
    "axes[0].set_xlim(0,200);\n",
    "axes[0].set_ylim(0,5000);\n",
    "axes[0].set_title('Размер частиц на этапе флотации')\n",
    "    \n",
    "axes[1].set_xlabel('концентрация');\n",
    "axes[1].set_ylabel('частота');\n",
    "axes[1].legend(['тренировочная выборка', 'тестовая выборка']);\n",
    "axes[1].set_xlim(0,12);\n",
    "axes[1].set_ylim(0,2500);\n",
    "axes[1].set_title('Размер частиц на этапе очистки');"
   ]
  },
  {
   "cell_type": "markdown",
   "metadata": {},
   "source": [
    "Из сравнения гистограмм видно, что размеры гранул сырья распределены практически одинаково. "
   ]
  },
  {
   "cell_type": "code",
   "execution_count": 40,
   "metadata": {},
   "outputs": [
    {
     "name": "stdout",
     "output_type": "stream",
     "text": [
      "Средний размер гранул сырья на этапе флотации\n",
      "Тренировочная выборка 57.22\n",
      "Тестовая выборка 55.02\n",
      "\n",
      "Средний размер гранул сырья на этапе очистки\n",
      "Тренировочная выборка 7.40\n",
      "Тестовая выборка 7.29\n",
      "\n"
     ]
    }
   ],
   "source": [
    "stage_size_name = ['флотации', 'очистки']\n",
    "stage_size = ['rougher','primary_cleaner']\n",
    "\n",
    "for i in range(len(feed_size_train.columns)):\n",
    "    print('Средний размер гранул сырья на этапе', stage_size_name[i])\n",
    "    print('Тренировочная выборка {:.2f}'.format(feed_size_train[stage_size[i]].mean()))\n",
    "    print('Тестовая выборка {:.2f}'.format(feed_size_test[stage_size[i]].mean()))\n",
    "    print()"
   ]
  },
  {
   "cell_type": "markdown",
   "metadata": {},
   "source": [
    "*Полученные результаты показывают, что средние значения близки друг другу*"
   ]
  },
  {
   "cell_type": "code",
   "execution_count": 41,
   "metadata": {},
   "outputs": [
    {
     "name": "stdout",
     "output_type": "stream",
     "text": [
      "90% доверительный интервал гранул сырья на этапе флотации\n",
      "Тренировочная выборка 42.24 - 81.10\n",
      "Тестовая выборка 41.26 - 84.00\n",
      "\n",
      "90% доверительный интервал гранул сырья на этапе очистки\n",
      "Тренировочная выборка 6.55 - 8.40\n",
      "Тестовая выборка 6.42 - 8.28\n",
      "\n"
     ]
    }
   ],
   "source": [
    "stage_size_name = ['флотации', 'очистки']\n",
    "stage_size = ['rougher','primary_cleaner']\n",
    "\n",
    "for i in range(len(feed_size_train.columns)):\n",
    "    print('90% доверительный интервал гранул сырья на этапе', stage_size_name[i])\n",
    "    print('Тренировочная выборка {:.2f} - {:.2f}'.format(feed_size_train[stage_size[i]].quantile(0.05),\\\n",
    "                                                feed_size_train[stage_size[i]].quantile(0.95)))\n",
    "    print('Тестовая выборка {:.2f} - {:.2f}'.format(feed_size_test[stage_size[i]].quantile(0.05),\\\n",
    "                                           feed_size_test[stage_size[i]].quantile(0.95)))\n",
    "    print()"
   ]
  },
  {
   "cell_type": "markdown",
   "metadata": {},
   "source": [
    "Полученные значения среднего и доверительных интервалов указывают на то, что размеры гранул сырья для  тренировочной и тестовой выборок лежат в одном диапазоне, а значит не должно быть проблем с обучением и тестированием модели на разнородных данных."
   ]
  },
  {
   "cell_type": "markdown",
   "metadata": {},
   "source": [
    "### Исследование суммарной концентрацию всех веществ на разных стадиях очистки"
   ]
  },
  {
   "cell_type": "code",
   "execution_count": 42,
   "metadata": {},
   "outputs": [],
   "source": [
    "#задание параметров для селекции колонок\n",
    "rougher_input = {\n",
    "    'stages' : ['rougher'],\n",
    "    'states' : ['input'],\n",
    "    'parameters_1' : ['feed'],\n",
    "    'parameters_2' : ['ag', 'pb', 'sol', 'au']\n",
    "}\n",
    "\n",
    "rougher_output = {\n",
    "    'stages' : ['rougher'],\n",
    "    'states' : ['output'],\n",
    "    'parameters_1' : ['concentrate', 'tail'],\n",
    "    'parameters_2' : ['ag', 'pb', 'sol', 'au']\n",
    "}\n",
    "\n",
    "primary_input = {\n",
    "    'stages' : ['rougher'],\n",
    "    'states' : ['output'],\n",
    "    'parameters_1' : ['concentrate'],\n",
    "    'parameters_2' : ['ag', 'pb', 'sol', 'au']\n",
    "}\n",
    "\n",
    "\n",
    "primary_output = {\n",
    "    'stages' : ['primary_cleaner'],\n",
    "    'states' : ['output'],\n",
    "    'parameters_1' : ['concentrate'],\n",
    "    'parameters_2' : ['ag', 'pb', 'sol', 'au']\n",
    "}\n",
    "\n",
    "final_concentrate = {\n",
    "    'stages' : ['final'],\n",
    "    'states' : ['output'],\n",
    "    'parameters_1' : ['concentrate'],\n",
    "    'parameters_2' : ['ag', 'pb', 'sol', 'au']\n",
    "}"
   ]
  },
  {
   "cell_type": "code",
   "execution_count": 43,
   "metadata": {},
   "outputs": [],
   "source": [
    "#функция для расчета суммарной концентрации на заданном этапе\n",
    "def ConcentrateTotal(data, input_):\n",
    "    \n",
    "    #расчет суммарной концентраций до начала этапа\n",
    "    stage_list = ColumnsSelection(input_['stages'], input_['states'], \\\n",
    "                                        input_['parameters_1'], input_['parameters_2'])\n",
    "    stage_data = data[stage_list]\n",
    "\n",
    "    stage_data_sum = stage_data.sum(axis = 1)\n",
    "    \n",
    "    return stage_data_sum"
   ]
  },
  {
   "cell_type": "code",
   "execution_count": 44,
   "metadata": {},
   "outputs": [],
   "source": [
    "def StagesTotal(data):\n",
    "    #расчет и сохраненеие разностей суммарных концентраций\n",
    "    data_list = []\n",
    "    data_diff = []\n",
    "\n",
    "    rougher_sum = ConcentrateTotal(data, rougher_input)\n",
    "    data_list.append(rougher_sum)\n",
    "\n",
    "    primary_sum = ConcentrateTotal(data, primary_output)\n",
    "    data_list.append(primary_sum)\n",
    "\n",
    "    final_sum = ConcentrateTotal(data, final_concentrate)\n",
    "    data_list.append(final_sum)\n",
    "    \n",
    "    \n",
    "    \n",
    "    return data_list"
   ]
  },
  {
   "cell_type": "code",
   "execution_count": 45,
   "metadata": {},
   "outputs": [],
   "source": [
    "#функция построения гистограмм распределения\n",
    "def PlotDifference(data_list_1, data_list_2, stage_names):\n",
    "    \n",
    "    fig, axes = plt.subplots(1, 2, figsize = (12,5))\n",
    "    plt.suptitle('Распределения суммарных концентрации реагентов');\n",
    "    \n",
    "    for i in range(len(data_list_1)):\n",
    "        axes[0] = data_list_1[i].hist(bins = 100, ax = axes[0], alpha = 0.75);\n",
    "        axes[1] = data_list_2[i].hist(bins = 100, ax = axes[1], alpha = 0.75);\n",
    "\n",
    "    axes[0].set_ylabel('частота');\n",
    "    axes[0].set_xlabel('концентрация');\n",
    "    axes[0].legend(stage_names);\n",
    "    axes[0].set_title('Тренировочная выборка');\n",
    "    \n",
    "    axes[1].set_ylabel('частота');\n",
    "    axes[1].set_xlabel('концентрация');\n",
    "    axes[1].legend(stage_names);\n",
    "    axes[1].set_title('Тестовая выборка');"
   ]
  },
  {
   "cell_type": "markdown",
   "metadata": {},
   "source": [
    "Построим распределения разностей суммарных концентраций на каждой стадии для тренировочной и тестовой выборок."
   ]
  },
  {
   "cell_type": "code",
   "execution_count": 46,
   "metadata": {},
   "outputs": [
    {
     "data": {
      "image/png": "[encoded data removed]",
      "text/plain": [
       "<Figure size 864x360 with 2 Axes>"
      ]
     },
     "metadata": {
      "needs_background": "light"
     },
     "output_type": "display_data"
    }
   ],
   "source": [
    "#построение гистограмм\n",
    "stages_names = ['флотация', 'первичная очистка', 'финальная стадия']\n",
    "\n",
    "data_list_1 = StagesTotal(train_set)\n",
    "data_list_2 = StagesTotal(test_set)\n",
    "\n",
    "PlotDifference(data_list_1, data_list_2, stages_names)"
   ]
  },
  {
   "cell_type": "markdown",
   "metadata": {},
   "source": [
    "Из представленных данных видно, что в распределении много значений соответствующим нулевым суммарным концентрациям. Это означает, что на входе процесса обогащения либо не было золота, а значит его нельзя и очистить. либо возникли ошибки в записях. Исключим эти значения из рассмотрения. "
   ]
  },
  {
   "cell_type": "code",
   "execution_count": 47,
   "metadata": {},
   "outputs": [
    {
     "name": "stdout",
     "output_type": "stream",
     "text": [
      "(11017, 88)\n",
      "(10939, 88)\n"
     ]
    }
   ],
   "source": [
    "#удаление аномальных значений для тренировочной выборки\n",
    "print(train_set.shape)\n",
    "\n",
    "train_set_filtered = train_set.loc[(data_list_1[0] > 0) & (data_list_1[1] > 0) &\\\n",
    "                                    (data_list_1[2] > 0)].copy()\n",
    "print(train_set_filtered.shape)"
   ]
  },
  {
   "cell_type": "code",
   "execution_count": 48,
   "metadata": {},
   "outputs": [
    {
     "name": "stdout",
     "output_type": "stream",
     "text": [
      "(5077, 88)\n",
      "(5037, 88)\n"
     ]
    }
   ],
   "source": [
    "#удаление аномальных значений для тренировочной выборки\n",
    "print(test_set.shape)\n",
    "\n",
    "test_set_filtered = test_set.loc[(data_list_2[0] > 0) & (data_list_2[1] > 0) &\\\n",
    "                                    (data_list_2[2] > 0)].copy()\n",
    "print(test_set_filtered.shape)"
   ]
  },
  {
   "cell_type": "markdown",
   "metadata": {},
   "source": [
    "Выделение признаков и целевых признаков для анализа всего процесса очистки"
   ]
  },
  {
   "cell_type": "markdown",
   "metadata": {},
   "source": [
    "* Тренировочная выборка"
   ]
  },
  {
   "cell_type": "code",
   "execution_count": 49,
   "metadata": {},
   "outputs": [],
   "source": [
    "target = ['rougher.output.recovery','final.output.recovery']\n",
    "drop_list = drop_metalls + drop_tails + ['calculation']\n",
    "\n",
    "#выделение данных для анализа всего этапа очистки\n",
    "features_train, target_train = \\\n",
    "            FeaturesSelection(train_set_filtered, target, stage_whole, drop_list, splitters['primal'])"
   ]
  },
  {
   "cell_type": "code",
   "execution_count": 50,
   "metadata": {},
   "outputs": [
    {
     "name": "stdout",
     "output_type": "stream",
     "text": [
      "Тренировочная выборка, признаки (10939, 52)\n",
      "Тренировочная выборка, целевые признаки (10939, 2)\n"
     ]
    }
   ],
   "source": [
    "print('Тренировочная выборка, признаки', features_train.shape)\n",
    "print('Тренировочная выборка, целевые признаки', target_train.shape)"
   ]
  },
  {
   "cell_type": "markdown",
   "metadata": {},
   "source": [
    "Выделение признаков и целевых признаков для анализа всего процесса очистки"
   ]
  },
  {
   "cell_type": "markdown",
   "metadata": {},
   "source": [
    "* Тестовая выборка"
   ]
  },
  {
   "cell_type": "code",
   "execution_count": 51,
   "metadata": {},
   "outputs": [],
   "source": [
    "target = ['rougher.output.recovery','final.output.recovery']\n",
    "drop_list = drop_metalls + drop_tails + ['calculation']\n",
    "\n",
    "#выделение данных для анализа всего этапа очистки\n",
    "features_test, target_test = \\\n",
    "             FeaturesSelection(test_set_filtered, target, stage_whole, drop_list, splitters['primal'])\n",
    "\n",
    "#features_test_whole.info()"
   ]
  },
  {
   "cell_type": "code",
   "execution_count": 52,
   "metadata": {},
   "outputs": [
    {
     "name": "stdout",
     "output_type": "stream",
     "text": [
      "Тестовая выборка, признаки (10939, 52)\n",
      "Тестовая выборка, целевые признаки (10939, 2)\n"
     ]
    }
   ],
   "source": [
    "print('Тестовая выборка, признаки', features_train.shape)\n",
    "print('Тестовая выборка, целевые признаки', target_train.shape)"
   ]
  },
  {
   "cell_type": "code",
   "execution_count": 53,
   "metadata": {},
   "outputs": [],
   "source": [
    "#features_train.info()  #контрольная проверка наличия пропусков в выборках\n",
    "#target_train.info()\n",
    "#features_test\n",
    "#target_test.info()\n",
    "#features_train"
   ]
  },
  {
   "cell_type": "code",
   "execution_count": 54,
   "metadata": {},
   "outputs": [],
   "source": [
    "target_train.columns = ['rougher', 'final']\n",
    "target_test.columns = ['rougher', 'final']"
   ]
  },
  {
   "cell_type": "markdown",
   "metadata": {},
   "source": [
    "Проведем масштабироание тренировочной выборки, а потом перенесем его на тестовую."
   ]
  },
  {
   "cell_type": "code",
   "execution_count": 55,
   "metadata": {},
   "outputs": [],
   "source": [
    "#масштабирование\n",
    "scaler = StandardScaler()\n",
    "\n",
    "features_train_scaled = scaler.fit_transform(features_train)\n",
    "features_train_scaled_df = pd.DataFrame(features_train_scaled, index = features_train.index, \\\n",
    "                                       columns = features_train.columns)\n",
    "#features_train_scaled_df "
   ]
  },
  {
   "cell_type": "code",
   "execution_count": 56,
   "metadata": {},
   "outputs": [],
   "source": [
    "features_test_scaled = scaler.transform(features_test)\n",
    "features_test_scaled_df = pd.DataFrame(features_test_scaled, index = features_test.index, \\\n",
    "                                       columns = features_test.columns)\n",
    "#features_test_scaled_df "
   ]
  },
  {
   "cell_type": "markdown",
   "metadata": {},
   "source": [
    "### Выводы"
   ]
  },
  {
   "cell_type": "markdown",
   "metadata": {},
   "source": [
    "1. Анализ распределений концентраций металлов показывает, что  золота в концентрате растет на каждом этапе обогащения, и в финальном концентрате золота содержится примернов пять раз больше золота, чем в исходном сырье. При этом доля золота в хвостах мала. Концентрации свинца слабо растет по ходу процесса обогащения, а  концентрация же серебра падает, при этом концетрация серебра в хвостах выше чем концентрация серебра в концентрате. \n",
    "2. Диапазон значений размер гранул сырья в тренировочной и тестовой выборке практически одинаков, а средние значения близки. \n",
    "3. В колонках с данными концентраций металлов содержит аномалии - нулевые суммарные значения реагентов. Эти данные были удалены из датасета."
   ]
  },
  {
   "cell_type": "markdown",
   "metadata": {},
   "source": [
    "## Модель"
   ]
  },
  {
   "cell_type": "markdown",
   "metadata": {},
   "source": [
    "### Написание функции для вычисления итоговой метрики (sMAPE)"
   ]
  },
  {
   "cell_type": "code",
   "execution_count": 57,
   "metadata": {},
   "outputs": [],
   "source": [
    "#функция для расчета метрики sMAPE\n",
    "def sMAPE(recovery_target, recovery_predictions):\n",
    "    \n",
    "    #вычисление метрики\n",
    "    abs_diff = (recovery_target - recovery_predictions).abs() # abs_diff = |yt-yp|\n",
    "    \n",
    "    sum_abs = 0.5 * (recovery_target.abs() + recovery_predictions.abs()) #sum_abs = 0.5 * (|yt| + |yp|)\n",
    "    \n",
    "    relation = (abs_diff / sum_abs).sum()  # relation = Sigma (abs_diff / sum_abs)\n",
    "    \n",
    "    sMAPE_score = (100 * relation) / len(recovery_target)\n",
    "    \n",
    "    return sMAPE_score    "
   ]
  },
  {
   "cell_type": "code",
   "execution_count": 58,
   "metadata": {},
   "outputs": [],
   "source": [
    "#функция для подсчета взвешенной метрики для этапа флотации и всего процесса очистки\n",
    "def Total_sMAPE(sMAPE_rougher, sMAPE_final):\n",
    "    \n",
    "    total_smape = 0.25 * sMAPE_rougher + 0.75 * sMAPE_final\n",
    "    \n",
    "    return total_smape"
   ]
  },
  {
   "cell_type": "code",
   "execution_count": 59,
   "metadata": {},
   "outputs": [],
   "source": [
    "#функция для вычисления метрик по данным предсказаний и целевых значений\n",
    "#входной параметр датафрейм с предсказаниями Recovery для этапа флотации и всего процесса обогащения\n",
    "def sMAPE_score(model_dump, features, data_target):\n",
    "    \n",
    "    #расчет предсказаний\n",
    "    data_predictions = model_dump.predict(features)\n",
    "        \n",
    "    #преобразование данных для дальнейшего расчета\n",
    "    predictions = pd.DataFrame(data_predictions, index = data_target.index)  #исходные данные предсказаний имет вид массива\n",
    "    predictions.columns = ['rougher','final']\n",
    "    data_target.columns = ['rougher','final']\n",
    "    \n",
    "    #расче sMAPE для флотации\n",
    "    sMAPE_rougher = sMAPE(data_target['rougher'], predictions['rougher'])\n",
    "    \n",
    "    #расче sMAPE для всего процесса обогащения\n",
    "    sMAPE_final = sMAPE(data_target['final'], predictions['final'])\n",
    "    \n",
    "    sMAPE_ = Total_sMAPE(sMAPE_rougher, sMAPE_final)\n",
    "    \n",
    "    return sMAPE_ "
   ]
  },
  {
   "cell_type": "markdown",
   "metadata": {},
   "source": [
    "Для сравнения результатов построения предсказательной модели, рассчитаем метрики для наивного регрессора."
   ]
  },
  {
   "cell_type": "code",
   "execution_count": 60,
   "metadata": {},
   "outputs": [],
   "source": [
    "#расчет предсказаний для среднего тестовой выборки\n",
    "dummy_regr = DummyRegressor(strategy=\"mean\")\n",
    "\n",
    "dummy_regr.fit(features_train, target_train)\n",
    "\n",
    "product_prod = dummy_regr.predict(features_test)\n",
    "score_mean = sMAPE_score(dummy_regr, features_test, target_test)"
   ]
  },
  {
   "cell_type": "code",
   "execution_count": 61,
   "metadata": {},
   "outputs": [
    {
     "name": "stdout",
     "output_type": "stream",
     "text": [
      "Значение метрики sMAPE для наивного регрессора: 8.694743599594458\n"
     ]
    }
   ],
   "source": [
    "print('Значение метрики sMAPE для наивного регрессора:', score_mean)"
   ]
  },
  {
   "cell_type": "markdown",
   "metadata": {},
   "source": [
    "Как видно из расчета, значение метрики для наивного регрессора довольно низкое. Возможно это связано с малым разбросом данных. Если значения целевого признака лежат в узком диапазоне от среднего, то предсказание средним будет неплохим прогнозом. Проанализируем разброс значений тренировочной и тестовой выборок."
   ]
  },
  {
   "cell_type": "code",
   "execution_count": 62,
   "metadata": {},
   "outputs": [
    {
     "data": {
      "image/png": "[encoded data removed]",
      "text/plain": [
       "<Figure size 864x360 with 2 Axes>"
      ]
     },
     "metadata": {
      "needs_background": "light"
     },
     "output_type": "display_data"
    }
   ],
   "source": [
    "fig, axes = plt.subplots(1, 2, figsize = (12,5))\n",
    "plt.suptitle('Распределения суммарных концентрации реагентов');\n",
    "    \n",
    "axes[0].plot(target_train['rougher']);\n",
    "axes[0].plot(target_test['rougher']);\n",
    "axes[0].legend(['тренировочная выборка', 'тестовая выборка']);\n",
    "axes[0].set_title('Recovery, флотация');\n",
    "\n",
    "axes[1].plot(target_train['final']);\n",
    "axes[1].plot(target_test['final']);\n",
    "axes[1].legend(['тренировочная выборка', 'тестовая выборка']);\n",
    "axes[1].set_title('Recovery, финальная');"
   ]
  },
  {
   "cell_type": "markdown",
   "metadata": {},
   "source": [
    "Из графиков целевой характеристики видно, что на тестовой выборке, разброс значений меньше, чем на тренировочной. Это может привести к падению метрик на тестовой выборке. Кроме того при кросс-валидации необходимо разбивать выборку на много частей, поскольку одна отдельная выборка может быть искажены сильно выпадающими значениями."
   ]
  },
  {
   "cell_type": "markdown",
   "metadata": {},
   "source": [
    "Оценим коэффициент вариации для выборок."
   ]
  },
  {
   "cell_type": "code",
   "execution_count": 63,
   "metadata": {},
   "outputs": [
    {
     "name": "stdout",
     "output_type": "stream",
     "text": [
      "Recovery на этапе флотации\n",
      "Коэффициент вариации, тренировочная выборка 0.16380248932437483\n",
      "Коэффициент вариацииб тестовая выборка 0.15118621718342906\n"
     ]
    }
   ],
   "source": [
    "#расчет коэффициентов вариации\n",
    "#флотация\n",
    "variation_rougher_train = variation(target_train['rougher'])\n",
    "variation_rougher_test = variation(target_test['rougher'])\n",
    "\n",
    "print('Recovery на этапе флотации')\n",
    "print('Коэффициент вариации, тренировочная выборка', variation_rougher_train)\n",
    "print('Коэффициент вариацииб тестовая выборка', variation_rougher_test)"
   ]
  },
  {
   "cell_type": "code",
   "execution_count": 64,
   "metadata": {},
   "outputs": [
    {
     "name": "stdout",
     "output_type": "stream",
     "text": [
      "Финальная Recovery\n",
      "Коэффициент вариации, тренировочная выборка 0.12101143638947649\n",
      "Коэффициент вариации, тестовая выборка 0.10046893840084285\n"
     ]
    }
   ],
   "source": [
    "#финальная стадия\n",
    "variation_final_train = variation(target_train['final'])\n",
    "variation_final_test = variation(target_test['final'])\n",
    "\n",
    "print('Финальная Recovery')\n",
    "print('Коэффициент вариации, тренировочная выборка', variation_final_train)\n",
    "print('Коэффициент вариации, тестовая выборка', variation_final_test)"
   ]
  },
  {
   "cell_type": "markdown",
   "metadata": {},
   "source": [
    "Расчеты показывают, что значения целевых признаков для тестовой выборке лежат в более узком диапазоне значений, чем для тренировочной выборки. "
   ]
  },
  {
   "cell_type": "markdown",
   "metadata": {},
   "source": [
    "### Обучение моделей, анализ их качества, выбор лучшей"
   ]
  },
  {
   "cell_type": "markdown",
   "metadata": {},
   "source": [
    "Для предсказания эффективности очистки протестируем три модели регрессии: решающее дерево, случайный лес, линейная регрессия. Перед обучением моделей изучим возможную мультиколлинераность. "
   ]
  },
  {
   "cell_type": "markdown",
   "metadata": {},
   "source": [
    "*3.2.1.  Анализ мультиколлинераности*"
   ]
  },
  {
   "cell_type": "code",
   "execution_count": 65,
   "metadata": {},
   "outputs": [],
   "source": [
    "#рассчитаем матрицу парных корреляций\n",
    "matrix = features_train.corr('pearson').to_numpy()"
   ]
  },
  {
   "cell_type": "code",
   "execution_count": 66,
   "metadata": {},
   "outputs": [],
   "source": [
    "#построение матрицы парных корреляций\n",
    "def PlotCorrelationMatrix(matrix):\n",
    "  \n",
    "    #построение матрицы парных корреляций\n",
    "    fig, axes = plt.subplots(1, 1, figsize=(12,8))\n",
    "    plt.suptitle('Матрица парных корреляций');\n",
    "    \n",
    "    image = axes.imshow(pd.DataFrame(matrix), vmin = -0.6, vmax = 1, cmap=\"Accent\")\n",
    "    \n",
    "    axes.set_xlabel('номер колонки')\n",
    "    axes.set_ylabel('номер колонки')\n",
    "    plt.colorbar(image)"
   ]
  },
  {
   "cell_type": "code",
   "execution_count": 67,
   "metadata": {},
   "outputs": [
    {
     "data": {
      "image/png": "[encoded data removed]",
      "text/plain": [
       "<Figure size 864x576 with 2 Axes>"
      ]
     },
     "metadata": {
      "needs_background": "light"
     },
     "output_type": "display_data"
    }
   ],
   "source": [
    "#визуализация матрицы парных корреляций\n",
    "PlotCorrelationMatrix(matrix)"
   ]
  },
  {
   "cell_type": "markdown",
   "metadata": {},
   "source": [
    "Визуальный анализ графического представления матрицы парных корреляций показывает, что существует довольно много колонок, значения в которых сильно коррелированны друг с другом. При этом степень корреляция высока - почти единица. Уберем из рассмотрения все колонки, коэффициент корреляции между которыми превышает критический. В качестве порога - возбьем величину равную 0.6."
   ]
  },
  {
   "cell_type": "code",
   "execution_count": 68,
   "metadata": {},
   "outputs": [],
   "source": [
    "#функция для выявления корреляций в строке для заданного ряда в корреляционной матрице\n",
    "def CheckCorrelation(first, line_j, del_list, columns_list, correlation_matrix, threshold):\n",
    "  \n",
    "    last = correlation_matrix.shape[0]\n",
    "    s = 0\n",
    "\n",
    "    for i in range(first, last):  #проход вдоль ряда, для поиска значений превышающих пороговое\n",
    "        \n",
    "        if line_j != i:   #исключение корреляций колонок с сами собой\n",
    "            if (abs(correlation_matrix[line_j][i]) >= threshold):  #корреляция превышает порог\n",
    "                del_list.append(i)   \n",
    "                s += 1\n",
    "                \n",
    "    return del_list                "
   ]
  },
  {
   "cell_type": "code",
   "execution_count": 69,
   "metadata": {},
   "outputs": [],
   "source": [
    "#функция для анализа корреляций по всем данным матрицы корреляций\n",
    "def CorrelatiedColumns(correlation_matrix, columns_list, threshold):\n",
    "    \n",
    "    del_list = []\n",
    "    del_columns = []\n",
    "    \n",
    "    len_list = len(columns_list)\n",
    "    i = 0\n",
    "    \n",
    "    while i < (len(columns_list) - 2):  #рекурсивное высывание функции поиска значений выше порога\n",
    "        del_list = CheckCorrelation(i, i, del_list, columns_list, correlation_matrix, threshold)\n",
    "        i += 1\n",
    "    \n",
    "    #сохранение названий колонок для дальнейшей работы\n",
    "    del_list = pd.Series(del_list).value_counts().index.tolist()\n",
    "    for i in range(len(del_list)):\n",
    "        del_columns.append(columns_list[del_list[i]])\n",
    "        \n",
    "        \n",
    "    return del_list, del_columns"
   ]
  },
  {
   "cell_type": "code",
   "execution_count": 70,
   "metadata": {
    "scrolled": false
   },
   "outputs": [],
   "source": [
    "#поиск колонок с сильной корреляцией значений\n",
    "matrix = features_train.corr('pearson').to_numpy()\n",
    "\n",
    "columns_corr, uncorrelated_names = CorrelatiedColumns(matrix, features_train.columns, 0.6)\n",
    "\n",
    "#матрица некоррелированных колонок\n",
    "uncorrelated_features = features_train.drop(uncorrelated_names, axis = 1).copy()\n",
    "#features_train.shape"
   ]
  },
  {
   "cell_type": "code",
   "execution_count": 71,
   "metadata": {},
   "outputs": [
    {
     "data": {
      "image/png": "[encoded data removed]",
      "text/plain": [
       "<Figure size 864x576 with 2 Axes>"
      ]
     },
     "metadata": {
      "needs_background": "light"
     },
     "output_type": "display_data"
    }
   ],
   "source": [
    "#расчет корреляционной матрицы и ее построение\n",
    "matrix = uncorrelated_features.corr('pearson').to_numpy()\n",
    "PlotCorrelationMatrix(matrix)"
   ]
  },
  {
   "cell_type": "markdown",
   "metadata": {},
   "source": [
    "Как видно из рисунка избавление от сильнокоррелированых данных прошло успешно"
   ]
  },
  {
   "cell_type": "code",
   "execution_count": 72,
   "metadata": {},
   "outputs": [],
   "source": [
    "#выделение не коррелированных данных\n",
    "features_train_uncorrelated = features_train_scaled_df[uncorrelated_names]  \n",
    "features_test_uncorrelated = features_test_scaled_df[uncorrelated_names]  "
   ]
  },
  {
   "cell_type": "markdown",
   "metadata": {},
   "source": [
    "Напишем функцию для обучения моделей и расчета метрики на кросс-валидации. "
   ]
  },
  {
   "cell_type": "code",
   "execution_count": 73,
   "metadata": {},
   "outputs": [],
   "source": [
    "#функция обучения на кросс-валидации \n",
    "def CrossValidFit(model, features, target, n_splits, model_type):\n",
    "      \n",
    "    score_cv = []\n",
    "    \n",
    "    #разбиение тренировочной выборки\n",
    "    kfold = KFold(n_splits, random_state = 12345)\n",
    "    kfold.split(features)\n",
    "    \n",
    "    for train_index, test_index in kfold.split(features):\n",
    "        features_train, features_test = features.iloc[train_index], features.iloc[test_index]\n",
    "        target_train, target_test = target.iloc[train_index], target.iloc[test_index]\n",
    "    \n",
    "        #обучение модели\n",
    "        model.fit(features_train, target_train)\n",
    "        \n",
    "        #расчет метрик\n",
    "        score = sMAPE_score(model, features_test, target_test)\n",
    "        \n",
    "        #подсчет срендей метрики\n",
    "        score_cv.append(score)\n",
    "        \n",
    "    mean_score = pd.Series(score_cv).mean()\n",
    "    \n",
    "    if model_type == 'LR':\n",
    "        params = model.coef_\n",
    "        \n",
    "    if (model_type == 'TR') | (model_type == 'RF'):\n",
    "        params = model.get_params(deep=True)\n",
    "        \n",
    "    if model_type == 'dummy': \n",
    "        params = None\n",
    "    \n",
    "    return mean_score, params"
   ]
  },
  {
   "cell_type": "markdown",
   "metadata": {},
   "source": [
    "*3.2.2. Линейная регрессия*"
   ]
  },
  {
   "cell_type": "markdown",
   "metadata": {},
   "source": [
    "Обучим модель и посчитаем метрики"
   ]
  },
  {
   "cell_type": "code",
   "execution_count": 74,
   "metadata": {},
   "outputs": [
    {
     "data": {
      "text/plain": [
       "LinearRegression(copy_X=True, fit_intercept=True, n_jobs=None, normalize=False)"
      ]
     },
     "execution_count": 74,
     "metadata": {},
     "output_type": "execute_result"
    }
   ],
   "source": [
    "#задание модели\n",
    "model = LinearRegression()\n",
    "    \n",
    "#обучение модели\n",
    "model.fit(features_train_uncorrelated, target_train)"
   ]
  },
  {
   "cell_type": "code",
   "execution_count": 75,
   "metadata": {},
   "outputs": [
    {
     "name": "stdout",
     "output_type": "stream",
     "text": [
      "Значение метрики для линейной регресии на тренировочной выборке: 7.6804548485310145\n"
     ]
    }
   ],
   "source": [
    "#расчет метрики sMAPE\n",
    "score = sMAPE_score(model, features_train_uncorrelated, target_train)\n",
    "print('Значение метрики для линейной регресии на тренировочной выборке:', score)"
   ]
  },
  {
   "cell_type": "markdown",
   "metadata": {},
   "source": [
    "Линейная регрессия дает прдесказания лучше, чем наивный регрессор. Проверим модель с помощью кросс-валидации."
   ]
  },
  {
   "cell_type": "code",
   "execution_count": 76,
   "metadata": {},
   "outputs": [],
   "source": [
    "#задание модели\n",
    "model = LinearRegression()"
   ]
  },
  {
   "cell_type": "code",
   "execution_count": 77,
   "metadata": {
    "scrolled": false
   },
   "outputs": [
    {
     "name": "stdout",
     "output_type": "stream",
     "text": [
      "Средний sMAPE с кросс-валидацией 8.559462537566205\n"
     ]
    }
   ],
   "source": [
    "#обучение на кросс-валидации\n",
    "model = LinearRegression()\n",
    "\n",
    "score = cross_val_score(model, features_train_uncorrelated, target_train, \\\n",
    "                               scoring = sMAPE_score, cv=20)\n",
    "\n",
    "print('Средний sMAPE с кросс-валидацией', pd.Series(score).mean())"
   ]
  },
  {
   "cell_type": "markdown",
   "metadata": {},
   "source": [
    "Как и ожидалось sMAPE на кросс-валидации лучше, чем наивный регрессор, но хуже, чем на все тренировочной выборке."
   ]
  },
  {
   "cell_type": "markdown",
   "metadata": {},
   "source": [
    "*3.2.3. Решающее дерево*"
   ]
  },
  {
   "cell_type": "markdown",
   "metadata": {},
   "source": [
    "Сначала оценик метрики без подбора параметров."
   ]
  },
  {
   "cell_type": "code",
   "execution_count": 78,
   "metadata": {},
   "outputs": [
    {
     "data": {
      "text/plain": [
       "DecisionTreeRegressor(criterion='mse', max_depth=10, max_features=None,\n",
       "                      max_leaf_nodes=None, min_impurity_decrease=0.0,\n",
       "                      min_impurity_split=None, min_samples_leaf=1,\n",
       "                      min_samples_split=2, min_weight_fraction_leaf=0.0,\n",
       "                      presort=False, random_state=None, splitter='best')"
      ]
     },
     "execution_count": 78,
     "metadata": {},
     "output_type": "execute_result"
    }
   ],
   "source": [
    "#задание модели\n",
    "model = DecisionTreeRegressor(max_depth = 10)\n",
    "    \n",
    "#обучение модели\n",
    "model.fit(features_train_uncorrelated, target_train)"
   ]
  },
  {
   "cell_type": "code",
   "execution_count": 79,
   "metadata": {},
   "outputs": [
    {
     "name": "stdout",
     "output_type": "stream",
     "text": [
      "Значение метрики для решающего дерева на тренировочной выборке: 5.3216832460664545\n"
     ]
    }
   ],
   "source": [
    "#расчет метрики sMAPE\n",
    "score = sMAPE_score(model, features_train_uncorrelated, target_train)\n",
    "print('Значение метрики для решающего дерева на тренировочной выборке:', score)"
   ]
  },
  {
   "cell_type": "markdown",
   "metadata": {},
   "source": [
    "Значение метрики на всей выборке очень низкое, возможно модель переобучена. Оценим параметры на кросс-валидации."
   ]
  },
  {
   "cell_type": "code",
   "execution_count": 80,
   "metadata": {},
   "outputs": [],
   "source": [
    "#задание начальных параметров\n",
    "features = features_train_uncorrelated\n",
    "target = target_train\n",
    "\n",
    "best_depth = None\n",
    "best_split = None\n",
    "best_leaf = None\n",
    "best_score = 200\n",
    "best_params = None"
   ]
  },
  {
   "cell_type": "code",
   "execution_count": 81,
   "metadata": {},
   "outputs": [
    {
     "name": "stdout",
     "output_type": "stream",
     "text": [
      "depth =  1\n",
      "depth =  1\n",
      "depth =  3\n",
      "depth =  5\n",
      "depth =  7\n",
      "depth =  9\n",
      "depth =  11\n",
      "depth =  13\n"
     ]
    }
   ],
   "source": [
    "i = 0\n",
    "\n",
    "#расчет accuracy в цикле для различных значений гиперпараметров\n",
    "for depth in range(1,15,2):\n",
    "    for split in range(2,23,2):\n",
    "        for leaf in range(1,11,1):\n",
    "            model = DecisionTreeRegressor(random_state = 12345, max_depth = depth, \\\n",
    "                                          min_samples_split = split, min_samples_leaf = leaf)\n",
    "            #обучение модели\n",
    "            score, params = CrossValidFit(model, features, target, 5, 'TR')\n",
    "\n",
    "            if (i % 100) == 0:\n",
    "                print('depth = ', depth)\n",
    "            i += 1\n",
    "            \n",
    "            if score < best_score:\n",
    "                best_score = score\n",
    "                best_params = params\n",
    "                best_depth = depth\n",
    "                best_split = split\n",
    "                best_leaf = leaf  "
   ]
  },
  {
   "cell_type": "code",
   "execution_count": 82,
   "metadata": {},
   "outputs": [
    {
     "name": "stdout",
     "output_type": "stream",
     "text": [
      "sMAPE на обучающей выборке 9.451680163828403\n",
      "max_depth =  3\n",
      "min_samples_split =  2\n",
      "min_samples_leaf =  8\n"
     ]
    }
   ],
   "source": [
    "print('sMAPE на обучающей выборке', best_score)\n",
    "print('max_depth = ', best_depth)\n",
    "print('min_samples_split = ', best_split)\n",
    "print('min_samples_leaf = ', best_leaf)"
   ]
  },
  {
   "cell_type": "markdown",
   "metadata": {},
   "source": [
    "Значение на кросс-валидации хуже, чем на полной тренировочной выборке и хуже наивного классификатора. Это может быть связано с большой разнородностью данных и на большей выборке (тестовой) результат будет выше. "
   ]
  },
  {
   "cell_type": "code",
   "execution_count": 83,
   "metadata": {},
   "outputs": [
    {
     "data": {
      "text/plain": [
       "DecisionTreeRegressor(criterion='mse', max_depth=3, max_features=None,\n",
       "                      max_leaf_nodes=None, min_impurity_decrease=0.0,\n",
       "                      min_impurity_split=None, min_samples_leaf=8,\n",
       "                      min_samples_split=2, min_weight_fraction_leaf=0.0,\n",
       "                      presort=False, random_state=12345, splitter='best')"
      ]
     },
     "execution_count": 83,
     "metadata": {},
     "output_type": "execute_result"
    }
   ],
   "source": [
    "model = DecisionTreeRegressor(random_state = 12345, max_depth = 3, \\\n",
    "                                min_samples_split = 2, min_samples_leaf = 8)\n",
    "\n",
    "model.fit(features_train_uncorrelated, target_train)"
   ]
  },
  {
   "cell_type": "code",
   "execution_count": 84,
   "metadata": {},
   "outputs": [
    {
     "name": "stdout",
     "output_type": "stream",
     "text": [
      "Значение метрики для решающего дерева на тренировочной выборке: 7.965007713966958\n"
     ]
    }
   ],
   "source": [
    "#расчет метрики sMAPE\n",
    "score = sMAPE_score(model, features_test_uncorrelated, target_test)\n",
    "print('Значение метрики для решающего дерева на тренировочной выборке:', score)"
   ]
  },
  {
   "cell_type": "markdown",
   "metadata": {},
   "source": [
    "*3.2.4. Случайный лес*"
   ]
  },
  {
   "cell_type": "markdown",
   "metadata": {},
   "source": [
    "Сначала оценик метрики без подбора параметров."
   ]
  },
  {
   "cell_type": "code",
   "execution_count": 85,
   "metadata": {},
   "outputs": [
    {
     "data": {
      "text/plain": [
       "RandomForestRegressor(bootstrap=True, criterion='mse', max_depth=3,\n",
       "                      max_features='auto', max_leaf_nodes=None,\n",
       "                      min_impurity_decrease=0.0, min_impurity_split=None,\n",
       "                      min_samples_leaf=8, min_samples_split=2,\n",
       "                      min_weight_fraction_leaf=0.0, n_estimators=10,\n",
       "                      n_jobs=None, oob_score=False, random_state=None,\n",
       "                      verbose=0, warm_start=False)"
      ]
     },
     "execution_count": 85,
     "metadata": {},
     "output_type": "execute_result"
    }
   ],
   "source": [
    "#задание модели\n",
    "model = RandomForestRegressor(n_estimators = 10, max_depth = 3, \\\n",
    "                              min_samples_split = 2, min_samples_leaf = 8)\n",
    "    \n",
    "#обучение модели\n",
    "model.fit(features_train_uncorrelated, target_train)"
   ]
  },
  {
   "cell_type": "code",
   "execution_count": 86,
   "metadata": {},
   "outputs": [
    {
     "name": "stdout",
     "output_type": "stream",
     "text": [
      "Значение метрики для случайного леса на тренировочной выборке: 8.049450427404654\n"
     ]
    }
   ],
   "source": [
    "#расчет метрики sMAPE\n",
    "score = sMAPE_score(model, features_train_uncorrelated, target_train)\n",
    "print('Значение метрики для случайного леса на тренировочной выборке:', score)"
   ]
  },
  {
   "cell_type": "markdown",
   "metadata": {},
   "source": [
    "Значение метрики на всей выборке лучше и линейной регресси и решающего дерева."
   ]
  },
  {
   "cell_type": "code",
   "execution_count": 87,
   "metadata": {},
   "outputs": [],
   "source": [
    "#задание начальных параметров\n",
    "features = features_train_uncorrelated\n",
    "target = target_train\n",
    "\n",
    "best_depth = None\n",
    "best_split = None\n",
    "best_leaf = None\n",
    "best_estimator = None\n",
    "best_score = 200\n",
    "best_params = None"
   ]
  },
  {
   "cell_type": "code",
   "execution_count": 88,
   "metadata": {},
   "outputs": [
    {
     "name": "stdout",
     "output_type": "stream",
     "text": [
      "estimator =  1 depth =  1\n",
      "estimator =  6 depth =  9\n",
      "estimator =  16 depth =  5\n"
     ]
    }
   ],
   "source": [
    "i = 0\n",
    "\n",
    "#расчет accuracy в цикле для различных значений гиперпараметров\n",
    "for estimator in range(1,25,5):\n",
    "    for depth in range(1,11,4):\n",
    "        for split in range(5,21,5):\n",
    "            for leaf in range(1,11,2):\n",
    "                model = RandomForestRegressor(random_state = 12345, n_estimators = estimator, \\\n",
    "                                          max_depth = depth, min_samples_split = split, \n",
    "                                          min_samples_leaf = leaf)\n",
    "                #обучение модели\n",
    "                score, params = CrossValidFit(model, features, target, 3, 'TR')\n",
    "\n",
    "                \n",
    "                if (i % 100) == 0:\n",
    "                    print('estimator = ', estimator, 'depth = ', depth)\n",
    "                i += 1\n",
    "            \n",
    "                if score < best_score:\n",
    "                    best_score = score\n",
    "                    best_params = params\n",
    "                    best_estimator = estimator\n",
    "                    best_depth = depth\n",
    "                    best_split = split\n",
    "                    best_leaf = leaf  "
   ]
  },
  {
   "cell_type": "code",
   "execution_count": 89,
   "metadata": {},
   "outputs": [
    {
     "name": "stdout",
     "output_type": "stream",
     "text": [
      "sMAPE на обучающей выборке 9.63264189541486\n",
      "n_estimators =  6\n",
      "max_depth =  5\n",
      "min_samples_split =  5\n",
      "min_samples_leaf =  1\n"
     ]
    }
   ],
   "source": [
    "print('sMAPE на обучающей выборке', best_score)\n",
    "print('n_estimators = ', best_estimator)\n",
    "print('max_depth = ', best_depth)\n",
    "print('min_samples_split = ', best_split)\n",
    "print('min_samples_leaf = ', best_leaf)"
   ]
  },
  {
   "cell_type": "markdown",
   "metadata": {},
   "source": [
    "### Проверка модели на тестовой выборке"
   ]
  },
  {
   "cell_type": "markdown",
   "metadata": {},
   "source": [
    "Проверим модель на тестовой выборке. "
   ]
  },
  {
   "cell_type": "code",
   "execution_count": 90,
   "metadata": {},
   "outputs": [
    {
     "name": "stdout",
     "output_type": "stream",
     "text": [
      "Значение метрики для линейной регресии на тестовой выборке: 8.121384909549352\n"
     ]
    }
   ],
   "source": [
    "#подсчет sMAPE на тестовой выборке для линейной регрессии\n",
    "model = LinearRegression()\n",
    "\n",
    "model.fit(features_train_uncorrelated, target_train)\n",
    "\n",
    "#расчет метрики sMAPE\n",
    "score = sMAPE_score(model, features_test_uncorrelated, target_test)\n",
    "print('Значение метрики для линейной регресии на тестовой выборке:', score)"
   ]
  },
  {
   "cell_type": "code",
   "execution_count": 91,
   "metadata": {},
   "outputs": [
    {
     "name": "stdout",
     "output_type": "stream",
     "text": [
      "Значение метрики для решающего дерева на тестовой выборке: 7.965007713966958\n"
     ]
    }
   ],
   "source": [
    "#подсчет sMAPE на тестовой выборке для решающего дерева\n",
    "model = DecisionTreeRegressor(random_state = 12345, max_depth = 3, \\\n",
    "                              min_samples_split = 2, min_samples_leaf = 8)\n",
    "\n",
    "model.fit(features_train_uncorrelated, target_train)\n",
    "\n",
    "#расчет метрики sMAPE\n",
    "score = sMAPE_score(model, features_test_uncorrelated, target_test)\n",
    "print('Значение метрики для решающего дерева на тестовой выборке:', score)"
   ]
  },
  {
   "cell_type": "code",
   "execution_count": 92,
   "metadata": {},
   "outputs": [
    {
     "name": "stdout",
     "output_type": "stream",
     "text": [
      "Значение метрики для решающего дерева на тестовой выборке: 8.14744754756159\n"
     ]
    }
   ],
   "source": [
    "#подсчет sMAPE на тестовой выборке для случайного леса\n",
    "model = RandomForestRegressor(random_state = 12345, n_estimators = 6, max_depth = 5, \\\n",
    "                              min_samples_split = 5, min_samples_leaf = 1)\n",
    "\n",
    "model.fit(features_train_uncorrelated, target_train)\n",
    "\n",
    "#расчет метрики sMAPE\n",
    "score = sMAPE_score(model, features_test_uncorrelated, target_test)\n",
    "print('Значение метрики для решающего дерева на тестовой выборке:', score)"
   ]
  },
  {
   "cell_type": "markdown",
   "metadata": {},
   "source": [
    "Для случайного леса значения на тестовой выборке также лучше, чем на кросс-валидации тренировочной. При этом наилучшие показатели метрики sMAPE получены для решающего дерева. "
   ]
  },
  {
   "cell_type": "markdown",
   "metadata": {},
   "source": [
    "### Выводы"
   ]
  },
  {
   "cell_type": "markdown",
   "metadata": {},
   "source": [
    "- величина метрики sMAPE для наивного регрессора весьма низкое, что говорит о хорошем предсказании величины Recovery средним значением;\n",
    "- коэффициент вариации для тестовой выборке ниже, чем для тренировочной, т.е. для тестовой выборки данные лежат ближе к среднему значению, чем для тренировочной выборки;\n",
    "- лучшее значение метрики на тестовой выборке у модели - решающего дерева - 7.96%; \n",
    "- на кросс-валидации наилучшие значения метрики получается у линейной регрессии 8.55%;\n",
    "- линейная регрессия наиболее оптимальная для предсказания, поскольку с одной стороны дает высокие значения метрики, а с другой может быть быстро обучена;\n",
    "- слишком высокое значение метрики для решающего дерева и случайного леса на кросс-валидации возможно связана с неоптимальным подбором параметров и малым число разбиений, однако надо учитывать, что увеличение числа выборок или слишком частый шаг по значениям гиперпараметров приведет к очень длительному обучению модели;"
   ]
  }
 ],
 "metadata": {
  "kernelspec": {
   "display_name": "Python 3",
   "language": "python",
   "name": "python3"
  },
  "language_info": {
   "codemirror_mode": {
    "name": "ipython",
    "version": 3
   },
   "file_extension": ".py",
   "mimetype": "text/x-python",
   "name": "python",
   "nbconvert_exporter": "python",
   "pygments_lexer": "ipython3",
   "version": "3.7.8"
  },
  "toc": {
   "base_numbering": 1,
   "nav_menu": {},
   "number_sections": true,
   "sideBar": true,
   "skip_h1_title": true,
   "title_cell": "Table of Contents",
   "title_sidebar": "Contents",
   "toc_cell": false,
   "toc_position": {},
   "toc_section_display": true,
   "toc_window_display": false
  }
 },
 "nbformat": 4,
 "nbformat_minor": 2
}
