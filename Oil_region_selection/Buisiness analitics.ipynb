{
 "cells": [
  {
   "cell_type": "markdown",
   "metadata": {},
   "source": [
    "<div style=\"background: #cceeaa; padding: 5px; border: 1px solid green; border-radius: 5px;\">\n",
    "    <font color='green'> <b><u>КОММЕНТАРИЙ РЕВЬЮЕРА</u></b>\n",
    "\n",
    "Макс, доброго дня! рад приветствовать тебя)<br />\n",
    "<br />    \n",
    "\n",
    "<br />\n",
    "Меня зовут Николай Шавлюго. <br />И на этом этапе твоего движения к новой профессии от меня будут комментарии по написанному коду. <br />Чтобы меньше \"мусорить эфир\" и чтобы максимально наглядно отделяться от основного кода, есть предложение условиться в некоторых обозначениях:<br /> <br />\n",
    "<u><b>ТАКОЙ ШРИФТ</b></u> - всегда начало комментария <br />\n",
    "<font color='green'>такой шрифт</font> - комментарии о том, что всё ОК <br/>\n",
    "<font color='orange'>такой шрифт</font> - комментарии о том, что всё ОК по результату,<br> однако есть на что обратить внимание в плане применения техник, или есть способы сделать более короткий или быстрый код <br/>\n",
    "<font color='red'>такой шрифт</font> - комментарии о том, что есть критичный момент, влияющий на бизнес-результат проекта.<br/>\n",
    "</font><br /><br />\n",
    "<font color='green'>Моей целью является не \"уличить\" в не знании, а просто высказать сверху твоих знаний - свой опыт, что бы ты мог использовать его для своего дальнейшего успеха) И очень здорово будет, если тебе удастся задавать вопросы, да и вообще - всячески доставать меня, если я по каким-то причинам не приму проект:) При этом, из своего опыта скажу, хорошо и важно, когда переписка ревьюера и студента - сохраняется на следующие проекты и даже на будущую практическую деятельность.<br>\n",
    "<br> Я сразу же начал общаться на ты:) но если это не очень удобно, то дай знать)) <BR> В ПУТЬ!<br>"
   ]
  },
  {
   "cell_type": "markdown",
   "metadata": {},
   "source": [
    "# Описание проекта"
   ]
  },
  {
   "cell_type": "markdown",
   "metadata": {},
   "source": [
    "Допустим, вы работаете в добывающей компании «ГлавРосГосНефть». Нужно решить, где бурить новую скважину.\n",
    "\n",
    "Вам предоставлены пробы нефти в трёх регионах: в каждом 10 000 месторождений, где измерили качество нефти и объём её запасов. Постройте модель машинного обучения, которая поможет определить регион, где добыча принесёт наибольшую прибыль. Проанализируйте возможную прибыль и риски техникой *Bootstrap.*\n",
    "\n",
    "Шаги для выбора локации:\n",
    "\n",
    "- В избранном регионе ищут месторождения, для каждого определяют значения признаков;\n",
    "- Строят модель и оценивают объём запасов;\n",
    "- Выбирают месторождения с самым высокими оценками значений. Количество месторождений зависит от бюджета компании и стоимости разработки одной скважины;\n",
    "- Прибыль равна суммарной прибыли отобранных месторождений."
   ]
  },
  {
   "cell_type": "markdown",
   "metadata": {},
   "source": [
    "### План работ"
   ]
  },
  {
   "cell_type": "markdown",
   "metadata": {},
   "source": [
    "1. Загрузка и подготовка данные. \n",
    "2. Обучение и проверка модель для каждого региона:  \n",
    "2.1. Разбиение данные на обучающую и валидационную выборки в соотношении 75:25.  \n",
    "2.2. Обучение модели и предсказания на валидационной выборке.  \n",
    "2.3. Сохранение предсказаний и правильных ответов на валидационной выборке.  \n",
    "2.4. Печать на экране среднего запаса предсказанного сырья и RMSE модели.  \n",
    "2.5. Анализ результатов.  \n",
    "3. Подготовка к расчёту прибыли:  \n",
    "3.1. Сохранение всех ключевых значения для расчётов в отдельных переменных.  \n",
    "3.2. Расчет достаточного объёма сырья для безубыточной разработки новой скважины. Сравнение     полученного объёма сырья со средним запасом в каждом регионе.  \n",
    "3.3. Выводы по этапу подготовки расчёта прибыли.  \n",
    "3.4. Написание функции для расчёта прибыли по выбранным скважинам и предсказаниям модели:    \n",
    "4. Расчеть рисков и прибыли для каждого региона:  \n",
    "4.1. Применение техники Bootstrap с 1000 выборок, для нахождения распределения прибыли.  \n",
    "4.2. Нахождение средней прибыли, 95%-й доверительного интервала и риска убытков.  \n",
    "4.3. Выводы: предложение региона для разработки скважин и обоснование выбора.  "
   ]
  },
  {
   "cell_type": "markdown",
   "metadata": {},
   "source": [
    "### Описание данных"
   ]
  },
  {
   "cell_type": "markdown",
   "metadata": {},
   "source": [
    "id — уникальный идентификатор скважины;  \n",
    "f0, f1, f2 — три признака точек;  \n",
    "product — объём запасов в скважине (тыс. баррелей);"
   ]
  },
  {
   "cell_type": "markdown",
   "metadata": {},
   "source": [
    "# 1. Загрузка и подготовка данных"
   ]
  },
  {
   "cell_type": "code",
   "execution_count": 1,
   "metadata": {},
   "outputs": [],
   "source": [
    "#импорт библиотек и функций\n",
    "import pandas as pd\n",
    "import numpy as np\n",
    "import matplotlib.pyplot as plt \n",
    "import matplotlib.ticker\n",
    "import random"
   ]
  },
  {
   "cell_type": "code",
   "execution_count": 2,
   "metadata": {},
   "outputs": [],
   "source": [
    "from sklearn.model_selection import train_test_split\n",
    "from sklearn.linear_model import LinearRegression\n",
    "from sklearn.preprocessing import StandardScaler\n",
    "from sklearn.metrics import f1_score\n",
    "from sklearn.model_selection import GridSearchCV\n",
    "from sklearn.utils import shuffle\n",
    "from sklearn import tree\n",
    "from sklearn.model_selection import PredefinedSplit\n",
    "from sklearn.metrics import mean_squared_error\n",
    "import warnings"
   ]
  },
  {
   "cell_type": "code",
   "execution_count": 3,
   "metadata": {},
   "outputs": [],
   "source": [
    "#импорт данных\n",
    "geo_0 = pd.read_csv('/datasets/geo_data_0.csv')\n",
    "geo_1 = pd.read_csv('/datasets/geo_data_1.csv')\n",
    "geo_2 = pd.read_csv('/datasets/geo_data_2.csv')"
   ]
  },
  {
   "cell_type": "code",
   "execution_count": 4,
   "metadata": {},
   "outputs": [
    {
     "name": "stdout",
     "output_type": "stream",
     "text": [
      "<class 'pandas.core.frame.DataFrame'>\n",
      "RangeIndex: 100000 entries, 0 to 99999\n",
      "Data columns (total 5 columns):\n",
      "id         100000 non-null object\n",
      "f0         100000 non-null float64\n",
      "f1         100000 non-null float64\n",
      "f2         100000 non-null float64\n",
      "product    100000 non-null float64\n",
      "dtypes: float64(4), object(1)\n",
      "memory usage: 3.8+ MB\n"
     ]
    }
   ],
   "source": [
    "#общая информация о датасете\n",
    "geo_0.info()"
   ]
  },
  {
   "cell_type": "code",
   "execution_count": 5,
   "metadata": {},
   "outputs": [
    {
     "name": "stdout",
     "output_type": "stream",
     "text": [
      "<class 'pandas.core.frame.DataFrame'>\n",
      "RangeIndex: 100000 entries, 0 to 99999\n",
      "Data columns (total 5 columns):\n",
      "id         100000 non-null object\n",
      "f0         100000 non-null float64\n",
      "f1         100000 non-null float64\n",
      "f2         100000 non-null float64\n",
      "product    100000 non-null float64\n",
      "dtypes: float64(4), object(1)\n",
      "memory usage: 3.8+ MB\n"
     ]
    }
   ],
   "source": [
    "#общая информация о датасете\n",
    "geo_1.info()"
   ]
  },
  {
   "cell_type": "code",
   "execution_count": 6,
   "metadata": {},
   "outputs": [
    {
     "name": "stdout",
     "output_type": "stream",
     "text": [
      "<class 'pandas.core.frame.DataFrame'>\n",
      "RangeIndex: 100000 entries, 0 to 99999\n",
      "Data columns (total 5 columns):\n",
      "id         100000 non-null object\n",
      "f0         100000 non-null float64\n",
      "f1         100000 non-null float64\n",
      "f2         100000 non-null float64\n",
      "product    100000 non-null float64\n",
      "dtypes: float64(4), object(1)\n",
      "memory usage: 3.8+ MB\n"
     ]
    }
   ],
   "source": [
    "#общая информация о датасете\n",
    "geo_2.info()"
   ]
  },
  {
   "cell_type": "markdown",
   "metadata": {},
   "source": [
    "Во всех скачанных датасетах нет пропусков."
   ]
  },
  {
   "cell_type": "code",
   "execution_count": 7,
   "metadata": {},
   "outputs": [
    {
     "data": {
      "text/html": [
       "<div>\n",
       "<style scoped>\n",
       "    .dataframe tbody tr th:only-of-type {\n",
       "        vertical-align: middle;\n",
       "    }\n",
       "\n",
       "    .dataframe tbody tr th {\n",
       "        vertical-align: top;\n",
       "    }\n",
       "\n",
       "    .dataframe thead th {\n",
       "        text-align: right;\n",
       "    }\n",
       "</style>\n",
       "<table border=\"1\" class=\"dataframe\">\n",
       "  <thead>\n",
       "    <tr style=\"text-align: right;\">\n",
       "      <th></th>\n",
       "      <th>id</th>\n",
       "      <th>f0</th>\n",
       "      <th>f1</th>\n",
       "      <th>f2</th>\n",
       "      <th>product</th>\n",
       "    </tr>\n",
       "  </thead>\n",
       "  <tbody>\n",
       "    <tr>\n",
       "      <td>0</td>\n",
       "      <td>kBEdx</td>\n",
       "      <td>-15.001348</td>\n",
       "      <td>-8.276000</td>\n",
       "      <td>-0.005876</td>\n",
       "      <td>3.179103</td>\n",
       "    </tr>\n",
       "    <tr>\n",
       "      <td>1</td>\n",
       "      <td>62mP7</td>\n",
       "      <td>14.272088</td>\n",
       "      <td>-3.475083</td>\n",
       "      <td>0.999183</td>\n",
       "      <td>26.953261</td>\n",
       "    </tr>\n",
       "    <tr>\n",
       "      <td>2</td>\n",
       "      <td>vyE1P</td>\n",
       "      <td>6.263187</td>\n",
       "      <td>-5.948386</td>\n",
       "      <td>5.001160</td>\n",
       "      <td>134.766305</td>\n",
       "    </tr>\n",
       "    <tr>\n",
       "      <td>3</td>\n",
       "      <td>KcrkZ</td>\n",
       "      <td>-13.081196</td>\n",
       "      <td>-11.506057</td>\n",
       "      <td>4.999415</td>\n",
       "      <td>137.945408</td>\n",
       "    </tr>\n",
       "    <tr>\n",
       "      <td>4</td>\n",
       "      <td>AHL4O</td>\n",
       "      <td>12.702195</td>\n",
       "      <td>-8.147433</td>\n",
       "      <td>5.004363</td>\n",
       "      <td>134.766305</td>\n",
       "    </tr>\n",
       "    <tr>\n",
       "      <td>...</td>\n",
       "      <td>...</td>\n",
       "      <td>...</td>\n",
       "      <td>...</td>\n",
       "      <td>...</td>\n",
       "      <td>...</td>\n",
       "    </tr>\n",
       "    <tr>\n",
       "      <td>99995</td>\n",
       "      <td>QywKC</td>\n",
       "      <td>9.535637</td>\n",
       "      <td>-6.878139</td>\n",
       "      <td>1.998296</td>\n",
       "      <td>53.906522</td>\n",
       "    </tr>\n",
       "    <tr>\n",
       "      <td>99996</td>\n",
       "      <td>ptvty</td>\n",
       "      <td>-10.160631</td>\n",
       "      <td>-12.558096</td>\n",
       "      <td>5.005581</td>\n",
       "      <td>137.945408</td>\n",
       "    </tr>\n",
       "    <tr>\n",
       "      <td>99997</td>\n",
       "      <td>09gWa</td>\n",
       "      <td>-7.378891</td>\n",
       "      <td>-3.084104</td>\n",
       "      <td>4.998651</td>\n",
       "      <td>137.945408</td>\n",
       "    </tr>\n",
       "    <tr>\n",
       "      <td>99998</td>\n",
       "      <td>rqwUm</td>\n",
       "      <td>0.665714</td>\n",
       "      <td>-6.152593</td>\n",
       "      <td>1.000146</td>\n",
       "      <td>30.132364</td>\n",
       "    </tr>\n",
       "    <tr>\n",
       "      <td>99999</td>\n",
       "      <td>relB0</td>\n",
       "      <td>-3.426139</td>\n",
       "      <td>-7.794274</td>\n",
       "      <td>-0.003299</td>\n",
       "      <td>3.179103</td>\n",
       "    </tr>\n",
       "  </tbody>\n",
       "</table>\n",
       "<p>100000 rows × 5 columns</p>\n",
       "</div>"
      ],
      "text/plain": [
       "          id         f0         f1        f2     product\n",
       "0      kBEdx -15.001348  -8.276000 -0.005876    3.179103\n",
       "1      62mP7  14.272088  -3.475083  0.999183   26.953261\n",
       "2      vyE1P   6.263187  -5.948386  5.001160  134.766305\n",
       "3      KcrkZ -13.081196 -11.506057  4.999415  137.945408\n",
       "4      AHL4O  12.702195  -8.147433  5.004363  134.766305\n",
       "...      ...        ...        ...       ...         ...\n",
       "99995  QywKC   9.535637  -6.878139  1.998296   53.906522\n",
       "99996  ptvty -10.160631 -12.558096  5.005581  137.945408\n",
       "99997  09gWa  -7.378891  -3.084104  4.998651  137.945408\n",
       "99998  rqwUm   0.665714  -6.152593  1.000146   30.132364\n",
       "99999  relB0  -3.426139  -7.794274 -0.003299    3.179103\n",
       "\n",
       "[100000 rows x 5 columns]"
      ]
     },
     "execution_count": 7,
     "metadata": {},
     "output_type": "execute_result"
    }
   ],
   "source": [
    "#вывод датасетов дял обещего ознакомления с данными \n",
    "geo_1\n",
    "#geo_1\n",
    "#geo_2"
   ]
  },
  {
   "cell_type": "code",
   "execution_count": 8,
   "metadata": {},
   "outputs": [
    {
     "name": "stdout",
     "output_type": "stream",
     "text": [
      "Количество полных дубликатов равно для датасета geo_0 равно 0\n",
      "Количество полных дубликатов равно для датасета geo_1 равно 0\n",
      "Количество полных дубликатов равно для датасета geo_2 равно 0\n"
     ]
    }
   ],
   "source": [
    "#поиск и удаление полных дубликатов\n",
    "print('Количество полных дубликатов равно для датасета geo_0 равно', geo_0.duplicated().sum())\n",
    "print('Количество полных дубликатов равно для датасета geo_1 равно', geo_1.duplicated().sum())\n",
    "print('Количество полных дубликатов равно для датасета geo_2 равно', geo_2.duplicated().sum())\n",
    "geo_0 = geo_0.drop_duplicates().reset_index(drop = True)\n",
    "geo_1 = geo_1.drop_duplicates().reset_index(drop = True)\n",
    "geo_2 = geo_2.drop_duplicates().reset_index(drop = True)"
   ]
  },
  {
   "cell_type": "code",
   "execution_count": 9,
   "metadata": {},
   "outputs": [],
   "source": [
    "#задание начального значения для генерации последовательности псевдослучайных чисел\n",
    "random = 12345"
   ]
  },
  {
   "cell_type": "markdown",
   "metadata": {},
   "source": [
    "***Выводы***  \n",
    "В исходных данных нет пропусков и дубликатов. "
   ]
  },
  {
   "cell_type": "markdown",
   "metadata": {},
   "source": [
    "<div style=\"background: #cceeaa; padding: 5px; border: 1px solid green; border-radius: 5px;\">\n",
    "    <font color='green'> <b><u>КОММЕНТАРИЙ РЕВЬЮЕРА</u></b>\n",
    "</font>\n",
    "<font color='green'><br>\n",
    "Данные на базе) ОК, хорошо, когда есть аналитическая культура - обязательно делать первичный анализ данных, не смотря на проект) Тут можно ещё графики выводить по факторам и целевым регионов."
   ]
  },
  {
   "cell_type": "markdown",
   "metadata": {},
   "source": [
    "# 2. Обучение и проверка модели"
   ]
  },
  {
   "cell_type": "markdown",
   "metadata": {},
   "source": [
    "2. Обучение и проверка модель для каждого региона:  \n",
    "2.1. Разбиение данные на обучающую и валидационную выборки в соотношении 75:25.  \n",
    "2.2. Обучение модели и предсказания на валидационной выборке.  \n",
    "2.3. Сохранение предсказаний и правильных ответов на валидационной выборке.  \n",
    "2.4. Печать на экране среднего запаса предсказанного сырья и RMSE модели.  \n",
    "2.5. Анализ результатов.  "
   ]
  },
  {
   "cell_type": "markdown",
   "metadata": {},
   "source": [
    "#### 2.1. Разбиение данные на обучающую и валидационную выборки в соотношении 75:25"
   ]
  },
  {
   "cell_type": "code",
   "execution_count": 10,
   "metadata": {},
   "outputs": [],
   "source": [
    "#список с датасетами данных по регионам\n",
    "geo = [geo_0, geo_1, geo_2]\n",
    "\n",
    "#список с названиями датасетов\n",
    "geo_name = ['geo_0', 'geo_1', 'geo_2']"
   ]
  },
  {
   "cell_type": "code",
   "execution_count": 11,
   "metadata": {},
   "outputs": [],
   "source": [
    "#список с обучающей и валидационной выборками\n",
    "train = []\n",
    "valid = []\n",
    "\n",
    "#список с признаками для обучающей и валидационной выборок\n",
    "features_train = []\n",
    "features_valid = []\n",
    "\n",
    "#список с целевыми признаками для обучающей и валидационной выборок\n",
    "target_train = []\n",
    "target_valid = []"
   ]
  },
  {
   "cell_type": "code",
   "execution_count": 12,
   "metadata": {},
   "outputs": [],
   "source": [
    "#выделение из данных обучающей и валидационной выборки\n",
    "for region in geo:\n",
    "    train_set, valid_set = train_test_split(region, test_size = 0.25, random_state = random)\n",
    "    \n",
    "    #задание списков с обучающей и валидационной выборками для регионов\n",
    "    train.append(train_set)\n",
    "    valid.append(valid_set)\n",
    "    \n",
    "    #задание списков с признаками для обучающей и валидационной выборок для регионов\n",
    "    features_train_set = train_set.drop(['id','product'], axis = 1)\n",
    "    features_valid_set = valid_set.drop(['id','product'], axis = 1)\n",
    "    features_train.append(features_train_set)\n",
    "    features_valid.append(features_valid_set)\n",
    "    \n",
    "    #задание списков с целевыми признаками для обучающей и валидационной выборок для регионов\n",
    "    target_train_set = train_set['product']\n",
    "    target_valid_set = valid_set['product']\n",
    "    target_train.append(target_train_set)\n",
    "    target_valid.append(target_valid_set)"
   ]
  },
  {
   "cell_type": "code",
   "execution_count": 13,
   "metadata": {},
   "outputs": [
    {
     "name": "stdout",
     "output_type": "stream",
     "text": [
      "Датасет geo_0\n",
      "Доля тренировочной выборки равна 75.0%\n",
      "Доля валидационной выборки равна 25.0%\n",
      "Размер датасета (число объектов) 100000\n",
      "\n",
      "Датасет geo_1\n",
      "Доля тренировочной выборки равна 75.0%\n",
      "Доля валидационной выборки равна 25.0%\n",
      "Размер датасета (число объектов) 100000\n",
      "\n",
      "Датасет geo_2\n",
      "Доля тренировочной выборки равна 75.0%\n",
      "Доля валидационной выборки равна 25.0%\n",
      "Размер датасета (число объектов) 100000\n",
      "\n"
     ]
    }
   ],
   "source": [
    "#вывод долей выборок дял проверки разделения\n",
    "for i in range(len(geo)):\n",
    "    print('Датасет', geo_name[i])\n",
    "    print('Доля тренировочной выборки равна {:.1%}'.format(len(features_train[i])/ len(geo[i])))\n",
    "    print('Доля валидационной выборки равна {:.1%}'.format(len(features_valid[i])/ len(geo[i])))\n",
    "    print('Размер датасета (число объектов)', len(geo[i]))\n",
    "    print()"
   ]
  },
  {
   "cell_type": "code",
   "execution_count": 14,
   "metadata": {},
   "outputs": [
    {
     "data": {
      "text/html": [
       "<div>\n",
       "<style scoped>\n",
       "    .dataframe tbody tr th:only-of-type {\n",
       "        vertical-align: middle;\n",
       "    }\n",
       "\n",
       "    .dataframe tbody tr th {\n",
       "        vertical-align: top;\n",
       "    }\n",
       "\n",
       "    .dataframe thead th {\n",
       "        text-align: right;\n",
       "    }\n",
       "</style>\n",
       "<table border=\"1\" class=\"dataframe\">\n",
       "  <thead>\n",
       "    <tr style=\"text-align: right;\">\n",
       "      <th></th>\n",
       "      <th>f0</th>\n",
       "      <th>f1</th>\n",
       "      <th>f2</th>\n",
       "    </tr>\n",
       "  </thead>\n",
       "  <tbody>\n",
       "    <tr>\n",
       "      <td>71751</td>\n",
       "      <td>0.948970</td>\n",
       "      <td>-0.057547</td>\n",
       "      <td>2.095727</td>\n",
       "    </tr>\n",
       "    <tr>\n",
       "      <td>80493</td>\n",
       "      <td>0.992974</td>\n",
       "      <td>0.206671</td>\n",
       "      <td>-0.142278</td>\n",
       "    </tr>\n",
       "    <tr>\n",
       "      <td>2655</td>\n",
       "      <td>1.199854</td>\n",
       "      <td>-0.563356</td>\n",
       "      <td>-1.852991</td>\n",
       "    </tr>\n",
       "    <tr>\n",
       "      <td>53233</td>\n",
       "      <td>0.691422</td>\n",
       "      <td>-0.433347</td>\n",
       "      <td>0.564974</td>\n",
       "    </tr>\n",
       "    <tr>\n",
       "      <td>91141</td>\n",
       "      <td>0.420772</td>\n",
       "      <td>0.972638</td>\n",
       "      <td>0.736190</td>\n",
       "    </tr>\n",
       "    <tr>\n",
       "      <td>...</td>\n",
       "      <td>...</td>\n",
       "      <td>...</td>\n",
       "      <td>...</td>\n",
       "    </tr>\n",
       "    <tr>\n",
       "      <td>12581</td>\n",
       "      <td>1.841106</td>\n",
       "      <td>-0.107678</td>\n",
       "      <td>2.585648</td>\n",
       "    </tr>\n",
       "    <tr>\n",
       "      <td>18456</td>\n",
       "      <td>0.041859</td>\n",
       "      <td>0.489280</td>\n",
       "      <td>2.168001</td>\n",
       "    </tr>\n",
       "    <tr>\n",
       "      <td>73035</td>\n",
       "      <td>0.376389</td>\n",
       "      <td>1.054298</td>\n",
       "      <td>-0.430104</td>\n",
       "    </tr>\n",
       "    <tr>\n",
       "      <td>63834</td>\n",
       "      <td>1.071330</td>\n",
       "      <td>-0.470046</td>\n",
       "      <td>4.527099</td>\n",
       "    </tr>\n",
       "    <tr>\n",
       "      <td>43558</td>\n",
       "      <td>1.726318</td>\n",
       "      <td>-0.077871</td>\n",
       "      <td>5.007083</td>\n",
       "    </tr>\n",
       "  </tbody>\n",
       "</table>\n",
       "<p>25000 rows × 3 columns</p>\n",
       "</div>"
      ],
      "text/plain": [
       "             f0        f1        f2\n",
       "71751  0.948970 -0.057547  2.095727\n",
       "80493  0.992974  0.206671 -0.142278\n",
       "2655   1.199854 -0.563356 -1.852991\n",
       "53233  0.691422 -0.433347  0.564974\n",
       "91141  0.420772  0.972638  0.736190\n",
       "...         ...       ...       ...\n",
       "12581  1.841106 -0.107678  2.585648\n",
       "18456  0.041859  0.489280  2.168001\n",
       "73035  0.376389  1.054298 -0.430104\n",
       "63834  1.071330 -0.470046  4.527099\n",
       "43558  1.726318 -0.077871  5.007083\n",
       "\n",
       "[25000 rows x 3 columns]"
      ]
     },
     "execution_count": 14,
     "metadata": {},
     "output_type": "execute_result"
    }
   ],
   "source": [
    "#проверка разделения выборок\n",
    "features_valid[0]"
   ]
  },
  {
   "cell_type": "markdown",
   "metadata": {},
   "source": [
    "#### 2.2. - 2.4.  Обучение - предсказание - расчет метрик\n",
    " 2.2 Обучение модели и предсказания на валидационной выборке;   \n",
    " 2.3. Сохранение предсказаний и правильных ответов на валидационной выборке;    \n",
    " 2.4. Печать на экране среднего запаса предсказанного сырья и RMSE модели.  "
   ]
  },
  {
   "cell_type": "code",
   "execution_count": 15,
   "metadata": {},
   "outputs": [],
   "source": [
    "#список с предскзаниями на валидационной выборке\n",
    "predictions_valid = []\n",
    "\n",
    "#список со средним предсказанным сырьем на валидационной выборке\n",
    "predicted_mean = []"
   ]
  },
  {
   "cell_type": "code",
   "execution_count": 16,
   "metadata": {},
   "outputs": [
    {
     "name": "stdout",
     "output_type": "stream",
     "text": [
      "Регион geo_0\n",
      "MSE: 1412.21\n",
      "RMSE: 37.58\n",
      "Средний предсказанный запас сырья: 92.59\n",
      "\n",
      "Регион geo_1\n",
      "MSE: 0.80\n",
      "RMSE: 0.89\n",
      "Средний предсказанный запас сырья: 68.73\n",
      "\n",
      "Регион geo_2\n",
      "MSE: 1602.38\n",
      "RMSE: 40.03\n",
      "Средний предсказанный запас сырья: 94.97\n",
      "\n"
     ]
    }
   ],
   "source": [
    "#обучение и предсказание на валидационной выборке\n",
    "for i in range(len(geo)):\n",
    "    #задание модели\n",
    "    regr = LinearRegression(normalize = True)\n",
    "    \n",
    "    #обучение модели\n",
    "    regr.fit(features_train[i], target_train[i])\n",
    "    \n",
    "    #получение и сохранение предсказаний на валидационной выборке\n",
    "    product_pred = regr.predict(features_valid[i])\n",
    "    product_pred = pd.Series(product_pred, index = features_valid[i].index)\n",
    "    predictions_valid.append(product_pred)\n",
    "\n",
    "    print('Регион', geo_name[i])\n",
    "    # Коэффициенты модели\n",
    "    #print('Коэффициенты:', regr.coef_)\n",
    "    \n",
    "    # Значение метрик MSE, RMSE и средних предсказанных значений\n",
    "    mean = product_pred.mean()\n",
    "    predicted_mean.append(mean)\n",
    "    print('MSE: {:.2f}'.format(mean_squared_error(target_valid[i], product_pred)))\n",
    "    print('RMSE: {:.2f}'.format(mean_squared_error(target_valid[i], product_pred)**0.5))\n",
    "    print('Средний предсказанный запас сырья: {:.2f}'.format(mean))\n",
    "    print()"
   ]
  },
  {
   "cell_type": "code",
   "execution_count": 17,
   "metadata": {},
   "outputs": [
    {
     "data": {
      "text/plain": [
       "71751     95.894952\n",
       "80493     77.572583\n",
       "2655      77.892640\n",
       "53233     90.175134\n",
       "91141     70.510088\n",
       "            ...    \n",
       "12581    103.037104\n",
       "18456     85.403255\n",
       "73035     61.509833\n",
       "63834    118.180397\n",
       "43558    118.169392\n",
       "Length: 25000, dtype: float64"
      ]
     },
     "execution_count": 17,
     "metadata": {},
     "output_type": "execute_result"
    }
   ],
   "source": [
    "#проверка сохранения предсказаний\n",
    "predictions_valid[0]"
   ]
  },
  {
   "cell_type": "markdown",
   "metadata": {},
   "source": [
    "#### 2.5. Анализ результатов"
   ]
  },
  {
   "cell_type": "markdown",
   "metadata": {},
   "source": [
    "Из расчетов видно, что наименьшая ошибка в предсказаниях для регоина geo_1. При этом значение метрики RMSE значительно меньше среднего предсказанного значения. Это означает, что для этого региона модель имеет хорошую прогностическу точность. В то время как для других регионов (geo_0 и geo_2) значение RMSE сравнимо со средним предсказанным значением, т.е. модель дает значительную ошибку при  предсказании запасов сырья для этих регионов. "
   ]
  },
  {
   "cell_type": "markdown",
   "metadata": {},
   "source": [
    "<div style=\"background: #cceeaa; padding: 5px; border: 1px solid green; border-radius: 5px;\">\n",
    "    <font color='green'> <b><u>КОММЕНТАРИЙ РЕВЬЮЕРА</u></b>\n",
    "</font>\n",
    "<font color='green'><br>\n",
    "ОТЛИЧНО! с расчётами и результатами - соглаен. Хорошо автоматизировал расчёт!"
   ]
  },
  {
   "cell_type": "markdown",
   "metadata": {},
   "source": [
    "# 3. Подготовка к расчёту прибыли"
   ]
  },
  {
   "cell_type": "markdown",
   "metadata": {},
   "source": [
    "3.1. Сохранение всех ключевых значения для расчётов в отдельных переменных.  \n",
    "3.2. Расчет достаточного объёма сырья для безубыточной разработки новой скважины. Сравнение полученного объёма сырья со средним запасом в каждом регионе.  \n",
    "3.3. Выводы по этапу подготовки расчёта прибыли.  "
   ]
  },
  {
   "cell_type": "markdown",
   "metadata": {},
   "source": [
    "#### 3.1. Сохранение всех ключевых значения для расчётов в отдельных переменных"
   ]
  },
  {
   "cell_type": "markdown",
   "metadata": {},
   "source": [
    "*Ключевые параметры*"
   ]
  },
  {
   "cell_type": "code",
   "execution_count": 18,
   "metadata": {},
   "outputs": [],
   "source": [
    "#число точек при разведке\n",
    "points_number = 500\n",
    "\n",
    "#число наилучших точек\n",
    "points_best = 200\n",
    "\n",
    "#бюджет в млрд. рубоей\n",
    "budget = 10\n",
    "\n",
    "#цена за баррель в рублях\n",
    "income_per_barrel = 450\n",
    "\n",
    "#цена за тысячу баррелей (за единицу продукта) в тыс. рублей\n",
    "income_per_unit = 450\n",
    "\n",
    "#вероятность убытков\n",
    "loss_probabilty = 0.025 "
   ]
  },
  {
   "cell_type": "markdown",
   "metadata": {},
   "source": [
    "*Вспомогательные параметры*"
   ]
  },
  {
   "cell_type": "code",
   "execution_count": 19,
   "metadata": {},
   "outputs": [],
   "source": [
    "#коэффициент пересчета млрд. рублей в рублей\n",
    "billions_ruble = 1E9 \n",
    "\n",
    "#коэффициент пересчета тыс. рублей в рублей\n",
    "thousands_ruble = 1E3\n",
    "\n",
    "#коэффициент пересчета рублей в млн. рублей\n",
    "ruble_millions = 1E-6"
   ]
  },
  {
   "cell_type": "markdown",
   "metadata": {},
   "source": [
    "#### 3.2. Расчет достаточного объёма сырья для безубыточной разработки новой скважины. Сравнение полученного объёма сырья со средним запасом в каждом регионе."
   ]
  },
  {
   "cell_type": "code",
   "execution_count": 20,
   "metadata": {},
   "outputs": [
    {
     "name": "stdout",
     "output_type": "stream",
     "text": [
      "Необходимый объем продукта (в тыс. баррелей) 111.11\n"
     ]
    }
   ],
   "source": [
    "#расчет бюджета разработки на одну скаважину\n",
    "costs_per_well = budget *  billions_ruble / points_best\n",
    "\n",
    "#расчет необходимого объема продукта из бюджета разработки одной скважины\n",
    "product_volume = costs_per_well / (income_per_unit * thousands_ruble)\n",
    "print('Необходимый объем продукта (в тыс. баррелей) {:.2f}'.format(product_volume))"
   ]
  },
  {
   "cell_type": "code",
   "execution_count": 21,
   "metadata": {},
   "outputs": [
    {
     "name": "stdout",
     "output_type": "stream",
     "text": [
      "geo_0\n",
      "Абсолютная разница между средним предсказанным и необходимым объемом продукта -18.52\n",
      "Относительная разница между средним предсказанным и необходимым объемом продукта 16.67%\n",
      "\n",
      "geo_1\n",
      "Абсолютная разница между средним предсказанным и необходимым объемом продукта -42.38\n",
      "Относительная разница между средним предсказанным и необходимым объемом продукта 38.14%\n",
      "\n",
      "geo_2\n",
      "Абсолютная разница между средним предсказанным и необходимым объемом продукта -16.15\n",
      "Относительная разница между средним предсказанным и необходимым объемом продукта 14.53%\n",
      "\n"
     ]
    }
   ],
   "source": [
    "for i in range(len(predicted_mean)):\n",
    "    difference = predicted_mean[i] - product_volume\n",
    "    relative = np.abs(difference / product_volume)\n",
    "    print(geo_name[i])\n",
    "    print('Абсолютная разница между средним предсказанным и необходимым объемом продукта {:.2f}' \\\n",
    "         .format(difference))\n",
    "    print('Относительная разница между средним предсказанным и необходимым объемом продукта {:.2%}' \\\n",
    "         .format(relative))\n",
    "    print()"
   ]
  },
  {
   "cell_type": "markdown",
   "metadata": {},
   "source": [
    "Во всех регионах средний предсказанный объем, получаемый с одной скважины ниже, чем необходимый, для безубыточной разработки. При этом в регионах geo_0 и geo_2 относительная разница менее 20%, а в регионе geo_1 почти 40%. "
   ]
  },
  {
   "cell_type": "markdown",
   "metadata": {},
   "source": [
    "<div style=\"background: #cceeaa; padding: 5px; border: 1px solid green; border-radius: 5px;\">\n",
    "<font color='green'> \n",
    "    <b><u>КОММЕНТАРИЙ РЕВЬЮЕРА</u></b>\n",
    "<font color='green'><br>\n",
    "есть точка безубыточности) И верно, ни один регион не дотягивает до неё... Видно, что нужны DS-специалисты нефтянке:)"
   ]
  },
  {
   "cell_type": "code",
   "execution_count": null,
   "metadata": {},
   "outputs": [],
   "source": []
  },
  {
   "cell_type": "markdown",
   "metadata": {},
   "source": [
    "#### 3.3. Выводы по этапу подготовки расчёта прибыли"
   ]
  },
  {
   "cell_type": "markdown",
   "metadata": {},
   "source": [
    "Во всех регионах средний предсказанный объем, получаемый с одной скважины ниже, чем необходимый для безубыточной разработки. Поэтому при отборе скважин для разработки необходимо выбирать те, которые дают объем продукта выше среднего, при этом для регоина geo_1 необходим отбирать те скважины которые значительно лучше средней по региону."
   ]
  },
  {
   "cell_type": "markdown",
   "metadata": {},
   "source": [
    "#### 3.4. Написание функции для расчёта прибыли по выбранным скважинам и предсказаниям модели"
   ]
  },
  {
   "cell_type": "markdown",
   "metadata": {},
   "source": [
    "Расчет прибыли состоит из следующих этапов:\n",
    "- выбора скважин с максимальными значениями предсказаний    \n",
    "- суммирование целевого значения объёма сырья, соответствующее этим предсказаниям       \n",
    "- расчет прибыли для полученного объёма сырья   "
   ]
  },
  {
   "cell_type": "code",
   "execution_count": 22,
   "metadata": {},
   "outputs": [],
   "source": [
    "#функция для подсчета прибыли по выбранным скважинам и предсказаниям модели\n",
    "#число скважин определяется параметром wells_number\n",
    "def Revenue(predictions, target, wells_number):\n",
    "    #выбора скважин с максимальными значениями предсказаний,\n",
    "    predict = predictions.sort_values(ascending = False)\n",
    "    \n",
    "    selected = target[predict.index][:wells_number] \n",
    "    \n",
    "    #подсчет суммарного объема продукта для лучших скважин\n",
    "    product_sum = selected.sum()\n",
    "    \n",
    "    #расчет прибыли с учетом полученного объёма сырья и расходов на разработку\n",
    "    revenue_wells = product_sum * income_per_unit * thousands_ruble - budget * billions_ruble\n",
    "    \n",
    "    return selected, revenue_wells"
   ]
  },
  {
   "cell_type": "markdown",
   "metadata": {},
   "source": [
    "Проведена подготовка к расчету прибыли. Написана функция для расчета по предскзааниям модели. "
   ]
  },
  {
   "cell_type": "markdown",
   "metadata": {},
   "source": [
    "# 4. Расчёт прибыли и рисков "
   ]
  },
  {
   "cell_type": "markdown",
   "metadata": {},
   "source": [
    "4.1. Применение техники Bootstrap для нахождения распределения прибыли  \n",
    "4.2. Нахождение средней прибыли, 95%-й доверительного интервала и риска убытков  \n",
    "4.3. Выводы: предложение региона для разработки скважин и обоснование выбора  "
   ]
  },
  {
   "cell_type": "markdown",
   "metadata": {},
   "source": [
    "#### 4.1. Применение техники Bootstrap для нахождения распределения прибыли."
   ]
  },
  {
   "cell_type": "code",
   "execution_count": 23,
   "metadata": {},
   "outputs": [],
   "source": [
    "state = np.random.RandomState(random)"
   ]
  },
  {
   "cell_type": "code",
   "execution_count": 24,
   "metadata": {},
   "outputs": [],
   "source": [
    "def RevenueBootstrep(predictions, target, wells_number, sample_size, region_name):\n",
    "    \n",
    "    values = []\n",
    "    \n",
    "    #проход по 1000 выборок и подсчет прибыли для каждой из них\n",
    "    for j in range(1000):\n",
    "        preds = predictions.sample(n = sample_size, replace = True, random_state=state)\n",
    "        selected, rev = Revenue(preds, target, wells_number)\n",
    "        values.append(rev)\n",
    "    \n",
    "    #расчет прибыли будем вести в млн. рублей\n",
    "    values = pd.Series(values) * ruble_millions\n",
    "    \n",
    "    #нахождение границ 95% доверительного интервала\n",
    "    lower = values.quantile(0.025)\n",
    "    upper = values.quantile(0.975)\n",
    "    \n",
    "    \n",
    "    #подсчет вероятности убытков\n",
    "    revenues_loss = values[values < 0]\n",
    "    loss_probability = len(revenues_loss) / len(values) * 100\n",
    "    \n",
    "    #подсчет средней прибыли \n",
    "    mean_revenue = values.mean()\n",
    "    \n",
    "    #создание датафрейма с расчетными данными \n",
    "    data = pd.DataFrame(np.zeros((4,1)), index = ['2.5%', '97.5%', 'loss_prob', 'mean'], \\\n",
    "                        columns = [region_name])\n",
    "    data.loc['2.5%',region_name] = lower\n",
    "    data.loc['97.5%',region_name] = upper\n",
    "    data.loc['loss_prob',region_name] = loss_probability \n",
    "    data.loc['mean', region_name] = mean_revenue \n",
    "    \n",
    "    return values, data"
   ]
  },
  {
   "cell_type": "code",
   "execution_count": 25,
   "metadata": {},
   "outputs": [],
   "source": [
    "geo_data = []\n",
    "geo_values = []\n",
    "\n",
    "#расчет прибыли для трех регионов\n",
    "for i in range(len(geo)):\n",
    "    values, data = RevenueBootstrep(predictions_valid[i], target_valid[i], \\\n",
    "                                    points_best, points_number, geo_name[i])\n",
    "    geo_values.append(values)\n",
    "    geo_data.append(data)"
   ]
  },
  {
   "cell_type": "code",
   "execution_count": 26,
   "metadata": {},
   "outputs": [
    {
     "data": {
      "image/png": "[encoded data removed]",
      "text/plain": [
       "<Figure size 720x576 with 1 Axes>"
      ]
     },
     "metadata": {
      "needs_background": "light"
     },
     "output_type": "display_data"
    }
   ],
   "source": [
    "#распределение прибыли по 1000 выборок \n",
    "color = ['red', 'green', 'blue']\n",
    "\n",
    "fig, axes = plt.subplots(1,1, figsize = (10,8))\n",
    "plt.suptitle('Распределение прибыли');\n",
    "\n",
    "#построение графиков\n",
    "for i in range(len(geo)):\n",
    "    hist, bin_edges = np.histogram(geo_values[i], bins = 100)\n",
    "    axes.plot(bin_edges[:-1], hist, marker = 'o', color = color[i]);\n",
    "    axes.set_xlabel('прибыль, млн. рублей');\n",
    "    axes.set_ylabel('частота');\n",
    "    axes.legend(geo_name);"
   ]
  },
  {
   "cell_type": "markdown",
   "metadata": {},
   "source": [
    "<div style=\"background: #cceeaa; padding: 5px; border: 1px solid green; border-radius: 5px;\">\n",
    "<font color='green'> \n",
    "    <b><u>КОММЕНТАРИЙ РЕВЬЮЕРА</u></b>\n",
    "<font color='green'><br>\n",
    "Необычный график.. Мне кажется, что лучше без \"пилы\" выводить - просто столбцы гистограммы или график плотности. Но дело вкуса:)"
   ]
  },
  {
   "cell_type": "markdown",
   "metadata": {},
   "source": [
    "Из рисунка видно, что распределение прибыли для региона geo_1 сдвинуто вправо по отношению к распределениям прибыли для регионов geo_0 и geo_2. Это означает, что средняя прибыль для geo_1 должна быть больше, а риски убытков - меньше."
   ]
  },
  {
   "cell_type": "code",
   "execution_count": 27,
   "metadata": {},
   "outputs": [
    {
     "data": {
      "text/html": [
       "<div>\n",
       "<style scoped>\n",
       "    .dataframe tbody tr th:only-of-type {\n",
       "        vertical-align: middle;\n",
       "    }\n",
       "\n",
       "    .dataframe tbody tr th {\n",
       "        vertical-align: top;\n",
       "    }\n",
       "\n",
       "    .dataframe thead th {\n",
       "        text-align: right;\n",
       "    }\n",
       "</style>\n",
       "<table border=\"1\" class=\"dataframe\">\n",
       "  <thead>\n",
       "    <tr style=\"text-align: right;\">\n",
       "      <th></th>\n",
       "      <th>geo_0</th>\n",
       "      <th>geo_1</th>\n",
       "      <th>geo_2</th>\n",
       "    </tr>\n",
       "  </thead>\n",
       "  <tbody>\n",
       "    <tr>\n",
       "      <td>2.5%</td>\n",
       "      <td>-111.215546</td>\n",
       "      <td>78.050811</td>\n",
       "      <td>-112.227625</td>\n",
       "    </tr>\n",
       "    <tr>\n",
       "      <td>97.5%</td>\n",
       "      <td>909.766942</td>\n",
       "      <td>862.952060</td>\n",
       "      <td>934.562915</td>\n",
       "    </tr>\n",
       "    <tr>\n",
       "      <td>loss_prob</td>\n",
       "      <td>6.900000</td>\n",
       "      <td>0.700000</td>\n",
       "      <td>6.500000</td>\n",
       "    </tr>\n",
       "    <tr>\n",
       "      <td>mean</td>\n",
       "      <td>396.164985</td>\n",
       "      <td>461.155817</td>\n",
       "      <td>392.950475</td>\n",
       "    </tr>\n",
       "  </tbody>\n",
       "</table>\n",
       "</div>"
      ],
      "text/plain": [
       "                geo_0       geo_1       geo_2\n",
       "2.5%      -111.215546   78.050811 -112.227625\n",
       "97.5%      909.766942  862.952060  934.562915\n",
       "loss_prob    6.900000    0.700000    6.500000\n",
       "mean       396.164985  461.155817  392.950475"
      ]
     },
     "execution_count": 27,
     "metadata": {},
     "output_type": "execute_result"
    }
   ],
   "source": [
    "#сведение всех данных в таблицу\n",
    "geo_data_pivot = pd.concat([geo_data[0], geo_data[1], geo_data[2]], axis=1, join='inner')\n",
    "geo_data_pivot"
   ]
  },
  {
   "cell_type": "markdown",
   "metadata": {},
   "source": [
    "**Выбор региона**"
   ]
  },
  {
   "cell_type": "markdown",
   "metadata": {},
   "source": [
    "Опираясь на полученные данные, сделаем предложение о выборе региона. Из данных, представленных в таблице видно, что для регионов geo_0 и geo_1, вероятность убытков больше 2.5 процентов, т.е. разработка скважин в них слишком рискованна. В регионе же geo_1, вероятность убытков меньше 2.5%, ***Таким образом, для бурения скважин подходит регион geo_1, в котором и средняя прибыль выше чем в регионах geo_0 и geo_2 и вероятность убытков меньше 2.5%.***"
   ]
  },
  {
   "cell_type": "markdown",
   "metadata": {},
   "source": [
    "<div style=\"background: #cceeaa; padding: 5px; border: 1px solid green; border-radius: 5px;\">\n",
    "<font color='green'> \n",
    "    <b><u>КОММЕНТАРИЙ РЕВЬЮЕРА</u></b>\n",
    "</font><br>\n",
    "<font color='green'><br>\n",
    "Макс, всё по теме и в точку у тебя получилось)<BR> \n",
    "Результ, выводы и даже доверительный интервал - тот, что нужен, именно для прогноза.<br>\n",
    "Хорошо с автоматизацией  визуализацией тебе удалось поработать.<br>\n",
    "Единственное - значения 1000  в бутстрепе (и подобные константы) - лучше всегда выносить в глобальные переменные)<br>\n",
    "    \n",
    "Данный проект не простой. И не только тем, что задание с первого раза может показатья не понятным.\n",
    "Но и потому, что его цель не просто построить прогноз по модели или прогноз продаж. А научиться выбирать лучшее управленческое решение на основе метода моделирования ситуации. Т.е. нужно было уйти чуть в сторону от классического моделирования как такового.\n",
    "Бутсреп - он близок к методам управленческого моделирования монте-карло.\n",
    "В этом ключе и есть смысл его рассматривать. Есть ещё одно направление в этой теме. Его продвигает российская компания - AnyLogic. И у неё есть хороший продукт с одноимённым названием. Мне приходилось как-то смотреть его... интересно. Можешь ролик из инета глянуть по какому-нибудь примеру с её использованием. Тогда тема управленческого моделирования и вообще моделирование с целью найти оптимальное решение - может по-другому \"зайти\"... <br>\n",
    "    \n",
    "УСПЕШНОГО ДАЛЬНЕЙШЕГО ОБУЧЕНИЯ!"
   ]
  },
  {
   "cell_type": "code",
   "execution_count": null,
   "metadata": {},
   "outputs": [],
   "source": []
  },
  {
   "cell_type": "markdown",
   "metadata": {},
   "source": [
    "# Чек-лист готовности проекта"
   ]
  },
  {
   "cell_type": "markdown",
   "metadata": {},
   "source": [
    "Поставьте 'x' в выполненных пунктах. Далее нажмите Shift+Enter."
   ]
  },
  {
   "cell_type": "markdown",
   "metadata": {},
   "source": [
    "- [x]  Jupyter Notebook открыт\n",
    "- [x]  Весь код выполняется без ошибок\n",
    "- [x]  Ячейки с кодом расположены в порядке исполнения\n",
    "- [x]  Выполнен шаг 1: данные подготовлены\n",
    "- [x]  Выполнен шаг 2: модели обучены и проверены\n",
    "    - [x]  Данные корректно разбиты на обучающую и валидационную выборки\n",
    "    - [x]  Модели обучены, предсказания сделаны\n",
    "    - [x]  Предсказания и правильные ответы на валидационной выборке сохранены\n",
    "    - [x]  На экране напечатаны результаты\n",
    "    - [x]  Сделаны выводы\n",
    "- [x]  Выполнен шаг 3: проведена подготовка к расчёту прибыли\n",
    "    - [x]  Для всех ключевых значений созданы константы Python\n",
    "    - [x]  Посчитано минимальное среднее количество продукта в месторождениях региона, достаточное для разработки\n",
    "    - [x]  По предыдущему пункту сделаны выводы\n",
    "    - [x]  Написана функция расчёта прибыли\n",
    "- [x]  Выполнен шаг 4: посчитаны риски и прибыль\n",
    "    - [x]  Проведена процедура *Bootstrap*\n",
    "    - [x]  Все параметры бутстрепа соответствуют условию\n",
    "    - [x]  Найдены все нужные величины\n",
    "    - [x]  Предложен регион для разработки месторождения\n",
    "    - [x]  Выбор региона обоснован"
   ]
  }
 ],
 "metadata": {
  "kernelspec": {
   "display_name": "Python 3",
   "language": "python",
   "name": "python3"
  },
  "language_info": {
   "codemirror_mode": {
    "name": "ipython",
    "version": 3
   },
   "file_extension": ".py",
   "mimetype": "text/x-python",
   "name": "python",
   "nbconvert_exporter": "python",
   "pygments_lexer": "ipython3",
   "version": "3.7.8"
  },
  "toc": {
   "base_numbering": 1,
   "nav_menu": {},
   "number_sections": true,
   "sideBar": true,
   "skip_h1_title": true,
   "title_cell": "Table of Contents",
   "title_sidebar": "Contents",
   "toc_cell": false,
   "toc_position": {},
   "toc_section_display": true,
   "toc_window_display": false
  }
 },
 "nbformat": 4,
 "nbformat_minor": 2
}
